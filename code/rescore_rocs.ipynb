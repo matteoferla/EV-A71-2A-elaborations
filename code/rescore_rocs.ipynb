{
 "cells": [
  {
   "cell_type": "code",
   "execution_count": 1,
   "id": "1fd4e510-178d-4f6c-a7f0-ef18c02b825d",
   "metadata": {},
   "outputs": [],
   "source": [
    "from rdkit import Chem\n",
    "from pathlib import Path\n",
    "from rdkit.Chem.Draw import IPythonConsole\n",
    "\n",
    "mols = []\n",
    "with Chem.SDMolSupplier('combo-rocs.sdf') as sdfh:\n",
    "    mol: Chem.Mol\n",
    "    for mol in sdfh:\n",
    "        if mol.HasProp('id'):\n",
    "            catalog_name = mol.GetProp('id') \n",
    "        elif mol.HasProp('Catalog ID'):\n",
    "            catalog_name = mol.GetProp('Catalog ID')\n",
    "        else:\n",
    "            print(mol.GetPropsAsDict())\n",
    "            raise Exception\n",
    "        mol.SetProp('_Name', catalog_name)\n",
    "        mols.append( mol )"
   ]
  },
  {
   "cell_type": "code",
   "execution_count": 6,
   "id": "595e840c-d686-4029-a38e-33863d4d84f4",
   "metadata": {},
   "outputs": [],
   "source": [
    "from fragmenstein import Laboratory, place_input_validator\n",
    "import pandas as pd"
   ]
  },
  {
   "cell_type": "code",
   "execution_count": 7,
   "id": "ab1af041-3e86-47f7-a6c5-58fc2873ed6b",
   "metadata": {},
   "outputs": [
    {
     "name": "stdout",
     "output_type": "stream",
     "text": [
      "124\n"
     ]
    }
   ],
   "source": [
    "!echo $(cat /proc/cpuinfo | grep processor | wc -l)"
   ]
  },
  {
   "cell_type": "code",
   "execution_count": null,
   "id": "f6427897-890d-4c0f-a647-8e1951e0588f",
   "metadata": {},
   "outputs": [],
   "source": [
    "with open('template.pdb') as fh:\n",
    "    pdbblock = fh.read()\n",
    "\n",
    "# Laboratory.replace_hits(pdbblock, mols, ,\n",
    "#                         suffix='redocked')\n",
    "\n",
    "lab = Laboratory(pdbblock=pdbblock, covalent_resi=None, run_plip=True)\n",
    "selfies = pd.DataFrame([dict(name=hit.GetProp('_Name')+'_replaced',\n",
    "                             hits=[hit],\n",
    "                             smiles=Chem.MolToSmiles(hit)\n",
    "                             ) for hit in mols])\n",
    "replacements: pd.DataFrame = lab.place(place_input_validator(selfies), n_cores=120, timeout=600)\n",
    "Laboratory.fix_intxns(replacements)\n",
    "replacements['bleached_name'] = replacements['name']\n",
    "replacements['name'] = replacements.hit_mols.apply(lambda ms: ms[0].GetProp('_Name'))"
   ]
  },
  {
   "cell_type": "code",
   "execution_count": null,
   "id": "c8e34dcf-9054-44ef-b394-27a71c4f574b",
   "metadata": {},
   "outputs": [],
   "source": [
    "replacements.to_pickle(f'ROCS_scored.pkl.gz')"
   ]
  },
  {
   "cell_type": "code",
   "execution_count": 11,
   "id": "6ab9e1da-b789-4126-a78b-1aad9b9491cc",
   "metadata": {},
   "outputs": [],
   "source": [
    "replacements['name'] = replacements.hit_mols.apply(lambda ms: ms[0].GetProp('_Name') if ms else '')"
   ]
  },
  {
   "cell_type": "code",
   "execution_count": 17,
   "id": "56a66a0c-fcda-4558-8222-90178e4c5693",
   "metadata": {},
   "outputs": [
    {
     "data": {
      "text/plain": [
       "error\n",
       "                                                                                                                                         3058\n",
       "MemoryError                                                                                                                                45\n",
       "AttributeError 'NoneType' object has no attribute 'Initialize'                                                                             16\n",
       "RuntimeError \\n\\nFile: /home/benchmark/rosetta/source/src/core/conformation/util.cc:1512\\n[ ERROR ] UtilityExitException\\nERROR: \\n\\n      10\n",
       "TimeoutError                                                                                                                                9\n",
       "ValueError Bad Conformer Id                                                                                                                 4\n",
       "Name: count, dtype: int64"
      ]
     },
     "execution_count": 17,
     "metadata": {},
     "output_type": "execute_result"
    }
   ],
   "source": [
    "replacements.error.value_counts()"
   ]
  },
  {
   "cell_type": "code",
   "execution_count": 22,
   "id": "a4ebb6b7-6c18-48ac-861c-dcdf058af6dd",
   "metadata": {},
   "outputs": [],
   "source": [
    "replacements = pd.concat([selfies.rename(columns={c: 'input_'+c for c in selfies.columns}), replacements], axis=1)"
   ]
  },
  {
   "cell_type": "code",
   "execution_count": 27,
   "id": "2b8ea22b-0b86-4ca1-a24e-653af8fce8ae",
   "metadata": {},
   "outputs": [],
   "source": [
    "replacements = pd.concat([replacements, pd.DataFrame([m.GetPropsAsDict() for m in mols])], axis=1)"
   ]
  },
  {
   "cell_type": "code",
   "execution_count": 35,
   "id": "cfafe6c6-95f4-4de7-9c36-19b9af54cfc3",
   "metadata": {},
   "outputs": [],
   "source": [
    "from rdkit import Geometry, Chem\n",
    "\n",
    "warheads = dict(haloacetamide = Chem.MolFromSmarts('C(-[Cl,Br,I])-C(=O)-N'),\n",
    "                acrylamide = Chem.MolFromSmarts('C=C-C(=O)-N'),\n",
    "                halooxazole = Chem.MolFromSmarts('c(-[Cl,Br,I])(:o):n'),\n",
    "                halothiazole = Chem.MolFromSmarts('c(-[Cl,Br,I])(:s):n'),\n",
    "                haloarene = Chem.MolFromSmarts('c(-[Cl,Br,I])'),\n",
    "                nitrile = Chem.MolFromSmarts('C#N'),\n",
    "                alkine = Chem.MolFromSmarts('C#C'),\n",
    "                whatever = Chem.MolFromSmarts('C=C-a'),\n",
    "                sulfo = Chem.MolFromSmarts('S-C'),\n",
    "                sulfo2 = Chem.MolFromSmarts('S-F'),\n",
    "                aldehyde = Chem.MolFromSmarts('[CH1]=O'),\n",
    "                epoxide = Chem.MolFromSmarts('C1-O-C-1'),\n",
    "                betalactam = Chem.MolFromSmarts('C1(=O)-N-C-C-1'),\n",
    ")\n",
    "\n",
    "# Gamma sulfur of rxve cysteine\n",
    "sg = Geometry.Point3D(13.619, 10.298, 23.618)\n",
    "\n",
    "def get_distance(mol):\n",
    "    if mol.GetProp('experiment') in ('ROCS-shape_Q1.sdf', 'ROCS-BB-0RB.sdf', 'ROCS-BB-1RB.sdf', 'ROCS-PPI.sdf'):\n",
    "        return float('nan')\n",
    "    for group in warheads.values():\n",
    "        if mol.HasSubstructMatch(group):\n",
    "            cx_idx: int = mol.GetSubstructMatch(group)[0]\n",
    "            break\n",
    "    else:\n",
    "        return float('nan')\n",
    "    point: Geometry.Point3D = mol.GetConformer().GetAtomPosition(cx_idx)\n",
    "    d = point.Distance(sg)\n",
    "    mol.SetDoubleProp('SG_distance', d)\n",
    "    return d"
   ]
  },
  {
   "cell_type": "code",
   "execution_count": 36,
   "id": "e26b378b-f8a8-44ba-bb16-c598d22f6a01",
   "metadata": {},
   "outputs": [],
   "source": [
    "import operator\n",
    "\n",
    "replacements['distance'] = replacements.input_hits.apply(operator.itemgetter(0)).apply(get_distance)"
   ]
  },
  {
   "cell_type": "code",
   "execution_count": 37,
   "id": "5ee78747-6590-43fc-833c-f1d09458c417",
   "metadata": {},
   "outputs": [
    {
     "data": {
      "text/html": [
       "<div>\n",
       "<style scoped>\n",
       "    .dataframe tbody tr th:only-of-type {\n",
       "        vertical-align: middle;\n",
       "    }\n",
       "\n",
       "    .dataframe tbody tr th {\n",
       "        vertical-align: top;\n",
       "    }\n",
       "\n",
       "    .dataframe thead th {\n",
       "        text-align: right;\n",
       "    }\n",
       "</style>\n",
       "<table border=\"1\" class=\"dataframe\">\n",
       "  <thead>\n",
       "    <tr style=\"text-align: right;\">\n",
       "      <th></th>\n",
       "      <th>input_name</th>\n",
       "      <th>name</th>\n",
       "      <th>∆∆G</th>\n",
       "      <th>experiment</th>\n",
       "      <th>distance</th>\n",
       "    </tr>\n",
       "  </thead>\n",
       "  <tbody>\n",
       "    <tr>\n",
       "      <th>1913</th>\n",
       "      <td>Z781034730_replaced</td>\n",
       "      <td>Z781034730</td>\n",
       "      <td>-12.643915</td>\n",
       "      <td>ROCS-cov2.sdf</td>\n",
       "      <td>9.963828</td>\n",
       "    </tr>\n",
       "    <tr>\n",
       "      <th>1703</th>\n",
       "      <td>Z131580190_replaced</td>\n",
       "      <td>Z131580190</td>\n",
       "      <td>-11.821899</td>\n",
       "      <td>ROCS-cov2.sdf</td>\n",
       "      <td>4.825081</td>\n",
       "    </tr>\n",
       "    <tr>\n",
       "      <th>1787</th>\n",
       "      <td>Z4607528830_replaced</td>\n",
       "      <td>Z4607528830</td>\n",
       "      <td>-11.676839</td>\n",
       "      <td>ROCS-cov2.sdf</td>\n",
       "      <td>9.044766</td>\n",
       "    </tr>\n",
       "    <tr>\n",
       "      <th>2312</th>\n",
       "      <td>EN300-28299118_replaced</td>\n",
       "      <td>EN300-28299118</td>\n",
       "      <td>-11.453057</td>\n",
       "      <td>ROCS-BB-0RB.sdf</td>\n",
       "      <td>NaN</td>\n",
       "    </tr>\n",
       "    <tr>\n",
       "      <th>103</th>\n",
       "      <td>Z223278782_replaced</td>\n",
       "      <td>Z223278782</td>\n",
       "      <td>-11.068881</td>\n",
       "      <td>ROCS-shape_Q1.sdf</td>\n",
       "      <td>NaN</td>\n",
       "    </tr>\n",
       "    <tr>\n",
       "      <th>...</th>\n",
       "      <td>...</td>\n",
       "      <td>...</td>\n",
       "      <td>...</td>\n",
       "      <td>...</td>\n",
       "      <td>...</td>\n",
       "    </tr>\n",
       "    <tr>\n",
       "      <th>2890</th>\n",
       "      <td>Z1124083570_replaced</td>\n",
       "      <td></td>\n",
       "      <td>NaN</td>\n",
       "      <td>ROCS-PPI.sdf</td>\n",
       "      <td>NaN</td>\n",
       "    </tr>\n",
       "    <tr>\n",
       "      <th>2940</th>\n",
       "      <td>Z1419784252_replaced</td>\n",
       "      <td></td>\n",
       "      <td>NaN</td>\n",
       "      <td>ROCS-PPI.sdf</td>\n",
       "      <td>NaN</td>\n",
       "    </tr>\n",
       "    <tr>\n",
       "      <th>2943</th>\n",
       "      <td>Z1356227377_replaced</td>\n",
       "      <td></td>\n",
       "      <td>NaN</td>\n",
       "      <td>ROCS-PPI.sdf</td>\n",
       "      <td>NaN</td>\n",
       "    </tr>\n",
       "    <tr>\n",
       "      <th>2972</th>\n",
       "      <td>Z2065554701_replaced</td>\n",
       "      <td></td>\n",
       "      <td>NaN</td>\n",
       "      <td>ROCS-PPI.sdf</td>\n",
       "      <td>NaN</td>\n",
       "    </tr>\n",
       "    <tr>\n",
       "      <th>3097</th>\n",
       "      <td>Z100473596_replaced</td>\n",
       "      <td></td>\n",
       "      <td>NaN</td>\n",
       "      <td>ROCS-PPI.sdf</td>\n",
       "      <td>NaN</td>\n",
       "    </tr>\n",
       "  </tbody>\n",
       "</table>\n",
       "<p>3142 rows × 5 columns</p>\n",
       "</div>"
      ],
      "text/plain": [
       "                   input_name            name        ∆∆G         experiment  \\\n",
       "1913      Z781034730_replaced      Z781034730 -12.643915      ROCS-cov2.sdf   \n",
       "1703      Z131580190_replaced      Z131580190 -11.821899      ROCS-cov2.sdf   \n",
       "1787     Z4607528830_replaced     Z4607528830 -11.676839      ROCS-cov2.sdf   \n",
       "2312  EN300-28299118_replaced  EN300-28299118 -11.453057    ROCS-BB-0RB.sdf   \n",
       "103       Z223278782_replaced      Z223278782 -11.068881  ROCS-shape_Q1.sdf   \n",
       "...                       ...             ...        ...                ...   \n",
       "2890     Z1124083570_replaced                        NaN       ROCS-PPI.sdf   \n",
       "2940     Z1419784252_replaced                        NaN       ROCS-PPI.sdf   \n",
       "2943     Z1356227377_replaced                        NaN       ROCS-PPI.sdf   \n",
       "2972     Z2065554701_replaced                        NaN       ROCS-PPI.sdf   \n",
       "3097      Z100473596_replaced                        NaN       ROCS-PPI.sdf   \n",
       "\n",
       "      distance  \n",
       "1913  9.963828  \n",
       "1703  4.825081  \n",
       "1787  9.044766  \n",
       "2312       NaN  \n",
       "103        NaN  \n",
       "...        ...  \n",
       "2890       NaN  \n",
       "2940       NaN  \n",
       "2943       NaN  \n",
       "2972       NaN  \n",
       "3097       NaN  \n",
       "\n",
       "[3142 rows x 5 columns]"
      ]
     },
     "execution_count": 37,
     "metadata": {},
     "output_type": "execute_result"
    }
   ],
   "source": [
    "replacements.sort_values('∆∆G')[['input_name', 'name', '∆∆G', 'experiment', 'distance']]"
   ]
  },
  {
   "cell_type": "code",
   "execution_count": null,
   "id": "77c846a5-e0ff-417c-aa08-a5b97ec67560",
   "metadata": {},
   "outputs": [],
   "source": [
    "replacements.columns.to_list()"
   ]
  },
  {
   "cell_type": "code",
   "execution_count": 52,
   "id": "26b4f946-1d9d-4967-98f2-50f7efb6b8ec",
   "metadata": {},
   "outputs": [],
   "source": [
    "from collections import defaultdict\n",
    "from Bio.SeqUtils import seq1\n",
    "\n",
    "def narrate(row: pd.Series):\n",
    "    grouped = defaultdict(list)\n",
    "    for name, value in row.items():\n",
    "        if not isinstance(name, tuple) or value == 0.:\n",
    "            continue\n",
    "        itxn_type, resn, resi = name\n",
    "        grouped[itxn_type].append(seq1(resn, undef_code=\"X\")+str(resi))\n",
    "    narrative = f'info set:{row.clean_experiment};'\n",
    "    if row.distance:\n",
    "        narrative += f'Warhead {row.distance}Å to Cys110:SG; '\n",
    "    for itxn_type in sorted(grouped):\n",
    "        narrative += f'{itxn_type}:{\"+\".join(grouped[itxn_type])}; '\n",
    "    return narrative\n",
    "\n",
    "replacements['clean_experiment'] = replacements.experiment.str.replace(\".sdf\", '').replace(\"ROCS-\", '')\n",
    "replacements['rationale'] = 'info ' + replacements.apply(narrate, axis=1)"
   ]
  },
  {
   "cell_type": "code",
   "execution_count": 51,
   "id": "1cd322bb-3f01-48d2-a659-9529f0ac181b",
   "metadata": {},
   "outputs": [],
   "source": [
    "#replacements.loc[(replacements.distance < 3) & (replacements['∆∆G'] < 0.) & (replacements['comRMSD'] < 2.)].sort_values('∆∆G')[['input_name', 'name', '∆∆G', 'experiment', 'distance']]"
   ]
  },
  {
   "cell_type": "code",
   "execution_count": 45,
   "id": "5cc5b20f-62b7-400c-b804-fe20529c65ed",
   "metadata": {},
   "outputs": [],
   "source": [
    "from gist_import import GistImporter\n",
    "\n",
    "# fu for fragalysis upload\n",
    "fmodule = GistImporter.from_github('https://raw.githubusercontent.com/matteoferla/Fragment-hit-follow-up-chemistry/main/followup/prep_fragalysis.py')\n",
    "prep = fmodule['prep']\n",
    "generate_header = fmodule['generate_header']\n",
    "floatify_columns = fmodule['floatify_columns']"
   ]
  },
  {
   "cell_type": "code",
   "execution_count": null,
   "id": "c399c784-cf65-4afe-9931-1936d5e8d490",
   "metadata": {},
   "outputs": [],
   "source": [
    "replacements.columns.to_list()"
   ]
  },
  {
   "cell_type": "code",
   "execution_count": 65,
   "id": "ac06c325-81e5-4f1e-a457-762ea30e662c",
   "metadata": {},
   "outputs": [],
   "source": [
    "wanted_key_types = {'rationale': str, \n",
    "               #'cluster_rank': int,\n",
    "               #'N_interactions': int, \n",
    "               #'N_interactions_lost': int,\n",
    "               '∆∆G': float, \n",
    "                    'comRMSD': float,\n",
    "                    #'N_rotatable_bonds': int, \n",
    "                    'ROCS_TanimotoCombo': float,\n",
    "                     'ROCS_ShapeTanimoto': float,\n",
    "                     'ROCS_ColorTanimoto': float,\n",
    "                    'distance': float,\n",
    "                     #'N_unconstrained_atoms': int,\n",
    "                   # 'N_constrained_atoms': int\n",
    "                   }\n",
    "\n",
    "for k, ktype in wanted_key_types.items():\n",
    "    replacements[k] = replacements[k].astype(ktype)\n",
    "\n",
    "wanted_keys = list(wanted_key_types)\n",
    "\n",
    "def clean_names(names):\n",
    "    return ','.join(['x0451_0A', 'x0554_0A', 'x0556_0A', 'x0566_0A', 'x0310_0A', 'x0416_0A'])\n",
    "\n",
    "replacements['ref_mols'] = replacements.hit_names.apply(clean_names)\n",
    "\n",
    "method_name = 'A71-ROCS-cov'\n",
    "header: Chem.Mol = generate_header(method=method_name,\n",
    "                         ref_url='https://github.com/matteoferla/EV-A71-2A-elaborations',\n",
    "                         submitter_name='Matteo Ferla',\n",
    "                         submitter_email='matteo.ferla@stats.ox.ac.uk',\n",
    "                         submitter_institution='University of Oxford',\n",
    "                         extras=dict(zip(wanted_keys, wanted_keys))\n",
    "                                  )\n",
    "                                   \n",
    "prep(replacements.loc[(replacements.distance < 3) & (replacements['∆∆G'] < 0.) & (replacements['comRMSD'] < 2.)].sort_values('∆∆G'), \n",
    "     header, mol_col='minimized_mol', \n",
    "     name_col='name',\n",
    "     outfile=f'{method_name}.sdf',\n",
    "     ref_pdb_name='x0451_0A',\n",
    "     extras=wanted_keys\n",
    "    )"
   ]
  },
  {
   "cell_type": "code",
   "execution_count": 63,
   "id": "2ba0d2e2-689a-4a02-9c95-6205a6502bd3",
   "metadata": {},
   "outputs": [
    {
     "data": {
      "text/plain": [
       "45"
      ]
     },
     "execution_count": 63,
     "metadata": {},
     "output_type": "execute_result"
    }
   ],
   "source": [
    "len(replacements.loc[(replacements.distance < 3) & (replacements['∆∆G'] < 0.) & (replacements['comRMSD'] < 2.)].sort_values('∆∆G'))"
   ]
  },
  {
   "cell_type": "code",
   "execution_count": 66,
   "id": "7d469212-3d7b-44ec-a879-d227bb661044",
   "metadata": {},
   "outputs": [],
   "source": [
    "wanted_key_types = {'rationale': str, \n",
    "               #'cluster_rank': int,\n",
    "               #'N_interactions': int, \n",
    "               #'N_interactions_lost': int,\n",
    "               '∆∆G': float, \n",
    "                    'comRMSD': float,\n",
    "                    #'N_rotatable_bonds': int, \n",
    "                    'ROCS_TanimotoCombo': float,\n",
    "                     'ROCS_ShapeTanimoto': float,\n",
    "                     'ROCS_ColorTanimoto': float,\n",
    "                    'distance': float,\n",
    "                     #'N_unconstrained_atoms': int,\n",
    "                   # 'N_constrained_atoms': int\n",
    "                   }\n",
    "\n",
    "for k, ktype in wanted_key_types.items():\n",
    "    replacements[k] = replacements[k].astype(ktype)\n",
    "\n",
    "wanted_keys = list(wanted_key_types)\n",
    "\n",
    "def clean_names(names):\n",
    "    return ','.join(['x0451_0A', 'x0554_0A', 'x0556_0A', 'x0566_0A', 'x0310_0A', 'x0416_0A'])\n",
    "\n",
    "replacements['ref_mols'] = replacements.hit_names.apply(clean_names)\n",
    "\n",
    "method_name = 'A71-ROCS-mixed'\n",
    "header: Chem.Mol = generate_header(method=method_name,\n",
    "                         ref_url='https://github.com/matteoferla/EV-A71-2A-elaborations',\n",
    "                         submitter_name='Matteo Ferla',\n",
    "                         submitter_email='matteo.ferla@stats.ox.ac.uk',\n",
    "                         submitter_institution='University of Oxford',\n",
    "                         extras=dict(zip(wanted_keys, wanted_keys))\n",
    "                                  )\n",
    "                                   \n",
    "prep(replacements.loc[(replacements['∆∆G'] < 0.) & (replacements['comRMSD'] < 2.)].sort_values('∆∆G').head(200), \n",
    "     header, mol_col='minimized_mol', \n",
    "     name_col='name',\n",
    "     outfile=f'{method_name}.sdf',\n",
    "     ref_pdb_name='x0451_0A',\n",
    "     extras=wanted_keys\n",
    "    )"
   ]
  },
  {
   "cell_type": "code",
   "execution_count": null,
   "id": "244a98f3-7ba1-4345-9c62-22758a004bd0",
   "metadata": {},
   "outputs": [],
   "source": []
  }
 ],
 "metadata": {
  "kernelspec": {
   "display_name": "Python [conda env:compchem]",
   "language": "python",
   "name": "conda-env-compchem-py"
  },
  "language_info": {
   "codemirror_mode": {
    "name": "ipython",
    "version": 3
   },
   "file_extension": ".py",
   "mimetype": "text/x-python",
   "name": "python",
   "nbconvert_exporter": "python",
   "pygments_lexer": "ipython3",
   "version": "3.11.6"
  }
 },
 "nbformat": 4,
 "nbformat_minor": 5
}
