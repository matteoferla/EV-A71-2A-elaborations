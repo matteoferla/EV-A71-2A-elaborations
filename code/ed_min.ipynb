{
 "cells": [
  {
   "cell_type": "code",
   "execution_count": 1,
   "id": "457c9b6e-4de6-48e8-9243-f89170494c5c",
   "metadata": {},
   "outputs": [
    {
     "name": "stderr",
     "output_type": "stream",
     "text": [
      "/Users/user/.conda/envs/py310/lib/python3.10/site-packages/Bio/pairwise2.py:278: BiopythonDeprecationWarning: Bio.pairwise2 has been deprecated, and we intend to remove it in a future release of Biopython. As an alternative, please consider using Bio.Align.PairwiseAligner as a replacement, and contact the Biopython developers if you still need the Bio.pairwise2 module.\n",
      "  warnings.warn(\n"
     ]
    },
    {
     "data": {
      "application/vnd.jupyter.widget-view+json": {
       "model_id": "1b181f940eb044a4b0424c52cf5e2aab",
       "version_major": 2,
       "version_minor": 0
      },
      "text/plain": []
     },
     "metadata": {},
     "output_type": "display_data"
    }
   ],
   "source": [
    "import pyrosetta_help as ph\n",
    "import pyrosetta"
   ]
  },
  {
   "cell_type": "code",
   "execution_count": 2,
   "id": "3bf06a74-0d0b-416e-bfcf-ff3ee4575fcf",
   "metadata": {},
   "outputs": [
    {
     "name": "stdout",
     "output_type": "stream",
     "text": [
      "None\n"
     ]
    }
   ],
   "source": [
    "logger = ph.configure_logger()\n",
    "# give CLI attributes in a civilised way\n",
    "pyrosetta.distributed.maybe_init(extra_options=ph.make_option_string(no_optH=False,\n",
    "                                                ex1=None,\n",
    "                                                ex2=None,\n",
    "                                                ignore_unrecognized_res=True,\n",
    "                                                load_PDB_components=True,\n",
    "                                                ignore_waters=False)\n",
    "                               )\n",
    "# ...\n",
    "# show relevant error\n",
    "print(ph.get_log_entries('ERROR')) "
   ]
  },
  {
   "cell_type": "code",
   "execution_count": 5,
   "id": "8f75c0c4-122a-4cba-a4e2-70ae56b3613f",
   "metadata": {},
   "outputs": [],
   "source": [
    "map_filename = ph.download_map('7DA6')"
   ]
  },
  {
   "cell_type": "code",
   "execution_count": 7,
   "id": "cba5ce05-0b2d-4567-ad3f-4388ca94de11",
   "metadata": {},
   "outputs": [],
   "source": [
    "pdb_filename = ph.download_pdb('7DA6')\n",
    "pose = pyrosetta.pose_from_file(pdb_filename)"
   ]
  },
  {
   "cell_type": "code",
   "execution_count": 9,
   "id": "2737e3cc-c68f-4ac1-8e78-f2a6a1d33c31",
   "metadata": {},
   "outputs": [],
   "source": [
    "ed = ph.prep_ED(pose, map_filename)"
   ]
  },
  {
   "cell_type": "code",
   "execution_count": 13,
   "id": "c9f03c91-7bb2-4ce6-b6e6-937251fbf541",
   "metadata": {},
   "outputs": [
    {
     "data": {
      "text/plain": [
       "0.8190926209296904"
      ]
     },
     "execution_count": 13,
     "metadata": {},
     "output_type": "execute_result"
    }
   ],
   "source": [
    "ed.matchPose(pose)"
   ]
  },
  {
   "cell_type": "code",
   "execution_count": 14,
   "id": "447e33ee-f237-453a-afad-e645a4203347",
   "metadata": {},
   "outputs": [],
   "source": [
    "scorefxnED = pyrosetta.get_fa_scorefxn()\n",
    "elec_dens_fast = pyrosetta.rosetta.core.scoring.ScoreType.elec_dens_fast\n",
    "scorefxnED.set_weight(elec_dens_fast, 30)\n",
    "relax = pyrosetta.rosetta.protocols.relax.FastRelax(scorefxnED, 15)\n",
    "relax.apply(pose)"
   ]
  },
  {
   "cell_type": "code",
   "execution_count": 15,
   "id": "2fcd40b3-1c6c-4e96-8a73-99afc26df2bd",
   "metadata": {},
   "outputs": [
    {
     "data": {
      "text/plain": [
       "0.7867531015783947"
      ]
     },
     "execution_count": 15,
     "metadata": {},
     "output_type": "execute_result"
    }
   ],
   "source": [
    "ed.matchPose(pose)"
   ]
  },
  {
   "cell_type": "code",
   "execution_count": 17,
   "id": "dccf8a2a-d8cb-420f-95d2-9e1bf426758e",
   "metadata": {},
   "outputs": [
    {
     "data": {
      "text/plain": [
       "True"
      ]
     },
     "execution_count": 17,
     "metadata": {},
     "output_type": "execute_result"
    }
   ],
   "source": [
    "pose.dump_pdb('7DA6_min.pdb')"
   ]
  },
  {
   "cell_type": "code",
   "execution_count": null,
   "id": "779173f6-b169-4361-8a39-b5ca77f2ad82",
   "metadata": {},
   "outputs": [],
   "source": [
    "scorefxnED.set_weight(elec_dens_fast, 5)\n",
    "relax = pyrosetta.rosetta.protocols.relax.FastRelax(scorefxnED, 15)\n",
    "relax.apply(pose)\n",
    "pose.dump_pdb('7DA6_min.pdb')"
   ]
  },
  {
   "cell_type": "code",
   "execution_count": null,
   "id": "205ec5f9-2822-43e6-8ba0-e75f3d235451",
   "metadata": {},
   "outputs": [],
   "source": [
    "# Forgot!"
   ]
  },
  {
   "cell_type": "code",
   "execution_count": 3,
   "id": "8e9df04e-b1e9-497a-bf9e-928ec288bede",
   "metadata": {},
   "outputs": [],
   "source": [
    "pose = pyrosetta.pose_from_file('template.pdb')"
   ]
  },
  {
   "cell_type": "code",
   "execution_count": 4,
   "id": "313158f8-ef88-4330-92b3-86239fd47690",
   "metadata": {},
   "outputs": [
    {
     "data": {
      "text/plain": [
       "'ALA'"
      ]
     },
     "execution_count": 4,
     "metadata": {},
     "output_type": "execute_result"
    }
   ],
   "source": [
    "r = 110 - (7 - 1)\n",
    "pose.residue( r ).name3()"
   ]
  },
  {
   "cell_type": "code",
   "execution_count": 7,
   "id": "fd021627-a317-40e4-9995-1de15f9e369f",
   "metadata": {},
   "outputs": [],
   "source": [
    "MutateResidue = pyrosetta.rosetta.protocols.simple_moves.MutateResidue\n",
    "MutateResidue(target=r, new_res='CYS').apply(pose)"
   ]
  },
  {
   "cell_type": "code",
   "execution_count": 8,
   "id": "91533b74-3810-43ca-af1f-0fe7fa7f1cc5",
   "metadata": {},
   "outputs": [
    {
     "data": {
      "text/plain": [
       "True"
      ]
     },
     "execution_count": 8,
     "metadata": {},
     "output_type": "execute_result"
    }
   ],
   "source": [
    "pose.dump_pdb('template2.pdb')"
   ]
  },
  {
   "cell_type": "code",
   "execution_count": null,
   "id": "4ca13105-bb87-4b5b-98ad-2916d6493e57",
   "metadata": {},
   "outputs": [],
   "source": []
  }
 ],
 "metadata": {
  "kernelspec": {
   "display_name": "Python [conda env:py310]",
   "language": "python",
   "name": "conda-env-py310-py"
  },
  "language_info": {
   "codemirror_mode": {
    "name": "ipython",
    "version": 3
   },
   "file_extension": ".py",
   "mimetype": "text/x-python",
   "name": "python",
   "nbconvert_exporter": "python",
   "pygments_lexer": "ipython3",
   "version": "3.10.10"
  }
 },
 "nbformat": 4,
 "nbformat_minor": 5
}
