{
 "cells": [
  {
   "cell_type": "code",
   "execution_count": 1,
   "id": "c2c80dfc-1aff-46b3-a68a-9e5113ec75ef",
   "metadata": {},
   "outputs": [],
   "source": [
    "## Func for confs\n",
    "\n",
    "import os\n",
    "from pathlib import Path\n",
    "# doubletap\n",
    "os.environ['OE_LICENSE']=os.environ.get('OE_LICENSE', os.environ['HOME2']+'/ASAP-oe_license.txt')\n",
    "assert Path(os.environ['OE_LICENSE']).exists()\n",
    "from openeye import oechem\n",
    "from openeye import oeomega\n",
    "\n",
    "os.environ['OE_LICENSE']\n",
    "\n",
    "# copypasted boilerplate....\n",
    "dense = True\n",
    "omegaOpts = oeomega.OEOmegaOptions(oeomega.OEOmegaSampling_Dense) if dense else oeomega.OEOmegaOptions()\n",
    "opts = oechem.OESimpleAppOptions(omegaOpts, \"Omega\", oechem.OEFileStringType_Mol, oechem.OEFileStringType_Mol3D)\n",
    "#print(oechem.OEConfigureOpts(opts, [], False))\n",
    "omegaOpts.UpdateValues(opts)\n",
    "omega = oeomega.OEOmega(omegaOpts)\n",
    "\n",
    "flipperOpts = oeomega.OEFlipperOptions()\n",
    "opts = oechem.OESimpleAppOptions(flipperOpts, \"stereo_and_torsion\", oechem.OEFileStringType_Mol, oechem.OEFileStringType_Mol)\n",
    "flipperOpts.UpdateValues(opts)\n",
    "\n",
    "ret_codes = {getattr(oeomega, v) : v.lstrip('OEOmegaReturnCode_') for v in dir(oeomega) if 'OEOmegaReturnCode' in v}\n",
    "ret_code_tallies = {c: 0 for c in ret_codes.values()}\n",
    "\n",
    "def gen_conf(mol: oechem.OEMol) -> None:\n",
    "    ret_code = omega.Build(mol)\n",
    "    ret_code_tallies[ret_codes[ret_code]] += 1\n",
    "    if ret_code == oeomega.OEOmegaReturnCode_UnspecifiedStereo:\n",
    "        for enantiomer in oeomega.OEFlipper(mol.GetActive(), flipperOpts):\n",
    "            gen_conf(mol)\n",
    "    elif ret_code  == oeomega.OEOmegaReturnCode_Success:\n",
    "        oechem.OEWriteMolecule(ofs, mol)\n",
    "    else:\n",
    "        pass"
   ]
  },
  {
   "cell_type": "code",
   "execution_count": 2,
   "id": "f50fa47f-81a8-468f-a82b-22d8ea2f5cd5",
   "metadata": {},
   "outputs": [],
   "source": [
    "import os\n",
    "from pathlib import Path\n",
    "\n",
    "for path in Path('.').glob('*.sdf'):\n",
    "    in_filename = path.as_posix()\n",
    "    out_filename = f'{os.path.splitext(path)[0]}.oeb.gz'\n",
    "    ifs = oechem.oemolistream()\n",
    "    assert ifs.open(in_filename)\n",
    "    ofs = oechem.oemolostream()\n",
    "    assert ofs.open(out_filename)\n",
    "    for mol in ifs.GetOEMols():\n",
    "        mol.ClearCoords()\n",
    "        gen_conf(mol)\n",
    "    ofs.close()"
   ]
  },
  {
   "cell_type": "code",
   "execution_count": 13,
   "id": "25537ed6-7d56-4d1f-b1a7-d4f921eab7e7",
   "metadata": {},
   "outputs": [],
   "source": [
    "from rdkit import Chem\n",
    "from rdkit.Chem import AllChem\n",
    "import contextlib\n",
    "\n",
    "with Chem.SDMolSupplier('Enamine_Fragment_Collection_259380cmpds_20230413.sdf') as mol_sup,\\\n",
    "    Chem.SDWriter('Enamine_Fragment_Collection_halo-subset.sdf') as writer:\n",
    "    mol: Chem.Mol\n",
    "    for mol in mol_sup:    \n",
    "        with contextlib.suppress(Exception):\n",
    "            n = AllChem.CalcNumRotatableBonds( mol )\n",
    "            if n > 3:\n",
    "                continue\n",
    "            if not mol.HasSubstructMatch(Chem.MolFromSmarts('[I,Br,Cl]')):\n",
    "                continue\n",
    "            writer.write(mol)"
   ]
  },
  {
   "cell_type": "code",
   "execution_count": null,
   "id": "d300b073-2b99-462d-9f01-e9a92f30798a",
   "metadata": {},
   "outputs": [],
   "source": [
    "in_filename = 'Carboxylic Acid Bioisosteres_1817cmpds.sdf'\n",
    "out_filename = 'Enamine_carboxyl-bioisosteres.oeb.gz'\n",
    "ifs = oechem.oemolistream()\n",
    "assert ifs.open(in_filename)\n",
    "ofs = oechem.oemolostream()\n",
    "assert ofs.open(out_filename)\n",
    "for mol in ifs.GetOEMols():\n",
    "    mol.ClearCoords()\n",
    "    gen_conf(mol)\n",
    "ofs.close()"
   ]
  },
  {
   "cell_type": "code",
   "execution_count": null,
   "id": "b9b448fb-636e-4411-8728-38f0c268604e",
   "metadata": {},
   "outputs": [],
   "source": [
    "in_filename = 'Sulfonamides_2839cmpds.sdf'\n",
    "out_filename = 'Enamine_sulfonamides.oeb.gz'\n",
    "ifs = oechem.oemolistream()\n",
    "assert ifs.open(in_filename)\n",
    "ofs = oechem.oemolostream()\n",
    "assert ofs.open(out_filename)\n",
    "for mol in ifs.GetOEMols():\n",
    "    mol.ClearCoords()\n",
    "    gen_conf(mol)\n",
    "ofs.close()"
   ]
  },
  {
   "cell_type": "code",
   "execution_count": null,
   "id": "c176f274-89c5-4c58-a1a1-3b32d5f3aec8",
   "metadata": {},
   "outputs": [],
   "source": []
  }
 ],
 "metadata": {
  "kernelspec": {
   "display_name": "Python [conda env:compchem]",
   "language": "python",
   "name": "conda-env-compchem-py"
  },
  "language_info": {
   "codemirror_mode": {
    "name": "ipython",
    "version": 3
   },
   "file_extension": ".py",
   "mimetype": "text/x-python",
   "name": "python",
   "nbconvert_exporter": "python",
   "pygments_lexer": "ipython3",
   "version": "3.11.6"
  }
 },
 "nbformat": 4,
 "nbformat_minor": 5
}
