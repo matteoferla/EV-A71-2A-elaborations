{
 "cells": [
  {
   "cell_type": "markdown",
   "id": "0ef03367",
   "metadata": {},
   "source": [
    "I use a Mac book, so to run CCDC gold I have a ipython kernel running x86, which I have less stuff installed (`pip` has to be run from terminal in Rosetta mode). Hence why this is split."
   ]
  },
  {
   "cell_type": "code",
   "execution_count": 1,
   "id": "d9b59485",
   "metadata": {},
   "outputs": [],
   "source": [
    "from ccdc.docking import Docker\n",
    "from ccdc.io import MoleculeReader, MoleculeWriter\n",
    "from ccdc.protein import Protein\n",
    "from ccdc.molecule import Molecule, Atom\n",
    "from pathlib import Path"
   ]
  },
  {
   "cell_type": "code",
   "execution_count": 2,
   "id": "aa1d6f70",
   "metadata": {},
   "outputs": [],
   "source": [
    "## Prep protein\n",
    "\n",
    "raw_receptor_path = Path('Ax0310a_min2.pdb')\n",
    "receptor_path = Path('prepped.mol2')\n",
    "\n",
    "if not receptor_path.exists():\n",
    "\n",
    "    protein = Protein.from_file(raw_receptor_path.as_posix())\n",
    "    protein.remove_all_waters()\n",
    "    protein.remove_all_metals()\n",
    "    for mol in protein.ligands:\n",
    "        protein.remove_ligand(mol.identifier)\n",
    "    protein.add_hydrogens()\n",
    "    protein.assign_partial_charges()\n",
    "    receptor_path.write_text(protein.to_string())"
   ]
  },
  {
   "cell_type": "code",
   "execution_count": 3,
   "id": "39658c2a",
   "metadata": {},
   "outputs": [],
   "source": [
    "%%script false --no-raise-error\n",
    "## Prep ligands\n",
    "# this was run in arm64 mode as I forgot to install openbabel in x86\n",
    "from pathlib import Path\n",
    "from openbabel import openbabel as ob\n",
    "\n",
    "def smiles_to_mol2block_bonds_pH(smiles, name: str, pH: float=7.4) -> str:\n",
    "    obmol = ob.OBMol()\n",
    "    conv = ob.OBConversion()\n",
    "    conv.SetInFormat(\"smi\")\n",
    "    # desalt the crude way:\n",
    "    conv.ReadString(obmol, max(smiles.split('.'), key=len))\n",
    "    #obmol.PerceiveBondOrders()  # commented out as I am using SMILES not PDB\n",
    "    obmol.CorrectForPH(pH)\n",
    "    obmol.AddHydrogens()\n",
    "    ob.OBBuilder().Build(obmol)\n",
    "    conv.SetOutFormat(\"mol2\")\n",
    "    obmol.SetTitle( name )\n",
    "    set_pdb_info(obmol)\n",
    "    return conv.WriteString(obmol)\n",
    "\n",
    "def set_pdb_info(obmol, resn='LIG', chain='X'):\n",
    "    residue = ob.OBResidue()\n",
    "    assert obmol.AddResidue(residue)\n",
    "    for i, atom in enumerate(ob.OBMolAtomIter(obmol)):\n",
    "        #residue = atom.GetResidue()\n",
    "        residue.AddAtom(atom)\n",
    "        residue.SetName(resn)\n",
    "        residue.SetNum(1)\n",
    "        residue.SetChain(chain)\n",
    "        #atom.SetResidue(residue)\n",
    "        residue.SetHetAtom(atom, True)\n",
    "\n",
    "mol2_path = Path('bb.mol2')\n",
    "mol2_path.parent.mkdir(parents=True, exist_ok=True)\n",
    "with mol2_path.open('w') as f:\n",
    "    for bb in wanted_bbs:\n",
    "        molblock = smiles_to_mol2block_bonds_pH(Chem.MolToSmiles(bb), bb.GetProp('ID'))\n",
    "        f.write(molblock + \"\\n\")"
   ]
  },
  {
   "cell_type": "code",
   "execution_count": null,
   "id": "f596a79d",
   "metadata": {},
   "outputs": [
    {
     "name": "stderr",
     "output_type": "stream",
     "text": [
      "INFO docking.py:3108 Starting GOLD with conf file /Users/user/Coding/ASAP/EV-A71-2A-protease/iter3/api_gold.conf\n"
     ]
    },
    {
     "name": "stdout",
     "output_type": "stream",
     "text": [
      "Setting up GOLD environment...\n",
      "GOLD Version 2023.3.0\n",
      "Running:\n",
      " \n",
      "     \"/Users/user/CCDC/ccdc-software/gold/GOLD/gold/d_macx/bin/gold_macx\" \"/Users/user/Coding/ASAP/EV-A71-2A-protease/iter3/api_gold.conf\"\n",
      "\n"
     ]
    }
   ],
   "source": [
    "n_poses = 10\n",
    "mol2_path = Path('bb.mol2')\n",
    "output_directory = Path(f'docked')\n",
    "output_directory.mkdir(parents=True, exist_ok=True)\n",
    "\n",
    "docker = Docker()\n",
    "docker.settings.output_directory = output_directory.as_posix()\n",
    "docker.settings.output_file = 'docked_bb.sdf'\n",
    "#docker.settings.fitness_function = 'chemscore' # docker.settings._fitness_functions ['goldscore', 'chemscore', 'asp', 'plp']\n",
    "docker.settings.autoscale = 10.   # NB. I don't know what this does\n",
    "docker.settings.early_termination = False\n",
    "\n",
    "# Receptor\n",
    "docker.settings.add_protein_file(receptor_path.as_posix())\n",
    "protein = docker.settings.proteins[0]\n",
    "#docker.settings.binding_site = docker.settings.BindingSiteFromAtom(protein, atom=get_atom(protein, central_residue), distance=distance)\n",
    "#docker.settings.binding_site = docker.settings.BindingSiteFromPoint(x=your_x, y=your_y, z=your_z, radius=10.0)\n",
    "#docker.settings.binding_site = settings.BindingSiteFromLigand(protein, crystal_ligand, 10.0)\n",
    "#docker.settings.binding_site = None\n",
    "docker.settings.binding_site = docker.settings.BindingSiteFromPoint(protein, origin=(10.267,  12.571,  22.645), distance=9)\n",
    "docker.settings.add_ligand_file(mol2_path.as_posix(), n_poses)\n",
    "\n",
    "# Constrain\n",
    "ref_mol = MoleculeReader('acylchloro.mol2')[0]\n",
    "docker.settings.add_constraint(docker.settings.ScaffoldMatchConstraint(ref_mol, weight=2.5))\n",
    "ref_mol = MoleculeReader('carboxylic_acid.mol2')[0]\n",
    "docker.settings.add_constraint(docker.settings.ScaffoldMatchConstraint(ref_mol, weight=2.5))\n",
    "\n",
    "# Run\n",
    "results: Docker.Results = docker.dock()\n",
    "print('DONE')"
   ]
  },
  {
   "cell_type": "code",
   "execution_count": 7,
   "id": "2cb76276",
   "metadata": {},
   "outputs": [
    {
     "data": {
      "text/plain": [
       "1"
      ]
     },
     "execution_count": 7,
     "metadata": {},
     "output_type": "execute_result"
    }
   ],
   "source": [
    "1"
   ]
  },
  {
   "cell_type": "code",
   "execution_count": null,
   "id": "7ce618a8",
   "metadata": {},
   "outputs": [],
   "source": []
  }
 ],
 "metadata": {
  "kernelspec": {
   "display_name": "Python [conda env:.conda86-CSD]",
   "language": "python",
   "name": "conda-env-.conda86-CSD-py"
  },
  "language_info": {
   "codemirror_mode": {
    "name": "ipython",
    "version": 3
   },
   "file_extension": ".py",
   "mimetype": "text/x-python",
   "name": "python",
   "nbconvert_exporter": "python",
   "pygments_lexer": "ipython3",
   "version": "3.9.18"
  }
 },
 "nbformat": 4,
 "nbformat_minor": 5
}
