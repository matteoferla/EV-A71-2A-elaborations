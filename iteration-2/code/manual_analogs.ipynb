{
 "cells": [
  {
   "cell_type": "markdown",
   "id": "420a11d3-ac9f-4c22-9bed-f5436725bd14",
   "metadata": {},
   "source": [
    "## Manual\n",
    "\n",
    "Due to SW down all jobs crashed.\n",
    "Instead of running all the mergers from scratch and shortlisting them badly a better-ish filter was done.\n",
    "\n",
    "Unfortunately PLIP was not run"
   ]
  },
  {
   "cell_type": "code",
   "execution_count": null,
   "id": "e699973a-a4e7-462d-9109-19c6f72375c3",
   "metadata": {},
   "outputs": [],
   "source": [
    "import numpy as np\n",
    "import functools\n",
    "import numpy.typing as npt\n",
    "import pandas as pd\n",
    "from pathlib import Path\n",
    "from rdkit import Chem, Geometry, DataStructs\n",
    "from rdkit.Chem import AllChem, Draw, PandasTools\n",
    "from rdkit.Chem import rdMolDescriptors as rdmd\n",
    "from rdkit.ML.Cluster import Butina\n",
    "from sklearn.cluster import KMeans\n",
    "from collections import defaultdict\n",
    "from fragmenstein import Laboratory\n",
    "from smallworld_api import SmallWorld, NoMatchError"
   ]
  },
  {
   "cell_type": "code",
   "execution_count": null,
   "id": "691d6865-8612-433f-8d42-66a20a04d1c2",
   "metadata": {},
   "outputs": [],
   "source": [
    "path: Path\n",
    "\n",
    "dfs = []\n",
    "for path in Path('.').glob('fragmenstein_mergers_*pkl.gz'):\n",
    "    df = pd.read_pickle(path)\n",
    "    df['experiment'] = path.name[len('fragmenstein_mergers_'):-len('.pkl.gz')]\n",
    "    dfs.append(df.loc[df.outcome == 'acceptable'])\n",
    "\n",
    "df = pd.concat(dfs, ignore_index=True)"
   ]
  },
  {
   "cell_type": "code",
   "execution_count": null,
   "id": "5c0bc5ca-2930-4fe2-9427-040734ec840e",
   "metadata": {},
   "outputs": [],
   "source": [
    "stats = {'initial': len(df)}"
   ]
  },
  {
   "cell_type": "code",
   "execution_count": null,
   "id": "006e8ea2-7f80-47d5-b903-7a56c6bbbacf",
   "metadata": {},
   "outputs": [],
   "source": [
    "df['rototweaked_ddG'] = df.apply(lambda row: row['∆∆G'] + row['N_rotatable_bonds'] * 0.7, axis=1)\n",
    "df = df.sort_values('rototweaked_ddG').reset_index(drop=True).copy()\n",
    "\n",
    "import plotly.io as pio\n",
    "# remote jupyter notebook weirdness\n",
    "pio.renderers.default='iframe'  \n",
    "import plotly.express as px\n",
    "\n",
    "px.histogram(df, 'rototweaked_ddG', title='Energy', template='plotly_white')"
   ]
  },
  {
   "cell_type": "code",
   "execution_count": null,
   "id": "16aff376-d6f8-4103-ac95-62a8d3060f17",
   "metadata": {},
   "outputs": [],
   "source": [
    "df = df.loc[df.rototweaked_ddG <= -3].copy()\n",
    "stats['dG_cull'] = len(df)"
   ]
  },
  {
   "cell_type": "code",
   "execution_count": null,
   "id": "85945333-3c97-497e-8a97-4b23f7ddb792",
   "metadata": {},
   "outputs": [],
   "source": [
    "from rdkit.ML.Cluster import Butina\n",
    "from rdkit import Chem, Geometry, DataStructs\n",
    "from rdkit.Chem import rdMolDescriptors as rdmd\n",
    "\n",
    "def butina_cluster(mol_list, cutoff=0.20):\n",
    "    # https://github.com/PatWalters/workshop/blob/master/clustering/taylor_butina.ipynb\n",
    "    fp_list = [rdmd.GetMorganFingerprintAsBitVect(AllChem.RemoveAllHs(m), 3, nBits=2048) for m in mol_list]\n",
    "    dists = []\n",
    "    nfps = len(fp_list)\n",
    "    for i in range(1, nfps):\n",
    "        sims = DataStructs.BulkTanimotoSimilarity(fp_list[i], fp_list[:i])\n",
    "        dists.extend([1 - x for x in sims])\n",
    "    mol_clusters = Butina.ClusterData(dists, nfps, cutoff, isDistData=True)\n",
    "    cluster_id_list = [0] * nfps\n",
    "    for idx, cluster in enumerate(mol_clusters, 1):\n",
    "        for member in cluster:\n",
    "            cluster_id_list[member] = idx\n",
    "    return cluster_id_list\n",
    "\n",
    "m = df.minimized_mol.apply(lambda m: m if isinstance(m, Chem.Mol) else Chem.Mol())\n",
    "df['FP_cluster'] = butina_cluster(m.to_list())\n",
    "df = df.drop_duplicates('FP_cluster').copy()\n",
    "stats['butina_cull'] = len(df)"
   ]
  },
  {
   "cell_type": "code",
   "execution_count": null,
   "id": "fd6c13ff-f6c0-4adc-a9d8-ff7449c52556",
   "metadata": {},
   "outputs": [],
   "source": [
    "from rdkit import Chem\n",
    "\n",
    "with Chem.SDMolSupplier('7DA6-fragmented.sdf') as sdfh:\n",
    "    substrate_blocks = {m.GetProp('_Name'): m for m in sdfh}\n",
    "    del substrate_blocks['ver_1.2']"
   ]
  },
  {
   "cell_type": "markdown",
   "id": "69ece75b-fcd7-4fb8-b09d-1e98d0f7bb6d",
   "metadata": {},
   "source": [
    "# Cluster mergers\n",
    "\n",
    "Normally I don't cluster mergers, but there are so many of them...\n",
    "Unfortunately there's no PLIP, so distance"
   ]
  },
  {
   "cell_type": "code",
   "execution_count": null,
   "id": "1e411b50-ecc3-4785-b1c4-1cb2a78e80cc",
   "metadata": {},
   "outputs": [],
   "source": [
    "import numpy as np\n",
    "import functools\n",
    "import numpy.typing as npt\n",
    "from rdkit import Chem, Geometry, DataStructs\n",
    "from rdkit.Chem import AllChem, Draw, PandasTools\n",
    "\n",
    "def get_mindist(molA: Chem.Mol, molB: Chem.Mol) -> float:\n",
    "    d: npt.ArrayLike = AllChem.Get3DDistanceMatrix( Chem.CombineMols(molA, molB) )\n",
    "    a = molA.GetNumAtoms()\n",
    "    b = molB.GetNumAtoms()\n",
    "    d[:a, :a] = d[:a, :a] * np.nan\n",
    "    d[a:, a:] = d[a:, a:] * np.nan\n",
    "    return np.nanmin(d)\n",
    "    \n",
    "for name, target in substrate_blocks.items():\n",
    "    df[f'{name}_distance'] = df.minimized_mol.apply(functools.partial(get_mindist, target))"
   ]
  },
  {
   "cell_type": "code",
   "execution_count": null,
   "id": "ac05f030-fdb8-4b40-894d-218cfd83b928",
   "metadata": {},
   "outputs": [],
   "source": [
    "import numpy as np\n",
    "from sklearn.cluster import KMeans\n",
    "from collections import defaultdict\n",
    "rank = defaultdict(int)\n",
    "\n",
    "kmeans = KMeans(n_clusters=6, random_state=0, n_init='auto')\n",
    "df['pocket_cluster'] = kmeans.fit_predict(df['PHE_1_distance\tARG0_distance\tGLY1_distance\tLYS2_distance'.split()])\n",
    "\n",
    "def r(c):\n",
    "    rank[c] += 1\n",
    "    return rank[c]\n",
    "\n",
    "df['pocket_cluster_rank'] = df.pocket_cluster.apply(r)"
   ]
  },
  {
   "cell_type": "code",
   "execution_count": null,
   "id": "4acb8933-3a89-4e7a-a7eb-1f455b30e0ae",
   "metadata": {},
   "outputs": [],
   "source": [
    "# I don't really want squared, so linear deviation\n",
    "df['combined_distance'] = df['PHE_1_distance\tARG0_distance\tGLY1_distance'.split()].sum(axis=1)"
   ]
  },
  {
   "cell_type": "code",
   "execution_count": null,
   "id": "dc7e9f48-5ee8-41fe-b10b-67f57a1e201e",
   "metadata": {},
   "outputs": [],
   "source": [
    "px.violin(df, 'pocket_cluster', 'combined_distance')"
   ]
  },
  {
   "cell_type": "code",
   "execution_count": null,
   "id": "fc7c64d5-2ae5-4700-bbf4-8e569502d605",
   "metadata": {},
   "outputs": [],
   "source": [
    "# shortlisted\n",
    "combinations = df.loc[(df.pocket_cluster_rank < 100) & (df.combined_distance < 8)]\n",
    "stats['shortlisted'] = len(combinations)\n",
    "print(stats)"
   ]
  },
  {
   "cell_type": "markdown",
   "id": "fd72ff9c-7314-49e7-9aeb-622b1362735e",
   "metadata": {},
   "source": [
    "## Get analogues"
   ]
  },
  {
   "cell_type": "code",
   "execution_count": null,
   "id": "7bdbfbab-e0db-43d5-bc15-f4c9b217ac39",
   "metadata": {},
   "outputs": [],
   "source": [
    "pdbblock = Path('x0310_apo.pdb').read_text()"
   ]
  },
  {
   "cell_type": "code",
   "execution_count": null,
   "id": "fd39ed6b-707c-47e8-b0d1-184d8bd514d4",
   "metadata": {},
   "outputs": [],
   "source": [
    "from smallworld_api import SmallWorld, NoMatchError\n",
    "sws = SmallWorld()\n",
    "analogs = sws.search_many(combinations.smiles.to_list(),\n",
    "                                      dist=15,\n",
    "                                      length=1_000,\n",
    "                                      db='REAL-Database-22Q1.smi.anon',\n",
    "                                      tolerated_exceptions=Exception)\n",
    "\n",
    "analogs['catalogue'] = 'REAL-Database-22Q1.smi.anon'\n",
    "analogs['query_name'] = analogs.query_index.map(combinations.reset_index().name.to_dict())\n",
    "analogs['hits'] = analogs.query_index.map(combinations.hit_mols.to_dict())\n",
    "analogs['hit_names'] = analogs.hits.apply(lambda m: [mm.GetProp('_Name') for mm in m] if isinstance(m, list) else ['error'])\n",
    "analogs['minimized_merger'] = analogs.query_index.map(combinations.minimized_mol.to_dict())\n",
    "analogs['unminimized_merger'] = analogs.query_index.map(combinations.unminimized_mol.to_dict())\n",
    "analogs['name'] = analogs['id'] + ':' + analogs['query_name']\n",
    "analogs['smiles'] = analogs.hitSmiles.str.split(expand=True)[0]\n",
    "analogs['custom_map'] = analogs.loc[~analogs.hits.isna()].apply(get_custom_map, axis=1)\n",
    "analogs.to_pickle(f'fragmenstein_analogues_manual.REAL.pkl.gz')"
   ]
  },
  {
   "cell_type": "code",
   "execution_count": null,
   "id": "efc93c9b-7594-4e78-bad9-e9553e4d6908",
   "metadata": {},
   "outputs": [],
   "source": [
    "!ls *analog*"
   ]
  },
  {
   "cell_type": "code",
   "execution_count": null,
   "id": "5dfd4c6a-1d6f-468e-ac6c-ab0eb4627757",
   "metadata": {},
   "outputs": [],
   "source": [
    "analogs = pd.concat([\n",
    "    pd.read_pickle('fragmenstein_analogs_fragpairsA.pkl.gz').reset_index(drop=True),\n",
    "    pd.read_pickle('fragmenstein_analogs_fullpairs.pkl.gz').reset_index(drop=True),\n",
    "    pd.read_pickle('fragmenstein_analogues_manual.REAL.pkl.gz').reset_index(drop=True)\n",
    "            ],\n",
    "    ignore_index=True)"
   ]
  },
  {
   "cell_type": "code",
   "execution_count": null,
   "id": "aa569343-29d5-4d25-ad24-b6149a6456be",
   "metadata": {},
   "outputs": [],
   "source": [
    "#analogs = analogs.loc[~analogs.hits.isna()].reset_index(drop=True)\n",
    "len(analogs)\n",
    "#analogs.copy().to_pickle('fragmenstein_analogues_combined.pkl.gz')"
   ]
  },
  {
   "cell_type": "code",
   "execution_count": null,
   "id": "189048b7-fb24-4b33-9e2c-acf47c3c0acb",
   "metadata": {},
   "outputs": [],
   "source": [
    "# There are too many analogues. Done on multiple nodes.\n",
    "analogs = analogs.loc[~analogs.hits.isna()]\n",
    "placements: pd.DataFrame = Laboratory._place_ops(analogs=analogs,\n",
    "                                                 pdbblock=pdbblock,\n",
    "                                                 n_cores=os.cpu_count() - 1,\n",
    "                                                 timeout=240,\n",
    "                                                 suffix='manual')\n",
    "\n",
    "hit_replacements = pd.read_pickle('fragmenstein_hit_replacements_fragpairs.pkl.gz')\n",
    "Laboratory.score(placements, hit_replacements, **settings)\n",
    "placements.to_pickle(f'fragmenstein_placements_manual.pkl.gz')"
   ]
  },
  {
   "cell_type": "markdown",
   "id": "0b8686a5-662e-4c74-a17f-56f1fc6e6bb6",
   "metadata": {},
   "source": [
    "## Try again"
   ]
  },
  {
   "cell_type": "code",
   "execution_count": null,
   "id": "64ffdd76-641c-4ee9-81ae-c1005b889859",
   "metadata": {},
   "outputs": [],
   "source": [
    "import pandas as pd\n",
    "from pathlib import Path\n",
    "placements: pd.DataFrame = pd.concat([pd.read_pickle(path) for path in Path('.').glob('*_placements*.pkl.gz')], ignore_index=True)"
   ]
  },
  {
   "cell_type": "code",
   "execution_count": null,
   "id": "8adb3975-a536-4a14-b2bc-98e2b163dcf3",
   "metadata": {},
   "outputs": [],
   "source": [
    "placements = placements.loc[placements.outcome == 'acceptable']\n",
    "len(placements) # from 251130"
   ]
  },
  {
   "cell_type": "code",
   "execution_count": null,
   "id": "bf59605f-b8f5-43f9-b5a3-ea2027b598c2",
   "metadata": {},
   "outputs": [],
   "source": [
    "placements = placements.loc[placements.ad_hoc_penalty < 0].copy()\n",
    "len(placements)"
   ]
  },
  {
   "cell_type": "code",
   "execution_count": null,
   "id": "150d2d3e-57fc-433b-8182-4f7207323878",
   "metadata": {},
   "outputs": [],
   "source": [
    "from fragmenstein.laboratory._score import UniquenessMeter\n",
    "\n",
    "intxn_names = [c for c in placements.columns if isinstance(c, tuple)]\n",
    "tallies = placements[intxn_names].sum()\n",
    "ratioed = UniquenessMeter(tallies, intxn_names, k=0.5)\n",
    "placements['interaction_uniqueness_metric'] = placements.apply(ratioed, axis=1)"
   ]
  },
  {
   "cell_type": "code",
   "execution_count": null,
   "id": "40bff0d6-0167-4f92-bf9e-d11eb1ab0ee1",
   "metadata": {},
   "outputs": [],
   "source": [
    "from fragmenstein.laboratory._score import PenaltyMeter\n",
    "\n",
    "penalize = PenaltyMeter(weights={\"N_rotatable_bonds\": 1,\n",
    "             \"\\u2206\\u2206G\": 1,\n",
    "             \"interaction_uniqueness_metric\": -2.5,\n",
    "             \"N_unconstrained_atoms\": 0.2,\n",
    "             \"N_constrained_atoms\": -0.05,\n",
    "             \"N_interactions\": -1.5,\n",
    "             \"N_interactions_lost\": 2,\n",
    "             \"max_hit_Tanimoto\": -0.5,\n",
    "             \"N_PAINS\": 5,\n",
    "             \"strain_per_HA\": 1})\n",
    "placements['ad_hoc_penalty'] = placements.apply(penalize, axis=1)"
   ]
  },
  {
   "cell_type": "code",
   "execution_count": null,
   "id": "ca39d29d-0325-428d-ae23-13186cf96b78",
   "metadata": {},
   "outputs": [],
   "source": [
    "import plotly.io as pio\n",
    "pio.renderers.default='iframe'  \n",
    "import plotly.express as px\n",
    "\n",
    "pocket_cols = [c for c in placements.columns if isinstance(c, tuple) and c[2] in (105,124,)]\n",
    "placements['deep_P1_sidechain'] = placements[pocket_cols].sum(axis=1) > 0\n",
    "\n",
    "px.scatter(placements, 'ad_hoc_penalty', '∆∆G', color='deep_P1_sidechain', opacity=0.2, template='plotly_white')"
   ]
  },
  {
   "cell_type": "code",
   "execution_count": null,
   "id": "cf49c4ad-e992-4358-8b9f-8d497b4d24dd",
   "metadata": {},
   "outputs": [],
   "source": [
    "pocket_cols"
   ]
  },
  {
   "cell_type": "code",
   "execution_count": null,
   "id": "6fc7ca29-cb9c-40e5-8541-0698440e233c",
   "metadata": {},
   "outputs": [],
   "source": [
    "placements = placements.loc[placements.ad_hoc_penalty < 0].copy()\n",
    "len(placements)"
   ]
  },
  {
   "cell_type": "code",
   "execution_count": 176,
   "id": "d24a8188-4193-4371-b6c1-f1eb1021e402",
   "metadata": {},
   "outputs": [],
   "source": [
    "placements.to_pickle('fragmenstein_placements_filtered.pkl.gz')"
   ]
  },
  {
   "cell_type": "markdown",
   "id": "428050e6-4a87-4e31-9c74-8206f0fdff69",
   "metadata": {},
   "source": [
    "## Inspect"
   ]
  },
  {
   "cell_type": "code",
   "execution_count": null,
   "id": "a27c2c99-2149-4886-9932-d0cce48fd97d",
   "metadata": {},
   "outputs": [],
   "source": [
    "from rdkit import Chem\n",
    "from rdkit.Chem import Draw\n",
    "\n",
    "Draw.MolsToGridImage(placements.sort_values('ad_hoc_penalty').head(10).smiles.apply(Chem.MolFromSmiles))"
   ]
  },
  {
   "cell_type": "code",
   "execution_count": null,
   "id": "314ce601-cfe7-4ea4-9652-67b6dc16f847",
   "metadata": {},
   "outputs": [],
   "source": [
    "import py3Dmol\n",
    "from fragmenstein.mol3d_display import monkey_patch\n",
    "from fragmenstein.branding import divergent_colors\n",
    "n = 20\n",
    "colors = divergent_colors[20]\n",
    "\n",
    "\n",
    "viewer = py3Dmol.view()\n",
    "monkey_patch(viewer)\n",
    "for i, row in placements.sort_values('ad_hoc_penalty').head(n).reset_index().iterrows():\n",
    "    viewer.add_mol(row.minimized_mol, name=row.name, carbon_color=colors[i])\n",
    "    viewer.add_template(pdbblock = Path('x0310_apo.pdb').read_text())\n",
    "viewer.show()"
   ]
  },
  {
   "cell_type": "code",
   "execution_count": null,
   "id": "8456dadd-ed56-47b3-b0f2-6387008b01e0",
   "metadata": {},
   "outputs": [],
   "source": [
    "#placements['far_pocket'] = placements.name.apply(lambda name: any([n in name for n in 'x0473 x0911 x0853 x0929'.split()]))\n",
    "wanted_cols = [c for c in placements.columns if isinstance(c, tuple) and c[2] in (18, 124, 82, 100, 98, 131, 83)]\n",
    "subbed = placements.loc[(placements[wanted_cols].sum(axis=1) > 1) & (placements[ser105_col].sum(axis=1) > 0)].sort_values('ad_hoc_penalty').head(n).reset_index()\n",
    "from IPython.display import display\n",
    "\n",
    "display(subbed[['name', 'ad_hoc_penalty', '∆∆G']+wanted_cols])\n",
    "colors = divergent_colors[len(subbed)]\n",
    "\n",
    "viewer = py3Dmol.view()\n",
    "monkey_patch(viewer)\n",
    "for i, row in subbed.iterrows():\n",
    "    viewer.add_mol(row.minimized_mol, name=row.name, carbon_color=colors[i])\n",
    "    viewer.add_template(pdbblock = Path('x0310_apo.pdb').read_text())\n",
    "viewer.show()"
   ]
  },
  {
   "cell_type": "markdown",
   "id": "bb98f74a-aa2f-4218-b8bc-c073cd5658c1",
   "metadata": {},
   "source": [
    "## Remove similar"
   ]
  },
  {
   "cell_type": "code",
   "execution_count": null,
   "id": "695e5f5d-d8bb-4e9a-8c37-36dfafabc0c0",
   "metadata": {},
   "outputs": [],
   "source": [
    "from fragmenstein.laboratory._score import butina_cluster\n",
    "m = placements.minimized_mol.apply(lambda m: m if isinstance(m, Chem.Mol) else Chem.Mol())\n",
    "placements['cluster'] = butina_cluster(m.to_list(), 0.2)\n",
    "placements.cluster.max()"
   ]
  },
  {
   "cell_type": "code",
   "execution_count": null,
   "id": "372d35ce-0728-41c2-9fd7-032e106968a8",
   "metadata": {},
   "outputs": [],
   "source": [
    "placements = placements.sort_values('ad_hoc_penalty').reset_index(drop=True).drop_duplicates('cluster')"
   ]
  },
  {
   "cell_type": "code",
   "execution_count": null,
   "id": "37f32d51-3baa-4ca0-b5de-35292638723c",
   "metadata": {},
   "outputs": [],
   "source": [
    "from collections import defaultdict\n",
    "from Bio.SeqUtils import seq1\n",
    "\n",
    "def narrate(row: pd.Series):\n",
    "    grouped = defaultdict(list)\n",
    "    for name, value in row.items():\n",
    "        if not isinstance(name, tuple) or value == 0.:\n",
    "            continue\n",
    "        itxn_type, resn, resi = name\n",
    "        grouped[itxn_type].append(seq1(resn, undef_code=\"X\")+str(resi))\n",
    "    narrative = ''\n",
    "    for itxn_type in sorted(grouped):\n",
    "        narrative += f'{itxn_type}:{\"+\".join(grouped[itxn_type])}; '\n",
    "    return narrative\n",
    "\n",
    "placements['rationale'] = 'info ' + placements.apply(narrate, axis=1)"
   ]
  },
  {
   "cell_type": "markdown",
   "id": "8c0af584-0260-4bd7-a1c6-db9feb41c05f",
   "metadata": {},
   "source": [
    "## Cost"
   ]
  },
  {
   "cell_type": "code",
   "execution_count": null,
   "id": "fa6c1726-6106-4cc9-89a6-06227fbfce81",
   "metadata": {},
   "outputs": [],
   "source": [
    "import json\n",
    "\n",
    "with open('cost.json', 'w') as fh:\n",
    "    costs = json.load(fh)\n",
    "\n",
    "from gist_import import GistImporter\n",
    "\n",
    "store = GistImporter.from_github('https://raw.githubusercontent.com/matteoferla/Fragment-hit-follow-up-chemistry/main/fragment_elaboration_scripts/enamine_store.py')\\\n",
    "                    .to_module()"
   ]
  },
  {
   "cell_type": "code",
   "execution_count": null,
   "id": "7818d1e4-b474-4a46-b8d0-cf2f019af48b",
   "metadata": {},
   "outputs": [],
   "source": [
    "#costs = {}\n",
    "\n",
    "placements['Id'] = placements.name.str.split('-x',expand=True)[0] \n",
    "\n",
    "for code in placements.sort_values('ad_hoc_penalty').reset_index().Id.to_list()[:1000]:\n",
    "    if code in costs:\n",
    "        print(code, costs[code])\n",
    "    elif 'Z' in code or 'PV' in code:\n",
    "        costs[code] = store.get_price(code, catalogue=store.StoreCatalog.REALDB, currency=store.StoreCurrency.USD)\n",
    "        print(code, costs[code])\n",
    "        time.sleep(10)\n",
    "    elif 'EN' in code:\n",
    "        costs[code] =store.get_price(code, catalogue=store.StoreCatalog.BB, currency=store.StoreCurrency.USD)\n",
    "        print(code, costs[code])\n",
    "        time.sleep(10)\n",
    "    else:\n",
    "        raise ValueError\n",
    "\n",
    "import json\n",
    "\n",
    "with open('cost.json', 'w') as fh:\n",
    "    json.dump(costs, fh)"
   ]
  },
  {
   "cell_type": "code",
   "execution_count": null,
   "id": "ee4d6926-1923-479d-a81a-08785c1296f7",
   "metadata": {},
   "outputs": [],
   "source": [
    "placements['$/mg'] = placements.Id.map(costs)"
   ]
  },
  {
   "cell_type": "markdown",
   "id": "f70babe0-ddc0-4f6d-ad26-12fdc1af1f99",
   "metadata": {},
   "source": [
    "## Twice: w/ and w/o S105 & V124"
   ]
  },
  {
   "cell_type": "code",
   "execution_count": null,
   "id": "a2cd2eca-e8d0-4d8b-9572-256f289a007b",
   "metadata": {},
   "outputs": [],
   "source": [
    "import numpy as np\n",
    "from scipy.cluster.vq import kmeans, vq\n",
    "from collections import defaultdict\n",
    "\n",
    "def intxn_cluster(df, k):\n",
    "    \"\"\"\n",
    "    Probability scale interactions\n",
    "    \"\"\"\n",
    "    intxn_cols = [c for c in df.columns if isinstance(c, tuple)]\n",
    "    data_for_clustering = df[intxn_cols].fillna(0).copy()\n",
    "    tallies = data_for_clustering.sum().to_dict()\n",
    "    data_for_clustering = data_for_clustering.apply(lambda col: col / tallies[col.name],axis=0).fillna(0)\n",
    "    centroid, variance = kmeans(data_for_clustering.values, k)\n",
    "    labels, _ = vq(data_for_clustering.values, centroid)\n",
    "    df['intxn_cluster'] = labels\n",
    "    rank = defaultdict(int)\n",
    "    def r(c):\n",
    "        rank[c] += 1\n",
    "        return rank[c]\n",
    "    df['intxn_cluster_rank'] = df.intxn_cluster.apply(r)"
   ]
  },
  {
   "cell_type": "code",
   "execution_count": null,
   "id": "993c1d4f-2f5a-43b1-84cc-e39fd429b346",
   "metadata": {},
   "outputs": [],
   "source": [
    "placements['deep_P1_sidechain'] = placements[pocket_cols].sum(axis=1).astype(bool)"
   ]
  },
  {
   "cell_type": "code",
   "execution_count": null,
   "id": "29882847-99b8-4aa8-8111-8ee48e5b4cc5",
   "metadata": {},
   "outputs": [],
   "source": [
    "df1 = placements.loc[placements.deep_P1_sidechain].copy()\n",
    "intxn_cluster(df1, k=8) "
   ]
  },
  {
   "cell_type": "code",
   "execution_count": null,
   "id": "427faf74-601d-4bd6-a8aa-48c11309a758",
   "metadata": {},
   "outputs": [],
   "source": [
    "df2 = placements.loc[~placements.deep_P1_sidechain].copy()\n",
    "intxn_cluster(df2, k=8)"
   ]
  },
  {
   "cell_type": "code",
   "execution_count": null,
   "id": "370f0ab3-c5eb-4ed2-9d78-a26bf5d11909",
   "metadata": {},
   "outputs": [],
   "source": [
    "# This is slow... inadvisable\n",
    "placements['intxn_cluster'] = {**(df1['intxn_cluster'] + 100).to_dict(), **(df2['intxn_cluster'] + 200).to_dict()}\n",
    "placements['intxn_cluster_rank'] = {**df1['intxn_cluster_rank'].to_dict(), **df2['intxn_cluster_rank'].to_dict()}"
   ]
  },
  {
   "cell_type": "code",
   "execution_count": null,
   "id": "82f313c0-d624-4cb9-9d89-80927c4b932e",
   "metadata": {},
   "outputs": [],
   "source": [
    "placements.to_pickle('fragmenstein_placements_filtered.pkl.gz')"
   ]
  },
  {
   "cell_type": "markdown",
   "id": "99570bae-efb5-45ef-95ee-666786528f0a",
   "metadata": {},
   "source": [
    "### Prep"
   ]
  },
  {
   "cell_type": "code",
   "execution_count": null,
   "id": "5d3c6c0e-581d-4766-b817-df11cc2e9e58",
   "metadata": {},
   "outputs": [],
   "source": [
    "from gist_import import GistImporter\n",
    "\n",
    "# fu for fragalysis upload\n",
    "fu = GistImporter.from_github('https://raw.githubusercontent.com/matteoferla/Fragment-hit-follow-up-chemistry/main/fragment_elaboration_scripts/prep_fragalysis.py').to_module()\n",
    "# generate_header\n",
    "# floatify_columns\n",
    "# prep"
   ]
  },
  {
   "cell_type": "code",
   "execution_count": null,
   "id": "ad0a95ce-5e0b-4efe-a92d-5636e97c17a7",
   "metadata": {},
   "outputs": [],
   "source": [
    "df = df1\n",
    "method_name = 'A71-Fragmenstein-iter2-at-S105-V124'\n",
    "\n",
    "#df = df2\n",
    "#method_name = 'A71-Fragmenstein-iter2-not-S105-V124'"
   ]
  },
  {
   "cell_type": "code",
   "execution_count": null,
   "id": "e1b07208-4491-429f-a131-825090f65e12",
   "metadata": {},
   "outputs": [],
   "source": [
    "import operator\n",
    "\n",
    "wanted_key_types = {'rationale': str, \n",
    "                    'intxn_cluster': int,\n",
    "               'intxn_cluster_rank': int,\n",
    "               'N_interactions': int, \n",
    "               '∆∆G': float, \n",
    "                    '$/mg': float,\n",
    "                    'comRMSD': float,\n",
    "                    'N_rotatable_bonds': int,\n",
    "                   }\n",
    "\n",
    "df = df.copy()\n",
    "for col in sorted([col for col in df.columns if isinstance(col, tuple)], key=operator.itemgetter(2)):\n",
    "    name = ':'.join(map(str, col))\n",
    "    df[name] = df[col]\n",
    "    wanted_key_types[name] = int\n",
    "    \n",
    "for k, ktype in wanted_key_types.items():\n",
    "    df[k] = df[k].astype(ktype)\n",
    "df = df.copy()\n",
    "\n",
    "wanted_keys = list(wanted_key_types)\n",
    "\n",
    "df['ref_mols'] = df.hit_names.apply(lambda ns: ','.join([n[:8] for n in ns]))\n",
    "\n",
    "header: Chem.Mol = fu.generate_header(method=method_name,\n",
    "                         ref_url='https://github.com/matteoferla/EV-A71-2A-elaborations',\n",
    "                         submitter_name='Matteo Ferla',\n",
    "                         submitter_email='matteo.ferla@stats.ox.ac.uk',\n",
    "                         submitter_institution='University of Oxford',\n",
    "                         extras=dict(zip(wanted_keys, wanted_keys))\n",
    "                                  )\n",
    "                                   \n",
    "fu.prep(df.sort_values('intxn_cluster_rank').reset_index().iloc[:100], \n",
    "     header,\n",
    "        mol_col='minimized_mol', \n",
    "     name_col='Id',\n",
    "     outfile=f'{method_name}.sdf',\n",
    "     ref_pdb_name='x0310_0A',\n",
    "     extras=wanted_keys\n",
    "    )"
   ]
  },
  {
   "cell_type": "code",
   "execution_count": null,
   "id": "7cda7149-8d42-4b37-bd2a-3ba39459e181",
   "metadata": {},
   "outputs": [],
   "source": []
  },
  {
   "cell_type": "code",
   "execution_count": null,
   "id": "d9834ba1-2370-4ffe-aeac-9ce3306224aa",
   "metadata": {},
   "outputs": [],
   "source": []
  },
  {
   "cell_type": "code",
   "execution_count": null,
   "id": "b6d4fee3-be99-4999-aadf-d68802185075",
   "metadata": {},
   "outputs": [],
   "source": [
    "#!pip install git+https://github.com/retostauffer/python-colorspace\n",
    "\n",
    "n = 100\n",
    "\n",
    "import numpy as np\n",
    "from colorspace.colorlib import HCL, hexcols\n",
    "\n",
    "hues : np.ndarray = np.linspace(0,360, n+1)+15\n",
    "hues[hues >= 360] -= 360\n",
    "\n",
    "colors = HCL(H = hues[:-1], C = [100]*n, L = [65]*n)\n",
    "colors.to('hex')\n",
    "for i, color in enumerate(colors.colors()):\n",
    "    print(f'color 0x{color[1:]}, resn UNK and state {i} and element C')"
   ]
  },
  {
   "cell_type": "code",
   "execution_count": 175,
   "id": "70e546db-5f40-4b47-a54c-d3b80fb6ec36",
   "metadata": {},
   "outputs": [
    {
     "name": "stdout",
     "output_type": "stream",
     "text": [
      "°\n"
     ]
    }
   ],
   "source": [
    "print('\\u00B0')"
   ]
  },
  {
   "cell_type": "code",
   "execution_count": null,
   "id": "13d84632-b376-4dfb-a124-ff4b78fe21bc",
   "metadata": {},
   "outputs": [],
   "source": []
  }
 ],
 "metadata": {
  "kernelspec": {
   "display_name": "Python [conda env:compchem]",
   "language": "python",
   "name": "conda-env-compchem-py"
  },
  "language_info": {
   "codemirror_mode": {
    "name": "ipython",
    "version": 3
   },
   "file_extension": ".py",
   "mimetype": "text/x-python",
   "name": "python",
   "nbconvert_exporter": "python",
   "pygments_lexer": "ipython3",
   "version": "3.11.6"
  }
 },
 "nbformat": 4,
 "nbformat_minor": 5
}
