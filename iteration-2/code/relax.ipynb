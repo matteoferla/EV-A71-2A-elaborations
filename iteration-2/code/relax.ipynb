{
 "cells": [
  {
   "cell_type": "code",
   "execution_count": 2,
   "id": "368850d4-79e6-4882-bea5-1a3eb4f3a987",
   "metadata": {},
   "outputs": [],
   "source": [
    "from pathlib import Path\n",
    "import pyrosetta\n",
    "import pyrosetta_help as ph\n",
    "from types import ModuleType\n",
    "from IPython.display import display, HTML\n",
    "\n",
    "from collections import Counter\n",
    "prc: ModuleType = pyrosetta.rosetta.core\n",
    "prp: ModuleType = pyrosetta.rosetta.protocols\n",
    "prcc: ModuleType = pyrosetta.rosetta.core.conformation\n",
    "pr_scoring: ModuleType = pyrosetta.rosetta.core.scoring\n",
    "\n",
    "\n",
    "\n",
    "ignore_unrecognized_res=False\n",
    "load_PDB_components=False\n",
    "\n",
    "logger = ph.configure_logger()\n",
    "pyrosetta.distributed.maybe_init(extra_options=ph.make_option_string(no_optH=False,\n",
    "                                                                     ex1=None,\n",
    "                                                                     ex2=None,\n",
    "                                                                     # mute='all',\n",
    "                                                                     ignore_unrecognized_res=ignore_unrecognized_res,\n",
    "                                                                     load_PDB_components=load_PDB_components,\n",
    "                                                                     ignore_waters=True)\n",
    "                                 )\n",
    "pyrosetta.rosetta.basic.options.set_boolean_option('run:ignore_zero_occupancy', False)\n",
    "pyrosetta.rosetta.basic.options.set_boolean_option('in:auto_setup_metals', True)"
   ]
  },
  {
   "cell_type": "code",
   "execution_count": 6,
   "id": "a9a88a12-0247-49ce-96b6-07e50d47ba5e",
   "metadata": {},
   "outputs": [],
   "source": [
    "pose = ph.parameterized_pose_from_file(pdb_filename='x0310_raw.pdb', wanted_ligands={'LIG': 'Cc1nn(C)c(C)c1NC(=O)CC#N'})"
   ]
  },
  {
   "cell_type": "code",
   "execution_count": 8,
   "id": "0f761b05-7e94-41f6-808a-19db2937bc73",
   "metadata": {},
   "outputs": [
    {
     "data": {
      "text/plain": [
       "True"
      ]
     },
     "execution_count": 8,
     "metadata": {},
     "output_type": "execute_result"
    }
   ],
   "source": [
    "def relax(original: pyrosetta.Pose,\n",
    "          constraint_weight: float=5,\n",
    "          cycles: int=15,\n",
    "          relax_to_start_coords:bool=True) -> pyrosetta.Pose:\n",
    "    pose: pyrosetta.Pose = original.clone()\n",
    "    # configure constraints\n",
    "    scorefxn: pr_scoring.ScoreFunction = pyrosetta.get_fa_scorefxn()\n",
    "    scorefxn.set_weight(pr_scoring.ScoreType.coordinate_constraint, constraint_weight)\n",
    "    scorefxn.set_weight(pr_scoring.ScoreType.angle_constraint, constraint_weight)\n",
    "    scorefxn.set_weight(pr_scoring.ScoreType.atom_pair_constraint, constraint_weight)\n",
    "    pyrosetta.rosetta.basic.options.set_boolean_option('relax:constrain_relax_to_start_coords', relax_to_start_coords)\n",
    "    pyrosetta.rosetta.basic.options.set_boolean_option('relax:coord_constrain_sidechains', relax_to_start_coords)\n",
    "    # set up the relax sampler\n",
    "    pyrosetta.rosetta.protocols.relax.FastRelax.register_options()\n",
    "    relax = pyrosetta.rosetta.protocols.relax.FastRelax(scorefxn, cycles)\n",
    "    relax.constrain_relax_to_start_coords(relax_to_start_coords)\n",
    "    relax.apply(pose)\n",
    "    return pose\n",
    "\n",
    "relax(pose)\n",
    "\n",
    "pose.dump_pdb('x0310_relaxed.pdb')"
   ]
  },
  {
   "cell_type": "code",
   "execution_count": null,
   "id": "7431c184-8aa1-44ac-b5c2-8b20eec62b9d",
   "metadata": {},
   "outputs": [],
   "source": []
  }
 ],
 "metadata": {
  "kernelspec": {
   "display_name": "Python [conda env:py310]",
   "language": "python",
   "name": "conda-env-py310-py"
  },
  "language_info": {
   "codemirror_mode": {
    "name": "ipython",
    "version": 3
   },
   "file_extension": ".py",
   "mimetype": "text/x-python",
   "name": "python",
   "nbconvert_exporter": "python",
   "pygments_lexer": "ipython3",
   "version": "3.10.10"
  }
 },
 "nbformat": 4,
 "nbformat_minor": 5
}
