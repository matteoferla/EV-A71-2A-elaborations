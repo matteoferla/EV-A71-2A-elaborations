{
 "cells": [
  {
   "cell_type": "code",
   "execution_count": 1,
   "id": "98be3288-c5f4-48ce-a79b-612687ddf6f9",
   "metadata": {},
   "outputs": [
    {
     "data": {
      "text/plain": [
       "Unnamed: 0                               0\n",
       "RealCrystalName              A71EV2A-x0451\n",
       "smiles             CNC(=O)c1cn(C)c2ccccc12\n",
       "new_smiles         CNC(=O)c1cn(C)c2ccccc12\n",
       "alternate_name                  Z100643660\n",
       "site_name                                1\n",
       "pdb_entry                              NaN\n",
       "SMILES             CNC(=O)c1cn(C)c2ccccc12\n",
       "notes                                     \n",
       "Name: A71EV2A-x0451_0A, dtype: object"
      ]
     },
     "execution_count": 1,
     "metadata": {},
     "output_type": "execute_result"
    }
   ],
   "source": [
    "import os\n",
    "from pathlib import Path\n",
    "import pymol2\n",
    "import chempy # from pymol installation\n",
    "from pathlib import Path\n",
    "from typing import List, Set, Dict, Tuple, Callable\n",
    "import json\n",
    "from rdkit.Chem import AllChem, Draw\n",
    "\n",
    "target_name = 'A71EV2A'\n",
    "root = Path(f'{target_name}')\n",
    "\n",
    "from rdkit import Chem\n",
    "from rdkit.Chem import PandasTools\n",
    "from rdkit.Chem.MolStandardize.rdMolStandardize import LargestFragmentChooser\n",
    "import pandas as pd\n",
    "import ipywidgets as wd\n",
    "\n",
    "\n",
    "metadata: pd.DataFrame = pd.read_csv(root / 'metadata.csv',\n",
    "                                     index_col=1)\n",
    "out = wd.Output()\n",
    "with out:  # suppress output the crappy way\n",
    "    metadata['SMILES'] = metadata.new_smiles.apply(Chem.MolFromSmiles).apply(LargestFragmentChooser(preferOrganic=True).choose).apply(Chem.MolToSmiles)\n",
    "metadata['notes'] = ''\n",
    "metadata = metadata.rename(columns={'new_smiles': 'provided_smiles'}).copy()\n",
    "metadata.iloc[0]"
   ]
  },
  {
   "cell_type": "code",
   "execution_count": 2,
   "id": "ddbeb99e-a41b-491a-9426-327c30e6c0cd",
   "metadata": {},
   "outputs": [],
   "source": [
    "combined_filename = root / (target_name + '_combined.sdf')\n",
    "assert combined_filename.exists()\n",
    "\n",
    "hits = []\n",
    "choose_organic: Callable[[Chem.Mol,], Chem.Mol] = LargestFragmentChooser(preferOrganic=True).choose\n",
    "with Chem.SDMolSupplier(combined_filename.as_posix()) as sdfh, out:\n",
    "    for hit in sdfh:\n",
    "        hits.append(choose_organic(hit))\n",
    "        \n",
    "assert len(hits) == len(metadata)\n",
    "\n",
    "hitdex: Dict[str, Chem.Mol] = {h.GetProp('_Name'): h for h in hits}"
   ]
  },
  {
   "cell_type": "code",
   "execution_count": 3,
   "id": "afb72c5c-318f-4c86-876b-88af6bea68fa",
   "metadata": {},
   "outputs": [],
   "source": [
    "# manually close cyclopropane ring in A71EV2A-x0473_0A\n",
    "\n",
    "import numpy as np\n",
    "\n",
    "mod = Chem.RWMol(hitdex['A71EV2A-x0473_0A'])\n",
    "mod.AddBond(5, 4, Chem.BondType.SINGLE)\n",
    "hitdex['A71EV2A-x0473_0A'] = mod.GetMol()\n",
    "conf = hitdex['A71EV2A-x0473_0A'].GetConformer()\n",
    "d = conf.GetAtomPosition(4).Distance(conf.GetAtomPosition(5))\n",
    "metadata.at['A71EV2A-x0473_0A', 'notes'] = f'Manually closed cyclopropane ring! {d}Å'"
   ]
  },
  {
   "cell_type": "code",
   "execution_count": 4,
   "id": "09692d7b-bb88-4729-9031-a0a598d9bc57",
   "metadata": {},
   "outputs": [
    {
     "name": "stderr",
     "output_type": "stream",
     "text": [
      "[10:22:52] WARNING: More than one matching pattern found - picking one\n",
      "\n"
     ]
    }
   ],
   "source": [
    "def get_fixed(row: pd.Series):\n",
    "    hit = hitdex[row.name]  # crystal name is index\n",
    "    ref = Chem.MolFromSmiles(row.SMILES)\n",
    "    #print(row.name)\n",
    "    return AllChem.AssignBondOrdersFromTemplate(ref, hit)\n",
    "\n",
    "metadata['crystal'] = metadata.apply(get_fixed, axis=1)"
   ]
  },
  {
   "cell_type": "markdown",
   "id": "336d1c72-2a25-4111-b9e0-d4546b3bc6dd",
   "metadata": {},
   "source": [
    "## RMSD"
   ]
  },
  {
   "cell_type": "code",
   "execution_count": 28,
   "id": "6a879033-5d34-4803-b1cc-c587e0d4fbdb",
   "metadata": {},
   "outputs": [],
   "source": [
    "first_name = sorted(hitdex.keys())[0]\n",
    "reference = root / 'aligned' / f'{first_name}' / f'{first_name}_bound.pdb'\n",
    "assert reference.exists(), f'{reference} missing?'\n",
    "\n",
    "import pymol2, re\n",
    "\n",
    "rmsds: Dict[str, float] = {}\n",
    "with pymol2.PyMOL() as pymol:\n",
    "    pymol.cmd.load(reference, 'reference')\n",
    "    for pdb in root.glob('**/*.pdb'):\n",
    "        pymol.cmd.load(pdb.as_posix(), 'temp')\n",
    "        rmsd = pymol.cmd.align('temp and chain A', 'reference')[0]\n",
    "        pymol.cmd.delete('temp')\n",
    "        name = pdb.parts[-1].replace(target_name + '_', '').replace('_bound.pdb', '')\n",
    "        rmsds[name] = rmsd\n",
    "        \n",
    "metadata[f'RMSD_{first_name}'] = pd.Series(rmsds)"
   ]
  },
  {
   "cell_type": "code",
   "execution_count": 31,
   "id": "1d26ec38-0854-4acb-8ae0-43531b30566a",
   "metadata": {},
   "outputs": [],
   "source": [
    "first_name = [k for k in hitdex.keys() if 'x0395_1A' in k][0]\n",
    "reference = root / 'aligned' / f'{first_name}' / f'{first_name}_bound.pdb'\n",
    "assert reference.exists(), f'{reference} missing?'\n",
    "\n",
    "import pymol2, re\n",
    "\n",
    "rmsds: Dict[str, float] = {}\n",
    "with pymol2.PyMOL() as pymol:\n",
    "    pymol.cmd.load(reference, 'reference')\n",
    "    for pdb in root.glob('**/*.pdb'):\n",
    "        pymol.cmd.load(pdb.as_posix(), 'temp')\n",
    "        rmsd = pymol.cmd.align('temp and chain A', 'reference')[0]\n",
    "        pymol.cmd.delete('temp')\n",
    "        name = pdb.parts[-1].replace(target_name + '_', '').replace('_bound.pdb', '')\n",
    "        rmsds[name] = rmsd\n",
    "        \n",
    "metadata[f'RMSD_{first_name}'] = pd.Series(rmsds)"
   ]
  },
  {
   "cell_type": "code",
   "execution_count": 34,
   "id": "f1fda952-1dee-4ac7-b603-4abaefa69671",
   "metadata": {},
   "outputs": [
    {
     "data": {
      "application/vnd.plotly.v1+json": {
       "config": {
        "plotlyServerURL": "https://plot.ly"
       },
       "data": [
        {
         "alignmentgroup": "True",
         "bingroup": "x",
         "hovertemplate": "RMSD_A71EV2A-x0395_1A=%{x}<br>count=%{y}<extra></extra>",
         "legendgroup": "",
         "marker": {
          "color": "#636efa",
          "pattern": {
           "shape": ""
          }
         },
         "name": "",
         "offsetgroup": "",
         "orientation": "v",
         "showlegend": false,
         "type": "histogram",
         "x": [
          0.3824249804019928,
          0.28836604952812195,
          0.25488758087158203,
          0.2728329002857208,
          0.2587662935256958,
          0.258638858795166,
          0.31693035364151,
          0.2910822927951813,
          0.269281804561615,
          0.20725613832473755,
          0.20725613832473755,
          0.20725613832473755,
          0.28782060742378235,
          0.23077990114688873,
          0.3295607566833496,
          0.1966787725687027,
          0.1966787725687027,
          0.2816965579986572,
          0.2816965579986572,
          0.3023933172225952,
          0.3295207917690277,
          0.2599998712539673,
          0.3205550014972687,
          0.33800363540649414,
          0.33800363540649414,
          0.3264286518096924,
          0.31548190116882324,
          0.31548190116882324,
          0.28244125843048096,
          0.2718803882598877,
          0.2853400707244873,
          0.2853400707244873,
          0.2853400707244873,
          0.2603136897087097,
          0.27051031589508057,
          0.27051031589508057,
          0.2677432596683502,
          0.2843785285949707,
          0.2124411165714264,
          0.2124411165714264,
          0.2986772060394287,
          0.2837795913219452,
          0.3419654965400696,
          0,
          0,
          0.28575754165649414,
          0.2736288905143738,
          0.29945433139801025,
          0.27627134323120117
         ],
         "xaxis": "x",
         "yaxis": "y"
        }
       ],
       "layout": {
        "autosize": true,
        "barmode": "relative",
        "legend": {
         "tracegroupgap": 0
        },
        "template": {
         "data": {
          "bar": [
           {
            "error_x": {
             "color": "#2a3f5f"
            },
            "error_y": {
             "color": "#2a3f5f"
            },
            "marker": {
             "line": {
              "color": "#E5ECF6",
              "width": 0.5
             },
             "pattern": {
              "fillmode": "overlay",
              "size": 10,
              "solidity": 0.2
             }
            },
            "type": "bar"
           }
          ],
          "barpolar": [
           {
            "marker": {
             "line": {
              "color": "#E5ECF6",
              "width": 0.5
             },
             "pattern": {
              "fillmode": "overlay",
              "size": 10,
              "solidity": 0.2
             }
            },
            "type": "barpolar"
           }
          ],
          "carpet": [
           {
            "aaxis": {
             "endlinecolor": "#2a3f5f",
             "gridcolor": "white",
             "linecolor": "white",
             "minorgridcolor": "white",
             "startlinecolor": "#2a3f5f"
            },
            "baxis": {
             "endlinecolor": "#2a3f5f",
             "gridcolor": "white",
             "linecolor": "white",
             "minorgridcolor": "white",
             "startlinecolor": "#2a3f5f"
            },
            "type": "carpet"
           }
          ],
          "choropleth": [
           {
            "colorbar": {
             "outlinewidth": 0,
             "ticks": ""
            },
            "type": "choropleth"
           }
          ],
          "contour": [
           {
            "colorbar": {
             "outlinewidth": 0,
             "ticks": ""
            },
            "colorscale": [
             [
              0,
              "#0d0887"
             ],
             [
              0.1111111111111111,
              "#46039f"
             ],
             [
              0.2222222222222222,
              "#7201a8"
             ],
             [
              0.3333333333333333,
              "#9c179e"
             ],
             [
              0.4444444444444444,
              "#bd3786"
             ],
             [
              0.5555555555555556,
              "#d8576b"
             ],
             [
              0.6666666666666666,
              "#ed7953"
             ],
             [
              0.7777777777777778,
              "#fb9f3a"
             ],
             [
              0.8888888888888888,
              "#fdca26"
             ],
             [
              1,
              "#f0f921"
             ]
            ],
            "type": "contour"
           }
          ],
          "contourcarpet": [
           {
            "colorbar": {
             "outlinewidth": 0,
             "ticks": ""
            },
            "type": "contourcarpet"
           }
          ],
          "heatmap": [
           {
            "colorbar": {
             "outlinewidth": 0,
             "ticks": ""
            },
            "colorscale": [
             [
              0,
              "#0d0887"
             ],
             [
              0.1111111111111111,
              "#46039f"
             ],
             [
              0.2222222222222222,
              "#7201a8"
             ],
             [
              0.3333333333333333,
              "#9c179e"
             ],
             [
              0.4444444444444444,
              "#bd3786"
             ],
             [
              0.5555555555555556,
              "#d8576b"
             ],
             [
              0.6666666666666666,
              "#ed7953"
             ],
             [
              0.7777777777777778,
              "#fb9f3a"
             ],
             [
              0.8888888888888888,
              "#fdca26"
             ],
             [
              1,
              "#f0f921"
             ]
            ],
            "type": "heatmap"
           }
          ],
          "heatmapgl": [
           {
            "colorbar": {
             "outlinewidth": 0,
             "ticks": ""
            },
            "colorscale": [
             [
              0,
              "#0d0887"
             ],
             [
              0.1111111111111111,
              "#46039f"
             ],
             [
              0.2222222222222222,
              "#7201a8"
             ],
             [
              0.3333333333333333,
              "#9c179e"
             ],
             [
              0.4444444444444444,
              "#bd3786"
             ],
             [
              0.5555555555555556,
              "#d8576b"
             ],
             [
              0.6666666666666666,
              "#ed7953"
             ],
             [
              0.7777777777777778,
              "#fb9f3a"
             ],
             [
              0.8888888888888888,
              "#fdca26"
             ],
             [
              1,
              "#f0f921"
             ]
            ],
            "type": "heatmapgl"
           }
          ],
          "histogram": [
           {
            "marker": {
             "pattern": {
              "fillmode": "overlay",
              "size": 10,
              "solidity": 0.2
             }
            },
            "type": "histogram"
           }
          ],
          "histogram2d": [
           {
            "colorbar": {
             "outlinewidth": 0,
             "ticks": ""
            },
            "colorscale": [
             [
              0,
              "#0d0887"
             ],
             [
              0.1111111111111111,
              "#46039f"
             ],
             [
              0.2222222222222222,
              "#7201a8"
             ],
             [
              0.3333333333333333,
              "#9c179e"
             ],
             [
              0.4444444444444444,
              "#bd3786"
             ],
             [
              0.5555555555555556,
              "#d8576b"
             ],
             [
              0.6666666666666666,
              "#ed7953"
             ],
             [
              0.7777777777777778,
              "#fb9f3a"
             ],
             [
              0.8888888888888888,
              "#fdca26"
             ],
             [
              1,
              "#f0f921"
             ]
            ],
            "type": "histogram2d"
           }
          ],
          "histogram2dcontour": [
           {
            "colorbar": {
             "outlinewidth": 0,
             "ticks": ""
            },
            "colorscale": [
             [
              0,
              "#0d0887"
             ],
             [
              0.1111111111111111,
              "#46039f"
             ],
             [
              0.2222222222222222,
              "#7201a8"
             ],
             [
              0.3333333333333333,
              "#9c179e"
             ],
             [
              0.4444444444444444,
              "#bd3786"
             ],
             [
              0.5555555555555556,
              "#d8576b"
             ],
             [
              0.6666666666666666,
              "#ed7953"
             ],
             [
              0.7777777777777778,
              "#fb9f3a"
             ],
             [
              0.8888888888888888,
              "#fdca26"
             ],
             [
              1,
              "#f0f921"
             ]
            ],
            "type": "histogram2dcontour"
           }
          ],
          "mesh3d": [
           {
            "colorbar": {
             "outlinewidth": 0,
             "ticks": ""
            },
            "type": "mesh3d"
           }
          ],
          "parcoords": [
           {
            "line": {
             "colorbar": {
              "outlinewidth": 0,
              "ticks": ""
             }
            },
            "type": "parcoords"
           }
          ],
          "pie": [
           {
            "automargin": true,
            "type": "pie"
           }
          ],
          "scatter": [
           {
            "fillpattern": {
             "fillmode": "overlay",
             "size": 10,
             "solidity": 0.2
            },
            "type": "scatter"
           }
          ],
          "scatter3d": [
           {
            "line": {
             "colorbar": {
              "outlinewidth": 0,
              "ticks": ""
             }
            },
            "marker": {
             "colorbar": {
              "outlinewidth": 0,
              "ticks": ""
             }
            },
            "type": "scatter3d"
           }
          ],
          "scattercarpet": [
           {
            "marker": {
             "colorbar": {
              "outlinewidth": 0,
              "ticks": ""
             }
            },
            "type": "scattercarpet"
           }
          ],
          "scattergeo": [
           {
            "marker": {
             "colorbar": {
              "outlinewidth": 0,
              "ticks": ""
             }
            },
            "type": "scattergeo"
           }
          ],
          "scattergl": [
           {
            "marker": {
             "colorbar": {
              "outlinewidth": 0,
              "ticks": ""
             }
            },
            "type": "scattergl"
           }
          ],
          "scattermapbox": [
           {
            "marker": {
             "colorbar": {
              "outlinewidth": 0,
              "ticks": ""
             }
            },
            "type": "scattermapbox"
           }
          ],
          "scatterpolar": [
           {
            "marker": {
             "colorbar": {
              "outlinewidth": 0,
              "ticks": ""
             }
            },
            "type": "scatterpolar"
           }
          ],
          "scatterpolargl": [
           {
            "marker": {
             "colorbar": {
              "outlinewidth": 0,
              "ticks": ""
             }
            },
            "type": "scatterpolargl"
           }
          ],
          "scatterternary": [
           {
            "marker": {
             "colorbar": {
              "outlinewidth": 0,
              "ticks": ""
             }
            },
            "type": "scatterternary"
           }
          ],
          "surface": [
           {
            "colorbar": {
             "outlinewidth": 0,
             "ticks": ""
            },
            "colorscale": [
             [
              0,
              "#0d0887"
             ],
             [
              0.1111111111111111,
              "#46039f"
             ],
             [
              0.2222222222222222,
              "#7201a8"
             ],
             [
              0.3333333333333333,
              "#9c179e"
             ],
             [
              0.4444444444444444,
              "#bd3786"
             ],
             [
              0.5555555555555556,
              "#d8576b"
             ],
             [
              0.6666666666666666,
              "#ed7953"
             ],
             [
              0.7777777777777778,
              "#fb9f3a"
             ],
             [
              0.8888888888888888,
              "#fdca26"
             ],
             [
              1,
              "#f0f921"
             ]
            ],
            "type": "surface"
           }
          ],
          "table": [
           {
            "cells": {
             "fill": {
              "color": "#EBF0F8"
             },
             "line": {
              "color": "white"
             }
            },
            "header": {
             "fill": {
              "color": "#C8D4E3"
             },
             "line": {
              "color": "white"
             }
            },
            "type": "table"
           }
          ]
         },
         "layout": {
          "annotationdefaults": {
           "arrowcolor": "#2a3f5f",
           "arrowhead": 0,
           "arrowwidth": 1
          },
          "autotypenumbers": "strict",
          "coloraxis": {
           "colorbar": {
            "outlinewidth": 0,
            "ticks": ""
           }
          },
          "colorscale": {
           "diverging": [
            [
             0,
             "#8e0152"
            ],
            [
             0.1,
             "#c51b7d"
            ],
            [
             0.2,
             "#de77ae"
            ],
            [
             0.3,
             "#f1b6da"
            ],
            [
             0.4,
             "#fde0ef"
            ],
            [
             0.5,
             "#f7f7f7"
            ],
            [
             0.6,
             "#e6f5d0"
            ],
            [
             0.7,
             "#b8e186"
            ],
            [
             0.8,
             "#7fbc41"
            ],
            [
             0.9,
             "#4d9221"
            ],
            [
             1,
             "#276419"
            ]
           ],
           "sequential": [
            [
             0,
             "#0d0887"
            ],
            [
             0.1111111111111111,
             "#46039f"
            ],
            [
             0.2222222222222222,
             "#7201a8"
            ],
            [
             0.3333333333333333,
             "#9c179e"
            ],
            [
             0.4444444444444444,
             "#bd3786"
            ],
            [
             0.5555555555555556,
             "#d8576b"
            ],
            [
             0.6666666666666666,
             "#ed7953"
            ],
            [
             0.7777777777777778,
             "#fb9f3a"
            ],
            [
             0.8888888888888888,
             "#fdca26"
            ],
            [
             1,
             "#f0f921"
            ]
           ],
           "sequentialminus": [
            [
             0,
             "#0d0887"
            ],
            [
             0.1111111111111111,
             "#46039f"
            ],
            [
             0.2222222222222222,
             "#7201a8"
            ],
            [
             0.3333333333333333,
             "#9c179e"
            ],
            [
             0.4444444444444444,
             "#bd3786"
            ],
            [
             0.5555555555555556,
             "#d8576b"
            ],
            [
             0.6666666666666666,
             "#ed7953"
            ],
            [
             0.7777777777777778,
             "#fb9f3a"
            ],
            [
             0.8888888888888888,
             "#fdca26"
            ],
            [
             1,
             "#f0f921"
            ]
           ]
          },
          "colorway": [
           "#636efa",
           "#EF553B",
           "#00cc96",
           "#ab63fa",
           "#FFA15A",
           "#19d3f3",
           "#FF6692",
           "#B6E880",
           "#FF97FF",
           "#FECB52"
          ],
          "font": {
           "color": "#2a3f5f"
          },
          "geo": {
           "bgcolor": "white",
           "lakecolor": "white",
           "landcolor": "#E5ECF6",
           "showlakes": true,
           "showland": true,
           "subunitcolor": "white"
          },
          "hoverlabel": {
           "align": "left"
          },
          "hovermode": "closest",
          "mapbox": {
           "style": "light"
          },
          "paper_bgcolor": "white",
          "plot_bgcolor": "#E5ECF6",
          "polar": {
           "angularaxis": {
            "gridcolor": "white",
            "linecolor": "white",
            "ticks": ""
           },
           "bgcolor": "#E5ECF6",
           "radialaxis": {
            "gridcolor": "white",
            "linecolor": "white",
            "ticks": ""
           }
          },
          "scene": {
           "xaxis": {
            "backgroundcolor": "#E5ECF6",
            "gridcolor": "white",
            "gridwidth": 2,
            "linecolor": "white",
            "showbackground": true,
            "ticks": "",
            "zerolinecolor": "white"
           },
           "yaxis": {
            "backgroundcolor": "#E5ECF6",
            "gridcolor": "white",
            "gridwidth": 2,
            "linecolor": "white",
            "showbackground": true,
            "ticks": "",
            "zerolinecolor": "white"
           },
           "zaxis": {
            "backgroundcolor": "#E5ECF6",
            "gridcolor": "white",
            "gridwidth": 2,
            "linecolor": "white",
            "showbackground": true,
            "ticks": "",
            "zerolinecolor": "white"
           }
          },
          "shapedefaults": {
           "line": {
            "color": "#2a3f5f"
           }
          },
          "ternary": {
           "aaxis": {
            "gridcolor": "white",
            "linecolor": "white",
            "ticks": ""
           },
           "baxis": {
            "gridcolor": "white",
            "linecolor": "white",
            "ticks": ""
           },
           "bgcolor": "#E5ECF6",
           "caxis": {
            "gridcolor": "white",
            "linecolor": "white",
            "ticks": ""
           }
          },
          "title": {
           "x": 0.05
          },
          "xaxis": {
           "automargin": true,
           "gridcolor": "white",
           "linecolor": "white",
           "ticks": "",
           "title": {
            "standoff": 15
           },
           "zerolinecolor": "white",
           "zerolinewidth": 2
          },
          "yaxis": {
           "automargin": true,
           "gridcolor": "white",
           "linecolor": "white",
           "ticks": "",
           "title": {
            "standoff": 15
           },
           "zerolinecolor": "white",
           "zerolinewidth": 2
          }
         }
        },
        "title": {
         "text": "Global RMSD between each structure vs A71EV2A-x0395_1A"
        },
        "xaxis": {
         "anchor": "y",
         "autorange": true,
         "domain": [
          0,
          1
         ],
         "range": [
          -0.024999999999999967,
          0.425
         ],
         "title": {
          "text": "RMSD_A71EV2A-x0395_1A"
         },
         "type": "linear"
        },
        "yaxis": {
         "anchor": "x",
         "autorange": true,
         "domain": [
          0,
          1
         ],
         "range": [
          0,
          21.05263157894737
         ],
         "title": {
          "text": "count"
         }
        }
       }
      },
      "image/png": "[encoded data removed]",
      "text/html": [
       "<div>                            <div id=\"fa6e8db6-5357-4619-8fa4-496ce7783c5a\" class=\"plotly-graph-div\" style=\"height:525px; width:100%;\"></div>            <script type=\"text/javascript\">                require([\"plotly\"], function(Plotly) {                    window.PLOTLYENV=window.PLOTLYENV || {};                                    if (document.getElementById(\"fa6e8db6-5357-4619-8fa4-496ce7783c5a\")) {                    Plotly.newPlot(                        \"fa6e8db6-5357-4619-8fa4-496ce7783c5a\",                        [{\"alignmentgroup\":\"True\",\"bingroup\":\"x\",\"hovertemplate\":\"RMSD_A71EV2A-x0395_1A=%{x}\\u003cbr\\u003ecount=%{y}\\u003cextra\\u003e\\u003c\\u002fextra\\u003e\",\"legendgroup\":\"\",\"marker\":{\"color\":\"#636efa\",\"pattern\":{\"shape\":\"\"}},\"name\":\"\",\"offsetgroup\":\"\",\"orientation\":\"v\",\"showlegend\":false,\"x\":[0.3824249804019928,0.28836604952812195,0.25488758087158203,0.2728329002857208,0.2587662935256958,0.258638858795166,0.31693035364151,0.2910822927951813,0.269281804561615,0.20725613832473755,0.20725613832473755,0.20725613832473755,0.28782060742378235,0.23077990114688873,0.3295607566833496,0.1966787725687027,0.1966787725687027,0.2816965579986572,0.2816965579986572,0.3023933172225952,0.3295207917690277,0.2599998712539673,0.3205550014972687,0.33800363540649414,0.33800363540649414,0.3264286518096924,0.31548190116882324,0.31548190116882324,0.28244125843048096,0.2718803882598877,0.2853400707244873,0.2853400707244873,0.2853400707244873,0.2603136897087097,0.27051031589508057,0.27051031589508057,0.2677432596683502,0.2843785285949707,0.2124411165714264,0.2124411165714264,0.2986772060394287,0.2837795913219452,0.3419654965400696,0.0,0.0,0.28575754165649414,0.2736288905143738,0.29945433139801025,0.27627134323120117],\"xaxis\":\"x\",\"yaxis\":\"y\",\"type\":\"histogram\"}],                        {\"template\":{\"data\":{\"histogram2dcontour\":[{\"type\":\"histogram2dcontour\",\"colorbar\":{\"outlinewidth\":0,\"ticks\":\"\"},\"colorscale\":[[0.0,\"#0d0887\"],[0.1111111111111111,\"#46039f\"],[0.2222222222222222,\"#7201a8\"],[0.3333333333333333,\"#9c179e\"],[0.4444444444444444,\"#bd3786\"],[0.5555555555555556,\"#d8576b\"],[0.6666666666666666,\"#ed7953\"],[0.7777777777777778,\"#fb9f3a\"],[0.8888888888888888,\"#fdca26\"],[1.0,\"#f0f921\"]]}],\"choropleth\":[{\"type\":\"choropleth\",\"colorbar\":{\"outlinewidth\":0,\"ticks\":\"\"}}],\"histogram2d\":[{\"type\":\"histogram2d\",\"colorbar\":{\"outlinewidth\":0,\"ticks\":\"\"},\"colorscale\":[[0.0,\"#0d0887\"],[0.1111111111111111,\"#46039f\"],[0.2222222222222222,\"#7201a8\"],[0.3333333333333333,\"#9c179e\"],[0.4444444444444444,\"#bd3786\"],[0.5555555555555556,\"#d8576b\"],[0.6666666666666666,\"#ed7953\"],[0.7777777777777778,\"#fb9f3a\"],[0.8888888888888888,\"#fdca26\"],[1.0,\"#f0f921\"]]}],\"heatmap\":[{\"type\":\"heatmap\",\"colorbar\":{\"outlinewidth\":0,\"ticks\":\"\"},\"colorscale\":[[0.0,\"#0d0887\"],[0.1111111111111111,\"#46039f\"],[0.2222222222222222,\"#7201a8\"],[0.3333333333333333,\"#9c179e\"],[0.4444444444444444,\"#bd3786\"],[0.5555555555555556,\"#d8576b\"],[0.6666666666666666,\"#ed7953\"],[0.7777777777777778,\"#fb9f3a\"],[0.8888888888888888,\"#fdca26\"],[1.0,\"#f0f921\"]]}],\"heatmapgl\":[{\"type\":\"heatmapgl\",\"colorbar\":{\"outlinewidth\":0,\"ticks\":\"\"},\"colorscale\":[[0.0,\"#0d0887\"],[0.1111111111111111,\"#46039f\"],[0.2222222222222222,\"#7201a8\"],[0.3333333333333333,\"#9c179e\"],[0.4444444444444444,\"#bd3786\"],[0.5555555555555556,\"#d8576b\"],[0.6666666666666666,\"#ed7953\"],[0.7777777777777778,\"#fb9f3a\"],[0.8888888888888888,\"#fdca26\"],[1.0,\"#f0f921\"]]}],\"contourcarpet\":[{\"type\":\"contourcarpet\",\"colorbar\":{\"outlinewidth\":0,\"ticks\":\"\"}}],\"contour\":[{\"type\":\"contour\",\"colorbar\":{\"outlinewidth\":0,\"ticks\":\"\"},\"colorscale\":[[0.0,\"#0d0887\"],[0.1111111111111111,\"#46039f\"],[0.2222222222222222,\"#7201a8\"],[0.3333333333333333,\"#9c179e\"],[0.4444444444444444,\"#bd3786\"],[0.5555555555555556,\"#d8576b\"],[0.6666666666666666,\"#ed7953\"],[0.7777777777777778,\"#fb9f3a\"],[0.8888888888888888,\"#fdca26\"],[1.0,\"#f0f921\"]]}],\"surface\":[{\"type\":\"surface\",\"colorbar\":{\"outlinewidth\":0,\"ticks\":\"\"},\"colorscale\":[[0.0,\"#0d0887\"],[0.1111111111111111,\"#46039f\"],[0.2222222222222222,\"#7201a8\"],[0.3333333333333333,\"#9c179e\"],[0.4444444444444444,\"#bd3786\"],[0.5555555555555556,\"#d8576b\"],[0.6666666666666666,\"#ed7953\"],[0.7777777777777778,\"#fb9f3a\"],[0.8888888888888888,\"#fdca26\"],[1.0,\"#f0f921\"]]}],\"mesh3d\":[{\"type\":\"mesh3d\",\"colorbar\":{\"outlinewidth\":0,\"ticks\":\"\"}}],\"scatter\":[{\"fillpattern\":{\"fillmode\":\"overlay\",\"size\":10,\"solidity\":0.2},\"type\":\"scatter\"}],\"parcoords\":[{\"type\":\"parcoords\",\"line\":{\"colorbar\":{\"outlinewidth\":0,\"ticks\":\"\"}}}],\"scatterpolargl\":[{\"type\":\"scatterpolargl\",\"marker\":{\"colorbar\":{\"outlinewidth\":0,\"ticks\":\"\"}}}],\"bar\":[{\"error_x\":{\"color\":\"#2a3f5f\"},\"error_y\":{\"color\":\"#2a3f5f\"},\"marker\":{\"line\":{\"color\":\"#E5ECF6\",\"width\":0.5},\"pattern\":{\"fillmode\":\"overlay\",\"size\":10,\"solidity\":0.2}},\"type\":\"bar\"}],\"scattergeo\":[{\"type\":\"scattergeo\",\"marker\":{\"colorbar\":{\"outlinewidth\":0,\"ticks\":\"\"}}}],\"scatterpolar\":[{\"type\":\"scatterpolar\",\"marker\":{\"colorbar\":{\"outlinewidth\":0,\"ticks\":\"\"}}}],\"histogram\":[{\"marker\":{\"pattern\":{\"fillmode\":\"overlay\",\"size\":10,\"solidity\":0.2}},\"type\":\"histogram\"}],\"scattergl\":[{\"type\":\"scattergl\",\"marker\":{\"colorbar\":{\"outlinewidth\":0,\"ticks\":\"\"}}}],\"scatter3d\":[{\"type\":\"scatter3d\",\"line\":{\"colorbar\":{\"outlinewidth\":0,\"ticks\":\"\"}},\"marker\":{\"colorbar\":{\"outlinewidth\":0,\"ticks\":\"\"}}}],\"scattermapbox\":[{\"type\":\"scattermapbox\",\"marker\":{\"colorbar\":{\"outlinewidth\":0,\"ticks\":\"\"}}}],\"scatterternary\":[{\"type\":\"scatterternary\",\"marker\":{\"colorbar\":{\"outlinewidth\":0,\"ticks\":\"\"}}}],\"scattercarpet\":[{\"type\":\"scattercarpet\",\"marker\":{\"colorbar\":{\"outlinewidth\":0,\"ticks\":\"\"}}}],\"carpet\":[{\"aaxis\":{\"endlinecolor\":\"#2a3f5f\",\"gridcolor\":\"white\",\"linecolor\":\"white\",\"minorgridcolor\":\"white\",\"startlinecolor\":\"#2a3f5f\"},\"baxis\":{\"endlinecolor\":\"#2a3f5f\",\"gridcolor\":\"white\",\"linecolor\":\"white\",\"minorgridcolor\":\"white\",\"startlinecolor\":\"#2a3f5f\"},\"type\":\"carpet\"}],\"table\":[{\"cells\":{\"fill\":{\"color\":\"#EBF0F8\"},\"line\":{\"color\":\"white\"}},\"header\":{\"fill\":{\"color\":\"#C8D4E3\"},\"line\":{\"color\":\"white\"}},\"type\":\"table\"}],\"barpolar\":[{\"marker\":{\"line\":{\"color\":\"#E5ECF6\",\"width\":0.5},\"pattern\":{\"fillmode\":\"overlay\",\"size\":10,\"solidity\":0.2}},\"type\":\"barpolar\"}],\"pie\":[{\"automargin\":true,\"type\":\"pie\"}]},\"layout\":{\"autotypenumbers\":\"strict\",\"colorway\":[\"#636efa\",\"#EF553B\",\"#00cc96\",\"#ab63fa\",\"#FFA15A\",\"#19d3f3\",\"#FF6692\",\"#B6E880\",\"#FF97FF\",\"#FECB52\"],\"font\":{\"color\":\"#2a3f5f\"},\"hovermode\":\"closest\",\"hoverlabel\":{\"align\":\"left\"},\"paper_bgcolor\":\"white\",\"plot_bgcolor\":\"#E5ECF6\",\"polar\":{\"bgcolor\":\"#E5ECF6\",\"angularaxis\":{\"gridcolor\":\"white\",\"linecolor\":\"white\",\"ticks\":\"\"},\"radialaxis\":{\"gridcolor\":\"white\",\"linecolor\":\"white\",\"ticks\":\"\"}},\"ternary\":{\"bgcolor\":\"#E5ECF6\",\"aaxis\":{\"gridcolor\":\"white\",\"linecolor\":\"white\",\"ticks\":\"\"},\"baxis\":{\"gridcolor\":\"white\",\"linecolor\":\"white\",\"ticks\":\"\"},\"caxis\":{\"gridcolor\":\"white\",\"linecolor\":\"white\",\"ticks\":\"\"}},\"coloraxis\":{\"colorbar\":{\"outlinewidth\":0,\"ticks\":\"\"}},\"colorscale\":{\"sequential\":[[0.0,\"#0d0887\"],[0.1111111111111111,\"#46039f\"],[0.2222222222222222,\"#7201a8\"],[0.3333333333333333,\"#9c179e\"],[0.4444444444444444,\"#bd3786\"],[0.5555555555555556,\"#d8576b\"],[0.6666666666666666,\"#ed7953\"],[0.7777777777777778,\"#fb9f3a\"],[0.8888888888888888,\"#fdca26\"],[1.0,\"#f0f921\"]],\"sequentialminus\":[[0.0,\"#0d0887\"],[0.1111111111111111,\"#46039f\"],[0.2222222222222222,\"#7201a8\"],[0.3333333333333333,\"#9c179e\"],[0.4444444444444444,\"#bd3786\"],[0.5555555555555556,\"#d8576b\"],[0.6666666666666666,\"#ed7953\"],[0.7777777777777778,\"#fb9f3a\"],[0.8888888888888888,\"#fdca26\"],[1.0,\"#f0f921\"]],\"diverging\":[[0,\"#8e0152\"],[0.1,\"#c51b7d\"],[0.2,\"#de77ae\"],[0.3,\"#f1b6da\"],[0.4,\"#fde0ef\"],[0.5,\"#f7f7f7\"],[0.6,\"#e6f5d0\"],[0.7,\"#b8e186\"],[0.8,\"#7fbc41\"],[0.9,\"#4d9221\"],[1,\"#276419\"]]},\"xaxis\":{\"gridcolor\":\"white\",\"linecolor\":\"white\",\"ticks\":\"\",\"title\":{\"standoff\":15},\"zerolinecolor\":\"white\",\"automargin\":true,\"zerolinewidth\":2},\"yaxis\":{\"gridcolor\":\"white\",\"linecolor\":\"white\",\"ticks\":\"\",\"title\":{\"standoff\":15},\"zerolinecolor\":\"white\",\"automargin\":true,\"zerolinewidth\":2},\"scene\":{\"xaxis\":{\"backgroundcolor\":\"#E5ECF6\",\"gridcolor\":\"white\",\"linecolor\":\"white\",\"showbackground\":true,\"ticks\":\"\",\"zerolinecolor\":\"white\",\"gridwidth\":2},\"yaxis\":{\"backgroundcolor\":\"#E5ECF6\",\"gridcolor\":\"white\",\"linecolor\":\"white\",\"showbackground\":true,\"ticks\":\"\",\"zerolinecolor\":\"white\",\"gridwidth\":2},\"zaxis\":{\"backgroundcolor\":\"#E5ECF6\",\"gridcolor\":\"white\",\"linecolor\":\"white\",\"showbackground\":true,\"ticks\":\"\",\"zerolinecolor\":\"white\",\"gridwidth\":2}},\"shapedefaults\":{\"line\":{\"color\":\"#2a3f5f\"}},\"annotationdefaults\":{\"arrowcolor\":\"#2a3f5f\",\"arrowhead\":0,\"arrowwidth\":1},\"geo\":{\"bgcolor\":\"white\",\"landcolor\":\"#E5ECF6\",\"subunitcolor\":\"white\",\"showland\":true,\"showlakes\":true,\"lakecolor\":\"white\"},\"title\":{\"x\":0.05},\"mapbox\":{\"style\":\"light\"}}},\"xaxis\":{\"anchor\":\"y\",\"domain\":[0.0,1.0],\"title\":{\"text\":\"RMSD_A71EV2A-x0395_1A\"}},\"yaxis\":{\"anchor\":\"x\",\"domain\":[0.0,1.0],\"title\":{\"text\":\"count\"}},\"legend\":{\"tracegroupgap\":0},\"title\":{\"text\":\"Global RMSD between each structure vs A71EV2A-x0395_1A\"},\"barmode\":\"relative\"},                        {\"responsive\": true}                    ).then(function(){\n",
       "                            \n",
       "var gd = document.getElementById('fa6e8db6-5357-4619-8fa4-496ce7783c5a');\n",
       "var x = new MutationObserver(function (mutations, observer) {{\n",
       "        var display = window.getComputedStyle(gd).display;\n",
       "        if (!display || display === 'none') {{\n",
       "            console.log([gd, 'removed!']);\n",
       "            Plotly.purge(gd);\n",
       "            observer.disconnect();\n",
       "        }}\n",
       "}});\n",
       "\n",
       "// Listen for the removal of the full notebook cells\n",
       "var notebookContainer = gd.closest('#notebook-container');\n",
       "if (notebookContainer) {{\n",
       "    x.observe(notebookContainer, {childList: true});\n",
       "}}\n",
       "\n",
       "// Listen for the clearing of the current output cell\n",
       "var outputEl = gd.closest('.output');\n",
       "if (outputEl) {{\n",
       "    x.observe(outputEl, {childList: true});\n",
       "}}\n",
       "\n",
       "                        })                };                });            </script>        </div>"
      ]
     },
     "metadata": {},
     "output_type": "display_data"
    }
   ],
   "source": [
    "import plotly.express as px\n",
    "\n",
    "px.histogram(metadata, 'RMSD_A71EV2A-x0395_1A', title=f'Global RMSD between each structure vs {first_name}')"
   ]
  },
  {
   "cell_type": "code",
   "execution_count": 35,
   "id": "f02d7aa7-3f1e-4d2e-bd32-d6abe9923018",
   "metadata": {},
   "outputs": [
    {
     "data": {
      "application/vnd.plotly.v1+json": {
       "config": {
        "plotlyServerURL": "https://plot.ly"
       },
       "data": [
        {
         "hovertemplate": "RMSD_A71EV2A-x0395_1A=%{x}<br>RMSD_A71EV2A-x0152_0A=%{y}<extra></extra>",
         "legendgroup": "",
         "marker": {
          "color": "#636efa",
          "symbol": "circle"
         },
         "mode": "markers",
         "name": "",
         "orientation": "v",
         "showlegend": false,
         "type": "scatter",
         "x": [
          0.3824249804019928,
          0.28836604952812195,
          0.25488758087158203,
          0.2728329002857208,
          0.2587662935256958,
          0.258638858795166,
          0.31693035364151,
          0.2910822927951813,
          0.269281804561615,
          0.20725613832473755,
          0.20725613832473755,
          0.20725613832473755,
          0.28782060742378235,
          0.23077990114688873,
          0.3295607566833496,
          0.1966787725687027,
          0.1966787725687027,
          0.2816965579986572,
          0.2816965579986572,
          0.3023933172225952,
          0.3295207917690277,
          0.2599998712539673,
          0.3205550014972687,
          0.33800363540649414,
          0.33800363540649414,
          0.3264286518096924,
          0.31548190116882324,
          0.31548190116882324,
          0.28244125843048096,
          0.2718803882598877,
          0.2853400707244873,
          0.2853400707244873,
          0.2853400707244873,
          0.2603136897087097,
          0.27051031589508057,
          0.27051031589508057,
          0.2677432596683502,
          0.2843785285949707,
          0.2124411165714264,
          0.2124411165714264,
          0.2986772060394287,
          0.2837795913219452,
          0.3419654965400696,
          0,
          0,
          0.28575754165649414,
          0.2736288905143738,
          0.29945433139801025,
          0.27627134323120117
         ],
         "xaxis": "x",
         "y": [
          0.1949559897184372,
          0.10501725226640701,
          0.13820204138755798,
          0.10875578969717026,
          0.1081334576010704,
          0.10909043252468109,
          0.11233418434858322,
          0.10097194463014603,
          0.10806386172771454,
          0.23604443669319153,
          0.23604443669319153,
          0.23604443669319153,
          0.13945063948631287,
          0.22222550213336945,
          0.10829401761293411,
          0.22620518505573273,
          0.22620518505573273,
          0.10402878373861313,
          0.10402878373861313,
          0.11790870130062103,
          0.21754300594329834,
          0.1858593374490738,
          0.18984217941761017,
          0.20263226330280304,
          0.20263226330280304,
          0.18703289330005646,
          0,
          0,
          0.11750981956720352,
          0.140823096036911,
          0.10805226117372513,
          0.10805226117372513,
          0.10805226117372513,
          0.12189792096614838,
          0.10873301327228546,
          0.10873301327228546,
          0.1366833746433258,
          0.1235995814204216,
          0.22179770469665527,
          0.22179770469665527,
          0.10189464688301086,
          0.1179523691534996,
          0.2261037528514862,
          0.31548190116882324,
          0.31548190116882324,
          0.10252420604228973,
          0.09514029324054718,
          0.13270026445388794,
          0.11053144186735153
         ],
         "yaxis": "y"
        }
       ],
       "layout": {
        "autosize": true,
        "legend": {
         "tracegroupgap": 0
        },
        "template": {
         "data": {
          "bar": [
           {
            "error_x": {
             "color": "#2a3f5f"
            },
            "error_y": {
             "color": "#2a3f5f"
            },
            "marker": {
             "line": {
              "color": "#E5ECF6",
              "width": 0.5
             },
             "pattern": {
              "fillmode": "overlay",
              "size": 10,
              "solidity": 0.2
             }
            },
            "type": "bar"
           }
          ],
          "barpolar": [
           {
            "marker": {
             "line": {
              "color": "#E5ECF6",
              "width": 0.5
             },
             "pattern": {
              "fillmode": "overlay",
              "size": 10,
              "solidity": 0.2
             }
            },
            "type": "barpolar"
           }
          ],
          "carpet": [
           {
            "aaxis": {
             "endlinecolor": "#2a3f5f",
             "gridcolor": "white",
             "linecolor": "white",
             "minorgridcolor": "white",
             "startlinecolor": "#2a3f5f"
            },
            "baxis": {
             "endlinecolor": "#2a3f5f",
             "gridcolor": "white",
             "linecolor": "white",
             "minorgridcolor": "white",
             "startlinecolor": "#2a3f5f"
            },
            "type": "carpet"
           }
          ],
          "choropleth": [
           {
            "colorbar": {
             "outlinewidth": 0,
             "ticks": ""
            },
            "type": "choropleth"
           }
          ],
          "contour": [
           {
            "colorbar": {
             "outlinewidth": 0,
             "ticks": ""
            },
            "colorscale": [
             [
              0,
              "#0d0887"
             ],
             [
              0.1111111111111111,
              "#46039f"
             ],
             [
              0.2222222222222222,
              "#7201a8"
             ],
             [
              0.3333333333333333,
              "#9c179e"
             ],
             [
              0.4444444444444444,
              "#bd3786"
             ],
             [
              0.5555555555555556,
              "#d8576b"
             ],
             [
              0.6666666666666666,
              "#ed7953"
             ],
             [
              0.7777777777777778,
              "#fb9f3a"
             ],
             [
              0.8888888888888888,
              "#fdca26"
             ],
             [
              1,
              "#f0f921"
             ]
            ],
            "type": "contour"
           }
          ],
          "contourcarpet": [
           {
            "colorbar": {
             "outlinewidth": 0,
             "ticks": ""
            },
            "type": "contourcarpet"
           }
          ],
          "heatmap": [
           {
            "colorbar": {
             "outlinewidth": 0,
             "ticks": ""
            },
            "colorscale": [
             [
              0,
              "#0d0887"
             ],
             [
              0.1111111111111111,
              "#46039f"
             ],
             [
              0.2222222222222222,
              "#7201a8"
             ],
             [
              0.3333333333333333,
              "#9c179e"
             ],
             [
              0.4444444444444444,
              "#bd3786"
             ],
             [
              0.5555555555555556,
              "#d8576b"
             ],
             [
              0.6666666666666666,
              "#ed7953"
             ],
             [
              0.7777777777777778,
              "#fb9f3a"
             ],
             [
              0.8888888888888888,
              "#fdca26"
             ],
             [
              1,
              "#f0f921"
             ]
            ],
            "type": "heatmap"
           }
          ],
          "heatmapgl": [
           {
            "colorbar": {
             "outlinewidth": 0,
             "ticks": ""
            },
            "colorscale": [
             [
              0,
              "#0d0887"
             ],
             [
              0.1111111111111111,
              "#46039f"
             ],
             [
              0.2222222222222222,
              "#7201a8"
             ],
             [
              0.3333333333333333,
              "#9c179e"
             ],
             [
              0.4444444444444444,
              "#bd3786"
             ],
             [
              0.5555555555555556,
              "#d8576b"
             ],
             [
              0.6666666666666666,
              "#ed7953"
             ],
             [
              0.7777777777777778,
              "#fb9f3a"
             ],
             [
              0.8888888888888888,
              "#fdca26"
             ],
             [
              1,
              "#f0f921"
             ]
            ],
            "type": "heatmapgl"
           }
          ],
          "histogram": [
           {
            "marker": {
             "pattern": {
              "fillmode": "overlay",
              "size": 10,
              "solidity": 0.2
             }
            },
            "type": "histogram"
           }
          ],
          "histogram2d": [
           {
            "colorbar": {
             "outlinewidth": 0,
             "ticks": ""
            },
            "colorscale": [
             [
              0,
              "#0d0887"
             ],
             [
              0.1111111111111111,
              "#46039f"
             ],
             [
              0.2222222222222222,
              "#7201a8"
             ],
             [
              0.3333333333333333,
              "#9c179e"
             ],
             [
              0.4444444444444444,
              "#bd3786"
             ],
             [
              0.5555555555555556,
              "#d8576b"
             ],
             [
              0.6666666666666666,
              "#ed7953"
             ],
             [
              0.7777777777777778,
              "#fb9f3a"
             ],
             [
              0.8888888888888888,
              "#fdca26"
             ],
             [
              1,
              "#f0f921"
             ]
            ],
            "type": "histogram2d"
           }
          ],
          "histogram2dcontour": [
           {
            "colorbar": {
             "outlinewidth": 0,
             "ticks": ""
            },
            "colorscale": [
             [
              0,
              "#0d0887"
             ],
             [
              0.1111111111111111,
              "#46039f"
             ],
             [
              0.2222222222222222,
              "#7201a8"
             ],
             [
              0.3333333333333333,
              "#9c179e"
             ],
             [
              0.4444444444444444,
              "#bd3786"
             ],
             [
              0.5555555555555556,
              "#d8576b"
             ],
             [
              0.6666666666666666,
              "#ed7953"
             ],
             [
              0.7777777777777778,
              "#fb9f3a"
             ],
             [
              0.8888888888888888,
              "#fdca26"
             ],
             [
              1,
              "#f0f921"
             ]
            ],
            "type": "histogram2dcontour"
           }
          ],
          "mesh3d": [
           {
            "colorbar": {
             "outlinewidth": 0,
             "ticks": ""
            },
            "type": "mesh3d"
           }
          ],
          "parcoords": [
           {
            "line": {
             "colorbar": {
              "outlinewidth": 0,
              "ticks": ""
             }
            },
            "type": "parcoords"
           }
          ],
          "pie": [
           {
            "automargin": true,
            "type": "pie"
           }
          ],
          "scatter": [
           {
            "fillpattern": {
             "fillmode": "overlay",
             "size": 10,
             "solidity": 0.2
            },
            "type": "scatter"
           }
          ],
          "scatter3d": [
           {
            "line": {
             "colorbar": {
              "outlinewidth": 0,
              "ticks": ""
             }
            },
            "marker": {
             "colorbar": {
              "outlinewidth": 0,
              "ticks": ""
             }
            },
            "type": "scatter3d"
           }
          ],
          "scattercarpet": [
           {
            "marker": {
             "colorbar": {
              "outlinewidth": 0,
              "ticks": ""
             }
            },
            "type": "scattercarpet"
           }
          ],
          "scattergeo": [
           {
            "marker": {
             "colorbar": {
              "outlinewidth": 0,
              "ticks": ""
             }
            },
            "type": "scattergeo"
           }
          ],
          "scattergl": [
           {
            "marker": {
             "colorbar": {
              "outlinewidth": 0,
              "ticks": ""
             }
            },
            "type": "scattergl"
           }
          ],
          "scattermapbox": [
           {
            "marker": {
             "colorbar": {
              "outlinewidth": 0,
              "ticks": ""
             }
            },
            "type": "scattermapbox"
           }
          ],
          "scatterpolar": [
           {
            "marker": {
             "colorbar": {
              "outlinewidth": 0,
              "ticks": ""
             }
            },
            "type": "scatterpolar"
           }
          ],
          "scatterpolargl": [
           {
            "marker": {
             "colorbar": {
              "outlinewidth": 0,
              "ticks": ""
             }
            },
            "type": "scatterpolargl"
           }
          ],
          "scatterternary": [
           {
            "marker": {
             "colorbar": {
              "outlinewidth": 0,
              "ticks": ""
             }
            },
            "type": "scatterternary"
           }
          ],
          "surface": [
           {
            "colorbar": {
             "outlinewidth": 0,
             "ticks": ""
            },
            "colorscale": [
             [
              0,
              "#0d0887"
             ],
             [
              0.1111111111111111,
              "#46039f"
             ],
             [
              0.2222222222222222,
              "#7201a8"
             ],
             [
              0.3333333333333333,
              "#9c179e"
             ],
             [
              0.4444444444444444,
              "#bd3786"
             ],
             [
              0.5555555555555556,
              "#d8576b"
             ],
             [
              0.6666666666666666,
              "#ed7953"
             ],
             [
              0.7777777777777778,
              "#fb9f3a"
             ],
             [
              0.8888888888888888,
              "#fdca26"
             ],
             [
              1,
              "#f0f921"
             ]
            ],
            "type": "surface"
           }
          ],
          "table": [
           {
            "cells": {
             "fill": {
              "color": "#EBF0F8"
             },
             "line": {
              "color": "white"
             }
            },
            "header": {
             "fill": {
              "color": "#C8D4E3"
             },
             "line": {
              "color": "white"
             }
            },
            "type": "table"
           }
          ]
         },
         "layout": {
          "annotationdefaults": {
           "arrowcolor": "#2a3f5f",
           "arrowhead": 0,
           "arrowwidth": 1
          },
          "autotypenumbers": "strict",
          "coloraxis": {
           "colorbar": {
            "outlinewidth": 0,
            "ticks": ""
           }
          },
          "colorscale": {
           "diverging": [
            [
             0,
             "#8e0152"
            ],
            [
             0.1,
             "#c51b7d"
            ],
            [
             0.2,
             "#de77ae"
            ],
            [
             0.3,
             "#f1b6da"
            ],
            [
             0.4,
             "#fde0ef"
            ],
            [
             0.5,
             "#f7f7f7"
            ],
            [
             0.6,
             "#e6f5d0"
            ],
            [
             0.7,
             "#b8e186"
            ],
            [
             0.8,
             "#7fbc41"
            ],
            [
             0.9,
             "#4d9221"
            ],
            [
             1,
             "#276419"
            ]
           ],
           "sequential": [
            [
             0,
             "#0d0887"
            ],
            [
             0.1111111111111111,
             "#46039f"
            ],
            [
             0.2222222222222222,
             "#7201a8"
            ],
            [
             0.3333333333333333,
             "#9c179e"
            ],
            [
             0.4444444444444444,
             "#bd3786"
            ],
            [
             0.5555555555555556,
             "#d8576b"
            ],
            [
             0.6666666666666666,
             "#ed7953"
            ],
            [
             0.7777777777777778,
             "#fb9f3a"
            ],
            [
             0.8888888888888888,
             "#fdca26"
            ],
            [
             1,
             "#f0f921"
            ]
           ],
           "sequentialminus": [
            [
             0,
             "#0d0887"
            ],
            [
             0.1111111111111111,
             "#46039f"
            ],
            [
             0.2222222222222222,
             "#7201a8"
            ],
            [
             0.3333333333333333,
             "#9c179e"
            ],
            [
             0.4444444444444444,
             "#bd3786"
            ],
            [
             0.5555555555555556,
             "#d8576b"
            ],
            [
             0.6666666666666666,
             "#ed7953"
            ],
            [
             0.7777777777777778,
             "#fb9f3a"
            ],
            [
             0.8888888888888888,
             "#fdca26"
            ],
            [
             1,
             "#f0f921"
            ]
           ]
          },
          "colorway": [
           "#636efa",
           "#EF553B",
           "#00cc96",
           "#ab63fa",
           "#FFA15A",
           "#19d3f3",
           "#FF6692",
           "#B6E880",
           "#FF97FF",
           "#FECB52"
          ],
          "font": {
           "color": "#2a3f5f"
          },
          "geo": {
           "bgcolor": "white",
           "lakecolor": "white",
           "landcolor": "#E5ECF6",
           "showlakes": true,
           "showland": true,
           "subunitcolor": "white"
          },
          "hoverlabel": {
           "align": "left"
          },
          "hovermode": "closest",
          "mapbox": {
           "style": "light"
          },
          "paper_bgcolor": "white",
          "plot_bgcolor": "#E5ECF6",
          "polar": {
           "angularaxis": {
            "gridcolor": "white",
            "linecolor": "white",
            "ticks": ""
           },
           "bgcolor": "#E5ECF6",
           "radialaxis": {
            "gridcolor": "white",
            "linecolor": "white",
            "ticks": ""
           }
          },
          "scene": {
           "xaxis": {
            "backgroundcolor": "#E5ECF6",
            "gridcolor": "white",
            "gridwidth": 2,
            "linecolor": "white",
            "showbackground": true,
            "ticks": "",
            "zerolinecolor": "white"
           },
           "yaxis": {
            "backgroundcolor": "#E5ECF6",
            "gridcolor": "white",
            "gridwidth": 2,
            "linecolor": "white",
            "showbackground": true,
            "ticks": "",
            "zerolinecolor": "white"
           },
           "zaxis": {
            "backgroundcolor": "#E5ECF6",
            "gridcolor": "white",
            "gridwidth": 2,
            "linecolor": "white",
            "showbackground": true,
            "ticks": "",
            "zerolinecolor": "white"
           }
          },
          "shapedefaults": {
           "line": {
            "color": "#2a3f5f"
           }
          },
          "ternary": {
           "aaxis": {
            "gridcolor": "white",
            "linecolor": "white",
            "ticks": ""
           },
           "baxis": {
            "gridcolor": "white",
            "linecolor": "white",
            "ticks": ""
           },
           "bgcolor": "#E5ECF6",
           "caxis": {
            "gridcolor": "white",
            "linecolor": "white",
            "ticks": ""
           }
          },
          "title": {
           "x": 0.05
          },
          "xaxis": {
           "automargin": true,
           "gridcolor": "white",
           "linecolor": "white",
           "ticks": "",
           "title": {
            "standoff": 15
           },
           "zerolinecolor": "white",
           "zerolinewidth": 2
          },
          "yaxis": {
           "automargin": true,
           "gridcolor": "white",
           "linecolor": "white",
           "ticks": "",
           "title": {
            "standoff": 15
           },
           "zerolinecolor": "white",
           "zerolinewidth": 2
          }
         }
        },
        "title": {
         "text": "Global RMSD between each structure vs A71EV2A-x0395_1A"
        },
        "xaxis": {
         "anchor": "y",
         "autorange": true,
         "domain": [
          0,
          1
         ],
         "range": [
          -0.022970331615054764,
          0.40539531201704754
         ],
         "title": {
          "text": "RMSD_A71EV2A-x0395_1A"
         },
         "type": "linear"
        },
        "yaxis": {
         "anchor": "x",
         "autorange": true,
         "domain": [
          0,
          1
         ],
         "range": [
          -0.022712207875073075,
          0.3381941090438963
         ],
         "title": {
          "text": "RMSD_A71EV2A-x0152_0A"
         },
         "type": "linear"
        }
       }
      },
      "image/png": "[encoded data removed]",
      "text/html": [
       "<div>                            <div id=\"e63c79e5-3a1d-43ad-838a-d29c4b0f96de\" class=\"plotly-graph-div\" style=\"height:525px; width:100%;\"></div>            <script type=\"text/javascript\">                require([\"plotly\"], function(Plotly) {                    window.PLOTLYENV=window.PLOTLYENV || {};                                    if (document.getElementById(\"e63c79e5-3a1d-43ad-838a-d29c4b0f96de\")) {                    Plotly.newPlot(                        \"e63c79e5-3a1d-43ad-838a-d29c4b0f96de\",                        [{\"hovertemplate\":\"RMSD_A71EV2A-x0395_1A=%{x}\\u003cbr\\u003eRMSD_A71EV2A-x0152_0A=%{y}\\u003cextra\\u003e\\u003c\\u002fextra\\u003e\",\"legendgroup\":\"\",\"marker\":{\"color\":\"#636efa\",\"symbol\":\"circle\"},\"mode\":\"markers\",\"name\":\"\",\"orientation\":\"v\",\"showlegend\":false,\"x\":[0.3824249804019928,0.28836604952812195,0.25488758087158203,0.2728329002857208,0.2587662935256958,0.258638858795166,0.31693035364151,0.2910822927951813,0.269281804561615,0.20725613832473755,0.20725613832473755,0.20725613832473755,0.28782060742378235,0.23077990114688873,0.3295607566833496,0.1966787725687027,0.1966787725687027,0.2816965579986572,0.2816965579986572,0.3023933172225952,0.3295207917690277,0.2599998712539673,0.3205550014972687,0.33800363540649414,0.33800363540649414,0.3264286518096924,0.31548190116882324,0.31548190116882324,0.28244125843048096,0.2718803882598877,0.2853400707244873,0.2853400707244873,0.2853400707244873,0.2603136897087097,0.27051031589508057,0.27051031589508057,0.2677432596683502,0.2843785285949707,0.2124411165714264,0.2124411165714264,0.2986772060394287,0.2837795913219452,0.3419654965400696,0.0,0.0,0.28575754165649414,0.2736288905143738,0.29945433139801025,0.27627134323120117],\"xaxis\":\"x\",\"y\":[0.1949559897184372,0.10501725226640701,0.13820204138755798,0.10875578969717026,0.1081334576010704,0.10909043252468109,0.11233418434858322,0.10097194463014603,0.10806386172771454,0.23604443669319153,0.23604443669319153,0.23604443669319153,0.13945063948631287,0.22222550213336945,0.10829401761293411,0.22620518505573273,0.22620518505573273,0.10402878373861313,0.10402878373861313,0.11790870130062103,0.21754300594329834,0.1858593374490738,0.18984217941761017,0.20263226330280304,0.20263226330280304,0.18703289330005646,0.0,0.0,0.11750981956720352,0.140823096036911,0.10805226117372513,0.10805226117372513,0.10805226117372513,0.12189792096614838,0.10873301327228546,0.10873301327228546,0.1366833746433258,0.1235995814204216,0.22179770469665527,0.22179770469665527,0.10189464688301086,0.1179523691534996,0.2261037528514862,0.31548190116882324,0.31548190116882324,0.10252420604228973,0.09514029324054718,0.13270026445388794,0.11053144186735153],\"yaxis\":\"y\",\"type\":\"scatter\"}],                        {\"template\":{\"data\":{\"histogram2dcontour\":[{\"type\":\"histogram2dcontour\",\"colorbar\":{\"outlinewidth\":0,\"ticks\":\"\"},\"colorscale\":[[0.0,\"#0d0887\"],[0.1111111111111111,\"#46039f\"],[0.2222222222222222,\"#7201a8\"],[0.3333333333333333,\"#9c179e\"],[0.4444444444444444,\"#bd3786\"],[0.5555555555555556,\"#d8576b\"],[0.6666666666666666,\"#ed7953\"],[0.7777777777777778,\"#fb9f3a\"],[0.8888888888888888,\"#fdca26\"],[1.0,\"#f0f921\"]]}],\"choropleth\":[{\"type\":\"choropleth\",\"colorbar\":{\"outlinewidth\":0,\"ticks\":\"\"}}],\"histogram2d\":[{\"type\":\"histogram2d\",\"colorbar\":{\"outlinewidth\":0,\"ticks\":\"\"},\"colorscale\":[[0.0,\"#0d0887\"],[0.1111111111111111,\"#46039f\"],[0.2222222222222222,\"#7201a8\"],[0.3333333333333333,\"#9c179e\"],[0.4444444444444444,\"#bd3786\"],[0.5555555555555556,\"#d8576b\"],[0.6666666666666666,\"#ed7953\"],[0.7777777777777778,\"#fb9f3a\"],[0.8888888888888888,\"#fdca26\"],[1.0,\"#f0f921\"]]}],\"heatmap\":[{\"type\":\"heatmap\",\"colorbar\":{\"outlinewidth\":0,\"ticks\":\"\"},\"colorscale\":[[0.0,\"#0d0887\"],[0.1111111111111111,\"#46039f\"],[0.2222222222222222,\"#7201a8\"],[0.3333333333333333,\"#9c179e\"],[0.4444444444444444,\"#bd3786\"],[0.5555555555555556,\"#d8576b\"],[0.6666666666666666,\"#ed7953\"],[0.7777777777777778,\"#fb9f3a\"],[0.8888888888888888,\"#fdca26\"],[1.0,\"#f0f921\"]]}],\"heatmapgl\":[{\"type\":\"heatmapgl\",\"colorbar\":{\"outlinewidth\":0,\"ticks\":\"\"},\"colorscale\":[[0.0,\"#0d0887\"],[0.1111111111111111,\"#46039f\"],[0.2222222222222222,\"#7201a8\"],[0.3333333333333333,\"#9c179e\"],[0.4444444444444444,\"#bd3786\"],[0.5555555555555556,\"#d8576b\"],[0.6666666666666666,\"#ed7953\"],[0.7777777777777778,\"#fb9f3a\"],[0.8888888888888888,\"#fdca26\"],[1.0,\"#f0f921\"]]}],\"contourcarpet\":[{\"type\":\"contourcarpet\",\"colorbar\":{\"outlinewidth\":0,\"ticks\":\"\"}}],\"contour\":[{\"type\":\"contour\",\"colorbar\":{\"outlinewidth\":0,\"ticks\":\"\"},\"colorscale\":[[0.0,\"#0d0887\"],[0.1111111111111111,\"#46039f\"],[0.2222222222222222,\"#7201a8\"],[0.3333333333333333,\"#9c179e\"],[0.4444444444444444,\"#bd3786\"],[0.5555555555555556,\"#d8576b\"],[0.6666666666666666,\"#ed7953\"],[0.7777777777777778,\"#fb9f3a\"],[0.8888888888888888,\"#fdca26\"],[1.0,\"#f0f921\"]]}],\"surface\":[{\"type\":\"surface\",\"colorbar\":{\"outlinewidth\":0,\"ticks\":\"\"},\"colorscale\":[[0.0,\"#0d0887\"],[0.1111111111111111,\"#46039f\"],[0.2222222222222222,\"#7201a8\"],[0.3333333333333333,\"#9c179e\"],[0.4444444444444444,\"#bd3786\"],[0.5555555555555556,\"#d8576b\"],[0.6666666666666666,\"#ed7953\"],[0.7777777777777778,\"#fb9f3a\"],[0.8888888888888888,\"#fdca26\"],[1.0,\"#f0f921\"]]}],\"mesh3d\":[{\"type\":\"mesh3d\",\"colorbar\":{\"outlinewidth\":0,\"ticks\":\"\"}}],\"scatter\":[{\"fillpattern\":{\"fillmode\":\"overlay\",\"size\":10,\"solidity\":0.2},\"type\":\"scatter\"}],\"parcoords\":[{\"type\":\"parcoords\",\"line\":{\"colorbar\":{\"outlinewidth\":0,\"ticks\":\"\"}}}],\"scatterpolargl\":[{\"type\":\"scatterpolargl\",\"marker\":{\"colorbar\":{\"outlinewidth\":0,\"ticks\":\"\"}}}],\"bar\":[{\"error_x\":{\"color\":\"#2a3f5f\"},\"error_y\":{\"color\":\"#2a3f5f\"},\"marker\":{\"line\":{\"color\":\"#E5ECF6\",\"width\":0.5},\"pattern\":{\"fillmode\":\"overlay\",\"size\":10,\"solidity\":0.2}},\"type\":\"bar\"}],\"scattergeo\":[{\"type\":\"scattergeo\",\"marker\":{\"colorbar\":{\"outlinewidth\":0,\"ticks\":\"\"}}}],\"scatterpolar\":[{\"type\":\"scatterpolar\",\"marker\":{\"colorbar\":{\"outlinewidth\":0,\"ticks\":\"\"}}}],\"histogram\":[{\"marker\":{\"pattern\":{\"fillmode\":\"overlay\",\"size\":10,\"solidity\":0.2}},\"type\":\"histogram\"}],\"scattergl\":[{\"type\":\"scattergl\",\"marker\":{\"colorbar\":{\"outlinewidth\":0,\"ticks\":\"\"}}}],\"scatter3d\":[{\"type\":\"scatter3d\",\"line\":{\"colorbar\":{\"outlinewidth\":0,\"ticks\":\"\"}},\"marker\":{\"colorbar\":{\"outlinewidth\":0,\"ticks\":\"\"}}}],\"scattermapbox\":[{\"type\":\"scattermapbox\",\"marker\":{\"colorbar\":{\"outlinewidth\":0,\"ticks\":\"\"}}}],\"scatterternary\":[{\"type\":\"scatterternary\",\"marker\":{\"colorbar\":{\"outlinewidth\":0,\"ticks\":\"\"}}}],\"scattercarpet\":[{\"type\":\"scattercarpet\",\"marker\":{\"colorbar\":{\"outlinewidth\":0,\"ticks\":\"\"}}}],\"carpet\":[{\"aaxis\":{\"endlinecolor\":\"#2a3f5f\",\"gridcolor\":\"white\",\"linecolor\":\"white\",\"minorgridcolor\":\"white\",\"startlinecolor\":\"#2a3f5f\"},\"baxis\":{\"endlinecolor\":\"#2a3f5f\",\"gridcolor\":\"white\",\"linecolor\":\"white\",\"minorgridcolor\":\"white\",\"startlinecolor\":\"#2a3f5f\"},\"type\":\"carpet\"}],\"table\":[{\"cells\":{\"fill\":{\"color\":\"#EBF0F8\"},\"line\":{\"color\":\"white\"}},\"header\":{\"fill\":{\"color\":\"#C8D4E3\"},\"line\":{\"color\":\"white\"}},\"type\":\"table\"}],\"barpolar\":[{\"marker\":{\"line\":{\"color\":\"#E5ECF6\",\"width\":0.5},\"pattern\":{\"fillmode\":\"overlay\",\"size\":10,\"solidity\":0.2}},\"type\":\"barpolar\"}],\"pie\":[{\"automargin\":true,\"type\":\"pie\"}]},\"layout\":{\"autotypenumbers\":\"strict\",\"colorway\":[\"#636efa\",\"#EF553B\",\"#00cc96\",\"#ab63fa\",\"#FFA15A\",\"#19d3f3\",\"#FF6692\",\"#B6E880\",\"#FF97FF\",\"#FECB52\"],\"font\":{\"color\":\"#2a3f5f\"},\"hovermode\":\"closest\",\"hoverlabel\":{\"align\":\"left\"},\"paper_bgcolor\":\"white\",\"plot_bgcolor\":\"#E5ECF6\",\"polar\":{\"bgcolor\":\"#E5ECF6\",\"angularaxis\":{\"gridcolor\":\"white\",\"linecolor\":\"white\",\"ticks\":\"\"},\"radialaxis\":{\"gridcolor\":\"white\",\"linecolor\":\"white\",\"ticks\":\"\"}},\"ternary\":{\"bgcolor\":\"#E5ECF6\",\"aaxis\":{\"gridcolor\":\"white\",\"linecolor\":\"white\",\"ticks\":\"\"},\"baxis\":{\"gridcolor\":\"white\",\"linecolor\":\"white\",\"ticks\":\"\"},\"caxis\":{\"gridcolor\":\"white\",\"linecolor\":\"white\",\"ticks\":\"\"}},\"coloraxis\":{\"colorbar\":{\"outlinewidth\":0,\"ticks\":\"\"}},\"colorscale\":{\"sequential\":[[0.0,\"#0d0887\"],[0.1111111111111111,\"#46039f\"],[0.2222222222222222,\"#7201a8\"],[0.3333333333333333,\"#9c179e\"],[0.4444444444444444,\"#bd3786\"],[0.5555555555555556,\"#d8576b\"],[0.6666666666666666,\"#ed7953\"],[0.7777777777777778,\"#fb9f3a\"],[0.8888888888888888,\"#fdca26\"],[1.0,\"#f0f921\"]],\"sequentialminus\":[[0.0,\"#0d0887\"],[0.1111111111111111,\"#46039f\"],[0.2222222222222222,\"#7201a8\"],[0.3333333333333333,\"#9c179e\"],[0.4444444444444444,\"#bd3786\"],[0.5555555555555556,\"#d8576b\"],[0.6666666666666666,\"#ed7953\"],[0.7777777777777778,\"#fb9f3a\"],[0.8888888888888888,\"#fdca26\"],[1.0,\"#f0f921\"]],\"diverging\":[[0,\"#8e0152\"],[0.1,\"#c51b7d\"],[0.2,\"#de77ae\"],[0.3,\"#f1b6da\"],[0.4,\"#fde0ef\"],[0.5,\"#f7f7f7\"],[0.6,\"#e6f5d0\"],[0.7,\"#b8e186\"],[0.8,\"#7fbc41\"],[0.9,\"#4d9221\"],[1,\"#276419\"]]},\"xaxis\":{\"gridcolor\":\"white\",\"linecolor\":\"white\",\"ticks\":\"\",\"title\":{\"standoff\":15},\"zerolinecolor\":\"white\",\"automargin\":true,\"zerolinewidth\":2},\"yaxis\":{\"gridcolor\":\"white\",\"linecolor\":\"white\",\"ticks\":\"\",\"title\":{\"standoff\":15},\"zerolinecolor\":\"white\",\"automargin\":true,\"zerolinewidth\":2},\"scene\":{\"xaxis\":{\"backgroundcolor\":\"#E5ECF6\",\"gridcolor\":\"white\",\"linecolor\":\"white\",\"showbackground\":true,\"ticks\":\"\",\"zerolinecolor\":\"white\",\"gridwidth\":2},\"yaxis\":{\"backgroundcolor\":\"#E5ECF6\",\"gridcolor\":\"white\",\"linecolor\":\"white\",\"showbackground\":true,\"ticks\":\"\",\"zerolinecolor\":\"white\",\"gridwidth\":2},\"zaxis\":{\"backgroundcolor\":\"#E5ECF6\",\"gridcolor\":\"white\",\"linecolor\":\"white\",\"showbackground\":true,\"ticks\":\"\",\"zerolinecolor\":\"white\",\"gridwidth\":2}},\"shapedefaults\":{\"line\":{\"color\":\"#2a3f5f\"}},\"annotationdefaults\":{\"arrowcolor\":\"#2a3f5f\",\"arrowhead\":0,\"arrowwidth\":1},\"geo\":{\"bgcolor\":\"white\",\"landcolor\":\"#E5ECF6\",\"subunitcolor\":\"white\",\"showland\":true,\"showlakes\":true,\"lakecolor\":\"white\"},\"title\":{\"x\":0.05},\"mapbox\":{\"style\":\"light\"}}},\"xaxis\":{\"anchor\":\"y\",\"domain\":[0.0,1.0],\"title\":{\"text\":\"RMSD_A71EV2A-x0395_1A\"}},\"yaxis\":{\"anchor\":\"x\",\"domain\":[0.0,1.0],\"title\":{\"text\":\"RMSD_A71EV2A-x0152_0A\"}},\"legend\":{\"tracegroupgap\":0},\"title\":{\"text\":\"Global RMSD between each structure vs A71EV2A-x0395_1A\"}},                        {\"responsive\": true}                    ).then(function(){\n",
       "                            \n",
       "var gd = document.getElementById('e63c79e5-3a1d-43ad-838a-d29c4b0f96de');\n",
       "var x = new MutationObserver(function (mutations, observer) {{\n",
       "        var display = window.getComputedStyle(gd).display;\n",
       "        if (!display || display === 'none') {{\n",
       "            console.log([gd, 'removed!']);\n",
       "            Plotly.purge(gd);\n",
       "            observer.disconnect();\n",
       "        }}\n",
       "}});\n",
       "\n",
       "// Listen for the removal of the full notebook cells\n",
       "var notebookContainer = gd.closest('#notebook-container');\n",
       "if (notebookContainer) {{\n",
       "    x.observe(notebookContainer, {childList: true});\n",
       "}}\n",
       "\n",
       "// Listen for the clearing of the current output cell\n",
       "var outputEl = gd.closest('.output');\n",
       "if (outputEl) {{\n",
       "    x.observe(outputEl, {childList: true});\n",
       "}}\n",
       "\n",
       "                        })                };                });            </script>        </div>"
      ]
     },
     "metadata": {},
     "output_type": "display_data"
    }
   ],
   "source": [
    "px.scatter(metadata, 'RMSD_A71EV2A-x0395_1A', 'RMSD_A71EV2A-x0152_0A', title=f'Global RMSD between each structure vs {first_name}')"
   ]
  },
  {
   "cell_type": "markdown",
   "id": "f3edca45-24a3-4e80-9896-7f8e33c33aac",
   "metadata": {},
   "source": [
    "## Pockets"
   ]
  },
  {
   "cell_type": "code",
   "execution_count": null,
   "id": "34c5f9ad-4f19-47ca-9cf5-94f9917f8132",
   "metadata": {},
   "outputs": [],
   "source": [
    "import numpy as np\n",
    "import functools\n",
    "import numpy.typing as npt\n",
    "\n",
    "def get_mindist(molA: Chem.Mol, molB: Chem.Mol) -> float:\n",
    "    d: npt.ArrayLike = AllChem.Get3DDistanceMatrix( Chem.CombineMols(molA, molB) )\n",
    "    a = molA.GetNumAtoms()\n",
    "    b = molB.GetNumAtoms()\n",
    "    d[:a, :a] = d[:a, :a] * np.nan\n",
    "    d[a:, a:] = d[a:, a:] * np.nan\n",
    "    return np.nanmin(d)\n",
    "    \n",
    "for name, target in substrate_blocks.items():\n",
    "    metadata[f'{name}_distance'] = metadata.crystal.apply(functools.partial(get_mindist, target))"
   ]
  },
  {
   "cell_type": "code",
   "execution_count": 6,
   "id": "6e323732-a747-4d6e-bcca-93888523bee4",
   "metadata": {},
   "outputs": [
    {
     "name": "stdout",
     "output_type": "stream",
     "text": [
      " ExecutiveLoad-Detail: Detected mmCIF\n"
     ]
    }
   ],
   "source": [
    "import pymol2, re\n",
    "\n",
    "substrate_blocks: Dict[str, Chem.Mol] = {}\n",
    "key_parts = [('C110', 'chain A and resi 110'),\n",
    "               ('H21', 'chain A and resi 21'), \n",
    "               ('D39', 'chain A and resi 39'),\n",
    "               ('Y89', 'chain A and resi 89'),\n",
    "               ('Y90', 'chain A and resi 90'),\n",
    "               ('P2prime', 'chain C and resi 2'),\n",
    "               ('P1prime', 'chain C and resi 1'), \n",
    "               ('P1', 'chain C and resi 0'), \n",
    "               ('P2', 'chain C and resi -1'),]\n",
    "with pymol2.PyMOL() as pymol:\n",
    "    pymol.cmd.load(reference, 'pos_reference')\n",
    "    pymol.cmd.remove('not polymer')\n",
    "    pdbblock = pymol.cmd.get_pdbstr('chain A')\n",
    "    pymol.cmd.fetch('7DA6', 'reference')\n",
    "    pymol.cmd.align('reference and chain A', 'pos_reference')\n",
    "    pymol.cmd.delete('pos_reference')\n",
    "    pymol.cmd.remove('solvent')\n",
    "    substrate = Chem.MolFromPDBBlock(pymol.cmd.get_pdbstr('chain C'))\n",
    "    substrate.SetProp('_Name', 'peptide')\n",
    "    for name, sele in key_parts:\n",
    "        substrate_blocks[name] = Chem.MolFromPDBBlock(pymol.cmd.get_pdbstr(sele))"
   ]
  },
  {
   "cell_type": "code",
   "execution_count": 66,
   "id": "315b4727-ab34-4aae-b33e-12831f8db236",
   "metadata": {},
   "outputs": [],
   "source": [
    "metadata['XChem_code'] = metadata.index.to_series().str.replace('A71EV2A-', '')"
   ]
  },
  {
   "cell_type": "code",
   "execution_count": 76,
   "id": "842c80e0-e317-4e3b-aad1-a1dac4cf3daf",
   "metadata": {},
   "outputs": [
    {
     "name": "stdout",
     "output_type": "stream",
     "text": [
      "A71EV2A-x0395_0A\n"
     ]
    }
   ],
   "source": [
    "import pymol2, re\n",
    "\n",
    "distances: Dict[str, float] = {}\n",
    "\n",
    "for pdb in root.glob('**/*.pdb'):\n",
    "    with pymol2.PyMOL() as pymol:\n",
    "        pymol.cmd.load(pdb.as_posix(), 'prot')\n",
    "        name = pdb.parts[-1].replace(target_name + '_', '').replace('_bound.pdb', '')\n",
    "        # Y89.OH-S125.O_distance\n",
    "        distances[name] = pymol.cmd.distance('resi 89 and chain A and name OH', 'resi 125 and chain A and name O')\n",
    "        if 'x0395_0A' in name:\n",
    "            print(name)\n",
    "            pymol.cmd.save('test.pse')\n",
    "        \n",
    "metadata['Y89.OH-S125.O_distance'] = distances"
   ]
  },
  {
   "cell_type": "code",
   "execution_count": 77,
   "id": "91d3b00c-d09a-4165-b456-c6edcf8b9bc2",
   "metadata": {},
   "outputs": [
    {
     "data": {
      "application/vnd.plotly.v1+json": {
       "config": {
        "plotlyServerURL": "https://plot.ly"
       },
       "data": [
        {
         "hovertemplate": "Y89.OH-S125.O_distance=%{x}<br>Y89_distance=%{y}<br>XChem_code=%{text}<extra></extra>",
         "legendgroup": "",
         "marker": {
          "color": "#636efa",
          "symbol": "circle"
         },
         "mode": "markers+text",
         "name": "",
         "orientation": "v",
         "showlegend": false,
         "text": [
          "x0451_0A",
          "x0469_0A",
          "x0473_0A",
          "x0486_0A",
          "x0517_0A",
          "x0525_0A",
          "x0526_0A",
          "x0540_0A",
          "x0541_0A",
          "x0554_0A",
          "x0554_1A",
          "x0554_2A",
          "x0556_0A",
          "x0566_0A",
          "x0586_0A",
          "x0269_0A",
          "x0269_1A",
          "x0278_0A",
          "x0278_1A",
          "x0305_0A",
          "x0309_0A",
          "x0310_0A",
          "x0326_0A",
          "x0608_0A",
          "x0608_1A",
          "x0691_0A",
          "x0152_0A",
          "x0152_1A",
          "x0188_0A",
          "x0202_0A",
          "x0211_0A",
          "x0211_1A",
          "x0211_2A",
          "x0228_0A",
          "x0229_0A",
          "x0229_1A",
          "x0239_0A",
          "x0332_0A",
          "x0341_0A",
          "x0341_1A",
          "x0354_0A",
          "x0359_0A",
          "x0379_0A",
          "x0395_0A",
          "x0395_1A",
          "x0396_0A",
          "x0412_0A",
          "x0416_0A",
          "x0428_0A"
         ],
         "textfont": {
          "size": 10
         },
         "textposition": "middle right",
         "type": "scatter",
         "x": [
          9.225109100341797,
          2.6594223976135254,
          2.7219200134277344,
          2.7151288986206055,
          2.6315619945526123,
          2.6583120822906494,
          2.703523635864258,
          2.685433864593506,
          2.6811885833740234,
          9.762874603271484,
          9.762874603271484,
          9.762874603271484,
          2.606262683868408,
          9.660783767700195,
          2.6514201164245605,
          9.6895751953125,
          9.6895751953125,
          2.6941494941711426,
          2.6941494941711426,
          2.6589953899383545,
          2.5068359375,
          11.24988842010498,
          2.6015067100524902,
          2.4563071727752686,
          2.4563071727752686,
          2.722935914993286,
          2.731381893157959,
          2.731381893157959,
          2.6748485565185547,
          2.6582963466644287,
          2.6691675186157227,
          2.6691675186157227,
          2.6691675186157227,
          2.653625726699829,
          2.6539430618286133,
          2.6539430618286133,
          2.6897096633911133,
          2.6546075344085693,
          9.766204833984375,
          9.766204833984375,
          2.694944143295288,
          2.68394136428833,
          2.3548660278320312,
          9.764176368713379,
          9.764176368713379,
          2.6438679695129395,
          2.6625816822052,
          2.5876712799072266,
          2.666689395904541
         ],
         "xaxis": "x",
         "y": [
          3.9043614074519293,
          1.9827296840467172,
          12.435363806499593,
          19.84896684968767,
          16.75328161883516,
          2.1424703031780865,
          12.876076149200113,
          2.0161145800772338,
          18.575586370287212,
          3.996862519527036,
          20.629811947761425,
          26.95648257840774,
          7.639499001897966,
          5.314752016792507,
          17.90677480731804,
          26.665899084786172,
          19.001971502978314,
          1.5784717292368609,
          18.324781935946742,
          18.080345931425096,
          21.266022359623342,
          2.4385454681018364,
          20.68539052084828,
          19.93559710668331,
          20.005554853590038,
          18.442567825549673,
          12.447817921226191,
          1.987008807227589,
          17.697748020581603,
          15.350788220804818,
          1.870575045273511,
          26.042995853011995,
          18.03620040363269,
          1.6660408158265505,
          17.829736537593593,
          2.044982640513117,
          19.779939762294525,
          18.071647794266024,
          26.76395094151833,
          19.822948645446267,
          18.240000301535083,
          2.019070578261197,
          10.261948937701844,
          26.705378821503356,
          18.426281800732344,
          22.304207428196143,
          4.337167970000702,
          6.906349614666202,
          18.31064512790306
         ],
         "yaxis": "y"
        }
       ],
       "layout": {
        "autosize": true,
        "legend": {
         "tracegroupgap": 0
        },
        "template": {
         "data": {
          "bar": [
           {
            "error_x": {
             "color": "#2a3f5f"
            },
            "error_y": {
             "color": "#2a3f5f"
            },
            "marker": {
             "line": {
              "color": "#E5ECF6",
              "width": 0.5
             },
             "pattern": {
              "fillmode": "overlay",
              "size": 10,
              "solidity": 0.2
             }
            },
            "type": "bar"
           }
          ],
          "barpolar": [
           {
            "marker": {
             "line": {
              "color": "#E5ECF6",
              "width": 0.5
             },
             "pattern": {
              "fillmode": "overlay",
              "size": 10,
              "solidity": 0.2
             }
            },
            "type": "barpolar"
           }
          ],
          "carpet": [
           {
            "aaxis": {
             "endlinecolor": "#2a3f5f",
             "gridcolor": "white",
             "linecolor": "white",
             "minorgridcolor": "white",
             "startlinecolor": "#2a3f5f"
            },
            "baxis": {
             "endlinecolor": "#2a3f5f",
             "gridcolor": "white",
             "linecolor": "white",
             "minorgridcolor": "white",
             "startlinecolor": "#2a3f5f"
            },
            "type": "carpet"
           }
          ],
          "choropleth": [
           {
            "colorbar": {
             "outlinewidth": 0,
             "ticks": ""
            },
            "type": "choropleth"
           }
          ],
          "contour": [
           {
            "colorbar": {
             "outlinewidth": 0,
             "ticks": ""
            },
            "colorscale": [
             [
              0,
              "#0d0887"
             ],
             [
              0.1111111111111111,
              "#46039f"
             ],
             [
              0.2222222222222222,
              "#7201a8"
             ],
             [
              0.3333333333333333,
              "#9c179e"
             ],
             [
              0.4444444444444444,
              "#bd3786"
             ],
             [
              0.5555555555555556,
              "#d8576b"
             ],
             [
              0.6666666666666666,
              "#ed7953"
             ],
             [
              0.7777777777777778,
              "#fb9f3a"
             ],
             [
              0.8888888888888888,
              "#fdca26"
             ],
             [
              1,
              "#f0f921"
             ]
            ],
            "type": "contour"
           }
          ],
          "contourcarpet": [
           {
            "colorbar": {
             "outlinewidth": 0,
             "ticks": ""
            },
            "type": "contourcarpet"
           }
          ],
          "heatmap": [
           {
            "colorbar": {
             "outlinewidth": 0,
             "ticks": ""
            },
            "colorscale": [
             [
              0,
              "#0d0887"
             ],
             [
              0.1111111111111111,
              "#46039f"
             ],
             [
              0.2222222222222222,
              "#7201a8"
             ],
             [
              0.3333333333333333,
              "#9c179e"
             ],
             [
              0.4444444444444444,
              "#bd3786"
             ],
             [
              0.5555555555555556,
              "#d8576b"
             ],
             [
              0.6666666666666666,
              "#ed7953"
             ],
             [
              0.7777777777777778,
              "#fb9f3a"
             ],
             [
              0.8888888888888888,
              "#fdca26"
             ],
             [
              1,
              "#f0f921"
             ]
            ],
            "type": "heatmap"
           }
          ],
          "heatmapgl": [
           {
            "colorbar": {
             "outlinewidth": 0,
             "ticks": ""
            },
            "colorscale": [
             [
              0,
              "#0d0887"
             ],
             [
              0.1111111111111111,
              "#46039f"
             ],
             [
              0.2222222222222222,
              "#7201a8"
             ],
             [
              0.3333333333333333,
              "#9c179e"
             ],
             [
              0.4444444444444444,
              "#bd3786"
             ],
             [
              0.5555555555555556,
              "#d8576b"
             ],
             [
              0.6666666666666666,
              "#ed7953"
             ],
             [
              0.7777777777777778,
              "#fb9f3a"
             ],
             [
              0.8888888888888888,
              "#fdca26"
             ],
             [
              1,
              "#f0f921"
             ]
            ],
            "type": "heatmapgl"
           }
          ],
          "histogram": [
           {
            "marker": {
             "pattern": {
              "fillmode": "overlay",
              "size": 10,
              "solidity": 0.2
             }
            },
            "type": "histogram"
           }
          ],
          "histogram2d": [
           {
            "colorbar": {
             "outlinewidth": 0,
             "ticks": ""
            },
            "colorscale": [
             [
              0,
              "#0d0887"
             ],
             [
              0.1111111111111111,
              "#46039f"
             ],
             [
              0.2222222222222222,
              "#7201a8"
             ],
             [
              0.3333333333333333,
              "#9c179e"
             ],
             [
              0.4444444444444444,
              "#bd3786"
             ],
             [
              0.5555555555555556,
              "#d8576b"
             ],
             [
              0.6666666666666666,
              "#ed7953"
             ],
             [
              0.7777777777777778,
              "#fb9f3a"
             ],
             [
              0.8888888888888888,
              "#fdca26"
             ],
             [
              1,
              "#f0f921"
             ]
            ],
            "type": "histogram2d"
           }
          ],
          "histogram2dcontour": [
           {
            "colorbar": {
             "outlinewidth": 0,
             "ticks": ""
            },
            "colorscale": [
             [
              0,
              "#0d0887"
             ],
             [
              0.1111111111111111,
              "#46039f"
             ],
             [
              0.2222222222222222,
              "#7201a8"
             ],
             [
              0.3333333333333333,
              "#9c179e"
             ],
             [
              0.4444444444444444,
              "#bd3786"
             ],
             [
              0.5555555555555556,
              "#d8576b"
             ],
             [
              0.6666666666666666,
              "#ed7953"
             ],
             [
              0.7777777777777778,
              "#fb9f3a"
             ],
             [
              0.8888888888888888,
              "#fdca26"
             ],
             [
              1,
              "#f0f921"
             ]
            ],
            "type": "histogram2dcontour"
           }
          ],
          "mesh3d": [
           {
            "colorbar": {
             "outlinewidth": 0,
             "ticks": ""
            },
            "type": "mesh3d"
           }
          ],
          "parcoords": [
           {
            "line": {
             "colorbar": {
              "outlinewidth": 0,
              "ticks": ""
             }
            },
            "type": "parcoords"
           }
          ],
          "pie": [
           {
            "automargin": true,
            "type": "pie"
           }
          ],
          "scatter": [
           {
            "fillpattern": {
             "fillmode": "overlay",
             "size": 10,
             "solidity": 0.2
            },
            "type": "scatter"
           }
          ],
          "scatter3d": [
           {
            "line": {
             "colorbar": {
              "outlinewidth": 0,
              "ticks": ""
             }
            },
            "marker": {
             "colorbar": {
              "outlinewidth": 0,
              "ticks": ""
             }
            },
            "type": "scatter3d"
           }
          ],
          "scattercarpet": [
           {
            "marker": {
             "colorbar": {
              "outlinewidth": 0,
              "ticks": ""
             }
            },
            "type": "scattercarpet"
           }
          ],
          "scattergeo": [
           {
            "marker": {
             "colorbar": {
              "outlinewidth": 0,
              "ticks": ""
             }
            },
            "type": "scattergeo"
           }
          ],
          "scattergl": [
           {
            "marker": {
             "colorbar": {
              "outlinewidth": 0,
              "ticks": ""
             }
            },
            "type": "scattergl"
           }
          ],
          "scattermapbox": [
           {
            "marker": {
             "colorbar": {
              "outlinewidth": 0,
              "ticks": ""
             }
            },
            "type": "scattermapbox"
           }
          ],
          "scatterpolar": [
           {
            "marker": {
             "colorbar": {
              "outlinewidth": 0,
              "ticks": ""
             }
            },
            "type": "scatterpolar"
           }
          ],
          "scatterpolargl": [
           {
            "marker": {
             "colorbar": {
              "outlinewidth": 0,
              "ticks": ""
             }
            },
            "type": "scatterpolargl"
           }
          ],
          "scatterternary": [
           {
            "marker": {
             "colorbar": {
              "outlinewidth": 0,
              "ticks": ""
             }
            },
            "type": "scatterternary"
           }
          ],
          "surface": [
           {
            "colorbar": {
             "outlinewidth": 0,
             "ticks": ""
            },
            "colorscale": [
             [
              0,
              "#0d0887"
             ],
             [
              0.1111111111111111,
              "#46039f"
             ],
             [
              0.2222222222222222,
              "#7201a8"
             ],
             [
              0.3333333333333333,
              "#9c179e"
             ],
             [
              0.4444444444444444,
              "#bd3786"
             ],
             [
              0.5555555555555556,
              "#d8576b"
             ],
             [
              0.6666666666666666,
              "#ed7953"
             ],
             [
              0.7777777777777778,
              "#fb9f3a"
             ],
             [
              0.8888888888888888,
              "#fdca26"
             ],
             [
              1,
              "#f0f921"
             ]
            ],
            "type": "surface"
           }
          ],
          "table": [
           {
            "cells": {
             "fill": {
              "color": "#EBF0F8"
             },
             "line": {
              "color": "white"
             }
            },
            "header": {
             "fill": {
              "color": "#C8D4E3"
             },
             "line": {
              "color": "white"
             }
            },
            "type": "table"
           }
          ]
         },
         "layout": {
          "annotationdefaults": {
           "arrowcolor": "#2a3f5f",
           "arrowhead": 0,
           "arrowwidth": 1
          },
          "autotypenumbers": "strict",
          "coloraxis": {
           "colorbar": {
            "outlinewidth": 0,
            "ticks": ""
           }
          },
          "colorscale": {
           "diverging": [
            [
             0,
             "#8e0152"
            ],
            [
             0.1,
             "#c51b7d"
            ],
            [
             0.2,
             "#de77ae"
            ],
            [
             0.3,
             "#f1b6da"
            ],
            [
             0.4,
             "#fde0ef"
            ],
            [
             0.5,
             "#f7f7f7"
            ],
            [
             0.6,
             "#e6f5d0"
            ],
            [
             0.7,
             "#b8e186"
            ],
            [
             0.8,
             "#7fbc41"
            ],
            [
             0.9,
             "#4d9221"
            ],
            [
             1,
             "#276419"
            ]
           ],
           "sequential": [
            [
             0,
             "#0d0887"
            ],
            [
             0.1111111111111111,
             "#46039f"
            ],
            [
             0.2222222222222222,
             "#7201a8"
            ],
            [
             0.3333333333333333,
             "#9c179e"
            ],
            [
             0.4444444444444444,
             "#bd3786"
            ],
            [
             0.5555555555555556,
             "#d8576b"
            ],
            [
             0.6666666666666666,
             "#ed7953"
            ],
            [
             0.7777777777777778,
             "#fb9f3a"
            ],
            [
             0.8888888888888888,
             "#fdca26"
            ],
            [
             1,
             "#f0f921"
            ]
           ],
           "sequentialminus": [
            [
             0,
             "#0d0887"
            ],
            [
             0.1111111111111111,
             "#46039f"
            ],
            [
             0.2222222222222222,
             "#7201a8"
            ],
            [
             0.3333333333333333,
             "#9c179e"
            ],
            [
             0.4444444444444444,
             "#bd3786"
            ],
            [
             0.5555555555555556,
             "#d8576b"
            ],
            [
             0.6666666666666666,
             "#ed7953"
            ],
            [
             0.7777777777777778,
             "#fb9f3a"
            ],
            [
             0.8888888888888888,
             "#fdca26"
            ],
            [
             1,
             "#f0f921"
            ]
           ]
          },
          "colorway": [
           "#636efa",
           "#EF553B",
           "#00cc96",
           "#ab63fa",
           "#FFA15A",
           "#19d3f3",
           "#FF6692",
           "#B6E880",
           "#FF97FF",
           "#FECB52"
          ],
          "font": {
           "color": "#2a3f5f"
          },
          "geo": {
           "bgcolor": "white",
           "lakecolor": "white",
           "landcolor": "#E5ECF6",
           "showlakes": true,
           "showland": true,
           "subunitcolor": "white"
          },
          "hoverlabel": {
           "align": "left"
          },
          "hovermode": "closest",
          "mapbox": {
           "style": "light"
          },
          "paper_bgcolor": "white",
          "plot_bgcolor": "#E5ECF6",
          "polar": {
           "angularaxis": {
            "gridcolor": "white",
            "linecolor": "white",
            "ticks": ""
           },
           "bgcolor": "#E5ECF6",
           "radialaxis": {
            "gridcolor": "white",
            "linecolor": "white",
            "ticks": ""
           }
          },
          "scene": {
           "xaxis": {
            "backgroundcolor": "#E5ECF6",
            "gridcolor": "white",
            "gridwidth": 2,
            "linecolor": "white",
            "showbackground": true,
            "ticks": "",
            "zerolinecolor": "white"
           },
           "yaxis": {
            "backgroundcolor": "#E5ECF6",
            "gridcolor": "white",
            "gridwidth": 2,
            "linecolor": "white",
            "showbackground": true,
            "ticks": "",
            "zerolinecolor": "white"
           },
           "zaxis": {
            "backgroundcolor": "#E5ECF6",
            "gridcolor": "white",
            "gridwidth": 2,
            "linecolor": "white",
            "showbackground": true,
            "ticks": "",
            "zerolinecolor": "white"
           }
          },
          "shapedefaults": {
           "line": {
            "color": "#2a3f5f"
           }
          },
          "ternary": {
           "aaxis": {
            "gridcolor": "white",
            "linecolor": "white",
            "ticks": ""
           },
           "baxis": {
            "gridcolor": "white",
            "linecolor": "white",
            "ticks": ""
           },
           "bgcolor": "#E5ECF6",
           "caxis": {
            "gridcolor": "white",
            "linecolor": "white",
            "ticks": ""
           }
          },
          "title": {
           "x": 0.05
          },
          "xaxis": {
           "automargin": true,
           "gridcolor": "white",
           "linecolor": "white",
           "ticks": "",
           "title": {
            "standoff": 15
           },
           "zerolinecolor": "white",
           "zerolinewidth": 2
          },
          "yaxis": {
           "automargin": true,
           "gridcolor": "white",
           "linecolor": "white",
           "ticks": "",
           "title": {
            "standoff": 15
           },
           "zerolinecolor": "white",
           "zerolinewidth": 2
          }
         }
        },
        "title": {
         "text": "Hit distance to Y89 vs loop inwardness"
        },
        "xaxis": {
         "anchor": "y",
         "autorange": true,
         "domain": [
          0,
          1
         ],
         "range": [
          1.7935922085839553,
          11.811162239353056
         ],
         "title": {
          "text": "Y89.OH-S125.O_distance"
         },
         "type": "linear"
        },
        "yaxis": {
         "anchor": "x",
         "autorange": true,
         "domain": [
          0,
          1
         ],
         "range": [
          -0.3385722557724504,
          28.87352656341705
         ],
         "title": {
          "text": "Y89_distance"
         },
         "type": "linear"
        }
       }
      },
      "image/png": "[encoded data removed]",
      "text/html": [
       "<div>                            <div id=\"b6f8a24e-9f5f-4214-b569-61564e8efb13\" class=\"plotly-graph-div\" style=\"height:525px; width:100%;\"></div>            <script type=\"text/javascript\">                require([\"plotly\"], function(Plotly) {                    window.PLOTLYENV=window.PLOTLYENV || {};                                    if (document.getElementById(\"b6f8a24e-9f5f-4214-b569-61564e8efb13\")) {                    Plotly.newPlot(                        \"b6f8a24e-9f5f-4214-b569-61564e8efb13\",                        [{\"hovertemplate\":\"Y89.OH-S125.O_distance=%{x}\\u003cbr\\u003eY89_distance=%{y}\\u003cbr\\u003eXChem_code=%{text}\\u003cextra\\u003e\\u003c\\u002fextra\\u003e\",\"legendgroup\":\"\",\"marker\":{\"color\":\"#636efa\",\"symbol\":\"circle\"},\"mode\":\"markers+text\",\"name\":\"\",\"orientation\":\"v\",\"showlegend\":false,\"text\":[\"x0451_0A\",\"x0469_0A\",\"x0473_0A\",\"x0486_0A\",\"x0517_0A\",\"x0525_0A\",\"x0526_0A\",\"x0540_0A\",\"x0541_0A\",\"x0554_0A\",\"x0554_1A\",\"x0554_2A\",\"x0556_0A\",\"x0566_0A\",\"x0586_0A\",\"x0269_0A\",\"x0269_1A\",\"x0278_0A\",\"x0278_1A\",\"x0305_0A\",\"x0309_0A\",\"x0310_0A\",\"x0326_0A\",\"x0608_0A\",\"x0608_1A\",\"x0691_0A\",\"x0152_0A\",\"x0152_1A\",\"x0188_0A\",\"x0202_0A\",\"x0211_0A\",\"x0211_1A\",\"x0211_2A\",\"x0228_0A\",\"x0229_0A\",\"x0229_1A\",\"x0239_0A\",\"x0332_0A\",\"x0341_0A\",\"x0341_1A\",\"x0354_0A\",\"x0359_0A\",\"x0379_0A\",\"x0395_0A\",\"x0395_1A\",\"x0396_0A\",\"x0412_0A\",\"x0416_0A\",\"x0428_0A\"],\"x\":[9.225109100341797,2.6594223976135254,2.7219200134277344,2.7151288986206055,2.6315619945526123,2.6583120822906494,2.703523635864258,2.685433864593506,2.6811885833740234,9.762874603271484,9.762874603271484,9.762874603271484,2.606262683868408,9.660783767700195,2.6514201164245605,9.6895751953125,9.6895751953125,2.6941494941711426,2.6941494941711426,2.6589953899383545,2.5068359375,11.24988842010498,2.6015067100524902,2.4563071727752686,2.4563071727752686,2.722935914993286,2.731381893157959,2.731381893157959,2.6748485565185547,2.6582963466644287,2.6691675186157227,2.6691675186157227,2.6691675186157227,2.653625726699829,2.6539430618286133,2.6539430618286133,2.6897096633911133,2.6546075344085693,9.766204833984375,9.766204833984375,2.694944143295288,2.68394136428833,2.3548660278320312,9.764176368713379,9.764176368713379,2.6438679695129395,2.6625816822052,2.5876712799072266,2.666689395904541],\"xaxis\":\"x\",\"y\":[3.9043614074519293,1.9827296840467172,12.435363806499593,19.84896684968767,16.75328161883516,2.1424703031780865,12.876076149200113,2.0161145800772338,18.575586370287212,3.996862519527036,20.629811947761425,26.95648257840774,7.639499001897966,5.314752016792507,17.90677480731804,26.665899084786172,19.001971502978314,1.5784717292368609,18.324781935946742,18.080345931425096,21.266022359623342,2.4385454681018364,20.68539052084828,19.93559710668331,20.005554853590038,18.442567825549673,12.447817921226191,1.987008807227589,17.697748020581603,15.350788220804818,1.870575045273511,26.042995853011995,18.03620040363269,1.6660408158265505,17.829736537593593,2.044982640513117,19.779939762294525,18.071647794266024,26.76395094151833,19.822948645446267,18.240000301535083,2.019070578261197,10.261948937701844,26.705378821503356,18.426281800732344,22.304207428196143,4.337167970000702,6.906349614666202,18.31064512790306],\"yaxis\":\"y\",\"type\":\"scatter\",\"textfont\":{\"size\":10},\"textposition\":\"middle right\"}],                        {\"template\":{\"data\":{\"histogram2dcontour\":[{\"type\":\"histogram2dcontour\",\"colorbar\":{\"outlinewidth\":0,\"ticks\":\"\"},\"colorscale\":[[0.0,\"#0d0887\"],[0.1111111111111111,\"#46039f\"],[0.2222222222222222,\"#7201a8\"],[0.3333333333333333,\"#9c179e\"],[0.4444444444444444,\"#bd3786\"],[0.5555555555555556,\"#d8576b\"],[0.6666666666666666,\"#ed7953\"],[0.7777777777777778,\"#fb9f3a\"],[0.8888888888888888,\"#fdca26\"],[1.0,\"#f0f921\"]]}],\"choropleth\":[{\"type\":\"choropleth\",\"colorbar\":{\"outlinewidth\":0,\"ticks\":\"\"}}],\"histogram2d\":[{\"type\":\"histogram2d\",\"colorbar\":{\"outlinewidth\":0,\"ticks\":\"\"},\"colorscale\":[[0.0,\"#0d0887\"],[0.1111111111111111,\"#46039f\"],[0.2222222222222222,\"#7201a8\"],[0.3333333333333333,\"#9c179e\"],[0.4444444444444444,\"#bd3786\"],[0.5555555555555556,\"#d8576b\"],[0.6666666666666666,\"#ed7953\"],[0.7777777777777778,\"#fb9f3a\"],[0.8888888888888888,\"#fdca26\"],[1.0,\"#f0f921\"]]}],\"heatmap\":[{\"type\":\"heatmap\",\"colorbar\":{\"outlinewidth\":0,\"ticks\":\"\"},\"colorscale\":[[0.0,\"#0d0887\"],[0.1111111111111111,\"#46039f\"],[0.2222222222222222,\"#7201a8\"],[0.3333333333333333,\"#9c179e\"],[0.4444444444444444,\"#bd3786\"],[0.5555555555555556,\"#d8576b\"],[0.6666666666666666,\"#ed7953\"],[0.7777777777777778,\"#fb9f3a\"],[0.8888888888888888,\"#fdca26\"],[1.0,\"#f0f921\"]]}],\"heatmapgl\":[{\"type\":\"heatmapgl\",\"colorbar\":{\"outlinewidth\":0,\"ticks\":\"\"},\"colorscale\":[[0.0,\"#0d0887\"],[0.1111111111111111,\"#46039f\"],[0.2222222222222222,\"#7201a8\"],[0.3333333333333333,\"#9c179e\"],[0.4444444444444444,\"#bd3786\"],[0.5555555555555556,\"#d8576b\"],[0.6666666666666666,\"#ed7953\"],[0.7777777777777778,\"#fb9f3a\"],[0.8888888888888888,\"#fdca26\"],[1.0,\"#f0f921\"]]}],\"contourcarpet\":[{\"type\":\"contourcarpet\",\"colorbar\":{\"outlinewidth\":0,\"ticks\":\"\"}}],\"contour\":[{\"type\":\"contour\",\"colorbar\":{\"outlinewidth\":0,\"ticks\":\"\"},\"colorscale\":[[0.0,\"#0d0887\"],[0.1111111111111111,\"#46039f\"],[0.2222222222222222,\"#7201a8\"],[0.3333333333333333,\"#9c179e\"],[0.4444444444444444,\"#bd3786\"],[0.5555555555555556,\"#d8576b\"],[0.6666666666666666,\"#ed7953\"],[0.7777777777777778,\"#fb9f3a\"],[0.8888888888888888,\"#fdca26\"],[1.0,\"#f0f921\"]]}],\"surface\":[{\"type\":\"surface\",\"colorbar\":{\"outlinewidth\":0,\"ticks\":\"\"},\"colorscale\":[[0.0,\"#0d0887\"],[0.1111111111111111,\"#46039f\"],[0.2222222222222222,\"#7201a8\"],[0.3333333333333333,\"#9c179e\"],[0.4444444444444444,\"#bd3786\"],[0.5555555555555556,\"#d8576b\"],[0.6666666666666666,\"#ed7953\"],[0.7777777777777778,\"#fb9f3a\"],[0.8888888888888888,\"#fdca26\"],[1.0,\"#f0f921\"]]}],\"mesh3d\":[{\"type\":\"mesh3d\",\"colorbar\":{\"outlinewidth\":0,\"ticks\":\"\"}}],\"scatter\":[{\"fillpattern\":{\"fillmode\":\"overlay\",\"size\":10,\"solidity\":0.2},\"type\":\"scatter\"}],\"parcoords\":[{\"type\":\"parcoords\",\"line\":{\"colorbar\":{\"outlinewidth\":0,\"ticks\":\"\"}}}],\"scatterpolargl\":[{\"type\":\"scatterpolargl\",\"marker\":{\"colorbar\":{\"outlinewidth\":0,\"ticks\":\"\"}}}],\"bar\":[{\"error_x\":{\"color\":\"#2a3f5f\"},\"error_y\":{\"color\":\"#2a3f5f\"},\"marker\":{\"line\":{\"color\":\"#E5ECF6\",\"width\":0.5},\"pattern\":{\"fillmode\":\"overlay\",\"size\":10,\"solidity\":0.2}},\"type\":\"bar\"}],\"scattergeo\":[{\"type\":\"scattergeo\",\"marker\":{\"colorbar\":{\"outlinewidth\":0,\"ticks\":\"\"}}}],\"scatterpolar\":[{\"type\":\"scatterpolar\",\"marker\":{\"colorbar\":{\"outlinewidth\":0,\"ticks\":\"\"}}}],\"histogram\":[{\"marker\":{\"pattern\":{\"fillmode\":\"overlay\",\"size\":10,\"solidity\":0.2}},\"type\":\"histogram\"}],\"scattergl\":[{\"type\":\"scattergl\",\"marker\":{\"colorbar\":{\"outlinewidth\":0,\"ticks\":\"\"}}}],\"scatter3d\":[{\"type\":\"scatter3d\",\"line\":{\"colorbar\":{\"outlinewidth\":0,\"ticks\":\"\"}},\"marker\":{\"colorbar\":{\"outlinewidth\":0,\"ticks\":\"\"}}}],\"scattermapbox\":[{\"type\":\"scattermapbox\",\"marker\":{\"colorbar\":{\"outlinewidth\":0,\"ticks\":\"\"}}}],\"scatterternary\":[{\"type\":\"scatterternary\",\"marker\":{\"colorbar\":{\"outlinewidth\":0,\"ticks\":\"\"}}}],\"scattercarpet\":[{\"type\":\"scattercarpet\",\"marker\":{\"colorbar\":{\"outlinewidth\":0,\"ticks\":\"\"}}}],\"carpet\":[{\"aaxis\":{\"endlinecolor\":\"#2a3f5f\",\"gridcolor\":\"white\",\"linecolor\":\"white\",\"minorgridcolor\":\"white\",\"startlinecolor\":\"#2a3f5f\"},\"baxis\":{\"endlinecolor\":\"#2a3f5f\",\"gridcolor\":\"white\",\"linecolor\":\"white\",\"minorgridcolor\":\"white\",\"startlinecolor\":\"#2a3f5f\"},\"type\":\"carpet\"}],\"table\":[{\"cells\":{\"fill\":{\"color\":\"#EBF0F8\"},\"line\":{\"color\":\"white\"}},\"header\":{\"fill\":{\"color\":\"#C8D4E3\"},\"line\":{\"color\":\"white\"}},\"type\":\"table\"}],\"barpolar\":[{\"marker\":{\"line\":{\"color\":\"#E5ECF6\",\"width\":0.5},\"pattern\":{\"fillmode\":\"overlay\",\"size\":10,\"solidity\":0.2}},\"type\":\"barpolar\"}],\"pie\":[{\"automargin\":true,\"type\":\"pie\"}]},\"layout\":{\"autotypenumbers\":\"strict\",\"colorway\":[\"#636efa\",\"#EF553B\",\"#00cc96\",\"#ab63fa\",\"#FFA15A\",\"#19d3f3\",\"#FF6692\",\"#B6E880\",\"#FF97FF\",\"#FECB52\"],\"font\":{\"color\":\"#2a3f5f\"},\"hovermode\":\"closest\",\"hoverlabel\":{\"align\":\"left\"},\"paper_bgcolor\":\"white\",\"plot_bgcolor\":\"#E5ECF6\",\"polar\":{\"bgcolor\":\"#E5ECF6\",\"angularaxis\":{\"gridcolor\":\"white\",\"linecolor\":\"white\",\"ticks\":\"\"},\"radialaxis\":{\"gridcolor\":\"white\",\"linecolor\":\"white\",\"ticks\":\"\"}},\"ternary\":{\"bgcolor\":\"#E5ECF6\",\"aaxis\":{\"gridcolor\":\"white\",\"linecolor\":\"white\",\"ticks\":\"\"},\"baxis\":{\"gridcolor\":\"white\",\"linecolor\":\"white\",\"ticks\":\"\"},\"caxis\":{\"gridcolor\":\"white\",\"linecolor\":\"white\",\"ticks\":\"\"}},\"coloraxis\":{\"colorbar\":{\"outlinewidth\":0,\"ticks\":\"\"}},\"colorscale\":{\"sequential\":[[0.0,\"#0d0887\"],[0.1111111111111111,\"#46039f\"],[0.2222222222222222,\"#7201a8\"],[0.3333333333333333,\"#9c179e\"],[0.4444444444444444,\"#bd3786\"],[0.5555555555555556,\"#d8576b\"],[0.6666666666666666,\"#ed7953\"],[0.7777777777777778,\"#fb9f3a\"],[0.8888888888888888,\"#fdca26\"],[1.0,\"#f0f921\"]],\"sequentialminus\":[[0.0,\"#0d0887\"],[0.1111111111111111,\"#46039f\"],[0.2222222222222222,\"#7201a8\"],[0.3333333333333333,\"#9c179e\"],[0.4444444444444444,\"#bd3786\"],[0.5555555555555556,\"#d8576b\"],[0.6666666666666666,\"#ed7953\"],[0.7777777777777778,\"#fb9f3a\"],[0.8888888888888888,\"#fdca26\"],[1.0,\"#f0f921\"]],\"diverging\":[[0,\"#8e0152\"],[0.1,\"#c51b7d\"],[0.2,\"#de77ae\"],[0.3,\"#f1b6da\"],[0.4,\"#fde0ef\"],[0.5,\"#f7f7f7\"],[0.6,\"#e6f5d0\"],[0.7,\"#b8e186\"],[0.8,\"#7fbc41\"],[0.9,\"#4d9221\"],[1,\"#276419\"]]},\"xaxis\":{\"gridcolor\":\"white\",\"linecolor\":\"white\",\"ticks\":\"\",\"title\":{\"standoff\":15},\"zerolinecolor\":\"white\",\"automargin\":true,\"zerolinewidth\":2},\"yaxis\":{\"gridcolor\":\"white\",\"linecolor\":\"white\",\"ticks\":\"\",\"title\":{\"standoff\":15},\"zerolinecolor\":\"white\",\"automargin\":true,\"zerolinewidth\":2},\"scene\":{\"xaxis\":{\"backgroundcolor\":\"#E5ECF6\",\"gridcolor\":\"white\",\"linecolor\":\"white\",\"showbackground\":true,\"ticks\":\"\",\"zerolinecolor\":\"white\",\"gridwidth\":2},\"yaxis\":{\"backgroundcolor\":\"#E5ECF6\",\"gridcolor\":\"white\",\"linecolor\":\"white\",\"showbackground\":true,\"ticks\":\"\",\"zerolinecolor\":\"white\",\"gridwidth\":2},\"zaxis\":{\"backgroundcolor\":\"#E5ECF6\",\"gridcolor\":\"white\",\"linecolor\":\"white\",\"showbackground\":true,\"ticks\":\"\",\"zerolinecolor\":\"white\",\"gridwidth\":2}},\"shapedefaults\":{\"line\":{\"color\":\"#2a3f5f\"}},\"annotationdefaults\":{\"arrowcolor\":\"#2a3f5f\",\"arrowhead\":0,\"arrowwidth\":1},\"geo\":{\"bgcolor\":\"white\",\"landcolor\":\"#E5ECF6\",\"subunitcolor\":\"white\",\"showland\":true,\"showlakes\":true,\"lakecolor\":\"white\"},\"title\":{\"x\":0.05},\"mapbox\":{\"style\":\"light\"}}},\"xaxis\":{\"anchor\":\"y\",\"domain\":[0.0,1.0],\"title\":{\"text\":\"Y89.OH-S125.O_distance\"}},\"yaxis\":{\"anchor\":\"x\",\"domain\":[0.0,1.0],\"title\":{\"text\":\"Y89_distance\"}},\"legend\":{\"tracegroupgap\":0},\"title\":{\"text\":\"Hit distance to Y89 vs loop inwardness\"}},                        {\"responsive\": true}                    ).then(function(){\n",
       "                            \n",
       "var gd = document.getElementById('b6f8a24e-9f5f-4214-b569-61564e8efb13');\n",
       "var x = new MutationObserver(function (mutations, observer) {{\n",
       "        var display = window.getComputedStyle(gd).display;\n",
       "        if (!display || display === 'none') {{\n",
       "            console.log([gd, 'removed!']);\n",
       "            Plotly.purge(gd);\n",
       "            observer.disconnect();\n",
       "        }}\n",
       "}});\n",
       "\n",
       "// Listen for the removal of the full notebook cells\n",
       "var notebookContainer = gd.closest('#notebook-container');\n",
       "if (notebookContainer) {{\n",
       "    x.observe(notebookContainer, {childList: true});\n",
       "}}\n",
       "\n",
       "// Listen for the clearing of the current output cell\n",
       "var outputEl = gd.closest('.output');\n",
       "if (outputEl) {{\n",
       "    x.observe(outputEl, {childList: true});\n",
       "}}\n",
       "\n",
       "                        })                };                });            </script>        </div>"
      ]
     },
     "metadata": {},
     "output_type": "display_data"
    }
   ],
   "source": [
    "fig = px.scatter(metadata.drop_duplicates(), 'Y89.OH-S125.O_distance','Y89_distance',\n",
    "           text='XChem_code',\n",
    "           title='Hit distance to Y89 vs loop inwardness')\n",
    "\n",
    "fig.update_traces(textposition='middle right', textfont_size=10)\n",
    "fig"
   ]
  },
  {
   "cell_type": "code",
   "execution_count": 80,
   "id": "e9271f0b-5fe2-4109-a599-dc111939d463",
   "metadata": {},
   "outputs": [
    {
     "name": "stdout",
     "output_type": "stream",
     "text": [
      "['x0469_0A', 'x0473_0A', 'x0486_0A', 'x0517_0A', 'x0525_0A', 'x0526_0A', 'x0540_0A', 'x0541_0A', 'x0556_0A', 'x0586_0A', 'x0278_0A', 'x0278_1A', 'x0305_0A', 'x0309_0A', 'x0326_0A', 'x0608_0A', 'x0608_1A', 'x0691_0A', 'x0152_0A', 'x0152_1A', 'x0188_0A', 'x0202_0A', 'x0211_0A', 'x0211_1A', 'x0211_2A', 'x0228_0A', 'x0229_0A', 'x0229_1A', 'x0239_0A', 'x0332_0A', 'x0354_0A', 'x0359_0A', 'x0379_0A', 'x0396_0A', 'x0412_0A', 'x0416_0A', 'x0428_0A']\n"
     ]
    }
   ],
   "source": [
    "print(metadata.loc[metadata['Y89.OH-S125.O_distance'] < 9].XChem_code.to_list())"
   ]
  },
  {
   "cell_type": "code",
   "execution_count": 134,
   "id": "2a99046b-83ef-4036-9061-6df756bca740",
   "metadata": {},
   "outputs": [
    {
     "data": {
      "image/png": "[encoded data removed]",
      "text/plain": [
       "<IPython.core.display.Image object>"
      ]
     },
     "execution_count": 134,
     "metadata": {},
     "output_type": "execute_result"
    }
   ],
   "source": [
    "sub = metadata.loc[metadata['P1_distance'] < 2]\n",
    "Draw.MolsToGridImage(sub.crystal, legends=sub.XChem_code.to_list())"
   ]
  },
  {
   "cell_type": "code",
   "execution_count": 110,
   "id": "2a202bec-dd1a-4f3b-a5a6-be76d6305e2b",
   "metadata": {},
   "outputs": [],
   "source": [
    "with pymol2.PyMOL() as pymol:\n",
    "    pymol.cmd.load(reference, 'reference')\n",
    "    pymol.cmd.remove('resn LIG')\n",
    "    pymol.cmd.bg_color('white')\n",
    "    pymol.cmd.set('ray_trace_mode', 3)\n",
    "    pymol.cmd.color('white', 'element C')\n",
    "    pymol.cmd.show('sticks', 'chain A and resi 21+110+39+89+90')\n",
    "    pymol.cmd.hide('nonbonded')\n",
    "    for name, row in metadata.iterrows():\n",
    "        pymol.cmd.read_molstr(Chem.MolToMolBlock(row.crystal), row.XChem_code)\n",
    "        if row['Y89.OH-S125.O_distance'] > 9:\n",
    "            pymol.cmd.color('0x40E0D0', f'{row.XChem_code} and element C')\n",
    "        else:\n",
    "            pymol.cmd.color('0xFA8072', f'{row.XChem_code} and element C')\n",
    "    pymol.cmd.save('pose_typed.pse')"
   ]
  },
  {
   "cell_type": "code",
   "execution_count": 7,
   "id": "927546cf-dadd-4614-b6e4-6fdc4b1bf82e",
   "metadata": {},
   "outputs": [],
   "source": []
  },
  {
   "cell_type": "code",
   "execution_count": 88,
   "id": "1ce93ab3-01e1-4b9e-9e0b-21a571589558",
   "metadata": {},
   "outputs": [
    {
     "data": {
      "application/vnd.plotly.v1+json": {
       "config": {
        "plotlyServerURL": "https://plot.ly"
       },
       "data": [
        {
         "hovertemplate": "P1_distance=%{x}<br>P2_distance=%{y}<extra></extra>",
         "legendgroup": "",
         "marker": {
          "color": "#636efa",
          "symbol": "circle"
         },
         "mode": "markers",
         "name": "",
         "orientation": "v",
         "showlegend": false,
         "type": "scatter",
         "x": [
          0.2933700734567167,
          7.924574751997738,
          6.212639052769767,
          20.87604148300151,
          17.901075526347572,
          7.8138258874894335,
          5.907336032426121,
          8.001403501886406,
          16.996806229406747,
          0.6617922634785005,
          13.573346123929795,
          18.790009419901843,
          0.7413346073130523,
          0.4528277818332259,
          16.309667961059173,
          18.397344020265535,
          13.842609616687167,
          7.134973650967468,
          16.86399329933453,
          16.453674240120353,
          22.919592099337198,
          0.8631552583400047,
          21.56582245127693,
          20.664113070732075,
          20.72163883480262,
          17.429152962780496,
          9.569594871257612,
          7.718146409598618,
          16.52818907200665,
          11.871312311619132,
          7.80635657653428,
          19.865082884297262,
          16.932262843459526,
          7.495258768047972,
          16.406884835336662,
          7.706908718805486,
          20.79008701280493,
          16.951146185435366,
          18.66615297805094,
          14.076710517731051,
          16.552506456727333,
          7.878190020556753,
          15.039676160077386,
          18.39671723433287,
          13.87729325192777,
          15.84484600745618,
          8.547741514575646,
          0.7648038964335874,
          16.9074511976229
         ],
         "xaxis": "x",
         "y": [
          0.2933700734567167,
          7.11444052614118,
          6.212639052769767,
          16.48158323705584,
          16.252212495534263,
          6.568603276191979,
          5.907336032426121,
          6.711526055972664,
          13.97118498911241,
          0.6617922634785005,
          13.573346123929795,
          18.790009419901843,
          0.7413346073130523,
          0.4528277818332259,
          13.346787066556503,
          18.397344020265535,
          13.842609616687167,
          6.552358048824868,
          13.79897996230156,
          13.486420800197505,
          18.37630773577761,
          0.8631552583400047,
          17.204963992987608,
          16.355022500748813,
          16.419788366480248,
          14.240715466576809,
          8.833696564858904,
          6.780963795803662,
          13.416869754156517,
          11.70189753843367,
          6.927854574108784,
          19.865082884297262,
          14.017282867945555,
          6.530286517450824,
          13.354390738629748,
          6.510292159342774,
          16.37642799880365,
          13.815408607782832,
          18.66615297805094,
          14.076710517731051,
          13.591872792224033,
          6.635129388339009,
          9.673758990175434,
          18.39671723433287,
          13.87729325192777,
          15.84484600745618,
          6.689769203791711,
          0.7648038964335874,
          13.816401991835646
         ],
         "yaxis": "y"
        }
       ],
       "layout": {
        "autosize": true,
        "legend": {
         "tracegroupgap": 0
        },
        "margin": {
         "t": 60
        },
        "template": {
         "data": {
          "bar": [
           {
            "error_x": {
             "color": "#2a3f5f"
            },
            "error_y": {
             "color": "#2a3f5f"
            },
            "marker": {
             "line": {
              "color": "#E5ECF6",
              "width": 0.5
             },
             "pattern": {
              "fillmode": "overlay",
              "size": 10,
              "solidity": 0.2
             }
            },
            "type": "bar"
           }
          ],
          "barpolar": [
           {
            "marker": {
             "line": {
              "color": "#E5ECF6",
              "width": 0.5
             },
             "pattern": {
              "fillmode": "overlay",
              "size": 10,
              "solidity": 0.2
             }
            },
            "type": "barpolar"
           }
          ],
          "carpet": [
           {
            "aaxis": {
             "endlinecolor": "#2a3f5f",
             "gridcolor": "white",
             "linecolor": "white",
             "minorgridcolor": "white",
             "startlinecolor": "#2a3f5f"
            },
            "baxis": {
             "endlinecolor": "#2a3f5f",
             "gridcolor": "white",
             "linecolor": "white",
             "minorgridcolor": "white",
             "startlinecolor": "#2a3f5f"
            },
            "type": "carpet"
           }
          ],
          "choropleth": [
           {
            "colorbar": {
             "outlinewidth": 0,
             "ticks": ""
            },
            "type": "choropleth"
           }
          ],
          "contour": [
           {
            "colorbar": {
             "outlinewidth": 0,
             "ticks": ""
            },
            "colorscale": [
             [
              0,
              "#0d0887"
             ],
             [
              0.1111111111111111,
              "#46039f"
             ],
             [
              0.2222222222222222,
              "#7201a8"
             ],
             [
              0.3333333333333333,
              "#9c179e"
             ],
             [
              0.4444444444444444,
              "#bd3786"
             ],
             [
              0.5555555555555556,
              "#d8576b"
             ],
             [
              0.6666666666666666,
              "#ed7953"
             ],
             [
              0.7777777777777778,
              "#fb9f3a"
             ],
             [
              0.8888888888888888,
              "#fdca26"
             ],
             [
              1,
              "#f0f921"
             ]
            ],
            "type": "contour"
           }
          ],
          "contourcarpet": [
           {
            "colorbar": {
             "outlinewidth": 0,
             "ticks": ""
            },
            "type": "contourcarpet"
           }
          ],
          "heatmap": [
           {
            "colorbar": {
             "outlinewidth": 0,
             "ticks": ""
            },
            "colorscale": [
             [
              0,
              "#0d0887"
             ],
             [
              0.1111111111111111,
              "#46039f"
             ],
             [
              0.2222222222222222,
              "#7201a8"
             ],
             [
              0.3333333333333333,
              "#9c179e"
             ],
             [
              0.4444444444444444,
              "#bd3786"
             ],
             [
              0.5555555555555556,
              "#d8576b"
             ],
             [
              0.6666666666666666,
              "#ed7953"
             ],
             [
              0.7777777777777778,
              "#fb9f3a"
             ],
             [
              0.8888888888888888,
              "#fdca26"
             ],
             [
              1,
              "#f0f921"
             ]
            ],
            "type": "heatmap"
           }
          ],
          "heatmapgl": [
           {
            "colorbar": {
             "outlinewidth": 0,
             "ticks": ""
            },
            "colorscale": [
             [
              0,
              "#0d0887"
             ],
             [
              0.1111111111111111,
              "#46039f"
             ],
             [
              0.2222222222222222,
              "#7201a8"
             ],
             [
              0.3333333333333333,
              "#9c179e"
             ],
             [
              0.4444444444444444,
              "#bd3786"
             ],
             [
              0.5555555555555556,
              "#d8576b"
             ],
             [
              0.6666666666666666,
              "#ed7953"
             ],
             [
              0.7777777777777778,
              "#fb9f3a"
             ],
             [
              0.8888888888888888,
              "#fdca26"
             ],
             [
              1,
              "#f0f921"
             ]
            ],
            "type": "heatmapgl"
           }
          ],
          "histogram": [
           {
            "marker": {
             "pattern": {
              "fillmode": "overlay",
              "size": 10,
              "solidity": 0.2
             }
            },
            "type": "histogram"
           }
          ],
          "histogram2d": [
           {
            "colorbar": {
             "outlinewidth": 0,
             "ticks": ""
            },
            "colorscale": [
             [
              0,
              "#0d0887"
             ],
             [
              0.1111111111111111,
              "#46039f"
             ],
             [
              0.2222222222222222,
              "#7201a8"
             ],
             [
              0.3333333333333333,
              "#9c179e"
             ],
             [
              0.4444444444444444,
              "#bd3786"
             ],
             [
              0.5555555555555556,
              "#d8576b"
             ],
             [
              0.6666666666666666,
              "#ed7953"
             ],
             [
              0.7777777777777778,
              "#fb9f3a"
             ],
             [
              0.8888888888888888,
              "#fdca26"
             ],
             [
              1,
              "#f0f921"
             ]
            ],
            "type": "histogram2d"
           }
          ],
          "histogram2dcontour": [
           {
            "colorbar": {
             "outlinewidth": 0,
             "ticks": ""
            },
            "colorscale": [
             [
              0,
              "#0d0887"
             ],
             [
              0.1111111111111111,
              "#46039f"
             ],
             [
              0.2222222222222222,
              "#7201a8"
             ],
             [
              0.3333333333333333,
              "#9c179e"
             ],
             [
              0.4444444444444444,
              "#bd3786"
             ],
             [
              0.5555555555555556,
              "#d8576b"
             ],
             [
              0.6666666666666666,
              "#ed7953"
             ],
             [
              0.7777777777777778,
              "#fb9f3a"
             ],
             [
              0.8888888888888888,
              "#fdca26"
             ],
             [
              1,
              "#f0f921"
             ]
            ],
            "type": "histogram2dcontour"
           }
          ],
          "mesh3d": [
           {
            "colorbar": {
             "outlinewidth": 0,
             "ticks": ""
            },
            "type": "mesh3d"
           }
          ],
          "parcoords": [
           {
            "line": {
             "colorbar": {
              "outlinewidth": 0,
              "ticks": ""
             }
            },
            "type": "parcoords"
           }
          ],
          "pie": [
           {
            "automargin": true,
            "type": "pie"
           }
          ],
          "scatter": [
           {
            "fillpattern": {
             "fillmode": "overlay",
             "size": 10,
             "solidity": 0.2
            },
            "type": "scatter"
           }
          ],
          "scatter3d": [
           {
            "line": {
             "colorbar": {
              "outlinewidth": 0,
              "ticks": ""
             }
            },
            "marker": {
             "colorbar": {
              "outlinewidth": 0,
              "ticks": ""
             }
            },
            "type": "scatter3d"
           }
          ],
          "scattercarpet": [
           {
            "marker": {
             "colorbar": {
              "outlinewidth": 0,
              "ticks": ""
             }
            },
            "type": "scattercarpet"
           }
          ],
          "scattergeo": [
           {
            "marker": {
             "colorbar": {
              "outlinewidth": 0,
              "ticks": ""
             }
            },
            "type": "scattergeo"
           }
          ],
          "scattergl": [
           {
            "marker": {
             "colorbar": {
              "outlinewidth": 0,
              "ticks": ""
             }
            },
            "type": "scattergl"
           }
          ],
          "scattermapbox": [
           {
            "marker": {
             "colorbar": {
              "outlinewidth": 0,
              "ticks": ""
             }
            },
            "type": "scattermapbox"
           }
          ],
          "scatterpolar": [
           {
            "marker": {
             "colorbar": {
              "outlinewidth": 0,
              "ticks": ""
             }
            },
            "type": "scatterpolar"
           }
          ],
          "scatterpolargl": [
           {
            "marker": {
             "colorbar": {
              "outlinewidth": 0,
              "ticks": ""
             }
            },
            "type": "scatterpolargl"
           }
          ],
          "scatterternary": [
           {
            "marker": {
             "colorbar": {
              "outlinewidth": 0,
              "ticks": ""
             }
            },
            "type": "scatterternary"
           }
          ],
          "surface": [
           {
            "colorbar": {
             "outlinewidth": 0,
             "ticks": ""
            },
            "colorscale": [
             [
              0,
              "#0d0887"
             ],
             [
              0.1111111111111111,
              "#46039f"
             ],
             [
              0.2222222222222222,
              "#7201a8"
             ],
             [
              0.3333333333333333,
              "#9c179e"
             ],
             [
              0.4444444444444444,
              "#bd3786"
             ],
             [
              0.5555555555555556,
              "#d8576b"
             ],
             [
              0.6666666666666666,
              "#ed7953"
             ],
             [
              0.7777777777777778,
              "#fb9f3a"
             ],
             [
              0.8888888888888888,
              "#fdca26"
             ],
             [
              1,
              "#f0f921"
             ]
            ],
            "type": "surface"
           }
          ],
          "table": [
           {
            "cells": {
             "fill": {
              "color": "#EBF0F8"
             },
             "line": {
              "color": "white"
             }
            },
            "header": {
             "fill": {
              "color": "#C8D4E3"
             },
             "line": {
              "color": "white"
             }
            },
            "type": "table"
           }
          ]
         },
         "layout": {
          "annotationdefaults": {
           "arrowcolor": "#2a3f5f",
           "arrowhead": 0,
           "arrowwidth": 1
          },
          "autotypenumbers": "strict",
          "coloraxis": {
           "colorbar": {
            "outlinewidth": 0,
            "ticks": ""
           }
          },
          "colorscale": {
           "diverging": [
            [
             0,
             "#8e0152"
            ],
            [
             0.1,
             "#c51b7d"
            ],
            [
             0.2,
             "#de77ae"
            ],
            [
             0.3,
             "#f1b6da"
            ],
            [
             0.4,
             "#fde0ef"
            ],
            [
             0.5,
             "#f7f7f7"
            ],
            [
             0.6,
             "#e6f5d0"
            ],
            [
             0.7,
             "#b8e186"
            ],
            [
             0.8,
             "#7fbc41"
            ],
            [
             0.9,
             "#4d9221"
            ],
            [
             1,
             "#276419"
            ]
           ],
           "sequential": [
            [
             0,
             "#0d0887"
            ],
            [
             0.1111111111111111,
             "#46039f"
            ],
            [
             0.2222222222222222,
             "#7201a8"
            ],
            [
             0.3333333333333333,
             "#9c179e"
            ],
            [
             0.4444444444444444,
             "#bd3786"
            ],
            [
             0.5555555555555556,
             "#d8576b"
            ],
            [
             0.6666666666666666,
             "#ed7953"
            ],
            [
             0.7777777777777778,
             "#fb9f3a"
            ],
            [
             0.8888888888888888,
             "#fdca26"
            ],
            [
             1,
             "#f0f921"
            ]
           ],
           "sequentialminus": [
            [
             0,
             "#0d0887"
            ],
            [
             0.1111111111111111,
             "#46039f"
            ],
            [
             0.2222222222222222,
             "#7201a8"
            ],
            [
             0.3333333333333333,
             "#9c179e"
            ],
            [
             0.4444444444444444,
             "#bd3786"
            ],
            [
             0.5555555555555556,
             "#d8576b"
            ],
            [
             0.6666666666666666,
             "#ed7953"
            ],
            [
             0.7777777777777778,
             "#fb9f3a"
            ],
            [
             0.8888888888888888,
             "#fdca26"
            ],
            [
             1,
             "#f0f921"
            ]
           ]
          },
          "colorway": [
           "#636efa",
           "#EF553B",
           "#00cc96",
           "#ab63fa",
           "#FFA15A",
           "#19d3f3",
           "#FF6692",
           "#B6E880",
           "#FF97FF",
           "#FECB52"
          ],
          "font": {
           "color": "#2a3f5f"
          },
          "geo": {
           "bgcolor": "white",
           "lakecolor": "white",
           "landcolor": "#E5ECF6",
           "showlakes": true,
           "showland": true,
           "subunitcolor": "white"
          },
          "hoverlabel": {
           "align": "left"
          },
          "hovermode": "closest",
          "mapbox": {
           "style": "light"
          },
          "paper_bgcolor": "white",
          "plot_bgcolor": "#E5ECF6",
          "polar": {
           "angularaxis": {
            "gridcolor": "white",
            "linecolor": "white",
            "ticks": ""
           },
           "bgcolor": "#E5ECF6",
           "radialaxis": {
            "gridcolor": "white",
            "linecolor": "white",
            "ticks": ""
           }
          },
          "scene": {
           "xaxis": {
            "backgroundcolor": "#E5ECF6",
            "gridcolor": "white",
            "gridwidth": 2,
            "linecolor": "white",
            "showbackground": true,
            "ticks": "",
            "zerolinecolor": "white"
           },
           "yaxis": {
            "backgroundcolor": "#E5ECF6",
            "gridcolor": "white",
            "gridwidth": 2,
            "linecolor": "white",
            "showbackground": true,
            "ticks": "",
            "zerolinecolor": "white"
           },
           "zaxis": {
            "backgroundcolor": "#E5ECF6",
            "gridcolor": "white",
            "gridwidth": 2,
            "linecolor": "white",
            "showbackground": true,
            "ticks": "",
            "zerolinecolor": "white"
           }
          },
          "shapedefaults": {
           "line": {
            "color": "#2a3f5f"
           }
          },
          "ternary": {
           "aaxis": {
            "gridcolor": "white",
            "linecolor": "white",
            "ticks": ""
           },
           "baxis": {
            "gridcolor": "white",
            "linecolor": "white",
            "ticks": ""
           },
           "bgcolor": "#E5ECF6",
           "caxis": {
            "gridcolor": "white",
            "linecolor": "white",
            "ticks": ""
           }
          },
          "title": {
           "x": 0.05
          },
          "xaxis": {
           "automargin": true,
           "gridcolor": "white",
           "linecolor": "white",
           "ticks": "",
           "title": {
            "standoff": 15
           },
           "zerolinecolor": "white",
           "zerolinewidth": 2
          },
          "yaxis": {
           "automargin": true,
           "gridcolor": "white",
           "linecolor": "white",
           "ticks": "",
           "title": {
            "standoff": 15
           },
           "zerolinecolor": "white",
           "zerolinewidth": 2
          }
         }
        },
        "xaxis": {
         "anchor": "y",
         "autorange": true,
         "domain": [
          0,
          1
         ],
         "range": [
          -1.134339210631523,
          24.34730138342544
         ],
         "title": {
          "text": "P1_distance"
         },
         "type": "linear"
        },
        "yaxis": {
         "anchor": "x",
         "autorange": true,
         "domain": [
          0,
          1
         ],
         "range": [
          -1.127480243076697,
          21.285933200830677
         ],
         "title": {
          "text": "P2_distance"
         },
         "type": "linear"
        }
       }
      },
      "image/png": "[encoded data removed]",
      "text/html": [
       "<div>                            <div id=\"aa837f7e-240a-4faf-911b-ccaa02dfb4ac\" class=\"plotly-graph-div\" style=\"height:525px; width:100%;\"></div>            <script type=\"text/javascript\">                require([\"plotly\"], function(Plotly) {                    window.PLOTLYENV=window.PLOTLYENV || {};                                    if (document.getElementById(\"aa837f7e-240a-4faf-911b-ccaa02dfb4ac\")) {                    Plotly.newPlot(                        \"aa837f7e-240a-4faf-911b-ccaa02dfb4ac\",                        [{\"hovertemplate\":\"P1_distance=%{x}\\u003cbr\\u003eP2_distance=%{y}\\u003cextra\\u003e\\u003c\\u002fextra\\u003e\",\"legendgroup\":\"\",\"marker\":{\"color\":\"#636efa\",\"symbol\":\"circle\"},\"mode\":\"markers\",\"name\":\"\",\"orientation\":\"v\",\"showlegend\":false,\"x\":[0.2933700734567167,7.924574751997738,6.212639052769767,20.87604148300151,17.901075526347572,7.8138258874894335,5.907336032426121,8.001403501886406,16.996806229406747,0.6617922634785005,13.573346123929795,18.790009419901843,0.7413346073130523,0.4528277818332259,16.309667961059173,18.397344020265535,13.842609616687167,7.134973650967468,16.86399329933453,16.453674240120353,22.919592099337198,0.8631552583400047,21.56582245127693,20.664113070732075,20.72163883480262,17.429152962780496,9.569594871257612,7.718146409598618,16.52818907200665,11.871312311619132,7.80635657653428,19.865082884297262,16.932262843459526,7.495258768047972,16.406884835336662,7.706908718805486,20.79008701280493,16.951146185435366,18.66615297805094,14.076710517731051,16.552506456727333,7.878190020556753,15.039676160077386,18.39671723433287,13.87729325192777,15.84484600745618,8.547741514575646,0.7648038964335874,16.9074511976229],\"xaxis\":\"x\",\"y\":[0.2933700734567167,7.11444052614118,6.212639052769767,16.48158323705584,16.252212495534263,6.568603276191979,5.907336032426121,6.711526055972664,13.97118498911241,0.6617922634785005,13.573346123929795,18.790009419901843,0.7413346073130523,0.4528277818332259,13.346787066556503,18.397344020265535,13.842609616687167,6.552358048824868,13.79897996230156,13.486420800197505,18.37630773577761,0.8631552583400047,17.204963992987608,16.355022500748813,16.419788366480248,14.240715466576809,8.833696564858904,6.780963795803662,13.416869754156517,11.70189753843367,6.927854574108784,19.865082884297262,14.017282867945555,6.530286517450824,13.354390738629748,6.510292159342774,16.37642799880365,13.815408607782832,18.66615297805094,14.076710517731051,13.591872792224033,6.635129388339009,9.673758990175434,18.39671723433287,13.87729325192777,15.84484600745618,6.689769203791711,0.7648038964335874,13.816401991835646],\"yaxis\":\"y\",\"type\":\"scatter\"}],                        {\"template\":{\"data\":{\"histogram2dcontour\":[{\"type\":\"histogram2dcontour\",\"colorbar\":{\"outlinewidth\":0,\"ticks\":\"\"},\"colorscale\":[[0.0,\"#0d0887\"],[0.1111111111111111,\"#46039f\"],[0.2222222222222222,\"#7201a8\"],[0.3333333333333333,\"#9c179e\"],[0.4444444444444444,\"#bd3786\"],[0.5555555555555556,\"#d8576b\"],[0.6666666666666666,\"#ed7953\"],[0.7777777777777778,\"#fb9f3a\"],[0.8888888888888888,\"#fdca26\"],[1.0,\"#f0f921\"]]}],\"choropleth\":[{\"type\":\"choropleth\",\"colorbar\":{\"outlinewidth\":0,\"ticks\":\"\"}}],\"histogram2d\":[{\"type\":\"histogram2d\",\"colorbar\":{\"outlinewidth\":0,\"ticks\":\"\"},\"colorscale\":[[0.0,\"#0d0887\"],[0.1111111111111111,\"#46039f\"],[0.2222222222222222,\"#7201a8\"],[0.3333333333333333,\"#9c179e\"],[0.4444444444444444,\"#bd3786\"],[0.5555555555555556,\"#d8576b\"],[0.6666666666666666,\"#ed7953\"],[0.7777777777777778,\"#fb9f3a\"],[0.8888888888888888,\"#fdca26\"],[1.0,\"#f0f921\"]]}],\"heatmap\":[{\"type\":\"heatmap\",\"colorbar\":{\"outlinewidth\":0,\"ticks\":\"\"},\"colorscale\":[[0.0,\"#0d0887\"],[0.1111111111111111,\"#46039f\"],[0.2222222222222222,\"#7201a8\"],[0.3333333333333333,\"#9c179e\"],[0.4444444444444444,\"#bd3786\"],[0.5555555555555556,\"#d8576b\"],[0.6666666666666666,\"#ed7953\"],[0.7777777777777778,\"#fb9f3a\"],[0.8888888888888888,\"#fdca26\"],[1.0,\"#f0f921\"]]}],\"heatmapgl\":[{\"type\":\"heatmapgl\",\"colorbar\":{\"outlinewidth\":0,\"ticks\":\"\"},\"colorscale\":[[0.0,\"#0d0887\"],[0.1111111111111111,\"#46039f\"],[0.2222222222222222,\"#7201a8\"],[0.3333333333333333,\"#9c179e\"],[0.4444444444444444,\"#bd3786\"],[0.5555555555555556,\"#d8576b\"],[0.6666666666666666,\"#ed7953\"],[0.7777777777777778,\"#fb9f3a\"],[0.8888888888888888,\"#fdca26\"],[1.0,\"#f0f921\"]]}],\"contourcarpet\":[{\"type\":\"contourcarpet\",\"colorbar\":{\"outlinewidth\":0,\"ticks\":\"\"}}],\"contour\":[{\"type\":\"contour\",\"colorbar\":{\"outlinewidth\":0,\"ticks\":\"\"},\"colorscale\":[[0.0,\"#0d0887\"],[0.1111111111111111,\"#46039f\"],[0.2222222222222222,\"#7201a8\"],[0.3333333333333333,\"#9c179e\"],[0.4444444444444444,\"#bd3786\"],[0.5555555555555556,\"#d8576b\"],[0.6666666666666666,\"#ed7953\"],[0.7777777777777778,\"#fb9f3a\"],[0.8888888888888888,\"#fdca26\"],[1.0,\"#f0f921\"]]}],\"surface\":[{\"type\":\"surface\",\"colorbar\":{\"outlinewidth\":0,\"ticks\":\"\"},\"colorscale\":[[0.0,\"#0d0887\"],[0.1111111111111111,\"#46039f\"],[0.2222222222222222,\"#7201a8\"],[0.3333333333333333,\"#9c179e\"],[0.4444444444444444,\"#bd3786\"],[0.5555555555555556,\"#d8576b\"],[0.6666666666666666,\"#ed7953\"],[0.7777777777777778,\"#fb9f3a\"],[0.8888888888888888,\"#fdca26\"],[1.0,\"#f0f921\"]]}],\"mesh3d\":[{\"type\":\"mesh3d\",\"colorbar\":{\"outlinewidth\":0,\"ticks\":\"\"}}],\"scatter\":[{\"fillpattern\":{\"fillmode\":\"overlay\",\"size\":10,\"solidity\":0.2},\"type\":\"scatter\"}],\"parcoords\":[{\"type\":\"parcoords\",\"line\":{\"colorbar\":{\"outlinewidth\":0,\"ticks\":\"\"}}}],\"scatterpolargl\":[{\"type\":\"scatterpolargl\",\"marker\":{\"colorbar\":{\"outlinewidth\":0,\"ticks\":\"\"}}}],\"bar\":[{\"error_x\":{\"color\":\"#2a3f5f\"},\"error_y\":{\"color\":\"#2a3f5f\"},\"marker\":{\"line\":{\"color\":\"#E5ECF6\",\"width\":0.5},\"pattern\":{\"fillmode\":\"overlay\",\"size\":10,\"solidity\":0.2}},\"type\":\"bar\"}],\"scattergeo\":[{\"type\":\"scattergeo\",\"marker\":{\"colorbar\":{\"outlinewidth\":0,\"ticks\":\"\"}}}],\"scatterpolar\":[{\"type\":\"scatterpolar\",\"marker\":{\"colorbar\":{\"outlinewidth\":0,\"ticks\":\"\"}}}],\"histogram\":[{\"marker\":{\"pattern\":{\"fillmode\":\"overlay\",\"size\":10,\"solidity\":0.2}},\"type\":\"histogram\"}],\"scattergl\":[{\"type\":\"scattergl\",\"marker\":{\"colorbar\":{\"outlinewidth\":0,\"ticks\":\"\"}}}],\"scatter3d\":[{\"type\":\"scatter3d\",\"line\":{\"colorbar\":{\"outlinewidth\":0,\"ticks\":\"\"}},\"marker\":{\"colorbar\":{\"outlinewidth\":0,\"ticks\":\"\"}}}],\"scattermapbox\":[{\"type\":\"scattermapbox\",\"marker\":{\"colorbar\":{\"outlinewidth\":0,\"ticks\":\"\"}}}],\"scatterternary\":[{\"type\":\"scatterternary\",\"marker\":{\"colorbar\":{\"outlinewidth\":0,\"ticks\":\"\"}}}],\"scattercarpet\":[{\"type\":\"scattercarpet\",\"marker\":{\"colorbar\":{\"outlinewidth\":0,\"ticks\":\"\"}}}],\"carpet\":[{\"aaxis\":{\"endlinecolor\":\"#2a3f5f\",\"gridcolor\":\"white\",\"linecolor\":\"white\",\"minorgridcolor\":\"white\",\"startlinecolor\":\"#2a3f5f\"},\"baxis\":{\"endlinecolor\":\"#2a3f5f\",\"gridcolor\":\"white\",\"linecolor\":\"white\",\"minorgridcolor\":\"white\",\"startlinecolor\":\"#2a3f5f\"},\"type\":\"carpet\"}],\"table\":[{\"cells\":{\"fill\":{\"color\":\"#EBF0F8\"},\"line\":{\"color\":\"white\"}},\"header\":{\"fill\":{\"color\":\"#C8D4E3\"},\"line\":{\"color\":\"white\"}},\"type\":\"table\"}],\"barpolar\":[{\"marker\":{\"line\":{\"color\":\"#E5ECF6\",\"width\":0.5},\"pattern\":{\"fillmode\":\"overlay\",\"size\":10,\"solidity\":0.2}},\"type\":\"barpolar\"}],\"pie\":[{\"automargin\":true,\"type\":\"pie\"}]},\"layout\":{\"autotypenumbers\":\"strict\",\"colorway\":[\"#636efa\",\"#EF553B\",\"#00cc96\",\"#ab63fa\",\"#FFA15A\",\"#19d3f3\",\"#FF6692\",\"#B6E880\",\"#FF97FF\",\"#FECB52\"],\"font\":{\"color\":\"#2a3f5f\"},\"hovermode\":\"closest\",\"hoverlabel\":{\"align\":\"left\"},\"paper_bgcolor\":\"white\",\"plot_bgcolor\":\"#E5ECF6\",\"polar\":{\"bgcolor\":\"#E5ECF6\",\"angularaxis\":{\"gridcolor\":\"white\",\"linecolor\":\"white\",\"ticks\":\"\"},\"radialaxis\":{\"gridcolor\":\"white\",\"linecolor\":\"white\",\"ticks\":\"\"}},\"ternary\":{\"bgcolor\":\"#E5ECF6\",\"aaxis\":{\"gridcolor\":\"white\",\"linecolor\":\"white\",\"ticks\":\"\"},\"baxis\":{\"gridcolor\":\"white\",\"linecolor\":\"white\",\"ticks\":\"\"},\"caxis\":{\"gridcolor\":\"white\",\"linecolor\":\"white\",\"ticks\":\"\"}},\"coloraxis\":{\"colorbar\":{\"outlinewidth\":0,\"ticks\":\"\"}},\"colorscale\":{\"sequential\":[[0.0,\"#0d0887\"],[0.1111111111111111,\"#46039f\"],[0.2222222222222222,\"#7201a8\"],[0.3333333333333333,\"#9c179e\"],[0.4444444444444444,\"#bd3786\"],[0.5555555555555556,\"#d8576b\"],[0.6666666666666666,\"#ed7953\"],[0.7777777777777778,\"#fb9f3a\"],[0.8888888888888888,\"#fdca26\"],[1.0,\"#f0f921\"]],\"sequentialminus\":[[0.0,\"#0d0887\"],[0.1111111111111111,\"#46039f\"],[0.2222222222222222,\"#7201a8\"],[0.3333333333333333,\"#9c179e\"],[0.4444444444444444,\"#bd3786\"],[0.5555555555555556,\"#d8576b\"],[0.6666666666666666,\"#ed7953\"],[0.7777777777777778,\"#fb9f3a\"],[0.8888888888888888,\"#fdca26\"],[1.0,\"#f0f921\"]],\"diverging\":[[0,\"#8e0152\"],[0.1,\"#c51b7d\"],[0.2,\"#de77ae\"],[0.3,\"#f1b6da\"],[0.4,\"#fde0ef\"],[0.5,\"#f7f7f7\"],[0.6,\"#e6f5d0\"],[0.7,\"#b8e186\"],[0.8,\"#7fbc41\"],[0.9,\"#4d9221\"],[1,\"#276419\"]]},\"xaxis\":{\"gridcolor\":\"white\",\"linecolor\":\"white\",\"ticks\":\"\",\"title\":{\"standoff\":15},\"zerolinecolor\":\"white\",\"automargin\":true,\"zerolinewidth\":2},\"yaxis\":{\"gridcolor\":\"white\",\"linecolor\":\"white\",\"ticks\":\"\",\"title\":{\"standoff\":15},\"zerolinecolor\":\"white\",\"automargin\":true,\"zerolinewidth\":2},\"scene\":{\"xaxis\":{\"backgroundcolor\":\"#E5ECF6\",\"gridcolor\":\"white\",\"linecolor\":\"white\",\"showbackground\":true,\"ticks\":\"\",\"zerolinecolor\":\"white\",\"gridwidth\":2},\"yaxis\":{\"backgroundcolor\":\"#E5ECF6\",\"gridcolor\":\"white\",\"linecolor\":\"white\",\"showbackground\":true,\"ticks\":\"\",\"zerolinecolor\":\"white\",\"gridwidth\":2},\"zaxis\":{\"backgroundcolor\":\"#E5ECF6\",\"gridcolor\":\"white\",\"linecolor\":\"white\",\"showbackground\":true,\"ticks\":\"\",\"zerolinecolor\":\"white\",\"gridwidth\":2}},\"shapedefaults\":{\"line\":{\"color\":\"#2a3f5f\"}},\"annotationdefaults\":{\"arrowcolor\":\"#2a3f5f\",\"arrowhead\":0,\"arrowwidth\":1},\"geo\":{\"bgcolor\":\"white\",\"landcolor\":\"#E5ECF6\",\"subunitcolor\":\"white\",\"showland\":true,\"showlakes\":true,\"lakecolor\":\"white\"},\"title\":{\"x\":0.05},\"mapbox\":{\"style\":\"light\"}}},\"xaxis\":{\"anchor\":\"y\",\"domain\":[0.0,1.0],\"title\":{\"text\":\"P1_distance\"}},\"yaxis\":{\"anchor\":\"x\",\"domain\":[0.0,1.0],\"title\":{\"text\":\"P2_distance\"}},\"legend\":{\"tracegroupgap\":0},\"margin\":{\"t\":60}},                        {\"responsive\": true}                    ).then(function(){\n",
       "                            \n",
       "var gd = document.getElementById('aa837f7e-240a-4faf-911b-ccaa02dfb4ac');\n",
       "var x = new MutationObserver(function (mutations, observer) {{\n",
       "        var display = window.getComputedStyle(gd).display;\n",
       "        if (!display || display === 'none') {{\n",
       "            console.log([gd, 'removed!']);\n",
       "            Plotly.purge(gd);\n",
       "            observer.disconnect();\n",
       "        }}\n",
       "}});\n",
       "\n",
       "// Listen for the removal of the full notebook cells\n",
       "var notebookContainer = gd.closest('#notebook-container');\n",
       "if (notebookContainer) {{\n",
       "    x.observe(notebookContainer, {childList: true});\n",
       "}}\n",
       "\n",
       "// Listen for the clearing of the current output cell\n",
       "var outputEl = gd.closest('.output');\n",
       "if (outputEl) {{\n",
       "    x.observe(outputEl, {childList: true});\n",
       "}}\n",
       "\n",
       "                        })                };                });            </script>        </div>"
      ]
     },
     "metadata": {},
     "output_type": "display_data"
    }
   ],
   "source": [
    "px.scatter(metadata, 'P1_distance', 'P2_distance')"
   ]
  },
  {
   "cell_type": "code",
   "execution_count": 91,
   "id": "0c2f23d2-defe-419c-b9a6-bb01c69e3a20",
   "metadata": {},
   "outputs": [
    {
     "data": {
      "text/plain": [
       "['x0451_0A', 'x0554_0A', 'x0556_0A', 'x0566_0A', 'x0310_0A', 'x0416_0A']"
      ]
     },
     "execution_count": 91,
     "metadata": {},
     "output_type": "execute_result"
    }
   ],
   "source": [
    "metadata.loc[(metadata.P1_distance < 2) & (metadata.P2_distance < 2)].XChem_code.to_list()"
   ]
  },
  {
   "cell_type": "code",
   "execution_count": 98,
   "id": "e2236d84-a754-4304-8450-b4c3007146a9",
   "metadata": {},
   "outputs": [
    {
     "data": {
      "application/vnd.plotly.v1+json": {
       "config": {
        "plotlyServerURL": "https://plot.ly"
       },
       "data": [
        {
         "hovertemplate": "P1_distance=%{marker.color}<br>Y89_distance=%{y}<extra></extra>",
         "legendgroup": "",
         "marker": {
          "color": [
           0.2933700734567167,
           7.924574751997738,
           6.212639052769767,
           20.87604148300151,
           17.901075526347572,
           7.8138258874894335,
           5.907336032426121,
           8.001403501886406,
           16.996806229406747,
           0.6617922634785005,
           13.573346123929795,
           18.790009419901843,
           0.7413346073130523,
           0.4528277818332259,
           16.309667961059173,
           18.397344020265535,
           13.842609616687167,
           7.134973650967468,
           16.86399329933453,
           16.453674240120353,
           22.919592099337198,
           0.8631552583400047,
           21.56582245127693,
           20.664113070732075,
           20.72163883480262,
           17.429152962780496,
           9.569594871257612,
           7.718146409598618,
           16.52818907200665,
           11.871312311619132,
           7.80635657653428,
           19.865082884297262,
           16.932262843459526,
           7.495258768047972,
           16.406884835336662,
           7.706908718805486,
           20.79008701280493,
           16.951146185435366,
           18.66615297805094,
           14.076710517731051,
           16.552506456727333,
           7.878190020556753,
           15.039676160077386,
           18.39671723433287,
           13.87729325192777,
           15.84484600745618,
           8.547741514575646,
           0.7648038964335874,
           16.9074511976229
          ],
          "coloraxis": "coloraxis",
          "symbol": "circle"
         },
         "mode": "markers",
         "name": "",
         "orientation": "v",
         "showlegend": false,
         "type": "scatter",
         "x": [
          0.2933700734567167,
          7.924574751997738,
          6.212639052769767,
          20.87604148300151,
          17.901075526347572,
          7.8138258874894335,
          5.907336032426121,
          8.001403501886406,
          16.996806229406747,
          0.6617922634785005,
          13.573346123929795,
          18.790009419901843,
          0.7413346073130523,
          0.4528277818332259,
          16.309667961059173,
          18.397344020265535,
          13.842609616687167,
          7.134973650967468,
          16.86399329933453,
          16.453674240120353,
          22.919592099337198,
          0.8631552583400047,
          21.56582245127693,
          20.664113070732075,
          20.72163883480262,
          17.429152962780496,
          9.569594871257612,
          7.718146409598618,
          16.52818907200665,
          11.871312311619132,
          7.80635657653428,
          19.865082884297262,
          16.932262843459526,
          7.495258768047972,
          16.406884835336662,
          7.706908718805486,
          20.79008701280493,
          16.951146185435366,
          18.66615297805094,
          14.076710517731051,
          16.552506456727333,
          7.878190020556753,
          15.039676160077386,
          18.39671723433287,
          13.87729325192777,
          15.84484600745618,
          8.547741514575646,
          0.7648038964335874,
          16.9074511976229
         ],
         "xaxis": "x",
         "y": [
          3.9043614074519293,
          1.9827296840467172,
          12.435363806499593,
          19.84896684968767,
          16.75328161883516,
          2.1424703031780865,
          12.876076149200113,
          2.0161145800772338,
          18.575586370287212,
          3.996862519527036,
          20.629811947761425,
          26.95648257840774,
          7.639499001897966,
          5.314752016792507,
          17.90677480731804,
          26.665899084786172,
          19.001971502978314,
          1.5784717292368609,
          18.324781935946742,
          18.080345931425096,
          21.266022359623342,
          2.4385454681018364,
          20.68539052084828,
          19.93559710668331,
          20.005554853590038,
          18.442567825549673,
          12.447817921226191,
          1.987008807227589,
          17.697748020581603,
          15.350788220804818,
          1.870575045273511,
          26.042995853011995,
          18.03620040363269,
          1.6660408158265505,
          17.829736537593593,
          2.044982640513117,
          19.779939762294525,
          18.071647794266024,
          26.76395094151833,
          19.822948645446267,
          18.240000301535083,
          2.019070578261197,
          10.261948937701844,
          26.705378821503356,
          18.426281800732344,
          22.304207428196143,
          4.337167970000702,
          6.906349614666202,
          18.31064512790306
         ],
         "yaxis": "y"
        }
       ],
       "layout": {
        "autosize": true,
        "coloraxis": {
         "colorbar": {
          "title": {
           "text": "P1_distance"
          }
         },
         "colorscale": [
          [
           0,
           "#0d0887"
          ],
          [
           0.1111111111111111,
           "#46039f"
          ],
          [
           0.2222222222222222,
           "#7201a8"
          ],
          [
           0.3333333333333333,
           "#9c179e"
          ],
          [
           0.4444444444444444,
           "#bd3786"
          ],
          [
           0.5555555555555556,
           "#d8576b"
          ],
          [
           0.6666666666666666,
           "#ed7953"
          ],
          [
           0.7777777777777778,
           "#fb9f3a"
          ],
          [
           0.8888888888888888,
           "#fdca26"
          ],
          [
           1,
           "#f0f921"
          ]
         ]
        },
        "legend": {
         "tracegroupgap": 0
        },
        "margin": {
         "t": 60
        },
        "template": {
         "data": {
          "bar": [
           {
            "error_x": {
             "color": "#2a3f5f"
            },
            "error_y": {
             "color": "#2a3f5f"
            },
            "marker": {
             "line": {
              "color": "#E5ECF6",
              "width": 0.5
             },
             "pattern": {
              "fillmode": "overlay",
              "size": 10,
              "solidity": 0.2
             }
            },
            "type": "bar"
           }
          ],
          "barpolar": [
           {
            "marker": {
             "line": {
              "color": "#E5ECF6",
              "width": 0.5
             },
             "pattern": {
              "fillmode": "overlay",
              "size": 10,
              "solidity": 0.2
             }
            },
            "type": "barpolar"
           }
          ],
          "carpet": [
           {
            "aaxis": {
             "endlinecolor": "#2a3f5f",
             "gridcolor": "white",
             "linecolor": "white",
             "minorgridcolor": "white",
             "startlinecolor": "#2a3f5f"
            },
            "baxis": {
             "endlinecolor": "#2a3f5f",
             "gridcolor": "white",
             "linecolor": "white",
             "minorgridcolor": "white",
             "startlinecolor": "#2a3f5f"
            },
            "type": "carpet"
           }
          ],
          "choropleth": [
           {
            "colorbar": {
             "outlinewidth": 0,
             "ticks": ""
            },
            "type": "choropleth"
           }
          ],
          "contour": [
           {
            "colorbar": {
             "outlinewidth": 0,
             "ticks": ""
            },
            "colorscale": [
             [
              0,
              "#0d0887"
             ],
             [
              0.1111111111111111,
              "#46039f"
             ],
             [
              0.2222222222222222,
              "#7201a8"
             ],
             [
              0.3333333333333333,
              "#9c179e"
             ],
             [
              0.4444444444444444,
              "#bd3786"
             ],
             [
              0.5555555555555556,
              "#d8576b"
             ],
             [
              0.6666666666666666,
              "#ed7953"
             ],
             [
              0.7777777777777778,
              "#fb9f3a"
             ],
             [
              0.8888888888888888,
              "#fdca26"
             ],
             [
              1,
              "#f0f921"
             ]
            ],
            "type": "contour"
           }
          ],
          "contourcarpet": [
           {
            "colorbar": {
             "outlinewidth": 0,
             "ticks": ""
            },
            "type": "contourcarpet"
           }
          ],
          "heatmap": [
           {
            "colorbar": {
             "outlinewidth": 0,
             "ticks": ""
            },
            "colorscale": [
             [
              0,
              "#0d0887"
             ],
             [
              0.1111111111111111,
              "#46039f"
             ],
             [
              0.2222222222222222,
              "#7201a8"
             ],
             [
              0.3333333333333333,
              "#9c179e"
             ],
             [
              0.4444444444444444,
              "#bd3786"
             ],
             [
              0.5555555555555556,
              "#d8576b"
             ],
             [
              0.6666666666666666,
              "#ed7953"
             ],
             [
              0.7777777777777778,
              "#fb9f3a"
             ],
             [
              0.8888888888888888,
              "#fdca26"
             ],
             [
              1,
              "#f0f921"
             ]
            ],
            "type": "heatmap"
           }
          ],
          "heatmapgl": [
           {
            "colorbar": {
             "outlinewidth": 0,
             "ticks": ""
            },
            "colorscale": [
             [
              0,
              "#0d0887"
             ],
             [
              0.1111111111111111,
              "#46039f"
             ],
             [
              0.2222222222222222,
              "#7201a8"
             ],
             [
              0.3333333333333333,
              "#9c179e"
             ],
             [
              0.4444444444444444,
              "#bd3786"
             ],
             [
              0.5555555555555556,
              "#d8576b"
             ],
             [
              0.6666666666666666,
              "#ed7953"
             ],
             [
              0.7777777777777778,
              "#fb9f3a"
             ],
             [
              0.8888888888888888,
              "#fdca26"
             ],
             [
              1,
              "#f0f921"
             ]
            ],
            "type": "heatmapgl"
           }
          ],
          "histogram": [
           {
            "marker": {
             "pattern": {
              "fillmode": "overlay",
              "size": 10,
              "solidity": 0.2
             }
            },
            "type": "histogram"
           }
          ],
          "histogram2d": [
           {
            "colorbar": {
             "outlinewidth": 0,
             "ticks": ""
            },
            "colorscale": [
             [
              0,
              "#0d0887"
             ],
             [
              0.1111111111111111,
              "#46039f"
             ],
             [
              0.2222222222222222,
              "#7201a8"
             ],
             [
              0.3333333333333333,
              "#9c179e"
             ],
             [
              0.4444444444444444,
              "#bd3786"
             ],
             [
              0.5555555555555556,
              "#d8576b"
             ],
             [
              0.6666666666666666,
              "#ed7953"
             ],
             [
              0.7777777777777778,
              "#fb9f3a"
             ],
             [
              0.8888888888888888,
              "#fdca26"
             ],
             [
              1,
              "#f0f921"
             ]
            ],
            "type": "histogram2d"
           }
          ],
          "histogram2dcontour": [
           {
            "colorbar": {
             "outlinewidth": 0,
             "ticks": ""
            },
            "colorscale": [
             [
              0,
              "#0d0887"
             ],
             [
              0.1111111111111111,
              "#46039f"
             ],
             [
              0.2222222222222222,
              "#7201a8"
             ],
             [
              0.3333333333333333,
              "#9c179e"
             ],
             [
              0.4444444444444444,
              "#bd3786"
             ],
             [
              0.5555555555555556,
              "#d8576b"
             ],
             [
              0.6666666666666666,
              "#ed7953"
             ],
             [
              0.7777777777777778,
              "#fb9f3a"
             ],
             [
              0.8888888888888888,
              "#fdca26"
             ],
             [
              1,
              "#f0f921"
             ]
            ],
            "type": "histogram2dcontour"
           }
          ],
          "mesh3d": [
           {
            "colorbar": {
             "outlinewidth": 0,
             "ticks": ""
            },
            "type": "mesh3d"
           }
          ],
          "parcoords": [
           {
            "line": {
             "colorbar": {
              "outlinewidth": 0,
              "ticks": ""
             }
            },
            "type": "parcoords"
           }
          ],
          "pie": [
           {
            "automargin": true,
            "type": "pie"
           }
          ],
          "scatter": [
           {
            "fillpattern": {
             "fillmode": "overlay",
             "size": 10,
             "solidity": 0.2
            },
            "type": "scatter"
           }
          ],
          "scatter3d": [
           {
            "line": {
             "colorbar": {
              "outlinewidth": 0,
              "ticks": ""
             }
            },
            "marker": {
             "colorbar": {
              "outlinewidth": 0,
              "ticks": ""
             }
            },
            "type": "scatter3d"
           }
          ],
          "scattercarpet": [
           {
            "marker": {
             "colorbar": {
              "outlinewidth": 0,
              "ticks": ""
             }
            },
            "type": "scattercarpet"
           }
          ],
          "scattergeo": [
           {
            "marker": {
             "colorbar": {
              "outlinewidth": 0,
              "ticks": ""
             }
            },
            "type": "scattergeo"
           }
          ],
          "scattergl": [
           {
            "marker": {
             "colorbar": {
              "outlinewidth": 0,
              "ticks": ""
             }
            },
            "type": "scattergl"
           }
          ],
          "scattermapbox": [
           {
            "marker": {
             "colorbar": {
              "outlinewidth": 0,
              "ticks": ""
             }
            },
            "type": "scattermapbox"
           }
          ],
          "scatterpolar": [
           {
            "marker": {
             "colorbar": {
              "outlinewidth": 0,
              "ticks": ""
             }
            },
            "type": "scatterpolar"
           }
          ],
          "scatterpolargl": [
           {
            "marker": {
             "colorbar": {
              "outlinewidth": 0,
              "ticks": ""
             }
            },
            "type": "scatterpolargl"
           }
          ],
          "scatterternary": [
           {
            "marker": {
             "colorbar": {
              "outlinewidth": 0,
              "ticks": ""
             }
            },
            "type": "scatterternary"
           }
          ],
          "surface": [
           {
            "colorbar": {
             "outlinewidth": 0,
             "ticks": ""
            },
            "colorscale": [
             [
              0,
              "#0d0887"
             ],
             [
              0.1111111111111111,
              "#46039f"
             ],
             [
              0.2222222222222222,
              "#7201a8"
             ],
             [
              0.3333333333333333,
              "#9c179e"
             ],
             [
              0.4444444444444444,
              "#bd3786"
             ],
             [
              0.5555555555555556,
              "#d8576b"
             ],
             [
              0.6666666666666666,
              "#ed7953"
             ],
             [
              0.7777777777777778,
              "#fb9f3a"
             ],
             [
              0.8888888888888888,
              "#fdca26"
             ],
             [
              1,
              "#f0f921"
             ]
            ],
            "type": "surface"
           }
          ],
          "table": [
           {
            "cells": {
             "fill": {
              "color": "#EBF0F8"
             },
             "line": {
              "color": "white"
             }
            },
            "header": {
             "fill": {
              "color": "#C8D4E3"
             },
             "line": {
              "color": "white"
             }
            },
            "type": "table"
           }
          ]
         },
         "layout": {
          "annotationdefaults": {
           "arrowcolor": "#2a3f5f",
           "arrowhead": 0,
           "arrowwidth": 1
          },
          "autotypenumbers": "strict",
          "coloraxis": {
           "colorbar": {
            "outlinewidth": 0,
            "ticks": ""
           }
          },
          "colorscale": {
           "diverging": [
            [
             0,
             "#8e0152"
            ],
            [
             0.1,
             "#c51b7d"
            ],
            [
             0.2,
             "#de77ae"
            ],
            [
             0.3,
             "#f1b6da"
            ],
            [
             0.4,
             "#fde0ef"
            ],
            [
             0.5,
             "#f7f7f7"
            ],
            [
             0.6,
             "#e6f5d0"
            ],
            [
             0.7,
             "#b8e186"
            ],
            [
             0.8,
             "#7fbc41"
            ],
            [
             0.9,
             "#4d9221"
            ],
            [
             1,
             "#276419"
            ]
           ],
           "sequential": [
            [
             0,
             "#0d0887"
            ],
            [
             0.1111111111111111,
             "#46039f"
            ],
            [
             0.2222222222222222,
             "#7201a8"
            ],
            [
             0.3333333333333333,
             "#9c179e"
            ],
            [
             0.4444444444444444,
             "#bd3786"
            ],
            [
             0.5555555555555556,
             "#d8576b"
            ],
            [
             0.6666666666666666,
             "#ed7953"
            ],
            [
             0.7777777777777778,
             "#fb9f3a"
            ],
            [
             0.8888888888888888,
             "#fdca26"
            ],
            [
             1,
             "#f0f921"
            ]
           ],
           "sequentialminus": [
            [
             0,
             "#0d0887"
            ],
            [
             0.1111111111111111,
             "#46039f"
            ],
            [
             0.2222222222222222,
             "#7201a8"
            ],
            [
             0.3333333333333333,
             "#9c179e"
            ],
            [
             0.4444444444444444,
             "#bd3786"
            ],
            [
             0.5555555555555556,
             "#d8576b"
            ],
            [
             0.6666666666666666,
             "#ed7953"
            ],
            [
             0.7777777777777778,
             "#fb9f3a"
            ],
            [
             0.8888888888888888,
             "#fdca26"
            ],
            [
             1,
             "#f0f921"
            ]
           ]
          },
          "colorway": [
           "#636efa",
           "#EF553B",
           "#00cc96",
           "#ab63fa",
           "#FFA15A",
           "#19d3f3",
           "#FF6692",
           "#B6E880",
           "#FF97FF",
           "#FECB52"
          ],
          "font": {
           "color": "#2a3f5f"
          },
          "geo": {
           "bgcolor": "white",
           "lakecolor": "white",
           "landcolor": "#E5ECF6",
           "showlakes": true,
           "showland": true,
           "subunitcolor": "white"
          },
          "hoverlabel": {
           "align": "left"
          },
          "hovermode": "closest",
          "mapbox": {
           "style": "light"
          },
          "paper_bgcolor": "white",
          "plot_bgcolor": "#E5ECF6",
          "polar": {
           "angularaxis": {
            "gridcolor": "white",
            "linecolor": "white",
            "ticks": ""
           },
           "bgcolor": "#E5ECF6",
           "radialaxis": {
            "gridcolor": "white",
            "linecolor": "white",
            "ticks": ""
           }
          },
          "scene": {
           "xaxis": {
            "backgroundcolor": "#E5ECF6",
            "gridcolor": "white",
            "gridwidth": 2,
            "linecolor": "white",
            "showbackground": true,
            "ticks": "",
            "zerolinecolor": "white"
           },
           "yaxis": {
            "backgroundcolor": "#E5ECF6",
            "gridcolor": "white",
            "gridwidth": 2,
            "linecolor": "white",
            "showbackground": true,
            "ticks": "",
            "zerolinecolor": "white"
           },
           "zaxis": {
            "backgroundcolor": "#E5ECF6",
            "gridcolor": "white",
            "gridwidth": 2,
            "linecolor": "white",
            "showbackground": true,
            "ticks": "",
            "zerolinecolor": "white"
           }
          },
          "shapedefaults": {
           "line": {
            "color": "#2a3f5f"
           }
          },
          "ternary": {
           "aaxis": {
            "gridcolor": "white",
            "linecolor": "white",
            "ticks": ""
           },
           "baxis": {
            "gridcolor": "white",
            "linecolor": "white",
            "ticks": ""
           },
           "bgcolor": "#E5ECF6",
           "caxis": {
            "gridcolor": "white",
            "linecolor": "white",
            "ticks": ""
           }
          },
          "title": {
           "x": 0.05
          },
          "xaxis": {
           "automargin": true,
           "gridcolor": "white",
           "linecolor": "white",
           "ticks": "",
           "title": {
            "standoff": 15
           },
           "zerolinecolor": "white",
           "zerolinewidth": 2
          },
          "yaxis": {
           "automargin": true,
           "gridcolor": "white",
           "linecolor": "white",
           "ticks": "",
           "title": {
            "standoff": 15
           },
           "zerolinecolor": "white",
           "zerolinewidth": 2
          }
         }
        },
        "xaxis": {
         "anchor": "y",
         "autorange": true,
         "domain": [
          0,
          1
         ],
         "range": [
          -1.0715588422528777,
          24.284521015046792
         ],
         "title": {
          "text": "P1_distance"
         },
         "type": "linear"
        },
        "yaxis": {
         "anchor": "x",
         "autorange": true,
         "domain": [
          0,
          1
         ],
         "range": [
          -0.2342433314182022,
          28.769197639062803
         ],
         "title": {
          "text": "Y89_distance"
         },
         "type": "linear"
        }
       }
      },
      "image/png": "[encoded data removed]",
      "text/html": [
       "<div>                            <div id=\"5ca3ecc4-d570-4485-b7e6-0851692898b9\" class=\"plotly-graph-div\" style=\"height:525px; width:100%;\"></div>            <script type=\"text/javascript\">                require([\"plotly\"], function(Plotly) {                    window.PLOTLYENV=window.PLOTLYENV || {};                                    if (document.getElementById(\"5ca3ecc4-d570-4485-b7e6-0851692898b9\")) {                    Plotly.newPlot(                        \"5ca3ecc4-d570-4485-b7e6-0851692898b9\",                        [{\"hovertemplate\":\"P1_distance=%{marker.color}\\u003cbr\\u003eY89_distance=%{y}\\u003cextra\\u003e\\u003c\\u002fextra\\u003e\",\"legendgroup\":\"\",\"marker\":{\"color\":[0.2933700734567167,7.924574751997738,6.212639052769767,20.87604148300151,17.901075526347572,7.8138258874894335,5.907336032426121,8.001403501886406,16.996806229406747,0.6617922634785005,13.573346123929795,18.790009419901843,0.7413346073130523,0.4528277818332259,16.309667961059173,18.397344020265535,13.842609616687167,7.134973650967468,16.86399329933453,16.453674240120353,22.919592099337198,0.8631552583400047,21.56582245127693,20.664113070732075,20.72163883480262,17.429152962780496,9.569594871257612,7.718146409598618,16.52818907200665,11.871312311619132,7.80635657653428,19.865082884297262,16.932262843459526,7.495258768047972,16.406884835336662,7.706908718805486,20.79008701280493,16.951146185435366,18.66615297805094,14.076710517731051,16.552506456727333,7.878190020556753,15.039676160077386,18.39671723433287,13.87729325192777,15.84484600745618,8.547741514575646,0.7648038964335874,16.9074511976229],\"coloraxis\":\"coloraxis\",\"symbol\":\"circle\"},\"mode\":\"markers\",\"name\":\"\",\"orientation\":\"v\",\"showlegend\":false,\"x\":[0.2933700734567167,7.924574751997738,6.212639052769767,20.87604148300151,17.901075526347572,7.8138258874894335,5.907336032426121,8.001403501886406,16.996806229406747,0.6617922634785005,13.573346123929795,18.790009419901843,0.7413346073130523,0.4528277818332259,16.309667961059173,18.397344020265535,13.842609616687167,7.134973650967468,16.86399329933453,16.453674240120353,22.919592099337198,0.8631552583400047,21.56582245127693,20.664113070732075,20.72163883480262,17.429152962780496,9.569594871257612,7.718146409598618,16.52818907200665,11.871312311619132,7.80635657653428,19.865082884297262,16.932262843459526,7.495258768047972,16.406884835336662,7.706908718805486,20.79008701280493,16.951146185435366,18.66615297805094,14.076710517731051,16.552506456727333,7.878190020556753,15.039676160077386,18.39671723433287,13.87729325192777,15.84484600745618,8.547741514575646,0.7648038964335874,16.9074511976229],\"xaxis\":\"x\",\"y\":[3.9043614074519293,1.9827296840467172,12.435363806499593,19.84896684968767,16.75328161883516,2.1424703031780865,12.876076149200113,2.0161145800772338,18.575586370287212,3.996862519527036,20.629811947761425,26.95648257840774,7.639499001897966,5.314752016792507,17.90677480731804,26.665899084786172,19.001971502978314,1.5784717292368609,18.324781935946742,18.080345931425096,21.266022359623342,2.4385454681018364,20.68539052084828,19.93559710668331,20.005554853590038,18.442567825549673,12.447817921226191,1.987008807227589,17.697748020581603,15.350788220804818,1.870575045273511,26.042995853011995,18.03620040363269,1.6660408158265505,17.829736537593593,2.044982640513117,19.779939762294525,18.071647794266024,26.76395094151833,19.822948645446267,18.240000301535083,2.019070578261197,10.261948937701844,26.705378821503356,18.426281800732344,22.304207428196143,4.337167970000702,6.906349614666202,18.31064512790306],\"yaxis\":\"y\",\"type\":\"scatter\"}],                        {\"template\":{\"data\":{\"histogram2dcontour\":[{\"type\":\"histogram2dcontour\",\"colorbar\":{\"outlinewidth\":0,\"ticks\":\"\"},\"colorscale\":[[0.0,\"#0d0887\"],[0.1111111111111111,\"#46039f\"],[0.2222222222222222,\"#7201a8\"],[0.3333333333333333,\"#9c179e\"],[0.4444444444444444,\"#bd3786\"],[0.5555555555555556,\"#d8576b\"],[0.6666666666666666,\"#ed7953\"],[0.7777777777777778,\"#fb9f3a\"],[0.8888888888888888,\"#fdca26\"],[1.0,\"#f0f921\"]]}],\"choropleth\":[{\"type\":\"choropleth\",\"colorbar\":{\"outlinewidth\":0,\"ticks\":\"\"}}],\"histogram2d\":[{\"type\":\"histogram2d\",\"colorbar\":{\"outlinewidth\":0,\"ticks\":\"\"},\"colorscale\":[[0.0,\"#0d0887\"],[0.1111111111111111,\"#46039f\"],[0.2222222222222222,\"#7201a8\"],[0.3333333333333333,\"#9c179e\"],[0.4444444444444444,\"#bd3786\"],[0.5555555555555556,\"#d8576b\"],[0.6666666666666666,\"#ed7953\"],[0.7777777777777778,\"#fb9f3a\"],[0.8888888888888888,\"#fdca26\"],[1.0,\"#f0f921\"]]}],\"heatmap\":[{\"type\":\"heatmap\",\"colorbar\":{\"outlinewidth\":0,\"ticks\":\"\"},\"colorscale\":[[0.0,\"#0d0887\"],[0.1111111111111111,\"#46039f\"],[0.2222222222222222,\"#7201a8\"],[0.3333333333333333,\"#9c179e\"],[0.4444444444444444,\"#bd3786\"],[0.5555555555555556,\"#d8576b\"],[0.6666666666666666,\"#ed7953\"],[0.7777777777777778,\"#fb9f3a\"],[0.8888888888888888,\"#fdca26\"],[1.0,\"#f0f921\"]]}],\"heatmapgl\":[{\"type\":\"heatmapgl\",\"colorbar\":{\"outlinewidth\":0,\"ticks\":\"\"},\"colorscale\":[[0.0,\"#0d0887\"],[0.1111111111111111,\"#46039f\"],[0.2222222222222222,\"#7201a8\"],[0.3333333333333333,\"#9c179e\"],[0.4444444444444444,\"#bd3786\"],[0.5555555555555556,\"#d8576b\"],[0.6666666666666666,\"#ed7953\"],[0.7777777777777778,\"#fb9f3a\"],[0.8888888888888888,\"#fdca26\"],[1.0,\"#f0f921\"]]}],\"contourcarpet\":[{\"type\":\"contourcarpet\",\"colorbar\":{\"outlinewidth\":0,\"ticks\":\"\"}}],\"contour\":[{\"type\":\"contour\",\"colorbar\":{\"outlinewidth\":0,\"ticks\":\"\"},\"colorscale\":[[0.0,\"#0d0887\"],[0.1111111111111111,\"#46039f\"],[0.2222222222222222,\"#7201a8\"],[0.3333333333333333,\"#9c179e\"],[0.4444444444444444,\"#bd3786\"],[0.5555555555555556,\"#d8576b\"],[0.6666666666666666,\"#ed7953\"],[0.7777777777777778,\"#fb9f3a\"],[0.8888888888888888,\"#fdca26\"],[1.0,\"#f0f921\"]]}],\"surface\":[{\"type\":\"surface\",\"colorbar\":{\"outlinewidth\":0,\"ticks\":\"\"},\"colorscale\":[[0.0,\"#0d0887\"],[0.1111111111111111,\"#46039f\"],[0.2222222222222222,\"#7201a8\"],[0.3333333333333333,\"#9c179e\"],[0.4444444444444444,\"#bd3786\"],[0.5555555555555556,\"#d8576b\"],[0.6666666666666666,\"#ed7953\"],[0.7777777777777778,\"#fb9f3a\"],[0.8888888888888888,\"#fdca26\"],[1.0,\"#f0f921\"]]}],\"mesh3d\":[{\"type\":\"mesh3d\",\"colorbar\":{\"outlinewidth\":0,\"ticks\":\"\"}}],\"scatter\":[{\"fillpattern\":{\"fillmode\":\"overlay\",\"size\":10,\"solidity\":0.2},\"type\":\"scatter\"}],\"parcoords\":[{\"type\":\"parcoords\",\"line\":{\"colorbar\":{\"outlinewidth\":0,\"ticks\":\"\"}}}],\"scatterpolargl\":[{\"type\":\"scatterpolargl\",\"marker\":{\"colorbar\":{\"outlinewidth\":0,\"ticks\":\"\"}}}],\"bar\":[{\"error_x\":{\"color\":\"#2a3f5f\"},\"error_y\":{\"color\":\"#2a3f5f\"},\"marker\":{\"line\":{\"color\":\"#E5ECF6\",\"width\":0.5},\"pattern\":{\"fillmode\":\"overlay\",\"size\":10,\"solidity\":0.2}},\"type\":\"bar\"}],\"scattergeo\":[{\"type\":\"scattergeo\",\"marker\":{\"colorbar\":{\"outlinewidth\":0,\"ticks\":\"\"}}}],\"scatterpolar\":[{\"type\":\"scatterpolar\",\"marker\":{\"colorbar\":{\"outlinewidth\":0,\"ticks\":\"\"}}}],\"histogram\":[{\"marker\":{\"pattern\":{\"fillmode\":\"overlay\",\"size\":10,\"solidity\":0.2}},\"type\":\"histogram\"}],\"scattergl\":[{\"type\":\"scattergl\",\"marker\":{\"colorbar\":{\"outlinewidth\":0,\"ticks\":\"\"}}}],\"scatter3d\":[{\"type\":\"scatter3d\",\"line\":{\"colorbar\":{\"outlinewidth\":0,\"ticks\":\"\"}},\"marker\":{\"colorbar\":{\"outlinewidth\":0,\"ticks\":\"\"}}}],\"scattermapbox\":[{\"type\":\"scattermapbox\",\"marker\":{\"colorbar\":{\"outlinewidth\":0,\"ticks\":\"\"}}}],\"scatterternary\":[{\"type\":\"scatterternary\",\"marker\":{\"colorbar\":{\"outlinewidth\":0,\"ticks\":\"\"}}}],\"scattercarpet\":[{\"type\":\"scattercarpet\",\"marker\":{\"colorbar\":{\"outlinewidth\":0,\"ticks\":\"\"}}}],\"carpet\":[{\"aaxis\":{\"endlinecolor\":\"#2a3f5f\",\"gridcolor\":\"white\",\"linecolor\":\"white\",\"minorgridcolor\":\"white\",\"startlinecolor\":\"#2a3f5f\"},\"baxis\":{\"endlinecolor\":\"#2a3f5f\",\"gridcolor\":\"white\",\"linecolor\":\"white\",\"minorgridcolor\":\"white\",\"startlinecolor\":\"#2a3f5f\"},\"type\":\"carpet\"}],\"table\":[{\"cells\":{\"fill\":{\"color\":\"#EBF0F8\"},\"line\":{\"color\":\"white\"}},\"header\":{\"fill\":{\"color\":\"#C8D4E3\"},\"line\":{\"color\":\"white\"}},\"type\":\"table\"}],\"barpolar\":[{\"marker\":{\"line\":{\"color\":\"#E5ECF6\",\"width\":0.5},\"pattern\":{\"fillmode\":\"overlay\",\"size\":10,\"solidity\":0.2}},\"type\":\"barpolar\"}],\"pie\":[{\"automargin\":true,\"type\":\"pie\"}]},\"layout\":{\"autotypenumbers\":\"strict\",\"colorway\":[\"#636efa\",\"#EF553B\",\"#00cc96\",\"#ab63fa\",\"#FFA15A\",\"#19d3f3\",\"#FF6692\",\"#B6E880\",\"#FF97FF\",\"#FECB52\"],\"font\":{\"color\":\"#2a3f5f\"},\"hovermode\":\"closest\",\"hoverlabel\":{\"align\":\"left\"},\"paper_bgcolor\":\"white\",\"plot_bgcolor\":\"#E5ECF6\",\"polar\":{\"bgcolor\":\"#E5ECF6\",\"angularaxis\":{\"gridcolor\":\"white\",\"linecolor\":\"white\",\"ticks\":\"\"},\"radialaxis\":{\"gridcolor\":\"white\",\"linecolor\":\"white\",\"ticks\":\"\"}},\"ternary\":{\"bgcolor\":\"#E5ECF6\",\"aaxis\":{\"gridcolor\":\"white\",\"linecolor\":\"white\",\"ticks\":\"\"},\"baxis\":{\"gridcolor\":\"white\",\"linecolor\":\"white\",\"ticks\":\"\"},\"caxis\":{\"gridcolor\":\"white\",\"linecolor\":\"white\",\"ticks\":\"\"}},\"coloraxis\":{\"colorbar\":{\"outlinewidth\":0,\"ticks\":\"\"}},\"colorscale\":{\"sequential\":[[0.0,\"#0d0887\"],[0.1111111111111111,\"#46039f\"],[0.2222222222222222,\"#7201a8\"],[0.3333333333333333,\"#9c179e\"],[0.4444444444444444,\"#bd3786\"],[0.5555555555555556,\"#d8576b\"],[0.6666666666666666,\"#ed7953\"],[0.7777777777777778,\"#fb9f3a\"],[0.8888888888888888,\"#fdca26\"],[1.0,\"#f0f921\"]],\"sequentialminus\":[[0.0,\"#0d0887\"],[0.1111111111111111,\"#46039f\"],[0.2222222222222222,\"#7201a8\"],[0.3333333333333333,\"#9c179e\"],[0.4444444444444444,\"#bd3786\"],[0.5555555555555556,\"#d8576b\"],[0.6666666666666666,\"#ed7953\"],[0.7777777777777778,\"#fb9f3a\"],[0.8888888888888888,\"#fdca26\"],[1.0,\"#f0f921\"]],\"diverging\":[[0,\"#8e0152\"],[0.1,\"#c51b7d\"],[0.2,\"#de77ae\"],[0.3,\"#f1b6da\"],[0.4,\"#fde0ef\"],[0.5,\"#f7f7f7\"],[0.6,\"#e6f5d0\"],[0.7,\"#b8e186\"],[0.8,\"#7fbc41\"],[0.9,\"#4d9221\"],[1,\"#276419\"]]},\"xaxis\":{\"gridcolor\":\"white\",\"linecolor\":\"white\",\"ticks\":\"\",\"title\":{\"standoff\":15},\"zerolinecolor\":\"white\",\"automargin\":true,\"zerolinewidth\":2},\"yaxis\":{\"gridcolor\":\"white\",\"linecolor\":\"white\",\"ticks\":\"\",\"title\":{\"standoff\":15},\"zerolinecolor\":\"white\",\"automargin\":true,\"zerolinewidth\":2},\"scene\":{\"xaxis\":{\"backgroundcolor\":\"#E5ECF6\",\"gridcolor\":\"white\",\"linecolor\":\"white\",\"showbackground\":true,\"ticks\":\"\",\"zerolinecolor\":\"white\",\"gridwidth\":2},\"yaxis\":{\"backgroundcolor\":\"#E5ECF6\",\"gridcolor\":\"white\",\"linecolor\":\"white\",\"showbackground\":true,\"ticks\":\"\",\"zerolinecolor\":\"white\",\"gridwidth\":2},\"zaxis\":{\"backgroundcolor\":\"#E5ECF6\",\"gridcolor\":\"white\",\"linecolor\":\"white\",\"showbackground\":true,\"ticks\":\"\",\"zerolinecolor\":\"white\",\"gridwidth\":2}},\"shapedefaults\":{\"line\":{\"color\":\"#2a3f5f\"}},\"annotationdefaults\":{\"arrowcolor\":\"#2a3f5f\",\"arrowhead\":0,\"arrowwidth\":1},\"geo\":{\"bgcolor\":\"white\",\"landcolor\":\"#E5ECF6\",\"subunitcolor\":\"white\",\"showland\":true,\"showlakes\":true,\"lakecolor\":\"white\"},\"title\":{\"x\":0.05},\"mapbox\":{\"style\":\"light\"}}},\"xaxis\":{\"anchor\":\"y\",\"domain\":[0.0,1.0],\"title\":{\"text\":\"P1_distance\"}},\"yaxis\":{\"anchor\":\"x\",\"domain\":[0.0,1.0],\"title\":{\"text\":\"Y89_distance\"}},\"coloraxis\":{\"colorbar\":{\"title\":{\"text\":\"P1_distance\"}},\"colorscale\":[[0.0,\"#0d0887\"],[0.1111111111111111,\"#46039f\"],[0.2222222222222222,\"#7201a8\"],[0.3333333333333333,\"#9c179e\"],[0.4444444444444444,\"#bd3786\"],[0.5555555555555556,\"#d8576b\"],[0.6666666666666666,\"#ed7953\"],[0.7777777777777778,\"#fb9f3a\"],[0.8888888888888888,\"#fdca26\"],[1.0,\"#f0f921\"]]},\"legend\":{\"tracegroupgap\":0},\"margin\":{\"t\":60}},                        {\"responsive\": true}                    ).then(function(){\n",
       "                            \n",
       "var gd = document.getElementById('5ca3ecc4-d570-4485-b7e6-0851692898b9');\n",
       "var x = new MutationObserver(function (mutations, observer) {{\n",
       "        var display = window.getComputedStyle(gd).display;\n",
       "        if (!display || display === 'none') {{\n",
       "            console.log([gd, 'removed!']);\n",
       "            Plotly.purge(gd);\n",
       "            observer.disconnect();\n",
       "        }}\n",
       "}});\n",
       "\n",
       "// Listen for the removal of the full notebook cells\n",
       "var notebookContainer = gd.closest('#notebook-container');\n",
       "if (notebookContainer) {{\n",
       "    x.observe(notebookContainer, {childList: true});\n",
       "}}\n",
       "\n",
       "// Listen for the clearing of the current output cell\n",
       "var outputEl = gd.closest('.output');\n",
       "if (outputEl) {{\n",
       "    x.observe(outputEl, {childList: true});\n",
       "}}\n",
       "\n",
       "                        })                };                });            </script>        </div>"
      ]
     },
     "metadata": {},
     "output_type": "display_data"
    }
   ],
   "source": [
    "px.scatter(metadata, 'P1_distance', 'Y89_distance', color='P1_distance')"
   ]
  },
  {
   "cell_type": "code",
   "execution_count": null,
   "id": "40d3c46d-a25b-4e98-b902-9c858d615ed2",
   "metadata": {},
   "outputs": [],
   "source": [
    "metadata.sort_values('RMSD', ascending=False).head(10).round(2)[['alternate_name', 'RMSD', 'C110_distance', 'H21_distance', 'D39_distance', 'Y89_distance', 'Y90_distance']]"
   ]
  },
  {
   "cell_type": "code",
   "execution_count": 103,
   "id": "9628fd11-dfca-4109-b753-c0a6995b5a13",
   "metadata": {},
   "outputs": [
    {
     "name": "stdout",
     "output_type": "stream",
     "text": [
      "['x0469_0A', 'x0525_0A', 'x0540_0A', 'x0278_0A', 'x0152_1A', 'x0211_0A', 'x0228_0A', 'x0229_1A', 'x0359_0A']\n"
     ]
    }
   ],
   "source": [
    "print(metadata.loc[(metadata.Y89_distance < 3) & (metadata.P1_distance > 2)].XChem_code.to_list())"
   ]
  },
  {
   "cell_type": "code",
   "execution_count": 130,
   "id": "913f275c-97b6-4abb-9b5d-e04348b1fe97",
   "metadata": {},
   "outputs": [],
   "source": [
    "Chem.MolToMolFile(substrate, 'peptide.mol')"
   ]
  },
  {
   "cell_type": "code",
   "execution_count": 128,
   "id": "2ac7b0c2-ea95-4b1d-a065-d93dde6f3b5d",
   "metadata": {},
   "outputs": [],
   "source": [
    "from rdkit.Chem import PandasTools\n",
    "\n",
    "metadata['crystal_name'] = metadata.index\n",
    "PandasTools.WriteSDF(metadata, 'clean_hits.sdf', 'crystal', 'crystal_name', allNumeric=True)\n",
    "PandasTools.WriteSDF(metadata.loc[metadata['Y89.OH-S125.O_distance'] > 9], 'closed_hits.sdf', 'crystal', 'crystal_name', allNumeric=True)\n",
    "PandasTools.WriteSDF(metadata.loc[metadata['P1_distance'] < 2], 'P1_hits.sdf', 'crystal', 'crystal_name', allNumeric=True)\n",
    "PandasTools.WriteSDF(metadata.loc[(metadata['Y89_distance'] < 3) & (metadata['P1_distance'] > 2)], 'Y89_hits.sdf', 'crystal', 'crystal_name', allNumeric=True)"
   ]
  },
  {
   "cell_type": "markdown",
   "id": "10bcbaaf-7576-4450-a73b-8ffc13e2d2b0",
   "metadata": {},
   "source": [
    "## Fragments"
   ]
  },
  {
   "cell_type": "code",
   "execution_count": 135,
   "id": "78a1db1c-ce72-41e4-a1af-1953df77b931",
   "metadata": {},
   "outputs": [],
   "source": [
    "from gist_import import GistImporter\n",
    "fmodule = GistImporter.from_github('https://raw.githubusercontent.com/matteoferla/Fragment-hit-follow-up-chemistry/main/followup/fragment.py')\n",
    "remove_duplicated = fmodule['remove_duplicated']\n",
    "fragmént = fmodule['fragmént']\n",
    "\n",
    "frags = remove_duplicated( [frag for hit in metadata.loc[metadata['P1_distance'] < 2].crystal.to_list() + [substrate] for frag in fragmént(hit)] )"
   ]
  },
  {
   "cell_type": "code",
   "execution_count": null,
   "id": "3a271ad7-780b-4d5c-849a-2d067c405f30",
   "metadata": {},
   "outputs": [],
   "source": [
    "from fragmenstein import Laboratory\n",
    "\n",
    "with open('template.pdb') as fh:\n",
    "    pdbblock = fh.read()\n",
    "\n",
    "data = Laboratory.replace_hits(pdbblock, hits=frags, n_cores=2, timeout=600, suffix='')"
   ]
  },
  {
   "cell_type": "code",
   "execution_count": 139,
   "id": "82a13e2b-a2e6-4917-b561-53098ea6b180",
   "metadata": {},
   "outputs": [],
   "source": [
    "data['fragement'] = data.name.str.contains('S')\n",
    "data['XChem'] = ~data.name.str.contains('peptide')"
   ]
  },
  {
   "cell_type": "code",
   "execution_count": 143,
   "id": "102499e9-2dd1-4749-bb3e-32ef45af2067",
   "metadata": {},
   "outputs": [
    {
     "data": {
      "application/vnd.plotly.v1+json": {
       "config": {
        "plotlyServerURL": "https://plot.ly"
       },
       "data": [
        {
         "alignmentgroup": "True",
         "bingroup": "x",
         "hovertemplate": "∆∆G=%{x}<br>count=%{y}<extra></extra>",
         "legendgroup": "",
         "marker": {
          "color": "#636efa",
          "pattern": {
           "shape": ""
          }
         },
         "name": "",
         "offsetgroup": "",
         "orientation": "v",
         "showlegend": false,
         "type": "histogram",
         "x": [
          -8.422229937021925,
          -2.382841929429944,
          -6.3940762586466935,
          -6.167946279195711,
          -2.9678203798317155,
          -5.927829580834676,
          -2.373840682129164,
          -4.082632229401618,
          -6.022178290720108,
          -1.9155171853067756,
          -4.356166912668603,
          -0.7673943240921874,
          -3.927456279766612,
          -0.2215909160046391,
          -4.0004790003681805,
          -0.6264506428001547,
          -3.898202251508463,
          -4.170099635771701,
          -0.9794665034306966,
          -4.120349423995956,
          -7.997393826973499,
          -1.22296567406682,
          -6.505005383434981,
          -1.93339043011742,
          -6.088600641507841,
          -4.12402436207161,
          -0.6629441683351412,
          -4.411754294773153,
          -4.431778127364833,
          -0.8270562053217285,
          -0.6112259003216629,
          -4.893539495260249,
          -1.3046252837341148,
          -1.4357496330004795,
          -0.03548740878828516,
          -3.0623168521766417,
          -2.0463375977317337,
          -1.5588580149846727,
          -1.4079836828285772,
          -0.713307020415311,
          -3.6759276572535455,
          -2.2336897836974527,
          -0.4038270868541899,
          -0.9207675338225179,
          -0.3225812753507197,
          -0.7523248590679958,
          -2.213484790353353,
          -3.4440379706531146,
          -0.4529986708355904,
          -0.3243867684607815,
          -2.3013893329369512,
          -5.277850348511089,
          -0.4430001777368142,
          -2.475591298369136,
          -0.553159897843295,
          -0.1718080611246977,
          -0.07267874574828898,
          -0.9351758379749704,
          -4.281233004639417,
          -4.011513250238297,
          -0.5751982301456209,
          -3.5083422080090116,
          -0.18571122847673743,
          -2.0192267906246366,
          -3.433562084716068,
          -2.5434702184222284,
          -4.3276818506473615,
          -4.535369047391258,
          -2.5582685429421863,
          -3.4340927276211657,
          -3.361584883252067,
          -4.4722192106450285,
          -0.9512524399611011,
          -0.14480027176584476,
          -3.0615762792009225,
          -3.1599850029873187,
          -0.7522881139772823,
          -3.960967976401336,
          -6.311728846963528,
          -2.7286774080095197,
          -0.8128835349856194,
          -7.23296596879098,
          -6.3613205058235,
          -6.803233892049256,
          -7.230829385720026
         ],
         "xaxis": "x",
         "yaxis": "y"
        }
       ],
       "layout": {
        "autosize": true,
        "barmode": "relative",
        "legend": {
         "tracegroupgap": 0
        },
        "margin": {
         "t": 60
        },
        "template": {
         "data": {
          "bar": [
           {
            "error_x": {
             "color": "#2a3f5f"
            },
            "error_y": {
             "color": "#2a3f5f"
            },
            "marker": {
             "line": {
              "color": "#E5ECF6",
              "width": 0.5
             },
             "pattern": {
              "fillmode": "overlay",
              "size": 10,
              "solidity": 0.2
             }
            },
            "type": "bar"
           }
          ],
          "barpolar": [
           {
            "marker": {
             "line": {
              "color": "#E5ECF6",
              "width": 0.5
             },
             "pattern": {
              "fillmode": "overlay",
              "size": 10,
              "solidity": 0.2
             }
            },
            "type": "barpolar"
           }
          ],
          "carpet": [
           {
            "aaxis": {
             "endlinecolor": "#2a3f5f",
             "gridcolor": "white",
             "linecolor": "white",
             "minorgridcolor": "white",
             "startlinecolor": "#2a3f5f"
            },
            "baxis": {
             "endlinecolor": "#2a3f5f",
             "gridcolor": "white",
             "linecolor": "white",
             "minorgridcolor": "white",
             "startlinecolor": "#2a3f5f"
            },
            "type": "carpet"
           }
          ],
          "choropleth": [
           {
            "colorbar": {
             "outlinewidth": 0,
             "ticks": ""
            },
            "type": "choropleth"
           }
          ],
          "contour": [
           {
            "colorbar": {
             "outlinewidth": 0,
             "ticks": ""
            },
            "colorscale": [
             [
              0,
              "#0d0887"
             ],
             [
              0.1111111111111111,
              "#46039f"
             ],
             [
              0.2222222222222222,
              "#7201a8"
             ],
             [
              0.3333333333333333,
              "#9c179e"
             ],
             [
              0.4444444444444444,
              "#bd3786"
             ],
             [
              0.5555555555555556,
              "#d8576b"
             ],
             [
              0.6666666666666666,
              "#ed7953"
             ],
             [
              0.7777777777777778,
              "#fb9f3a"
             ],
             [
              0.8888888888888888,
              "#fdca26"
             ],
             [
              1,
              "#f0f921"
             ]
            ],
            "type": "contour"
           }
          ],
          "contourcarpet": [
           {
            "colorbar": {
             "outlinewidth": 0,
             "ticks": ""
            },
            "type": "contourcarpet"
           }
          ],
          "heatmap": [
           {
            "colorbar": {
             "outlinewidth": 0,
             "ticks": ""
            },
            "colorscale": [
             [
              0,
              "#0d0887"
             ],
             [
              0.1111111111111111,
              "#46039f"
             ],
             [
              0.2222222222222222,
              "#7201a8"
             ],
             [
              0.3333333333333333,
              "#9c179e"
             ],
             [
              0.4444444444444444,
              "#bd3786"
             ],
             [
              0.5555555555555556,
              "#d8576b"
             ],
             [
              0.6666666666666666,
              "#ed7953"
             ],
             [
              0.7777777777777778,
              "#fb9f3a"
             ],
             [
              0.8888888888888888,
              "#fdca26"
             ],
             [
              1,
              "#f0f921"
             ]
            ],
            "type": "heatmap"
           }
          ],
          "heatmapgl": [
           {
            "colorbar": {
             "outlinewidth": 0,
             "ticks": ""
            },
            "colorscale": [
             [
              0,
              "#0d0887"
             ],
             [
              0.1111111111111111,
              "#46039f"
             ],
             [
              0.2222222222222222,
              "#7201a8"
             ],
             [
              0.3333333333333333,
              "#9c179e"
             ],
             [
              0.4444444444444444,
              "#bd3786"
             ],
             [
              0.5555555555555556,
              "#d8576b"
             ],
             [
              0.6666666666666666,
              "#ed7953"
             ],
             [
              0.7777777777777778,
              "#fb9f3a"
             ],
             [
              0.8888888888888888,
              "#fdca26"
             ],
             [
              1,
              "#f0f921"
             ]
            ],
            "type": "heatmapgl"
           }
          ],
          "histogram": [
           {
            "marker": {
             "pattern": {
              "fillmode": "overlay",
              "size": 10,
              "solidity": 0.2
             }
            },
            "type": "histogram"
           }
          ],
          "histogram2d": [
           {
            "colorbar": {
             "outlinewidth": 0,
             "ticks": ""
            },
            "colorscale": [
             [
              0,
              "#0d0887"
             ],
             [
              0.1111111111111111,
              "#46039f"
             ],
             [
              0.2222222222222222,
              "#7201a8"
             ],
             [
              0.3333333333333333,
              "#9c179e"
             ],
             [
              0.4444444444444444,
              "#bd3786"
             ],
             [
              0.5555555555555556,
              "#d8576b"
             ],
             [
              0.6666666666666666,
              "#ed7953"
             ],
             [
              0.7777777777777778,
              "#fb9f3a"
             ],
             [
              0.8888888888888888,
              "#fdca26"
             ],
             [
              1,
              "#f0f921"
             ]
            ],
            "type": "histogram2d"
           }
          ],
          "histogram2dcontour": [
           {
            "colorbar": {
             "outlinewidth": 0,
             "ticks": ""
            },
            "colorscale": [
             [
              0,
              "#0d0887"
             ],
             [
              0.1111111111111111,
              "#46039f"
             ],
             [
              0.2222222222222222,
              "#7201a8"
             ],
             [
              0.3333333333333333,
              "#9c179e"
             ],
             [
              0.4444444444444444,
              "#bd3786"
             ],
             [
              0.5555555555555556,
              "#d8576b"
             ],
             [
              0.6666666666666666,
              "#ed7953"
             ],
             [
              0.7777777777777778,
              "#fb9f3a"
             ],
             [
              0.8888888888888888,
              "#fdca26"
             ],
             [
              1,
              "#f0f921"
             ]
            ],
            "type": "histogram2dcontour"
           }
          ],
          "mesh3d": [
           {
            "colorbar": {
             "outlinewidth": 0,
             "ticks": ""
            },
            "type": "mesh3d"
           }
          ],
          "parcoords": [
           {
            "line": {
             "colorbar": {
              "outlinewidth": 0,
              "ticks": ""
             }
            },
            "type": "parcoords"
           }
          ],
          "pie": [
           {
            "automargin": true,
            "type": "pie"
           }
          ],
          "scatter": [
           {
            "fillpattern": {
             "fillmode": "overlay",
             "size": 10,
             "solidity": 0.2
            },
            "type": "scatter"
           }
          ],
          "scatter3d": [
           {
            "line": {
             "colorbar": {
              "outlinewidth": 0,
              "ticks": ""
             }
            },
            "marker": {
             "colorbar": {
              "outlinewidth": 0,
              "ticks": ""
             }
            },
            "type": "scatter3d"
           }
          ],
          "scattercarpet": [
           {
            "marker": {
             "colorbar": {
              "outlinewidth": 0,
              "ticks": ""
             }
            },
            "type": "scattercarpet"
           }
          ],
          "scattergeo": [
           {
            "marker": {
             "colorbar": {
              "outlinewidth": 0,
              "ticks": ""
             }
            },
            "type": "scattergeo"
           }
          ],
          "scattergl": [
           {
            "marker": {
             "colorbar": {
              "outlinewidth": 0,
              "ticks": ""
             }
            },
            "type": "scattergl"
           }
          ],
          "scattermapbox": [
           {
            "marker": {
             "colorbar": {
              "outlinewidth": 0,
              "ticks": ""
             }
            },
            "type": "scattermapbox"
           }
          ],
          "scatterpolar": [
           {
            "marker": {
             "colorbar": {
              "outlinewidth": 0,
              "ticks": ""
             }
            },
            "type": "scatterpolar"
           }
          ],
          "scatterpolargl": [
           {
            "marker": {
             "colorbar": {
              "outlinewidth": 0,
              "ticks": ""
             }
            },
            "type": "scatterpolargl"
           }
          ],
          "scatterternary": [
           {
            "marker": {
             "colorbar": {
              "outlinewidth": 0,
              "ticks": ""
             }
            },
            "type": "scatterternary"
           }
          ],
          "surface": [
           {
            "colorbar": {
             "outlinewidth": 0,
             "ticks": ""
            },
            "colorscale": [
             [
              0,
              "#0d0887"
             ],
             [
              0.1111111111111111,
              "#46039f"
             ],
             [
              0.2222222222222222,
              "#7201a8"
             ],
             [
              0.3333333333333333,
              "#9c179e"
             ],
             [
              0.4444444444444444,
              "#bd3786"
             ],
             [
              0.5555555555555556,
              "#d8576b"
             ],
             [
              0.6666666666666666,
              "#ed7953"
             ],
             [
              0.7777777777777778,
              "#fb9f3a"
             ],
             [
              0.8888888888888888,
              "#fdca26"
             ],
             [
              1,
              "#f0f921"
             ]
            ],
            "type": "surface"
           }
          ],
          "table": [
           {
            "cells": {
             "fill": {
              "color": "#EBF0F8"
             },
             "line": {
              "color": "white"
             }
            },
            "header": {
             "fill": {
              "color": "#C8D4E3"
             },
             "line": {
              "color": "white"
             }
            },
            "type": "table"
           }
          ]
         },
         "layout": {
          "annotationdefaults": {
           "arrowcolor": "#2a3f5f",
           "arrowhead": 0,
           "arrowwidth": 1
          },
          "autotypenumbers": "strict",
          "coloraxis": {
           "colorbar": {
            "outlinewidth": 0,
            "ticks": ""
           }
          },
          "colorscale": {
           "diverging": [
            [
             0,
             "#8e0152"
            ],
            [
             0.1,
             "#c51b7d"
            ],
            [
             0.2,
             "#de77ae"
            ],
            [
             0.3,
             "#f1b6da"
            ],
            [
             0.4,
             "#fde0ef"
            ],
            [
             0.5,
             "#f7f7f7"
            ],
            [
             0.6,
             "#e6f5d0"
            ],
            [
             0.7,
             "#b8e186"
            ],
            [
             0.8,
             "#7fbc41"
            ],
            [
             0.9,
             "#4d9221"
            ],
            [
             1,
             "#276419"
            ]
           ],
           "sequential": [
            [
             0,
             "#0d0887"
            ],
            [
             0.1111111111111111,
             "#46039f"
            ],
            [
             0.2222222222222222,
             "#7201a8"
            ],
            [
             0.3333333333333333,
             "#9c179e"
            ],
            [
             0.4444444444444444,
             "#bd3786"
            ],
            [
             0.5555555555555556,
             "#d8576b"
            ],
            [
             0.6666666666666666,
             "#ed7953"
            ],
            [
             0.7777777777777778,
             "#fb9f3a"
            ],
            [
             0.8888888888888888,
             "#fdca26"
            ],
            [
             1,
             "#f0f921"
            ]
           ],
           "sequentialminus": [
            [
             0,
             "#0d0887"
            ],
            [
             0.1111111111111111,
             "#46039f"
            ],
            [
             0.2222222222222222,
             "#7201a8"
            ],
            [
             0.3333333333333333,
             "#9c179e"
            ],
            [
             0.4444444444444444,
             "#bd3786"
            ],
            [
             0.5555555555555556,
             "#d8576b"
            ],
            [
             0.6666666666666666,
             "#ed7953"
            ],
            [
             0.7777777777777778,
             "#fb9f3a"
            ],
            [
             0.8888888888888888,
             "#fdca26"
            ],
            [
             1,
             "#f0f921"
            ]
           ]
          },
          "colorway": [
           "#636efa",
           "#EF553B",
           "#00cc96",
           "#ab63fa",
           "#FFA15A",
           "#19d3f3",
           "#FF6692",
           "#B6E880",
           "#FF97FF",
           "#FECB52"
          ],
          "font": {
           "color": "#2a3f5f"
          },
          "geo": {
           "bgcolor": "white",
           "lakecolor": "white",
           "landcolor": "#E5ECF6",
           "showlakes": true,
           "showland": true,
           "subunitcolor": "white"
          },
          "hoverlabel": {
           "align": "left"
          },
          "hovermode": "closest",
          "mapbox": {
           "style": "light"
          },
          "paper_bgcolor": "white",
          "plot_bgcolor": "#E5ECF6",
          "polar": {
           "angularaxis": {
            "gridcolor": "white",
            "linecolor": "white",
            "ticks": ""
           },
           "bgcolor": "#E5ECF6",
           "radialaxis": {
            "gridcolor": "white",
            "linecolor": "white",
            "ticks": ""
           }
          },
          "scene": {
           "xaxis": {
            "backgroundcolor": "#E5ECF6",
            "gridcolor": "white",
            "gridwidth": 2,
            "linecolor": "white",
            "showbackground": true,
            "ticks": "",
            "zerolinecolor": "white"
           },
           "yaxis": {
            "backgroundcolor": "#E5ECF6",
            "gridcolor": "white",
            "gridwidth": 2,
            "linecolor": "white",
            "showbackground": true,
            "ticks": "",
            "zerolinecolor": "white"
           },
           "zaxis": {
            "backgroundcolor": "#E5ECF6",
            "gridcolor": "white",
            "gridwidth": 2,
            "linecolor": "white",
            "showbackground": true,
            "ticks": "",
            "zerolinecolor": "white"
           }
          },
          "shapedefaults": {
           "line": {
            "color": "#2a3f5f"
           }
          },
          "ternary": {
           "aaxis": {
            "gridcolor": "white",
            "linecolor": "white",
            "ticks": ""
           },
           "baxis": {
            "gridcolor": "white",
            "linecolor": "white",
            "ticks": ""
           },
           "bgcolor": "#E5ECF6",
           "caxis": {
            "gridcolor": "white",
            "linecolor": "white",
            "ticks": ""
           }
          },
          "title": {
           "x": 0.05
          },
          "xaxis": {
           "automargin": true,
           "gridcolor": "white",
           "linecolor": "white",
           "ticks": "",
           "title": {
            "standoff": 15
           },
           "zerolinecolor": "white",
           "zerolinewidth": 2
          },
          "yaxis": {
           "automargin": true,
           "gridcolor": "white",
           "linecolor": "white",
           "ticks": "",
           "title": {
            "standoff": 15
           },
           "zerolinecolor": "white",
           "zerolinewidth": 2
          }
         }
        },
        "xaxis": {
         "anchor": "y",
         "autorange": true,
         "domain": [
          0,
          1
         ],
         "range": [
          -9,
          0
         ],
         "title": {
          "text": "∆∆G"
         },
         "type": "linear"
        },
        "yaxis": {
         "anchor": "x",
         "autorange": true,
         "domain": [
          0,
          1
         ],
         "range": [
          0,
          27.36842105263158
         ],
         "title": {
          "text": "count"
         }
        }
       }
      },
      "image/png": "[encoded data removed]",
      "text/html": [
       "<div>                            <div id=\"4c3b3f7a-ba08-448d-9864-4136ed3c0f2a\" class=\"plotly-graph-div\" style=\"height:525px; width:100%;\"></div>            <script type=\"text/javascript\">                require([\"plotly\"], function(Plotly) {                    window.PLOTLYENV=window.PLOTLYENV || {};                                    if (document.getElementById(\"4c3b3f7a-ba08-448d-9864-4136ed3c0f2a\")) {                    Plotly.newPlot(                        \"4c3b3f7a-ba08-448d-9864-4136ed3c0f2a\",                        [{\"alignmentgroup\":\"True\",\"bingroup\":\"x\",\"hovertemplate\":\"∆∆G=%{x}\\u003cbr\\u003ecount=%{y}\\u003cextra\\u003e\\u003c\\u002fextra\\u003e\",\"legendgroup\":\"\",\"marker\":{\"color\":\"#636efa\",\"pattern\":{\"shape\":\"\"}},\"name\":\"\",\"offsetgroup\":\"\",\"orientation\":\"v\",\"showlegend\":false,\"x\":[-8.422229937021925,-2.382841929429944,-6.3940762586466935,-6.167946279195711,-2.9678203798317155,-5.927829580834676,-2.373840682129164,-4.082632229401618,-6.022178290720108,-1.9155171853067756,-4.356166912668603,-0.7673943240921874,-3.927456279766612,-0.2215909160046391,-4.0004790003681805,-0.6264506428001547,-3.898202251508463,-4.170099635771701,-0.9794665034306966,-4.120349423995956,-7.997393826973499,-1.22296567406682,-6.505005383434981,-1.93339043011742,-6.088600641507841,-4.12402436207161,-0.6629441683351412,-4.411754294773153,-4.431778127364833,-0.8270562053217285,-0.6112259003216629,-4.893539495260249,-1.3046252837341148,-1.4357496330004795,-0.03548740878828516,-3.0623168521766417,-2.0463375977317337,-1.5588580149846727,-1.4079836828285772,-0.713307020415311,-3.6759276572535455,-2.2336897836974527,-0.4038270868541899,-0.9207675338225179,-0.3225812753507197,-0.7523248590679958,-2.213484790353353,-3.4440379706531146,-0.4529986708355904,-0.3243867684607815,-2.3013893329369512,-5.277850348511089,-0.4430001777368142,-2.475591298369136,-0.553159897843295,-0.1718080611246977,-0.07267874574828898,-0.9351758379749704,-4.281233004639417,-4.011513250238297,-0.5751982301456209,-3.5083422080090116,-0.18571122847673743,-2.0192267906246366,-3.433562084716068,-2.5434702184222284,-4.3276818506473615,-4.535369047391258,-2.5582685429421863,-3.4340927276211657,-3.361584883252067,-4.4722192106450285,-0.9512524399611011,-0.14480027176584476,-3.0615762792009225,-3.1599850029873187,-0.7522881139772823,-3.960967976401336,-6.311728846963528,-2.7286774080095197,-0.8128835349856194,-7.23296596879098,-6.3613205058235,-6.803233892049256,-7.230829385720026],\"xaxis\":\"x\",\"yaxis\":\"y\",\"type\":\"histogram\"}],                        {\"template\":{\"data\":{\"histogram2dcontour\":[{\"type\":\"histogram2dcontour\",\"colorbar\":{\"outlinewidth\":0,\"ticks\":\"\"},\"colorscale\":[[0.0,\"#0d0887\"],[0.1111111111111111,\"#46039f\"],[0.2222222222222222,\"#7201a8\"],[0.3333333333333333,\"#9c179e\"],[0.4444444444444444,\"#bd3786\"],[0.5555555555555556,\"#d8576b\"],[0.6666666666666666,\"#ed7953\"],[0.7777777777777778,\"#fb9f3a\"],[0.8888888888888888,\"#fdca26\"],[1.0,\"#f0f921\"]]}],\"choropleth\":[{\"type\":\"choropleth\",\"colorbar\":{\"outlinewidth\":0,\"ticks\":\"\"}}],\"histogram2d\":[{\"type\":\"histogram2d\",\"colorbar\":{\"outlinewidth\":0,\"ticks\":\"\"},\"colorscale\":[[0.0,\"#0d0887\"],[0.1111111111111111,\"#46039f\"],[0.2222222222222222,\"#7201a8\"],[0.3333333333333333,\"#9c179e\"],[0.4444444444444444,\"#bd3786\"],[0.5555555555555556,\"#d8576b\"],[0.6666666666666666,\"#ed7953\"],[0.7777777777777778,\"#fb9f3a\"],[0.8888888888888888,\"#fdca26\"],[1.0,\"#f0f921\"]]}],\"heatmap\":[{\"type\":\"heatmap\",\"colorbar\":{\"outlinewidth\":0,\"ticks\":\"\"},\"colorscale\":[[0.0,\"#0d0887\"],[0.1111111111111111,\"#46039f\"],[0.2222222222222222,\"#7201a8\"],[0.3333333333333333,\"#9c179e\"],[0.4444444444444444,\"#bd3786\"],[0.5555555555555556,\"#d8576b\"],[0.6666666666666666,\"#ed7953\"],[0.7777777777777778,\"#fb9f3a\"],[0.8888888888888888,\"#fdca26\"],[1.0,\"#f0f921\"]]}],\"heatmapgl\":[{\"type\":\"heatmapgl\",\"colorbar\":{\"outlinewidth\":0,\"ticks\":\"\"},\"colorscale\":[[0.0,\"#0d0887\"],[0.1111111111111111,\"#46039f\"],[0.2222222222222222,\"#7201a8\"],[0.3333333333333333,\"#9c179e\"],[0.4444444444444444,\"#bd3786\"],[0.5555555555555556,\"#d8576b\"],[0.6666666666666666,\"#ed7953\"],[0.7777777777777778,\"#fb9f3a\"],[0.8888888888888888,\"#fdca26\"],[1.0,\"#f0f921\"]]}],\"contourcarpet\":[{\"type\":\"contourcarpet\",\"colorbar\":{\"outlinewidth\":0,\"ticks\":\"\"}}],\"contour\":[{\"type\":\"contour\",\"colorbar\":{\"outlinewidth\":0,\"ticks\":\"\"},\"colorscale\":[[0.0,\"#0d0887\"],[0.1111111111111111,\"#46039f\"],[0.2222222222222222,\"#7201a8\"],[0.3333333333333333,\"#9c179e\"],[0.4444444444444444,\"#bd3786\"],[0.5555555555555556,\"#d8576b\"],[0.6666666666666666,\"#ed7953\"],[0.7777777777777778,\"#fb9f3a\"],[0.8888888888888888,\"#fdca26\"],[1.0,\"#f0f921\"]]}],\"surface\":[{\"type\":\"surface\",\"colorbar\":{\"outlinewidth\":0,\"ticks\":\"\"},\"colorscale\":[[0.0,\"#0d0887\"],[0.1111111111111111,\"#46039f\"],[0.2222222222222222,\"#7201a8\"],[0.3333333333333333,\"#9c179e\"],[0.4444444444444444,\"#bd3786\"],[0.5555555555555556,\"#d8576b\"],[0.6666666666666666,\"#ed7953\"],[0.7777777777777778,\"#fb9f3a\"],[0.8888888888888888,\"#fdca26\"],[1.0,\"#f0f921\"]]}],\"mesh3d\":[{\"type\":\"mesh3d\",\"colorbar\":{\"outlinewidth\":0,\"ticks\":\"\"}}],\"scatter\":[{\"fillpattern\":{\"fillmode\":\"overlay\",\"size\":10,\"solidity\":0.2},\"type\":\"scatter\"}],\"parcoords\":[{\"type\":\"parcoords\",\"line\":{\"colorbar\":{\"outlinewidth\":0,\"ticks\":\"\"}}}],\"scatterpolargl\":[{\"type\":\"scatterpolargl\",\"marker\":{\"colorbar\":{\"outlinewidth\":0,\"ticks\":\"\"}}}],\"bar\":[{\"error_x\":{\"color\":\"#2a3f5f\"},\"error_y\":{\"color\":\"#2a3f5f\"},\"marker\":{\"line\":{\"color\":\"#E5ECF6\",\"width\":0.5},\"pattern\":{\"fillmode\":\"overlay\",\"size\":10,\"solidity\":0.2}},\"type\":\"bar\"}],\"scattergeo\":[{\"type\":\"scattergeo\",\"marker\":{\"colorbar\":{\"outlinewidth\":0,\"ticks\":\"\"}}}],\"scatterpolar\":[{\"type\":\"scatterpolar\",\"marker\":{\"colorbar\":{\"outlinewidth\":0,\"ticks\":\"\"}}}],\"histogram\":[{\"marker\":{\"pattern\":{\"fillmode\":\"overlay\",\"size\":10,\"solidity\":0.2}},\"type\":\"histogram\"}],\"scattergl\":[{\"type\":\"scattergl\",\"marker\":{\"colorbar\":{\"outlinewidth\":0,\"ticks\":\"\"}}}],\"scatter3d\":[{\"type\":\"scatter3d\",\"line\":{\"colorbar\":{\"outlinewidth\":0,\"ticks\":\"\"}},\"marker\":{\"colorbar\":{\"outlinewidth\":0,\"ticks\":\"\"}}}],\"scattermapbox\":[{\"type\":\"scattermapbox\",\"marker\":{\"colorbar\":{\"outlinewidth\":0,\"ticks\":\"\"}}}],\"scatterternary\":[{\"type\":\"scatterternary\",\"marker\":{\"colorbar\":{\"outlinewidth\":0,\"ticks\":\"\"}}}],\"scattercarpet\":[{\"type\":\"scattercarpet\",\"marker\":{\"colorbar\":{\"outlinewidth\":0,\"ticks\":\"\"}}}],\"carpet\":[{\"aaxis\":{\"endlinecolor\":\"#2a3f5f\",\"gridcolor\":\"white\",\"linecolor\":\"white\",\"minorgridcolor\":\"white\",\"startlinecolor\":\"#2a3f5f\"},\"baxis\":{\"endlinecolor\":\"#2a3f5f\",\"gridcolor\":\"white\",\"linecolor\":\"white\",\"minorgridcolor\":\"white\",\"startlinecolor\":\"#2a3f5f\"},\"type\":\"carpet\"}],\"table\":[{\"cells\":{\"fill\":{\"color\":\"#EBF0F8\"},\"line\":{\"color\":\"white\"}},\"header\":{\"fill\":{\"color\":\"#C8D4E3\"},\"line\":{\"color\":\"white\"}},\"type\":\"table\"}],\"barpolar\":[{\"marker\":{\"line\":{\"color\":\"#E5ECF6\",\"width\":0.5},\"pattern\":{\"fillmode\":\"overlay\",\"size\":10,\"solidity\":0.2}},\"type\":\"barpolar\"}],\"pie\":[{\"automargin\":true,\"type\":\"pie\"}]},\"layout\":{\"autotypenumbers\":\"strict\",\"colorway\":[\"#636efa\",\"#EF553B\",\"#00cc96\",\"#ab63fa\",\"#FFA15A\",\"#19d3f3\",\"#FF6692\",\"#B6E880\",\"#FF97FF\",\"#FECB52\"],\"font\":{\"color\":\"#2a3f5f\"},\"hovermode\":\"closest\",\"hoverlabel\":{\"align\":\"left\"},\"paper_bgcolor\":\"white\",\"plot_bgcolor\":\"#E5ECF6\",\"polar\":{\"bgcolor\":\"#E5ECF6\",\"angularaxis\":{\"gridcolor\":\"white\",\"linecolor\":\"white\",\"ticks\":\"\"},\"radialaxis\":{\"gridcolor\":\"white\",\"linecolor\":\"white\",\"ticks\":\"\"}},\"ternary\":{\"bgcolor\":\"#E5ECF6\",\"aaxis\":{\"gridcolor\":\"white\",\"linecolor\":\"white\",\"ticks\":\"\"},\"baxis\":{\"gridcolor\":\"white\",\"linecolor\":\"white\",\"ticks\":\"\"},\"caxis\":{\"gridcolor\":\"white\",\"linecolor\":\"white\",\"ticks\":\"\"}},\"coloraxis\":{\"colorbar\":{\"outlinewidth\":0,\"ticks\":\"\"}},\"colorscale\":{\"sequential\":[[0.0,\"#0d0887\"],[0.1111111111111111,\"#46039f\"],[0.2222222222222222,\"#7201a8\"],[0.3333333333333333,\"#9c179e\"],[0.4444444444444444,\"#bd3786\"],[0.5555555555555556,\"#d8576b\"],[0.6666666666666666,\"#ed7953\"],[0.7777777777777778,\"#fb9f3a\"],[0.8888888888888888,\"#fdca26\"],[1.0,\"#f0f921\"]],\"sequentialminus\":[[0.0,\"#0d0887\"],[0.1111111111111111,\"#46039f\"],[0.2222222222222222,\"#7201a8\"],[0.3333333333333333,\"#9c179e\"],[0.4444444444444444,\"#bd3786\"],[0.5555555555555556,\"#d8576b\"],[0.6666666666666666,\"#ed7953\"],[0.7777777777777778,\"#fb9f3a\"],[0.8888888888888888,\"#fdca26\"],[1.0,\"#f0f921\"]],\"diverging\":[[0,\"#8e0152\"],[0.1,\"#c51b7d\"],[0.2,\"#de77ae\"],[0.3,\"#f1b6da\"],[0.4,\"#fde0ef\"],[0.5,\"#f7f7f7\"],[0.6,\"#e6f5d0\"],[0.7,\"#b8e186\"],[0.8,\"#7fbc41\"],[0.9,\"#4d9221\"],[1,\"#276419\"]]},\"xaxis\":{\"gridcolor\":\"white\",\"linecolor\":\"white\",\"ticks\":\"\",\"title\":{\"standoff\":15},\"zerolinecolor\":\"white\",\"automargin\":true,\"zerolinewidth\":2},\"yaxis\":{\"gridcolor\":\"white\",\"linecolor\":\"white\",\"ticks\":\"\",\"title\":{\"standoff\":15},\"zerolinecolor\":\"white\",\"automargin\":true,\"zerolinewidth\":2},\"scene\":{\"xaxis\":{\"backgroundcolor\":\"#E5ECF6\",\"gridcolor\":\"white\",\"linecolor\":\"white\",\"showbackground\":true,\"ticks\":\"\",\"zerolinecolor\":\"white\",\"gridwidth\":2},\"yaxis\":{\"backgroundcolor\":\"#E5ECF6\",\"gridcolor\":\"white\",\"linecolor\":\"white\",\"showbackground\":true,\"ticks\":\"\",\"zerolinecolor\":\"white\",\"gridwidth\":2},\"zaxis\":{\"backgroundcolor\":\"#E5ECF6\",\"gridcolor\":\"white\",\"linecolor\":\"white\",\"showbackground\":true,\"ticks\":\"\",\"zerolinecolor\":\"white\",\"gridwidth\":2}},\"shapedefaults\":{\"line\":{\"color\":\"#2a3f5f\"}},\"annotationdefaults\":{\"arrowcolor\":\"#2a3f5f\",\"arrowhead\":0,\"arrowwidth\":1},\"geo\":{\"bgcolor\":\"white\",\"landcolor\":\"#E5ECF6\",\"subunitcolor\":\"white\",\"showland\":true,\"showlakes\":true,\"lakecolor\":\"white\"},\"title\":{\"x\":0.05},\"mapbox\":{\"style\":\"light\"}}},\"xaxis\":{\"anchor\":\"y\",\"domain\":[0.0,1.0],\"title\":{\"text\":\"∆∆G\"}},\"yaxis\":{\"anchor\":\"x\",\"domain\":[0.0,1.0],\"title\":{\"text\":\"count\"}},\"legend\":{\"tracegroupgap\":0},\"margin\":{\"t\":60},\"barmode\":\"relative\"},                        {\"responsive\": true}                    ).then(function(){\n",
       "                            \n",
       "var gd = document.getElementById('4c3b3f7a-ba08-448d-9864-4136ed3c0f2a');\n",
       "var x = new MutationObserver(function (mutations, observer) {{\n",
       "        var display = window.getComputedStyle(gd).display;\n",
       "        if (!display || display === 'none') {{\n",
       "            console.log([gd, 'removed!']);\n",
       "            Plotly.purge(gd);\n",
       "            observer.disconnect();\n",
       "        }}\n",
       "}});\n",
       "\n",
       "// Listen for the removal of the full notebook cells\n",
       "var notebookContainer = gd.closest('#notebook-container');\n",
       "if (notebookContainer) {{\n",
       "    x.observe(notebookContainer, {childList: true});\n",
       "}}\n",
       "\n",
       "// Listen for the clearing of the current output cell\n",
       "var outputEl = gd.closest('.output');\n",
       "if (outputEl) {{\n",
       "    x.observe(outputEl, {childList: true});\n",
       "}}\n",
       "\n",
       "                        })                };                });            </script>        </div>"
      ]
     },
     "metadata": {},
     "output_type": "display_data"
    }
   ],
   "source": [
    "px.histogram(data, '∆∆G')"
   ]
  },
  {
   "cell_type": "code",
   "execution_count": 150,
   "id": "16556de1-5bfa-48d7-ba14-79f295a1108d",
   "metadata": {},
   "outputs": [],
   "source": [
    "data.to_csv('fragmented_P1_data.csv')"
   ]
  },
  {
   "cell_type": "code",
   "execution_count": 148,
   "id": "18c33528-7e23-420a-94cd-1e431971f3b1",
   "metadata": {},
   "outputs": [],
   "source": [
    "import operator\n",
    "\n",
    "hits = data.loc[(data['∆∆G'] <= -3) | (~data.fragement)].hit_mols.apply(operator.itemgetter(0)).to_list()\n",
    "\n",
    "with Chem.SDWriter('fragmented_P1.sdf') as sdfh:\n",
    "    for hit in hits:\n",
    "        sdfh.write(hit)"
   ]
  },
  {
   "cell_type": "code",
   "execution_count": 140,
   "id": "a9f2e3de-9d81-4341-92b8-a6a60a7335d8",
   "metadata": {},
   "outputs": [
    {
     "data": {
      "image/png": "[encoded data removed]",
      "text/plain": [
       "<IPython.core.display.Image object>"
      ]
     },
     "execution_count": 140,
     "metadata": {},
     "output_type": "execute_result"
    }
   ],
   "source": [
    "Draw.MolsToGridImage(data.sort_values('∆∆G').head(20).smiles.apply(Chem.MolFromSmiles))"
   ]
  },
  {
   "cell_type": "code",
   "execution_count": 85,
   "id": "b6b3f709-5c56-44d6-b6ab-fe14e6959230",
   "metadata": {},
   "outputs": [
    {
     "data": {
      "text/html": [
       "<div>\n",
       "<style scoped>\n",
       "    .dataframe tbody tr th:only-of-type {\n",
       "        vertical-align: middle;\n",
       "    }\n",
       "\n",
       "    .dataframe tbody tr th {\n",
       "        vertical-align: top;\n",
       "    }\n",
       "\n",
       "    .dataframe thead th {\n",
       "        text-align: right;\n",
       "    }\n",
       "</style>\n",
       "<table border=\"1\" class=\"dataframe\">\n",
       "  <thead>\n",
       "    <tr style=\"text-align: right;\">\n",
       "      <th></th>\n",
       "      <th>∆∆G</th>\n",
       "      <th>N_rotatable_bonds</th>\n",
       "    </tr>\n",
       "  </thead>\n",
       "  <tbody>\n",
       "    <tr>\n",
       "      <th>0</th>\n",
       "      <td>-5.425538</td>\n",
       "      <td>3</td>\n",
       "    </tr>\n",
       "    <tr>\n",
       "      <th>5</th>\n",
       "      <td>-3.714017</td>\n",
       "      <td>4</td>\n",
       "    </tr>\n",
       "    <tr>\n",
       "      <th>8</th>\n",
       "      <td>-6.590541</td>\n",
       "      <td>3</td>\n",
       "    </tr>\n",
       "    <tr>\n",
       "      <th>13</th>\n",
       "      <td>-5.824892</td>\n",
       "      <td>4</td>\n",
       "    </tr>\n",
       "    <tr>\n",
       "      <th>18</th>\n",
       "      <td>-6.342973</td>\n",
       "      <td>5</td>\n",
       "    </tr>\n",
       "    <tr>\n",
       "      <th>28</th>\n",
       "      <td>-1.896181</td>\n",
       "      <td>2</td>\n",
       "    </tr>\n",
       "    <tr>\n",
       "      <th>31</th>\n",
       "      <td>-6.549449</td>\n",
       "      <td>2</td>\n",
       "    </tr>\n",
       "    <tr>\n",
       "      <th>34</th>\n",
       "      <td>-5.872293</td>\n",
       "      <td>4</td>\n",
       "    </tr>\n",
       "    <tr>\n",
       "      <th>43</th>\n",
       "      <td>-5.944017</td>\n",
       "      <td>8</td>\n",
       "    </tr>\n",
       "    <tr>\n",
       "      <th>46</th>\n",
       "      <td>-3.756799</td>\n",
       "      <td>2</td>\n",
       "    </tr>\n",
       "    <tr>\n",
       "      <th>51</th>\n",
       "      <td>-4.139672</td>\n",
       "      <td>2</td>\n",
       "    </tr>\n",
       "    <tr>\n",
       "      <th>56</th>\n",
       "      <td>-2.134257</td>\n",
       "      <td>2</td>\n",
       "    </tr>\n",
       "    <tr>\n",
       "      <th>61</th>\n",
       "      <td>-3.448337</td>\n",
       "      <td>4</td>\n",
       "    </tr>\n",
       "    <tr>\n",
       "      <th>68</th>\n",
       "      <td>-0.487782</td>\n",
       "      <td>2</td>\n",
       "    </tr>\n",
       "    <tr>\n",
       "      <th>71</th>\n",
       "      <td>-4.740497</td>\n",
       "      <td>3</td>\n",
       "    </tr>\n",
       "    <tr>\n",
       "      <th>74</th>\n",
       "      <td>-2.237799</td>\n",
       "      <td>2</td>\n",
       "    </tr>\n",
       "    <tr>\n",
       "      <th>81</th>\n",
       "      <td>-5.571028</td>\n",
       "      <td>2</td>\n",
       "    </tr>\n",
       "    <tr>\n",
       "      <th>88</th>\n",
       "      <td>-1.829063</td>\n",
       "      <td>3</td>\n",
       "    </tr>\n",
       "    <tr>\n",
       "      <th>91</th>\n",
       "      <td>-3.302403</td>\n",
       "      <td>3</td>\n",
       "    </tr>\n",
       "    <tr>\n",
       "      <th>94</th>\n",
       "      <td>-5.369730</td>\n",
       "      <td>4</td>\n",
       "    </tr>\n",
       "    <tr>\n",
       "      <th>95</th>\n",
       "      <td>-2.028620</td>\n",
       "      <td>3</td>\n",
       "    </tr>\n",
       "    <tr>\n",
       "      <th>101</th>\n",
       "      <td>-1.040194</td>\n",
       "      <td>5</td>\n",
       "    </tr>\n",
       "    <tr>\n",
       "      <th>106</th>\n",
       "      <td>-4.322946</td>\n",
       "      <td>6</td>\n",
       "    </tr>\n",
       "    <tr>\n",
       "      <th>109</th>\n",
       "      <td>-3.546132</td>\n",
       "      <td>5</td>\n",
       "    </tr>\n",
       "    <tr>\n",
       "      <th>120</th>\n",
       "      <td>-4.271890</td>\n",
       "      <td>5</td>\n",
       "    </tr>\n",
       "    <tr>\n",
       "      <th>131</th>\n",
       "      <td>-4.048859</td>\n",
       "      <td>4</td>\n",
       "    </tr>\n",
       "    <tr>\n",
       "      <th>132</th>\n",
       "      <td>-4.233855</td>\n",
       "      <td>3</td>\n",
       "    </tr>\n",
       "    <tr>\n",
       "      <th>140</th>\n",
       "      <td>-4.592956</td>\n",
       "      <td>3</td>\n",
       "    </tr>\n",
       "    <tr>\n",
       "      <th>148</th>\n",
       "      <td>-2.948083</td>\n",
       "      <td>6</td>\n",
       "    </tr>\n",
       "    <tr>\n",
       "      <th>149</th>\n",
       "      <td>-3.133561</td>\n",
       "      <td>2</td>\n",
       "    </tr>\n",
       "    <tr>\n",
       "      <th>152</th>\n",
       "      <td>-3.413833</td>\n",
       "      <td>4</td>\n",
       "    </tr>\n",
       "    <tr>\n",
       "      <th>155</th>\n",
       "      <td>-1.726340</td>\n",
       "      <td>4</td>\n",
       "    </tr>\n",
       "    <tr>\n",
       "      <th>158</th>\n",
       "      <td>-2.828382</td>\n",
       "      <td>4</td>\n",
       "    </tr>\n",
       "    <tr>\n",
       "      <th>161</th>\n",
       "      <td>-1.361686</td>\n",
       "      <td>3</td>\n",
       "    </tr>\n",
       "    <tr>\n",
       "      <th>164</th>\n",
       "      <td>-3.618502</td>\n",
       "      <td>5</td>\n",
       "    </tr>\n",
       "    <tr>\n",
       "      <th>169</th>\n",
       "      <td>-4.124568</td>\n",
       "      <td>5</td>\n",
       "    </tr>\n",
       "    <tr>\n",
       "      <th>174</th>\n",
       "      <td>-4.707572</td>\n",
       "      <td>4</td>\n",
       "    </tr>\n",
       "    <tr>\n",
       "      <th>183</th>\n",
       "      <td>-3.398190</td>\n",
       "      <td>3</td>\n",
       "    </tr>\n",
       "    <tr>\n",
       "      <th>184</th>\n",
       "      <td>-1.630880</td>\n",
       "      <td>2</td>\n",
       "    </tr>\n",
       "    <tr>\n",
       "      <th>187</th>\n",
       "      <td>-5.255248</td>\n",
       "      <td>2</td>\n",
       "    </tr>\n",
       "    <tr>\n",
       "      <th>189</th>\n",
       "      <td>-2.794971</td>\n",
       "      <td>3</td>\n",
       "    </tr>\n",
       "    <tr>\n",
       "      <th>194</th>\n",
       "      <td>-4.428056</td>\n",
       "      <td>4</td>\n",
       "    </tr>\n",
       "    <tr>\n",
       "      <th>197</th>\n",
       "      <td>-0.330614</td>\n",
       "      <td>3</td>\n",
       "    </tr>\n",
       "    <tr>\n",
       "      <th>200</th>\n",
       "      <td>-4.326056</td>\n",
       "      <td>7</td>\n",
       "    </tr>\n",
       "    <tr>\n",
       "      <th>209</th>\n",
       "      <td>-5.118573</td>\n",
       "      <td>7</td>\n",
       "    </tr>\n",
       "    <tr>\n",
       "      <th>219</th>\n",
       "      <td>-2.444140</td>\n",
       "      <td>4</td>\n",
       "    </tr>\n",
       "    <tr>\n",
       "      <th>220</th>\n",
       "      <td>-1.944988</td>\n",
       "      <td>4</td>\n",
       "    </tr>\n",
       "    <tr>\n",
       "      <th>225</th>\n",
       "      <td>-2.174408</td>\n",
       "      <td>3</td>\n",
       "    </tr>\n",
       "    <tr>\n",
       "      <th>232</th>\n",
       "      <td>-3.324334</td>\n",
       "      <td>4</td>\n",
       "    </tr>\n",
       "    <tr>\n",
       "      <th>233</th>\n",
       "      <td>84.292732</td>\n",
       "      <td>19</td>\n",
       "    </tr>\n",
       "  </tbody>\n",
       "</table>\n",
       "</div>"
      ],
      "text/plain": [
       "           ∆∆G  N_rotatable_bonds\n",
       "0    -5.425538                  3\n",
       "5    -3.714017                  4\n",
       "8    -6.590541                  3\n",
       "13   -5.824892                  4\n",
       "18   -6.342973                  5\n",
       "28   -1.896181                  2\n",
       "31   -6.549449                  2\n",
       "34   -5.872293                  4\n",
       "43   -5.944017                  8\n",
       "46   -3.756799                  2\n",
       "51   -4.139672                  2\n",
       "56   -2.134257                  2\n",
       "61   -3.448337                  4\n",
       "68   -0.487782                  2\n",
       "71   -4.740497                  3\n",
       "74   -2.237799                  2\n",
       "81   -5.571028                  2\n",
       "88   -1.829063                  3\n",
       "91   -3.302403                  3\n",
       "94   -5.369730                  4\n",
       "95   -2.028620                  3\n",
       "101  -1.040194                  5\n",
       "106  -4.322946                  6\n",
       "109  -3.546132                  5\n",
       "120  -4.271890                  5\n",
       "131  -4.048859                  4\n",
       "132  -4.233855                  3\n",
       "140  -4.592956                  3\n",
       "148  -2.948083                  6\n",
       "149  -3.133561                  2\n",
       "152  -3.413833                  4\n",
       "155  -1.726340                  4\n",
       "158  -2.828382                  4\n",
       "161  -1.361686                  3\n",
       "164  -3.618502                  5\n",
       "169  -4.124568                  5\n",
       "174  -4.707572                  4\n",
       "183  -3.398190                  3\n",
       "184  -1.630880                  2\n",
       "187  -5.255248                  2\n",
       "189  -2.794971                  3\n",
       "194  -4.428056                  4\n",
       "197  -0.330614                  3\n",
       "200  -4.326056                  7\n",
       "209  -5.118573                  7\n",
       "219  -2.444140                  4\n",
       "220  -1.944988                  4\n",
       "225  -2.174408                  3\n",
       "232  -3.324334                  4\n",
       "233  84.292732                 19"
      ]
     },
     "execution_count": 85,
     "metadata": {},
     "output_type": "execute_result"
    }
   ],
   "source": [
    "data.loc[~data.fragement][['∆∆G', 'N_rotatable_bonds']]"
   ]
  },
  {
   "cell_type": "code",
   "execution_count": 41,
   "id": "dd2e4cd5-67fd-4205-9b52-1f92d1f807b1",
   "metadata": {},
   "outputs": [
    {
     "data": {
      "image/png": "[encoded data removed]",
      "text/plain": [
       "<rdkit.Chem.rdchem.Mol at 0x1196dd230>"
      ]
     },
     "execution_count": 41,
     "metadata": {},
     "output_type": "execute_result"
    }
   ],
   "source": [
    "Chem.MolFromSmiles(metadata.set_index('crystal_name').loc['A71EV2A-x0428_0A'].SMILES)"
   ]
  },
  {
   "cell_type": "code",
   "execution_count": 6,
   "id": "df863347-8bcb-417b-be9f-dce307738062",
   "metadata": {},
   "outputs": [
    {
     "data": {
      "text/html": [
       "<div>\n",
       "<style scoped>\n",
       "    .dataframe tbody tr th:only-of-type {\n",
       "        vertical-align: middle;\n",
       "    }\n",
       "\n",
       "    .dataframe tbody tr th {\n",
       "        vertical-align: top;\n",
       "    }\n",
       "\n",
       "    .dataframe thead th {\n",
       "        text-align: right;\n",
       "    }\n",
       "</style>\n",
       "<table border=\"1\" class=\"dataframe\">\n",
       "  <thead>\n",
       "    <tr style=\"text-align: right;\">\n",
       "      <th></th>\n",
       "      <th>RealCrystalName</th>\n",
       "      <th>smiles</th>\n",
       "      <th>new_smiles</th>\n",
       "      <th>alternate_name</th>\n",
       "      <th>site_name</th>\n",
       "      <th>pdb_entry</th>\n",
       "      <th>single_smiles</th>\n",
       "    </tr>\n",
       "    <tr>\n",
       "      <th>crystal_name</th>\n",
       "      <th></th>\n",
       "      <th></th>\n",
       "      <th></th>\n",
       "      <th></th>\n",
       "      <th></th>\n",
       "      <th></th>\n",
       "      <th></th>\n",
       "    </tr>\n",
       "  </thead>\n",
       "  <tbody>\n",
       "    <tr>\n",
       "      <th>A71EV2A-x0451_0A</th>\n",
       "      <td>A71EV2A-x0451</td>\n",
       "      <td>CNC(=O)c1cn(C)c2ccccc12</td>\n",
       "      <td>CNC(=O)c1cn(C)c2ccccc12</td>\n",
       "      <td>Z100643660</td>\n",
       "      <td>1</td>\n",
       "      <td>NaN</td>\n",
       "      <td>CNC(=O)c1cn(C)c2ccccc12</td>\n",
       "    </tr>\n",
       "    <tr>\n",
       "      <th>A71EV2A-x0469_0A</th>\n",
       "      <td>A71EV2A-x0469</td>\n",
       "      <td>CC(C)N1CCN(CC1)c2ncccn2</td>\n",
       "      <td>CC(C)N1CCN(CC1)c2ncccn2</td>\n",
       "      <td>Z104924088</td>\n",
       "      <td>1</td>\n",
       "      <td>NaN</td>\n",
       "      <td>CC(C)N1CCN(c2ncccn2)CC1</td>\n",
       "    </tr>\n",
       "    <tr>\n",
       "      <th>A71EV2A-x0473_0A</th>\n",
       "      <td>A71EV2A-x0473</td>\n",
       "      <td>O=S(=O)(NC1CCCC1)C2CCOCC2</td>\n",
       "      <td>O=S(=O)(NC1CCCC1)C2CCOCC2</td>\n",
       "      <td>Z1082839290</td>\n",
       "      <td>1</td>\n",
       "      <td>NaN</td>\n",
       "      <td>O=S(=O)(NC1CCCC1)C1CCOCC1</td>\n",
       "    </tr>\n",
       "    <tr>\n",
       "      <th>A71EV2A-x0486_0A</th>\n",
       "      <td>A71EV2A-x0486</td>\n",
       "      <td>CN(C)C(=O)Cn1ncc2ccccc12</td>\n",
       "      <td>CN(C)C(=O)Cn1ncc2ccccc12</td>\n",
       "      <td>Z1148165337</td>\n",
       "      <td>1</td>\n",
       "      <td>NaN</td>\n",
       "      <td>CN(C)C(=O)Cn1ncc2ccccc21</td>\n",
       "    </tr>\n",
       "    <tr>\n",
       "      <th>A71EV2A-x0517_0A</th>\n",
       "      <td>A71EV2A-x0517</td>\n",
       "      <td>CCn1cc(cn1)C(=O)NCc2ccc(F)cc2</td>\n",
       "      <td>CCn1cc(cn1)C(=O)NCc2ccc(F)cc2</td>\n",
       "      <td>Z1203107138</td>\n",
       "      <td>1</td>\n",
       "      <td>NaN</td>\n",
       "      <td>CCn1cc(C(=O)NCc2ccc(F)cc2)cn1</td>\n",
       "    </tr>\n",
       "    <tr>\n",
       "      <th>A71EV2A-x0525_0A</th>\n",
       "      <td>A71EV2A-x0525</td>\n",
       "      <td>FC(F)Oc1ccc(=O)[nH]c1</td>\n",
       "      <td>FC(F)Oc1ccc(=O)[nH]c1</td>\n",
       "      <td>Z1216861874</td>\n",
       "      <td>1</td>\n",
       "      <td>NaN</td>\n",
       "      <td>O=c1ccc(OC(F)F)c[nH]1</td>\n",
       "    </tr>\n",
       "    <tr>\n",
       "      <th>A71EV2A-x0526_0A</th>\n",
       "      <td>A71EV2A-x0526</td>\n",
       "      <td>Cc1nccn1c2cccnc2</td>\n",
       "      <td>Cc1nccn1c2cccnc2</td>\n",
       "      <td>Z1217131798</td>\n",
       "      <td>1</td>\n",
       "      <td>NaN</td>\n",
       "      <td>Cc1nccn1-c1cccnc1</td>\n",
       "    </tr>\n",
       "    <tr>\n",
       "      <th>A71EV2A-x0540_0A</th>\n",
       "      <td>A71EV2A-x0540</td>\n",
       "      <td>Fc1ccc(CNCc2ccc(C#N)cc2)cc1</td>\n",
       "      <td>Fc1ccc(CNCc2ccc(C#N)cc2)cc1</td>\n",
       "      <td>Z124039706</td>\n",
       "      <td>1</td>\n",
       "      <td>NaN</td>\n",
       "      <td>N#Cc1ccc(CNCc2ccc(F)cc2)cc1</td>\n",
       "    </tr>\n",
       "    <tr>\n",
       "      <th>A71EV2A-x0541_0A</th>\n",
       "      <td>A71EV2A-x0541</td>\n",
       "      <td>CC(Cc1c(C)noc1C)C(=O)N(C)C</td>\n",
       "      <td>CC(Cc1c(C)noc1C)C(=O)N(C)C</td>\n",
       "      <td>Z1246465616</td>\n",
       "      <td>1</td>\n",
       "      <td>NaN</td>\n",
       "      <td>Cc1noc(C)c1CC(C)C(=O)N(C)C</td>\n",
       "    </tr>\n",
       "    <tr>\n",
       "      <th>A71EV2A-x0554_0A</th>\n",
       "      <td>A71EV2A-x0554</td>\n",
       "      <td>CC(=O)Nc1cccc2cc[nH]c12</td>\n",
       "      <td>CC(=O)Nc1cccc2cc[nH]c12</td>\n",
       "      <td>Z1255459547</td>\n",
       "      <td>1</td>\n",
       "      <td>NaN</td>\n",
       "      <td>CC(=O)Nc1cccc2cc[nH]c12</td>\n",
       "    </tr>\n",
       "    <tr>\n",
       "      <th>A71EV2A-x0554_1A</th>\n",
       "      <td>A71EV2A-x0554</td>\n",
       "      <td>CC(=O)Nc1cccc2cc[nH]c12</td>\n",
       "      <td>CC(=O)Nc1cccc2cc[nH]c12</td>\n",
       "      <td>Z1255459547</td>\n",
       "      <td>1</td>\n",
       "      <td>NaN</td>\n",
       "      <td>CC(=O)Nc1cccc2cc[nH]c12</td>\n",
       "    </tr>\n",
       "    <tr>\n",
       "      <th>A71EV2A-x0554_2A</th>\n",
       "      <td>A71EV2A-x0554</td>\n",
       "      <td>CC(=O)Nc1cccc2cc[nH]c12</td>\n",
       "      <td>CC(=O)Nc1cccc2cc[nH]c12</td>\n",
       "      <td>Z1255459547</td>\n",
       "      <td>1</td>\n",
       "      <td>NaN</td>\n",
       "      <td>CC(=O)Nc1cccc2cc[nH]c12</td>\n",
       "    </tr>\n",
       "    <tr>\n",
       "      <th>A71EV2A-x0556_0A</th>\n",
       "      <td>A71EV2A-x0556</td>\n",
       "      <td>Cn1cc(N)c(n1)C(=O)NC2CCC2</td>\n",
       "      <td>Cn1cc(N)c(n1)C(=O)NC2CCC2</td>\n",
       "      <td>Z1259207775</td>\n",
       "      <td>1</td>\n",
       "      <td>NaN</td>\n",
       "      <td>Cn1cc(N)c(C(=O)NC2CCC2)n1</td>\n",
       "    </tr>\n",
       "    <tr>\n",
       "      <th>A71EV2A-x0566_0A</th>\n",
       "      <td>A71EV2A-x0566</td>\n",
       "      <td>CNC(=O)c1cccc2cc[nH]c12</td>\n",
       "      <td>CNC(=O)c1cccc2cc[nH]c12</td>\n",
       "      <td>Z1267800292</td>\n",
       "      <td>1</td>\n",
       "      <td>NaN</td>\n",
       "      <td>CNC(=O)c1cccc2cc[nH]c12</td>\n",
       "    </tr>\n",
       "    <tr>\n",
       "      <th>A71EV2A-x0586_0A</th>\n",
       "      <td>A71EV2A-x0586</td>\n",
       "      <td>CN1CCCc2ccc(cc12)S(=O)(=O)N</td>\n",
       "      <td>CN1CCCc2ccc(cc12)S(=O)(=O)N</td>\n",
       "      <td>Z1333043510</td>\n",
       "      <td>1</td>\n",
       "      <td>NaN</td>\n",
       "      <td>CN1CCCc2ccc(S(N)(=O)=O)cc21</td>\n",
       "    </tr>\n",
       "    <tr>\n",
       "      <th>A71EV2A-x0269_0A</th>\n",
       "      <td>A71EV2A-x0269</td>\n",
       "      <td>Cl.O=C(NC1CCCNC1)c2ccccc2</td>\n",
       "      <td>Cl.O=C(NC1CCCNC1)c2ccccc2</td>\n",
       "      <td>Z1456069604</td>\n",
       "      <td>1</td>\n",
       "      <td>NaN</td>\n",
       "      <td>O=C(NC1CCCNC1)c1ccccc1</td>\n",
       "    </tr>\n",
       "    <tr>\n",
       "      <th>A71EV2A-x0269_1A</th>\n",
       "      <td>A71EV2A-x0269</td>\n",
       "      <td>Cl.O=C(NC1CCCNC1)c2ccccc2</td>\n",
       "      <td>Cl.O=C(NC1CCCNC1)c2ccccc2</td>\n",
       "      <td>Z1456069604</td>\n",
       "      <td>1</td>\n",
       "      <td>NaN</td>\n",
       "      <td>O=C(NC1CCCNC1)c1ccccc1</td>\n",
       "    </tr>\n",
       "    <tr>\n",
       "      <th>A71EV2A-x0278_0A</th>\n",
       "      <td>A71EV2A-x0278</td>\n",
       "      <td>Cl.N[C@H]1CCN(C1)S(=O)(=O)c2ccccc2</td>\n",
       "      <td>Cl.N[C@H]1CCN(C1)S(=O)(=O)c2ccccc2</td>\n",
       "      <td>Z1491353358</td>\n",
       "      <td>1</td>\n",
       "      <td>NaN</td>\n",
       "      <td>N[C@H]1CCN(S(=O)(=O)c2ccccc2)C1</td>\n",
       "    </tr>\n",
       "    <tr>\n",
       "      <th>A71EV2A-x0278_1A</th>\n",
       "      <td>A71EV2A-x0278</td>\n",
       "      <td>Cl.N[C@H]1CCN(C1)S(=O)(=O)c2ccccc2</td>\n",
       "      <td>Cl.N[C@H]1CCN(C1)S(=O)(=O)c2ccccc2</td>\n",
       "      <td>Z1491353358</td>\n",
       "      <td>1</td>\n",
       "      <td>NaN</td>\n",
       "      <td>N[C@H]1CCN(S(=O)(=O)c2ccccc2)C1</td>\n",
       "    </tr>\n",
       "    <tr>\n",
       "      <th>A71EV2A-x0305_0A</th>\n",
       "      <td>A71EV2A-x0305</td>\n",
       "      <td>CNS(=O)(=O)c1cccc(C)c1F</td>\n",
       "      <td>CNS(=O)(=O)c1cccc(C)c1F</td>\n",
       "      <td>Z1639162606</td>\n",
       "      <td>1</td>\n",
       "      <td>NaN</td>\n",
       "      <td>CNS(=O)(=O)c1cccc(C)c1F</td>\n",
       "    </tr>\n",
       "    <tr>\n",
       "      <th>A71EV2A-x0309_0A</th>\n",
       "      <td>A71EV2A-x0309</td>\n",
       "      <td>Cn1ccnc1c2noc(n2)C3CCC3</td>\n",
       "      <td>Cn1ccnc1c2noc(n2)C3CCC3</td>\n",
       "      <td>Z1685106505</td>\n",
       "      <td>1</td>\n",
       "      <td>NaN</td>\n",
       "      <td>Cn1ccnc1-c1noc(C2CCC2)n1</td>\n",
       "    </tr>\n",
       "    <tr>\n",
       "      <th>A71EV2A-x0310_0A</th>\n",
       "      <td>A71EV2A-x0310</td>\n",
       "      <td>Cc1nn(C)c(C)c1NC(=O)CC#N</td>\n",
       "      <td>Cc1nn(C)c(C)c1NC(=O)CC#N</td>\n",
       "      <td>Z1688504114</td>\n",
       "      <td>1</td>\n",
       "      <td>NaN</td>\n",
       "      <td>Cc1nn(C)c(C)c1NC(=O)CC#N</td>\n",
       "    </tr>\n",
       "    <tr>\n",
       "      <th>A71EV2A-x0326_0A</th>\n",
       "      <td>A71EV2A-x0326</td>\n",
       "      <td>CCOc1ncccc1C(=O)N(C)C</td>\n",
       "      <td>CCOc1ncccc1C(=O)N(C)C</td>\n",
       "      <td>Z184825330</td>\n",
       "      <td>1</td>\n",
       "      <td>NaN</td>\n",
       "      <td>CCOc1ncccc1C(=O)N(C)C</td>\n",
       "    </tr>\n",
       "    <tr>\n",
       "      <th>A71EV2A-x0608_0A</th>\n",
       "      <td>A71EV2A-x0608</td>\n",
       "      <td>Cc1ccc(CC(=O)NC[C@@H]2CCCO2)cc1</td>\n",
       "      <td>Cc1ccc(CC(=O)NC[C@@H]2CCCO2)cc1</td>\n",
       "      <td>Z2064898339</td>\n",
       "      <td>1</td>\n",
       "      <td>NaN</td>\n",
       "      <td>Cc1ccc(CC(=O)NC[C@@H]2CCCO2)cc1</td>\n",
       "    </tr>\n",
       "    <tr>\n",
       "      <th>A71EV2A-x0608_1A</th>\n",
       "      <td>A71EV2A-x0608</td>\n",
       "      <td>Cc1ccc(CC(=O)NC[C@@H]2CCCO2)cc1</td>\n",
       "      <td>Cc1ccc(CC(=O)NC[C@@H]2CCCO2)cc1</td>\n",
       "      <td>Z2064898339</td>\n",
       "      <td>1</td>\n",
       "      <td>NaN</td>\n",
       "      <td>Cc1ccc(CC(=O)NC[C@@H]2CCCO2)cc1</td>\n",
       "    </tr>\n",
       "    <tr>\n",
       "      <th>A71EV2A-x0691_0A</th>\n",
       "      <td>A71EV2A-x0691</td>\n",
       "      <td>CNc1ccccc1S(=O)(=O)C</td>\n",
       "      <td>CNc1ccccc1S(=O)(=O)C</td>\n",
       "      <td>Z285782452</td>\n",
       "      <td>1</td>\n",
       "      <td>NaN</td>\n",
       "      <td>CNc1ccccc1S(C)(=O)=O</td>\n",
       "    </tr>\n",
       "    <tr>\n",
       "      <th>A71EV2A-x0152_0A</th>\n",
       "      <td>A71EV2A-x0152</td>\n",
       "      <td>O=C(COc1ccccc1)N2CCNC(=O)C2</td>\n",
       "      <td>O=C(COc1ccccc1)N2CCNC(=O)C2</td>\n",
       "      <td>Z31602870</td>\n",
       "      <td>1</td>\n",
       "      <td>NaN</td>\n",
       "      <td>O=C1CN(C(=O)COc2ccccc2)CCN1</td>\n",
       "    </tr>\n",
       "    <tr>\n",
       "      <th>A71EV2A-x0152_1A</th>\n",
       "      <td>A71EV2A-x0152</td>\n",
       "      <td>O=C(COc1ccccc1)N2CCNC(=O)C2</td>\n",
       "      <td>O=C(COc1ccccc1)N2CCNC(=O)C2</td>\n",
       "      <td>Z31602870</td>\n",
       "      <td>1</td>\n",
       "      <td>NaN</td>\n",
       "      <td>O=C1CN(C(=O)COc2ccccc2)CCN1</td>\n",
       "    </tr>\n",
       "    <tr>\n",
       "      <th>A71EV2A-x0188_0A</th>\n",
       "      <td>A71EV2A-x0188</td>\n",
       "      <td>CCC1CN(CCO1)S(=O)(=O)N(C)C</td>\n",
       "      <td>CCC1CN(CCO1)S(=O)(=O)N(C)C</td>\n",
       "      <td>Z355202286</td>\n",
       "      <td>1</td>\n",
       "      <td>NaN</td>\n",
       "      <td>CCC1CN(S(=O)(=O)N(C)C)CCO1</td>\n",
       "    </tr>\n",
       "    <tr>\n",
       "      <th>A71EV2A-x0202_0A</th>\n",
       "      <td>A71EV2A-x0202</td>\n",
       "      <td>NS(=O)(=O)c1cnc2cccnn12</td>\n",
       "      <td>NS(=O)(=O)c1cnc2cccnn12</td>\n",
       "      <td>Z3765495818</td>\n",
       "      <td>1</td>\n",
       "      <td>NaN</td>\n",
       "      <td>NS(=O)(=O)c1cnc2cccnn12</td>\n",
       "    </tr>\n",
       "    <tr>\n",
       "      <th>A71EV2A-x0211_0A</th>\n",
       "      <td>A71EV2A-x0211</td>\n",
       "      <td>NS(=O)(=O)c1ccccc1OC(F)F</td>\n",
       "      <td>NS(=O)(=O)c1ccccc1OC(F)F</td>\n",
       "      <td>Z385450668</td>\n",
       "      <td>1</td>\n",
       "      <td>NaN</td>\n",
       "      <td>NS(=O)(=O)c1ccccc1OC(F)F</td>\n",
       "    </tr>\n",
       "    <tr>\n",
       "      <th>A71EV2A-x0211_1A</th>\n",
       "      <td>A71EV2A-x0211</td>\n",
       "      <td>NS(=O)(=O)c1ccccc1OC(F)F</td>\n",
       "      <td>NS(=O)(=O)c1ccccc1OC(F)F</td>\n",
       "      <td>Z385450668</td>\n",
       "      <td>1</td>\n",
       "      <td>NaN</td>\n",
       "      <td>NS(=O)(=O)c1ccccc1OC(F)F</td>\n",
       "    </tr>\n",
       "    <tr>\n",
       "      <th>A71EV2A-x0211_2A</th>\n",
       "      <td>A71EV2A-x0211</td>\n",
       "      <td>NS(=O)(=O)c1ccccc1OC(F)F</td>\n",
       "      <td>NS(=O)(=O)c1ccccc1OC(F)F</td>\n",
       "      <td>Z385450668</td>\n",
       "      <td>1</td>\n",
       "      <td>NaN</td>\n",
       "      <td>NS(=O)(=O)c1ccccc1OC(F)F</td>\n",
       "    </tr>\n",
       "    <tr>\n",
       "      <th>A71EV2A-x0228_0A</th>\n",
       "      <td>A71EV2A-x0228</td>\n",
       "      <td>CS(=O)(=O)N1CCC(O)CC1</td>\n",
       "      <td>CS(=O)(=O)N1CCC(O)CC1</td>\n",
       "      <td>Z425757818</td>\n",
       "      <td>1</td>\n",
       "      <td>NaN</td>\n",
       "      <td>CS(=O)(=O)N1CCC(O)CC1</td>\n",
       "    </tr>\n",
       "    <tr>\n",
       "      <th>A71EV2A-x0229_0A</th>\n",
       "      <td>A71EV2A-x0229</td>\n",
       "      <td>Cl.CS(=O)(=O)Nc1ccc(CN)cc1</td>\n",
       "      <td>Cl.CS(=O)(=O)Nc1ccc(CN)cc1</td>\n",
       "      <td>Z426041412</td>\n",
       "      <td>1</td>\n",
       "      <td>NaN</td>\n",
       "      <td>CS(=O)(=O)Nc1ccc(CN)cc1</td>\n",
       "    </tr>\n",
       "    <tr>\n",
       "      <th>A71EV2A-x0229_1A</th>\n",
       "      <td>A71EV2A-x0229</td>\n",
       "      <td>Cl.CS(=O)(=O)Nc1ccc(CN)cc1</td>\n",
       "      <td>Cl.CS(=O)(=O)Nc1ccc(CN)cc1</td>\n",
       "      <td>Z426041412</td>\n",
       "      <td>1</td>\n",
       "      <td>NaN</td>\n",
       "      <td>CS(=O)(=O)Nc1ccc(CN)cc1</td>\n",
       "    </tr>\n",
       "    <tr>\n",
       "      <th>A71EV2A-x0239_0A</th>\n",
       "      <td>A71EV2A-x0239</td>\n",
       "      <td>CCC(=O)NCc1nnc2CCCCn12</td>\n",
       "      <td>CCC(=O)NCc1nnc2CCCCn12</td>\n",
       "      <td>Z438067480</td>\n",
       "      <td>1</td>\n",
       "      <td>NaN</td>\n",
       "      <td>CCC(=O)NCc1nnc2n1CCCC2</td>\n",
       "    </tr>\n",
       "    <tr>\n",
       "      <th>A71EV2A-x0332_0A</th>\n",
       "      <td>A71EV2A-x0332</td>\n",
       "      <td>CNS(=O)(=O)c1ccccc1Cl</td>\n",
       "      <td>CNS(=O)(=O)c1ccccc1Cl</td>\n",
       "      <td>Z45527714</td>\n",
       "      <td>1</td>\n",
       "      <td>NaN</td>\n",
       "      <td>CNS(=O)(=O)c1ccccc1Cl</td>\n",
       "    </tr>\n",
       "    <tr>\n",
       "      <th>A71EV2A-x0341_0A</th>\n",
       "      <td>A71EV2A-x0341</td>\n",
       "      <td>CC1=NN(C(=O)C1)c2ccccc2</td>\n",
       "      <td>CC1=NN(C(=O)C1)c2ccccc2</td>\n",
       "      <td>Z50145861</td>\n",
       "      <td>1</td>\n",
       "      <td>NaN</td>\n",
       "      <td>CC1=NN(c2ccccc2)C(=O)C1</td>\n",
       "    </tr>\n",
       "    <tr>\n",
       "      <th>A71EV2A-x0341_1A</th>\n",
       "      <td>A71EV2A-x0341</td>\n",
       "      <td>CC1=NN(C(=O)C1)c2ccccc2</td>\n",
       "      <td>CC1=NN(C(=O)C1)c2ccccc2</td>\n",
       "      <td>Z50145861</td>\n",
       "      <td>1</td>\n",
       "      <td>NaN</td>\n",
       "      <td>CC1=NN(c2ccccc2)C(=O)C1</td>\n",
       "    </tr>\n",
       "    <tr>\n",
       "      <th>A71EV2A-x0354_0A</th>\n",
       "      <td>A71EV2A-x0354</td>\n",
       "      <td>CC1(CCS(=O)(=O)C1)NC(=O)C2CC2</td>\n",
       "      <td>CC1(CCS(=O)(=O)C1)NC(=O)C2CC2</td>\n",
       "      <td>Z54615640</td>\n",
       "      <td>1</td>\n",
       "      <td>NaN</td>\n",
       "      <td>CC1(NC(=O)C2CC2)CCS(=O)(=O)C1</td>\n",
       "    </tr>\n",
       "    <tr>\n",
       "      <th>A71EV2A-x0359_0A</th>\n",
       "      <td>A71EV2A-x0359</td>\n",
       "      <td>CN(C)Cc1ccc(C#N)cc1</td>\n",
       "      <td>CN(C)Cc1ccc(C#N)cc1</td>\n",
       "      <td>Z54750053</td>\n",
       "      <td>1</td>\n",
       "      <td>NaN</td>\n",
       "      <td>CN(C)Cc1ccc(C#N)cc1</td>\n",
       "    </tr>\n",
       "    <tr>\n",
       "      <th>A71EV2A-x0379_0A</th>\n",
       "      <td>A71EV2A-x0379</td>\n",
       "      <td>CNCc1ccc(cc1)C(F)(F)F</td>\n",
       "      <td>CNCc1ccc(cc1)C(F)(F)F</td>\n",
       "      <td>Z56960214</td>\n",
       "      <td>1</td>\n",
       "      <td>NaN</td>\n",
       "      <td>CNCc1ccc(C(F)(F)F)cc1</td>\n",
       "    </tr>\n",
       "    <tr>\n",
       "      <th>A71EV2A-x0395_0A</th>\n",
       "      <td>A71EV2A-x0395</td>\n",
       "      <td>CC(CO)(CO)NC(=O)Nc1ccccc1</td>\n",
       "      <td>CC(CO)(CO)NC(=O)Nc1ccccc1</td>\n",
       "      <td>Z57472297</td>\n",
       "      <td>1</td>\n",
       "      <td>NaN</td>\n",
       "      <td>CC(CO)(CO)NC(=O)Nc1ccccc1</td>\n",
       "    </tr>\n",
       "    <tr>\n",
       "      <th>A71EV2A-x0395_1A</th>\n",
       "      <td>A71EV2A-x0395</td>\n",
       "      <td>CC(CO)(CO)NC(=O)Nc1ccccc1</td>\n",
       "      <td>CC(CO)(CO)NC(=O)Nc1ccccc1</td>\n",
       "      <td>Z57472297</td>\n",
       "      <td>1</td>\n",
       "      <td>NaN</td>\n",
       "      <td>CC(CO)(CO)NC(=O)Nc1ccccc1</td>\n",
       "    </tr>\n",
       "    <tr>\n",
       "      <th>A71EV2A-x0396_0A</th>\n",
       "      <td>A71EV2A-x0396</td>\n",
       "      <td>COCc1nnc(N)s1</td>\n",
       "      <td>COCc1nnc(N)s1</td>\n",
       "      <td>Z57478994</td>\n",
       "      <td>1</td>\n",
       "      <td>NaN</td>\n",
       "      <td>COCc1nnc(N)s1</td>\n",
       "    </tr>\n",
       "    <tr>\n",
       "      <th>A71EV2A-x0412_0A</th>\n",
       "      <td>A71EV2A-x0412</td>\n",
       "      <td>CCn1c(NC(=O)C)nc2ccccc12</td>\n",
       "      <td>CCn1c(NC(=O)C)nc2ccccc12</td>\n",
       "      <td>Z68639747</td>\n",
       "      <td>1</td>\n",
       "      <td>NaN</td>\n",
       "      <td>CCn1c(NC(C)=O)nc2ccccc21</td>\n",
       "    </tr>\n",
       "    <tr>\n",
       "      <th>A71EV2A-x0416_0A</th>\n",
       "      <td>A71EV2A-x0416</td>\n",
       "      <td>Cc1ccc(NC(=O)C2CCCO2)nc1</td>\n",
       "      <td>Cc1ccc(NC(=O)C2CCCO2)nc1</td>\n",
       "      <td>Z71580604</td>\n",
       "      <td>1</td>\n",
       "      <td>NaN</td>\n",
       "      <td>Cc1ccc(NC(=O)C2CCCO2)nc1</td>\n",
       "    </tr>\n",
       "    <tr>\n",
       "      <th>A71EV2A-x0428_0A</th>\n",
       "      <td>A71EV2A-x0428</td>\n",
       "      <td>CN(C)S(=O)(=O)c1cccnc1</td>\n",
       "      <td>CN(C)S(=O)(=O)c1cccnc1</td>\n",
       "      <td>Z751811134</td>\n",
       "      <td>1</td>\n",
       "      <td>NaN</td>\n",
       "      <td>CN(C)S(=O)(=O)c1cccnc1</td>\n",
       "    </tr>\n",
       "  </tbody>\n",
       "</table>\n",
       "</div>"
      ],
      "text/plain": [
       "                 RealCrystalName                              smiles  \\\n",
       "crystal_name                                                           \n",
       "A71EV2A-x0451_0A   A71EV2A-x0451             CNC(=O)c1cn(C)c2ccccc12   \n",
       "A71EV2A-x0469_0A   A71EV2A-x0469             CC(C)N1CCN(CC1)c2ncccn2   \n",
       "A71EV2A-x0473_0A   A71EV2A-x0473           O=S(=O)(NC1CCCC1)C2CCOCC2   \n",
       "A71EV2A-x0486_0A   A71EV2A-x0486            CN(C)C(=O)Cn1ncc2ccccc12   \n",
       "A71EV2A-x0517_0A   A71EV2A-x0517       CCn1cc(cn1)C(=O)NCc2ccc(F)cc2   \n",
       "A71EV2A-x0525_0A   A71EV2A-x0525               FC(F)Oc1ccc(=O)[nH]c1   \n",
       "A71EV2A-x0526_0A   A71EV2A-x0526                    Cc1nccn1c2cccnc2   \n",
       "A71EV2A-x0540_0A   A71EV2A-x0540         Fc1ccc(CNCc2ccc(C#N)cc2)cc1   \n",
       "A71EV2A-x0541_0A   A71EV2A-x0541          CC(Cc1c(C)noc1C)C(=O)N(C)C   \n",
       "A71EV2A-x0554_0A   A71EV2A-x0554             CC(=O)Nc1cccc2cc[nH]c12   \n",
       "A71EV2A-x0554_1A   A71EV2A-x0554             CC(=O)Nc1cccc2cc[nH]c12   \n",
       "A71EV2A-x0554_2A   A71EV2A-x0554             CC(=O)Nc1cccc2cc[nH]c12   \n",
       "A71EV2A-x0556_0A   A71EV2A-x0556           Cn1cc(N)c(n1)C(=O)NC2CCC2   \n",
       "A71EV2A-x0566_0A   A71EV2A-x0566             CNC(=O)c1cccc2cc[nH]c12   \n",
       "A71EV2A-x0586_0A   A71EV2A-x0586         CN1CCCc2ccc(cc12)S(=O)(=O)N   \n",
       "A71EV2A-x0269_0A   A71EV2A-x0269           Cl.O=C(NC1CCCNC1)c2ccccc2   \n",
       "A71EV2A-x0269_1A   A71EV2A-x0269           Cl.O=C(NC1CCCNC1)c2ccccc2   \n",
       "A71EV2A-x0278_0A   A71EV2A-x0278  Cl.N[C@H]1CCN(C1)S(=O)(=O)c2ccccc2   \n",
       "A71EV2A-x0278_1A   A71EV2A-x0278  Cl.N[C@H]1CCN(C1)S(=O)(=O)c2ccccc2   \n",
       "A71EV2A-x0305_0A   A71EV2A-x0305             CNS(=O)(=O)c1cccc(C)c1F   \n",
       "A71EV2A-x0309_0A   A71EV2A-x0309             Cn1ccnc1c2noc(n2)C3CCC3   \n",
       "A71EV2A-x0310_0A   A71EV2A-x0310            Cc1nn(C)c(C)c1NC(=O)CC#N   \n",
       "A71EV2A-x0326_0A   A71EV2A-x0326               CCOc1ncccc1C(=O)N(C)C   \n",
       "A71EV2A-x0608_0A   A71EV2A-x0608     Cc1ccc(CC(=O)NC[C@@H]2CCCO2)cc1   \n",
       "A71EV2A-x0608_1A   A71EV2A-x0608     Cc1ccc(CC(=O)NC[C@@H]2CCCO2)cc1   \n",
       "A71EV2A-x0691_0A   A71EV2A-x0691                CNc1ccccc1S(=O)(=O)C   \n",
       "A71EV2A-x0152_0A   A71EV2A-x0152         O=C(COc1ccccc1)N2CCNC(=O)C2   \n",
       "A71EV2A-x0152_1A   A71EV2A-x0152         O=C(COc1ccccc1)N2CCNC(=O)C2   \n",
       "A71EV2A-x0188_0A   A71EV2A-x0188          CCC1CN(CCO1)S(=O)(=O)N(C)C   \n",
       "A71EV2A-x0202_0A   A71EV2A-x0202             NS(=O)(=O)c1cnc2cccnn12   \n",
       "A71EV2A-x0211_0A   A71EV2A-x0211            NS(=O)(=O)c1ccccc1OC(F)F   \n",
       "A71EV2A-x0211_1A   A71EV2A-x0211            NS(=O)(=O)c1ccccc1OC(F)F   \n",
       "A71EV2A-x0211_2A   A71EV2A-x0211            NS(=O)(=O)c1ccccc1OC(F)F   \n",
       "A71EV2A-x0228_0A   A71EV2A-x0228               CS(=O)(=O)N1CCC(O)CC1   \n",
       "A71EV2A-x0229_0A   A71EV2A-x0229          Cl.CS(=O)(=O)Nc1ccc(CN)cc1   \n",
       "A71EV2A-x0229_1A   A71EV2A-x0229          Cl.CS(=O)(=O)Nc1ccc(CN)cc1   \n",
       "A71EV2A-x0239_0A   A71EV2A-x0239              CCC(=O)NCc1nnc2CCCCn12   \n",
       "A71EV2A-x0332_0A   A71EV2A-x0332               CNS(=O)(=O)c1ccccc1Cl   \n",
       "A71EV2A-x0341_0A   A71EV2A-x0341             CC1=NN(C(=O)C1)c2ccccc2   \n",
       "A71EV2A-x0341_1A   A71EV2A-x0341             CC1=NN(C(=O)C1)c2ccccc2   \n",
       "A71EV2A-x0354_0A   A71EV2A-x0354       CC1(CCS(=O)(=O)C1)NC(=O)C2CC2   \n",
       "A71EV2A-x0359_0A   A71EV2A-x0359                 CN(C)Cc1ccc(C#N)cc1   \n",
       "A71EV2A-x0379_0A   A71EV2A-x0379               CNCc1ccc(cc1)C(F)(F)F   \n",
       "A71EV2A-x0395_0A   A71EV2A-x0395           CC(CO)(CO)NC(=O)Nc1ccccc1   \n",
       "A71EV2A-x0395_1A   A71EV2A-x0395           CC(CO)(CO)NC(=O)Nc1ccccc1   \n",
       "A71EV2A-x0396_0A   A71EV2A-x0396                       COCc1nnc(N)s1   \n",
       "A71EV2A-x0412_0A   A71EV2A-x0412            CCn1c(NC(=O)C)nc2ccccc12   \n",
       "A71EV2A-x0416_0A   A71EV2A-x0416            Cc1ccc(NC(=O)C2CCCO2)nc1   \n",
       "A71EV2A-x0428_0A   A71EV2A-x0428              CN(C)S(=O)(=O)c1cccnc1   \n",
       "\n",
       "                                          new_smiles alternate_name  \\\n",
       "crystal_name                                                          \n",
       "A71EV2A-x0451_0A             CNC(=O)c1cn(C)c2ccccc12     Z100643660   \n",
       "A71EV2A-x0469_0A             CC(C)N1CCN(CC1)c2ncccn2     Z104924088   \n",
       "A71EV2A-x0473_0A           O=S(=O)(NC1CCCC1)C2CCOCC2    Z1082839290   \n",
       "A71EV2A-x0486_0A            CN(C)C(=O)Cn1ncc2ccccc12    Z1148165337   \n",
       "A71EV2A-x0517_0A       CCn1cc(cn1)C(=O)NCc2ccc(F)cc2    Z1203107138   \n",
       "A71EV2A-x0525_0A               FC(F)Oc1ccc(=O)[nH]c1    Z1216861874   \n",
       "A71EV2A-x0526_0A                    Cc1nccn1c2cccnc2    Z1217131798   \n",
       "A71EV2A-x0540_0A         Fc1ccc(CNCc2ccc(C#N)cc2)cc1     Z124039706   \n",
       "A71EV2A-x0541_0A          CC(Cc1c(C)noc1C)C(=O)N(C)C    Z1246465616   \n",
       "A71EV2A-x0554_0A             CC(=O)Nc1cccc2cc[nH]c12    Z1255459547   \n",
       "A71EV2A-x0554_1A             CC(=O)Nc1cccc2cc[nH]c12    Z1255459547   \n",
       "A71EV2A-x0554_2A             CC(=O)Nc1cccc2cc[nH]c12    Z1255459547   \n",
       "A71EV2A-x0556_0A           Cn1cc(N)c(n1)C(=O)NC2CCC2    Z1259207775   \n",
       "A71EV2A-x0566_0A             CNC(=O)c1cccc2cc[nH]c12    Z1267800292   \n",
       "A71EV2A-x0586_0A         CN1CCCc2ccc(cc12)S(=O)(=O)N    Z1333043510   \n",
       "A71EV2A-x0269_0A           Cl.O=C(NC1CCCNC1)c2ccccc2    Z1456069604   \n",
       "A71EV2A-x0269_1A           Cl.O=C(NC1CCCNC1)c2ccccc2    Z1456069604   \n",
       "A71EV2A-x0278_0A  Cl.N[C@H]1CCN(C1)S(=O)(=O)c2ccccc2    Z1491353358   \n",
       "A71EV2A-x0278_1A  Cl.N[C@H]1CCN(C1)S(=O)(=O)c2ccccc2    Z1491353358   \n",
       "A71EV2A-x0305_0A             CNS(=O)(=O)c1cccc(C)c1F    Z1639162606   \n",
       "A71EV2A-x0309_0A             Cn1ccnc1c2noc(n2)C3CCC3    Z1685106505   \n",
       "A71EV2A-x0310_0A            Cc1nn(C)c(C)c1NC(=O)CC#N    Z1688504114   \n",
       "A71EV2A-x0326_0A               CCOc1ncccc1C(=O)N(C)C     Z184825330   \n",
       "A71EV2A-x0608_0A     Cc1ccc(CC(=O)NC[C@@H]2CCCO2)cc1    Z2064898339   \n",
       "A71EV2A-x0608_1A     Cc1ccc(CC(=O)NC[C@@H]2CCCO2)cc1    Z2064898339   \n",
       "A71EV2A-x0691_0A                CNc1ccccc1S(=O)(=O)C     Z285782452   \n",
       "A71EV2A-x0152_0A         O=C(COc1ccccc1)N2CCNC(=O)C2      Z31602870   \n",
       "A71EV2A-x0152_1A         O=C(COc1ccccc1)N2CCNC(=O)C2      Z31602870   \n",
       "A71EV2A-x0188_0A          CCC1CN(CCO1)S(=O)(=O)N(C)C     Z355202286   \n",
       "A71EV2A-x0202_0A             NS(=O)(=O)c1cnc2cccnn12    Z3765495818   \n",
       "A71EV2A-x0211_0A            NS(=O)(=O)c1ccccc1OC(F)F     Z385450668   \n",
       "A71EV2A-x0211_1A            NS(=O)(=O)c1ccccc1OC(F)F     Z385450668   \n",
       "A71EV2A-x0211_2A            NS(=O)(=O)c1ccccc1OC(F)F     Z385450668   \n",
       "A71EV2A-x0228_0A               CS(=O)(=O)N1CCC(O)CC1     Z425757818   \n",
       "A71EV2A-x0229_0A          Cl.CS(=O)(=O)Nc1ccc(CN)cc1     Z426041412   \n",
       "A71EV2A-x0229_1A          Cl.CS(=O)(=O)Nc1ccc(CN)cc1     Z426041412   \n",
       "A71EV2A-x0239_0A              CCC(=O)NCc1nnc2CCCCn12     Z438067480   \n",
       "A71EV2A-x0332_0A               CNS(=O)(=O)c1ccccc1Cl      Z45527714   \n",
       "A71EV2A-x0341_0A             CC1=NN(C(=O)C1)c2ccccc2      Z50145861   \n",
       "A71EV2A-x0341_1A             CC1=NN(C(=O)C1)c2ccccc2      Z50145861   \n",
       "A71EV2A-x0354_0A       CC1(CCS(=O)(=O)C1)NC(=O)C2CC2      Z54615640   \n",
       "A71EV2A-x0359_0A                 CN(C)Cc1ccc(C#N)cc1      Z54750053   \n",
       "A71EV2A-x0379_0A               CNCc1ccc(cc1)C(F)(F)F      Z56960214   \n",
       "A71EV2A-x0395_0A           CC(CO)(CO)NC(=O)Nc1ccccc1      Z57472297   \n",
       "A71EV2A-x0395_1A           CC(CO)(CO)NC(=O)Nc1ccccc1      Z57472297   \n",
       "A71EV2A-x0396_0A                       COCc1nnc(N)s1      Z57478994   \n",
       "A71EV2A-x0412_0A            CCn1c(NC(=O)C)nc2ccccc12      Z68639747   \n",
       "A71EV2A-x0416_0A            Cc1ccc(NC(=O)C2CCCO2)nc1      Z71580604   \n",
       "A71EV2A-x0428_0A              CN(C)S(=O)(=O)c1cccnc1     Z751811134   \n",
       "\n",
       "                  site_name  pdb_entry                    single_smiles  \n",
       "crystal_name                                                             \n",
       "A71EV2A-x0451_0A          1        NaN          CNC(=O)c1cn(C)c2ccccc12  \n",
       "A71EV2A-x0469_0A          1        NaN          CC(C)N1CCN(c2ncccn2)CC1  \n",
       "A71EV2A-x0473_0A          1        NaN        O=S(=O)(NC1CCCC1)C1CCOCC1  \n",
       "A71EV2A-x0486_0A          1        NaN         CN(C)C(=O)Cn1ncc2ccccc21  \n",
       "A71EV2A-x0517_0A          1        NaN    CCn1cc(C(=O)NCc2ccc(F)cc2)cn1  \n",
       "A71EV2A-x0525_0A          1        NaN            O=c1ccc(OC(F)F)c[nH]1  \n",
       "A71EV2A-x0526_0A          1        NaN                Cc1nccn1-c1cccnc1  \n",
       "A71EV2A-x0540_0A          1        NaN      N#Cc1ccc(CNCc2ccc(F)cc2)cc1  \n",
       "A71EV2A-x0541_0A          1        NaN       Cc1noc(C)c1CC(C)C(=O)N(C)C  \n",
       "A71EV2A-x0554_0A          1        NaN          CC(=O)Nc1cccc2cc[nH]c12  \n",
       "A71EV2A-x0554_1A          1        NaN          CC(=O)Nc1cccc2cc[nH]c12  \n",
       "A71EV2A-x0554_2A          1        NaN          CC(=O)Nc1cccc2cc[nH]c12  \n",
       "A71EV2A-x0556_0A          1        NaN        Cn1cc(N)c(C(=O)NC2CCC2)n1  \n",
       "A71EV2A-x0566_0A          1        NaN          CNC(=O)c1cccc2cc[nH]c12  \n",
       "A71EV2A-x0586_0A          1        NaN      CN1CCCc2ccc(S(N)(=O)=O)cc21  \n",
       "A71EV2A-x0269_0A          1        NaN           O=C(NC1CCCNC1)c1ccccc1  \n",
       "A71EV2A-x0269_1A          1        NaN           O=C(NC1CCCNC1)c1ccccc1  \n",
       "A71EV2A-x0278_0A          1        NaN  N[C@H]1CCN(S(=O)(=O)c2ccccc2)C1  \n",
       "A71EV2A-x0278_1A          1        NaN  N[C@H]1CCN(S(=O)(=O)c2ccccc2)C1  \n",
       "A71EV2A-x0305_0A          1        NaN          CNS(=O)(=O)c1cccc(C)c1F  \n",
       "A71EV2A-x0309_0A          1        NaN         Cn1ccnc1-c1noc(C2CCC2)n1  \n",
       "A71EV2A-x0310_0A          1        NaN         Cc1nn(C)c(C)c1NC(=O)CC#N  \n",
       "A71EV2A-x0326_0A          1        NaN            CCOc1ncccc1C(=O)N(C)C  \n",
       "A71EV2A-x0608_0A          1        NaN  Cc1ccc(CC(=O)NC[C@@H]2CCCO2)cc1  \n",
       "A71EV2A-x0608_1A          1        NaN  Cc1ccc(CC(=O)NC[C@@H]2CCCO2)cc1  \n",
       "A71EV2A-x0691_0A          1        NaN             CNc1ccccc1S(C)(=O)=O  \n",
       "A71EV2A-x0152_0A          1        NaN      O=C1CN(C(=O)COc2ccccc2)CCN1  \n",
       "A71EV2A-x0152_1A          1        NaN      O=C1CN(C(=O)COc2ccccc2)CCN1  \n",
       "A71EV2A-x0188_0A          1        NaN       CCC1CN(S(=O)(=O)N(C)C)CCO1  \n",
       "A71EV2A-x0202_0A          1        NaN          NS(=O)(=O)c1cnc2cccnn12  \n",
       "A71EV2A-x0211_0A          1        NaN         NS(=O)(=O)c1ccccc1OC(F)F  \n",
       "A71EV2A-x0211_1A          1        NaN         NS(=O)(=O)c1ccccc1OC(F)F  \n",
       "A71EV2A-x0211_2A          1        NaN         NS(=O)(=O)c1ccccc1OC(F)F  \n",
       "A71EV2A-x0228_0A          1        NaN            CS(=O)(=O)N1CCC(O)CC1  \n",
       "A71EV2A-x0229_0A          1        NaN          CS(=O)(=O)Nc1ccc(CN)cc1  \n",
       "A71EV2A-x0229_1A          1        NaN          CS(=O)(=O)Nc1ccc(CN)cc1  \n",
       "A71EV2A-x0239_0A          1        NaN           CCC(=O)NCc1nnc2n1CCCC2  \n",
       "A71EV2A-x0332_0A          1        NaN            CNS(=O)(=O)c1ccccc1Cl  \n",
       "A71EV2A-x0341_0A          1        NaN          CC1=NN(c2ccccc2)C(=O)C1  \n",
       "A71EV2A-x0341_1A          1        NaN          CC1=NN(c2ccccc2)C(=O)C1  \n",
       "A71EV2A-x0354_0A          1        NaN    CC1(NC(=O)C2CC2)CCS(=O)(=O)C1  \n",
       "A71EV2A-x0359_0A          1        NaN              CN(C)Cc1ccc(C#N)cc1  \n",
       "A71EV2A-x0379_0A          1        NaN            CNCc1ccc(C(F)(F)F)cc1  \n",
       "A71EV2A-x0395_0A          1        NaN        CC(CO)(CO)NC(=O)Nc1ccccc1  \n",
       "A71EV2A-x0395_1A          1        NaN        CC(CO)(CO)NC(=O)Nc1ccccc1  \n",
       "A71EV2A-x0396_0A          1        NaN                    COCc1nnc(N)s1  \n",
       "A71EV2A-x0412_0A          1        NaN         CCn1c(NC(C)=O)nc2ccccc21  \n",
       "A71EV2A-x0416_0A          1        NaN         Cc1ccc(NC(=O)C2CCCO2)nc1  \n",
       "A71EV2A-x0428_0A          1        NaN           CN(C)S(=O)(=O)c1cccnc1  "
      ]
     },
     "execution_count": 6,
     "metadata": {},
     "output_type": "execute_result"
    }
   ],
   "source": [
    "for key in ('alternate_name', 'site_name', 'pdb_entry')\n",
    "for hit in hits:\n",
    "\n",
    "metadata.set_index('crystal_name', drop=True)[key].to_dict()\n",
    "\n",
    "\n",
    "\n",
    "\n",
    "\n"
   ]
  },
  {
   "cell_type": "code",
   "execution_count": null,
   "id": "978cf603-876a-4112-8b69-715fd8001d8b",
   "metadata": {},
   "outputs": [],
   "source": []
  }
 ],
 "metadata": {
  "kernelspec": {
   "display_name": "Python [conda env:py310]",
   "language": "python",
   "name": "conda-env-py310-py"
  },
  "language_info": {
   "codemirror_mode": {
    "name": "ipython",
    "version": 3
   },
   "file_extension": ".py",
   "mimetype": "text/x-python",
   "name": "python",
   "nbconvert_exporter": "python",
   "pygments_lexer": "ipython3",
   "version": "3.10.10"
  }
 },
 "nbformat": 4,
 "nbformat_minor": 5
}
