{
 "cells": [
  {
   "cell_type": "markdown",
   "source": [
    "Query EnameStore for price"
   ],
   "metadata": {
    "collapsed": false
   },
   "id": "4cd3efc27b396162"
  },
  {
   "cell_type": "code",
   "execution_count": null,
   "id": "302b5916-46a0-4cc7-afe8-506b9daaaac8",
   "metadata": {},
   "outputs": [],
   "source": [
    "!ls final_pre"
   ]
  },
  {
   "cell_type": "code",
   "execution_count": null,
   "id": "8ac709ff-2faa-4d93-84d4-fd95e65da708",
   "metadata": {},
   "outputs": [],
   "source": [
    "from rdkit import Chem\n",
    "\n",
    "with Chem.SDMolSupplier('final_pre/A71-ROCS-cov.sdf') as sdfh:\n",
    "    vcs = list(sdfh)"
   ]
  },
  {
   "cell_type": "code",
   "execution_count": null,
   "id": "b54a7ccc-75dd-4cb5-ab82-c29e41062607",
   "metadata": {},
   "outputs": [],
   "source": [
    "prices = {} if 'prices' not in globals() else prices \n",
    "\n",
    "import requests, time\n",
    "\n",
    "headers = {'User-Agent': 'Mozilla/5.0 (Windows NT 10.0; Win64; x64) AppleWebKit/537.36 (KHTML, like Gecko) Chrome/102.0.0.0 Safari/537.36'}\n",
    "\n",
    "def assign_catalog(name):\n",
    "    if not name:\n",
    "        raise ValueError('Empty name')\n",
    "    if name[0] in 'ZP':\n",
    "        return 'REALDB'\n",
    "    if name[0] in 'E':\n",
    "        return 'BB'\n",
    "    else:\n",
    "        raise ValueError(f'Not sure what {name} is')\n",
    "\n",
    "\n",
    "for mol in vcs[1:]:\n",
    "    catalog_id = mol.GetProp('_Name').replace('_', '-')\n",
    "    if catalog_id in prices:\n",
    "        continue\n",
    "    catalog = assign_catalog( catalog_id )\n",
    "    response = requests.get(\n",
    "            #f'https://new.enaminestore.com/api/v1/catalog/price?id={enamine_code}&cat={db_name}&cur={cur_name}',\n",
    "            f'https://new.enaminestore.com/api/v1/catalog/price?id={catalog_id}&cat={catalog}&cur=USD',\n",
    "            headers=headers\n",
    "    )\n",
    "    prices[catalog_id] = response.json()\n",
    "    time.sleep(20)"
   ]
  },
  {
   "cell_type": "code",
   "execution_count": null,
   "id": "6b1795fa-77e1-4a72-8979-55e06c77f217",
   "metadata": {},
   "outputs": [],
   "source": [
    "catalog_id"
   ]
  },
  {
   "cell_type": "code",
   "execution_count": null,
   "id": "48701b6f-2f01-48f5-a9ee-fb76bf3f9719",
   "metadata": {},
   "outputs": [],
   "source": [
    "import json\n",
    "\n",
    "with open('prices.json', 'w') as fh:\n",
    "    json.dump(prices, fh)"
   ]
  },
  {
   "cell_type": "code",
   "execution_count": null,
   "id": "a1989bbd-a052-47bb-b027-39559f5d501e",
   "metadata": {},
   "outputs": [],
   "source": [
    "len(prices.keys())"
   ]
  },
  {
   "cell_type": "code",
   "execution_count": null,
   "id": "ff84f355-785b-4c8f-9d1a-29d63af99935",
   "metadata": {},
   "outputs": [],
   "source": [
    "vcs[0].SetProp('price', 'List price in USD from EnamineStore')"
   ]
  },
  {
   "cell_type": "code",
   "execution_count": null,
   "id": "79966ba7-c544-432a-a8f2-eda528982cf2",
   "metadata": {},
   "outputs": [],
   "source": [
    "def extract_mg(data, NA_value=0.):\n",
    "    for datum in data['samples']:\n",
    "        if datum['amount'] != 1.0 or datum['measure'] != 'mg':\n",
    "            continue\n",
    "        return datum['price']\n",
    "    if len(data['samples']) == 0:\n",
    "        return NA_value\n",
    "    datum = data['samples'][0]\n",
    "    if datum['measure'] == 'mg':\n",
    "        return data['samples'][0]['price'] / datum['amount']\n",
    "    elif datum['measure'] == 'g':\n",
    "        return data['samples'][0]['price'] / datum['amount'] / 1_000\n",
    "    elif datum['measure'] == 'kg':\n",
    "        return data['samples'][0]['price'] / datum['amount'] / 1_000_000\n",
    "    else:\n",
    "        return NA_value"
   ]
  },
  {
   "cell_type": "code",
   "execution_count": null,
   "id": "0b886672-052b-4ec6-b7d3-7c159b112307",
   "metadata": {},
   "outputs": [],
   "source": [
    "for mol in vcs[1:]:\n",
    "    catalog_id = mol.GetProp('_Name').replace('_', '-')\n",
    "    price = extract_mg(prices[catalog_id])\n",
    "    print(catalog_id, price)\n",
    "    mol.SetDoubleProp('price', price)"
   ]
  },
  {
   "cell_type": "code",
   "execution_count": null,
   "id": "3374821f-3110-42a9-880b-0e88d3fc3980",
   "metadata": {},
   "outputs": [],
   "source": [
    "with Chem.SDWriter('final_price/A71_fragmenstein_clustered4.sdf') as sdfh:\n",
    "    for mol in vcs:\n",
    "        sdfh.write(mol)"
   ]
  },
  {
   "cell_type": "code",
   "execution_count": null,
   "id": "7636f975-fcfe-445a-9b33-8f39daafc802",
   "metadata": {},
   "outputs": [],
   "source": []
  }
 ],
 "metadata": {
  "kernelspec": {
   "display_name": "Python [conda env:compchem]",
   "language": "python",
   "name": "conda-env-compchem-py"
  },
  "language_info": {
   "codemirror_mode": {
    "name": "ipython",
    "version": 3
   },
   "file_extension": ".py",
   "mimetype": "text/x-python",
   "name": "python",
   "nbconvert_exporter": "python",
   "pygments_lexer": "ipython3",
   "version": "3.11.6"
  }
 },
 "nbformat": 4,
 "nbformat_minor": 5
}
