{
 "cells": [
  {
   "cell_type": "code",
   "execution_count": 60,
   "id": "dd36f7bb-e5ea-4ace-b352-5d6f04bd5595",
   "metadata": {},
   "outputs": [],
   "source": [
    "from pathlib import Path\n",
    "import pyrosetta\n",
    "import pyrosetta_help as ph\n",
    "from types import ModuleType\n",
    "from IPython.display import display, HTML\n",
    "\n",
    "from collections import Counter\n",
    "prc: ModuleType = pyrosetta.rosetta.core\n",
    "prp: ModuleType = pyrosetta.rosetta.protocols\n",
    "pru: ModuleType = pyrosetta.rosetta.utility\n",
    "prcc: ModuleType = pyrosetta.rosetta.core.conformation\n",
    "pr_scoring: ModuleType = pyrosetta.rosetta.core.scoring\n",
    "pr_rs: ModuleType = pyrosetta.rosetta.core.select.residue_selector\n",
    "\n",
    "\n",
    "logger = ph.configure_logger()\n",
    "pyrosetta.distributed.maybe_init(extra_options=ph.make_option_string(no_optH=False,\n",
    "                                                                     ex1=None,\n",
    "                                                                     ex2=None,\n",
    "                                                                     # mute='all',\n",
    "                                                                     ignore_unrecognized_res=True,\n",
    "                                                                     load_PDB_components=False,\n",
    "                                                                     ignore_waters=True)\n",
    "                                 )\n",
    "pyrosetta.rosetta.basic.options.set_boolean_option('run:ignore_zero_occupancy', False)\n",
    "pyrosetta.rosetta.basic.options.set_boolean_option('in:auto_setup_metals', True)"
   ]
  },
  {
   "cell_type": "code",
   "execution_count": 61,
   "id": "e8b4e757-e73e-4148-9825-bba1772393db",
   "metadata": {},
   "outputs": [],
   "source": [
    "pose = pyrosetta.pose_from_file('peptide-bound.pdb')"
   ]
  },
  {
   "cell_type": "code",
   "execution_count": 62,
   "id": "12da4edb-e52e-456d-b046-511e18a57607",
   "metadata": {},
   "outputs": [
    {
     "data": {
      "text/plain": [
       "<pyrosetta.rosetta.core.scoring.constraints.AtomPairConstraint at 0x17a815430>"
      ]
     },
     "execution_count": 62,
     "metadata": {},
     "output_type": "execute_result"
    }
   ],
   "source": [
    "constraint_weight = 1\n",
    "HarmonicFunc = pr_scoring.func.HarmonicFunc\n",
    "AtomPairConstraint = pr_scoring.constraints.AtomPairConstraint\n",
    "\n",
    "\n",
    "atoms = (ph.get_AtomID_from_pymol_line(pose, '/7DA6/A/A/THR`126/O '),\n",
    "         ph.get_AtomID_from_pymol_line(pose, '/7DA6/B/C/ARG`0/NH1 ')\n",
    "        )\n",
    "con = AtomPairConstraint(*atoms, HarmonicFunc(x0_in=3.4, sd_in=0.2))\n",
    "pose.add_constraint(con)\n",
    "\n",
    "\n",
    "atoms = (ph.get_AtomID_from_pymol_line(pose, '/7DA6/A/A/GLU`88/OE1 '),\n",
    "         ph.get_AtomID_from_pymol_line(pose, '/7DA6/B/C/LYS`2/NZ ')\n",
    "        )\n",
    "con = AtomPairConstraint(*atoms, HarmonicFunc(x0_in=3.6, sd_in=0.2))\n",
    "pose.add_constraint(con)\n",
    "\n",
    "atoms = (#ph.get_AtomID_from_pymol_line(pose, '/7DA6/B/C/PHE`-1/CZ '),\n",
    "         ph.get_AtomID(pose, 'C', -1, 'CZ'),\n",
    "         ph.get_AtomID_from_pymol_line(pose, '/7DA6/A/A/HIS`21/N ')\n",
    "        )\n",
    "\n",
    "con = AtomPairConstraint(*atoms, HarmonicFunc(x0_in=4.1, sd_in=0.2))\n",
    "pose.add_constraint(con)\n",
    "\n",
    "atoms = (\n",
    "         ph.get_AtomID(pose, 'C', -1, 'CE2'),\n",
    "         ph.get_AtomID_from_pymol_line(pose, '/7DA6/A/A/TYR`90/OH ')\n",
    "        )\n",
    "\n",
    "con = AtomPairConstraint(*atoms, HarmonicFunc(x0_in=3.6, sd_in=0.2))\n",
    "pose.add_constraint(con)\n",
    "\n",
    "\n",
    "atoms = (\n",
    "         ph.get_AtomID_from_pymol_line(pose, '/x0310_template//A/HIS`21/NE2 '),\n",
    "         ph.get_AtomID_from_pymol_line(pose, '/x0310_template//A/CYS`110/SG ')\n",
    "        )\n",
    "\n",
    "con = AtomPairConstraint(*atoms, HarmonicFunc(x0_in=3.9, sd_in=0.2))\n",
    "pose.add_constraint(con)"
   ]
  },
  {
   "cell_type": "code",
   "execution_count": 63,
   "id": "5dd2791b-27b0-4f70-ab35-d33e570a7f73",
   "metadata": {},
   "outputs": [],
   "source": [
    "movemap = pyrosetta.MoveMap()\n",
    "chain_C: pru.vector1_bool = pr_rs.ChainSelector(2).apply(pose)\n",
    "movemap.set_bb(chain_C)\n",
    "movemap.set_chi(chain_C)\n",
    "\n",
    "scorefxn: pr_scoring.ScoreFunction = pyrosetta.get_fa_scorefxn()\n",
    "scorefxn.set_weight(pr_scoring.ScoreType.coordinate_constraint, constraint_weight)\n",
    "scorefxn.set_weight(pr_scoring.ScoreType.angle_constraint, constraint_weight)\n",
    "scorefxn.set_weight(pr_scoring.ScoreType.atom_pair_constraint, 5)\n",
    "pyrosetta.rosetta.basic.options.set_boolean_option('relax:constrain_relax_to_start_coords', True)\n",
    "pyrosetta.rosetta.basic.options.set_boolean_option('relax:coord_constrain_sidechains', True)\n",
    "pyrosetta.rosetta.protocols.relax.FastRelax.register_options()\n",
    "relax = pyrosetta.rosetta.protocols.relax.FastRelax(scorefxn, 15)\n",
    "relax.constrain_relax_to_start_coords(True)\n",
    "relax.set_movemap(movemap)\n",
    "relax.apply(pose)"
   ]
  },
  {
   "cell_type": "code",
   "execution_count": 64,
   "id": "75c937bb-0042-4f77-a221-49cd7b7a485d",
   "metadata": {},
   "outputs": [
    {
     "data": {
      "text/plain": [
       "True"
      ]
     },
     "execution_count": 64,
     "metadata": {},
     "output_type": "execute_result"
    }
   ],
   "source": [
    "pose.dump_pdb('test.pdb')"
   ]
  },
  {
   "cell_type": "code",
   "execution_count": 66,
   "id": "28be6eac-3fd3-4520-ae27-0f80a562c5f1",
   "metadata": {},
   "outputs": [
    {
     "data": {
      "text/plain": [
       "<pyrosetta.rosetta.core.pose.Pose at 0x17a812eb0>"
      ]
     },
     "execution_count": 66,
     "metadata": {},
     "output_type": "execute_result"
    }
   ],
   "source": []
  },
  {
   "cell_type": "code",
   "execution_count": 97,
   "id": "64aa5007-503f-4b09-92e8-701c1ff04c62",
   "metadata": {},
   "outputs": [],
   "source": [
    "from rdkit import Chem\n",
    "from rdkit.Chem import AllChem\n",
    "from typing import Tuple\n",
    "\n",
    "ligand: Chem.Mol = Chem.MolFromPDBBlock( ph.get_pdbstr( pose.split_by_chain(2) ), removeHs=True)\n",
    "emol = Chem.RWMol(ligand)\n",
    "emol.BeginBatchEdit()\n",
    "\n",
    "for bond in ligand.GetBonds():\n",
    "    fore: Chem.Atom = bond.GetBeginAtom()\n",
    "    fore_name: str = fore.GetPDBResidueInfo().GetName().strip()\n",
    "    aft: Chem.Atom = bond.GetEndAtom()\n",
    "    aft_name: str = aft.GetPDBResidueInfo().GetName().strip()\n",
    "    if 'C' in (fore_name, aft_name) and 'N' in (fore_name, aft_name):\n",
    "        emol.RemoveBond( fore.GetIdx(), aft.GetIdx() )\n",
    "emol.CommitBatchEdit()\n",
    "residues: Tuple[Chem.Mol] = AllChem.GetMolFrags(emol.GetMol(), asMols=1)"
   ]
  },
  {
   "cell_type": "code",
   "execution_count": 98,
   "id": "0dc79979-5494-4ff0-975d-955a1b4e25ae",
   "metadata": {},
   "outputs": [],
   "source": [
    "from followup.prep_fragalysis import prep, generate_header\n",
    "header = generate_header(method='Foo',\n",
    "                         ref_url='https://www.example.com',\n",
    "                         submitter_name='unknown',\n",
    "                         submitter_email='a@b.c',\n",
    "                         submitter_institution='Nowehere',\n",
    "                         generation_date='2012-12-12',\n",
    "                         smiles='CN1C=NC2=C1C(=O)N(C(=O)N2C)C',\n",
    "                         extras={'∆∆G': 'W. Josiah Gibbs'})\n",
    "prep(df, header, 'mol', 'id', 'foo.sdf', 'x1234', 'x1234', ['∆∆G'])"
   ]
  },
  {
   "cell_type": "code",
   "execution_count": 124,
   "id": "cba5d0e6-848a-4d04-8c12-6a40978b39e4",
   "metadata": {},
   "outputs": [
    {
     "name": "stderr",
     "output_type": "stream",
     "text": [
      "[15:47:43] Molecule does not have explicit Hs. Consider calling AddHs()\n"
     ]
    }
   ],
   "source": [
    "from gist_import import GistImporter\n",
    "from types import ModuleType\n",
    "import pandas as pd\n",
    "\n",
    "df = pd.DataFrame([{'mol': res, \n",
    "                    'resi': f'{res.GetAtomWithIdx(0).GetPDBResidueInfo().GetResidueName()}{res.GetAtomWithIdx(0).GetPDBResidueInfo().GetResidueNumber()}',\n",
    "                    'ref_mols': 'x0152_1A'\n",
    "                   } \n",
    "                   for res in residues])\n",
    "fu: ModuleType = GistImporter.from_github('https://raw.githubusercontent.com/matteoferla/Fragment-hit-follow-up-chemistry/main/followup/prep_fragalysis.py').to_module()\n",
    "\n",
    "header: Chem.Mol = fu.generate_header(method='7DA6-ligand',\n",
    "                         ref_url='https://www.rcsb.org/structure/7DA6',\n",
    "                         submitter_name='PDB',\n",
    "                         submitter_email='a@b.c',\n",
    "                         submitter_institution='PDB',\n",
    "                         smiles='CN1C=NC2=C1C(=O)N(C(=O)N2C)C', extras={})\n",
    "fu.prep(header=header, df=df, mol_col='mol', name_col='resi', outfile='7DA6-fragmented.sdf', ref_pdb_name='x0310_0A')"
   ]
  },
  {
   "cell_type": "code",
   "execution_count": 119,
   "id": "16dae8d8-51f6-41a3-88c2-087f954da580",
   "metadata": {},
   "outputs": [
    {
     "data": {
      "text/html": [
       "<div>\n",
       "<style scoped>\n",
       "    .dataframe tbody tr th:only-of-type {\n",
       "        vertical-align: middle;\n",
       "    }\n",
       "\n",
       "    .dataframe tbody tr th {\n",
       "        vertical-align: top;\n",
       "    }\n",
       "\n",
       "    .dataframe thead th {\n",
       "        text-align: right;\n",
       "    }\n",
       "</style>\n",
       "<table border=\"1\" class=\"dataframe\">\n",
       "  <thead>\n",
       "    <tr style=\"text-align: right;\">\n",
       "      <th></th>\n",
       "      <th>mol</th>\n",
       "      <th>resi</th>\n",
       "    </tr>\n",
       "  </thead>\n",
       "  <tbody>\n",
       "    <tr>\n",
       "      <th>0</th>\n",
       "      <td>&lt;rdkit.Chem.rdchem.Mol object at 0x17e2d4200&gt;</td>\n",
       "      <td>PHE-1</td>\n",
       "    </tr>\n",
       "    <tr>\n",
       "      <th>1</th>\n",
       "      <td>&lt;rdkit.Chem.rdchem.Mol object at 0x17e2d4f90&gt;</td>\n",
       "      <td>ARG0</td>\n",
       "    </tr>\n",
       "    <tr>\n",
       "      <th>2</th>\n",
       "      <td>&lt;rdkit.Chem.rdchem.Mol object at 0x17e2d5380&gt;</td>\n",
       "      <td>GLY1</td>\n",
       "    </tr>\n",
       "    <tr>\n",
       "      <th>3</th>\n",
       "      <td>&lt;rdkit.Chem.rdchem.Mol object at 0x17e2d53f0&gt;</td>\n",
       "      <td>LYS2</td>\n",
       "    </tr>\n",
       "  </tbody>\n",
       "</table>\n",
       "</div>"
      ],
      "text/plain": [
       "                                             mol   resi\n",
       "0  <rdkit.Chem.rdchem.Mol object at 0x17e2d4200>  PHE-1\n",
       "1  <rdkit.Chem.rdchem.Mol object at 0x17e2d4f90>   ARG0\n",
       "2  <rdkit.Chem.rdchem.Mol object at 0x17e2d5380>   GLY1\n",
       "3  <rdkit.Chem.rdchem.Mol object at 0x17e2d53f0>   LYS2"
      ]
     },
     "execution_count": 119,
     "metadata": {},
     "output_type": "execute_result"
    }
   ],
   "source": [
    "df"
   ]
  },
  {
   "cell_type": "code",
   "execution_count": 110,
   "id": "0ba9a40e-7873-4c7c-93f2-c64757710da7",
   "metadata": {},
   "outputs": [
    {
     "data": {
      "text/plain": [
       "rdkit.Chem.rdchem.AtomPDBResidueInfo"
      ]
     },
     "execution_count": 110,
     "metadata": {},
     "output_type": "execute_result"
    }
   ],
   "source": [
    "Chem.AtomPDBResidueInfo.GetRe"
   ]
  },
  {
   "cell_type": "code",
   "execution_count": null,
   "id": "962be1ef-a2c4-4f86-a759-491ec366079c",
   "metadata": {},
   "outputs": [],
   "source": []
  }
 ],
 "metadata": {
  "kernelspec": {
   "display_name": "Python [conda env:py310]",
   "language": "python",
   "name": "conda-env-py310-py"
  },
  "language_info": {
   "codemirror_mode": {
    "name": "ipython",
    "version": 3
   },
   "file_extension": ".py",
   "mimetype": "text/x-python",
   "name": "python",
   "nbconvert_exporter": "python",
   "pygments_lexer": "ipython3",
   "version": "3.10.10"
  }
 },
 "nbformat": 4,
 "nbformat_minor": 5
}
