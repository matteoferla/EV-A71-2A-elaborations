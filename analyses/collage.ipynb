{
 "cells": [
  {
   "cell_type": "code",
   "execution_count": 6,
   "id": "825e60eb-da05-4f92-9883-ad22354d1245",
   "metadata": {},
   "outputs": [],
   "source": [
    "from pathlib import Path\n",
    "import pyrosetta\n",
    "import pyrosetta_help as ph\n",
    "from types import ModuleType\n",
    "from IPython.display import display, HTML\n",
    "\n",
    "from collections import Counter\n",
    "prc: ModuleType = pyrosetta.rosetta.core\n",
    "prp: ModuleType = pyrosetta.rosetta.protocols\n",
    "pru: ModuleType = pyrosetta.rosetta.utility\n",
    "pro: ModuleType = pyrosetta.rosetta.basic.options\n",
    "prcc: ModuleType = pyrosetta.rosetta.core.conformation\n",
    "pr_scoring: ModuleType = pyrosetta.rosetta.core.scoring\n",
    "pr_rs: ModuleType = pyrosetta.rosetta.core.select.residue_selector\n",
    "\n",
    "\n",
    "logger = ph.configure_logger()\n",
    "pyrosetta.distributed.maybe_init(extra_options=ph.make_option_string(no_optH=False,\n",
    "                                                                     ex1=None,\n",
    "                                                                     ex2=None,\n",
    "                                                                     # mute='all',\n",
    "                                                                     ignore_unrecognized_res=True,\n",
    "                                                                     load_PDB_components=False,\n",
    "                                                                     ignore_waters=True)\n",
    "                                 )\n",
    "\n",
    "pose: pyrosetta.Pose = pyrosetta.pose_from_file('collage.pdb')"
   ]
  },
  {
   "cell_type": "code",
   "execution_count": 35,
   "id": "5f8293a2-8878-4ce7-82f9-04781b5e3b48",
   "metadata": {},
   "outputs": [],
   "source": [
    "first_resi = pose.sequence().find('GQQSGAIYVG')"
   ]
  },
  {
   "cell_type": "code",
   "execution_count": 36,
   "id": "1e120f23-e000-498f-b150-f12a715ba1d9",
   "metadata": {},
   "outputs": [],
   "source": [
    "blue = ph.Blueprinter.from_pose(pose)\n",
    "\n",
    "for i in range(-10, -4+1):\n",
    "    blue.pick_native(i + first_resi)\n",
    "blue.set('mut2.blu')"
   ]
  },
  {
   "cell_type": "code",
   "execution_count": 37,
   "id": "25318d03-da7e-4072-afa8-0c542fa22b65",
   "metadata": {},
   "outputs": [
    {
     "name": "stdout",
     "output_type": "stream",
     "text": [
      "AA for build: GGGGGGGGGGGGGGGGGGGGGGGGGGGGGGGGGGGGGGGGGGGGGGGGGGGGGGGGGGGGGGGGGGGGGGGGGGGGGGGGGGGGGGGGGGGGGGGGGGGGGGGGGGGGGGGGGGGGGGGGGGGGGGGGGGGGGGGGGGGGGGGGGGGGGGGGGGGGGGGGGGGGGGGGGGGGGGGGGGGGGGGGGGGGGGGGGGGGGGGGGGGGGGGGGGGGGGGGGGGGGGGGGGGGGGGGGGGGGGGGGGGGGGGGGGGGGGGGGGGGGGGGGGGGGGGGGGGGGGGGGGGGGGGGGGGGGGGGGGGGGGGGGGGGGGGGGGGGGGGGGGGGGGGGGGGGGGGGGGGGGGGGGGGGGGGGGGGGGGGGGGGGGGGGGGGGGGGGGGGGGGGGGGGGGGGGGGGGGGGGGGGGGGGGGGGGGGGGGGGGGGGGGGGGGGGGGGGGGGGGGGGGGGG\n"
     ]
    }
   ],
   "source": [
    "pr_options.set_boolean_option('remodel:quick_and_dirty', False)\n",
    "pr_options.set_string_option('remodel:generic_aa', 'G')\n",
    "\n",
    "rm = prp.forge.remodel.RemodelMover()\n",
    "rm.register_options()\n",
    "rm.dr_cycles(15) # default 3\n",
    "rm.max_linear_chainbreak(0.2) # default 0.07\n",
    "rm.redesign_loop_neighborhood(False)\n",
    "rm.apply(pose)"
   ]
  },
  {
   "cell_type": "code",
   "execution_count": 43,
   "id": "4f66c356-2af0-42b4-b26a-71ebf912a1d3",
   "metadata": {},
   "outputs": [
    {
     "data": {
      "text/plain": [
       "'GDRVADVIESSIGDSVSRALTQALPAPTGQNTQVSSHRLDTGKVPALQAAEIGASSNASDESMIETRCVLNSHSTAETTLDSFFSRAGLVGEIDLPLEGTTNPNGYCNWDIDITGYAQMRRKVELFTYMRFDAEFTFVACTPTGEVVPQLLQYMFVPPGAPKPDSRESLAWQTATNPSVFVKLSDPPAQVSVPFMSPASAYQWFYDGYPTFGEHKQEKDLEYGACPNNMMGTFSVRTVGTSKSKYPLVVRIYMRMKHVRAWIPRPMRNQNYLFKANPNYAGNSIKPTGTSRTAITTLGKFGQQSGAIYVGNFRVVNRHLATHNDWANLVWEDSSRDLLVSSTTAQGCDTIARCNCQTGVYYCNSRRKHYPVSFSKPSLIYVEASEYYPARYQSHLMLAQGHSEPGDAGGILRCQHGVVGIVSTGGNGLVGFADVRDLLWLDEEAMEQ'"
      ]
     },
     "execution_count": 43,
     "metadata": {},
     "output_type": "execute_result"
    }
   ],
   "source": [
    "pose.sequence()"
   ]
  },
  {
   "cell_type": "code",
   "execution_count": 39,
   "id": "08906e58-9441-490c-8825-b4a6e59be2f2",
   "metadata": {},
   "outputs": [
    {
     "data": {
      "text/plain": [
       "True"
      ]
     },
     "execution_count": 39,
     "metadata": {},
     "output_type": "execute_result"
    }
   ],
   "source": [
    "pose.dump_pdb('tweaked.pdb')"
   ]
  },
  {
   "cell_type": "code",
   "execution_count": 46,
   "id": "11acbfc1-b8b5-457e-acf0-eb8e5d2d68ac",
   "metadata": {},
   "outputs": [
    {
     "data": {
      "text/plain": [
       "'ALA'"
      ]
     },
     "execution_count": 46,
     "metadata": {},
     "output_type": "execute_result"
    }
   ],
   "source": [
    "pose.residue(407).name3()"
   ]
  },
  {
   "cell_type": "code",
   "execution_count": 47,
   "id": "78f023fc-45e3-4e48-9790-d79dd4abe787",
   "metadata": {},
   "outputs": [],
   "source": [
    "MutateResidue = prp.simple_moves.MutateResidue\n",
    "MutateResidue(target=407, new_res='CYS').apply(pose)"
   ]
  },
  {
   "cell_type": "code",
   "execution_count": 52,
   "id": "0bc2b451-0c8c-4fdb-ab62-297982343681",
   "metadata": {},
   "outputs": [],
   "source": [
    "scorefxn: pr_scoring.ScoreFunction = pyrosetta.get_fa_scorefxn()\n",
    "relax = pyrosetta.rosetta.protocols.relax.FastRelax(scorefxn, 5)\n",
    "#relax.constrain_relax_to_start_coords(True)\n",
    "movemap = pyrosetta.MoveMap()\n",
    "ri_sele = pr_rs.ResidueIndexSelector()\n",
    "first_resi = pose.sequence().find('GQQSGAIYVG')\n",
    "for i in range(-15, -4+1):\n",
    "    ri_sele.append_index(i+first_resi)\n",
    "wobbled: pru.vector1_bool = ri_sele.apply(pose)\n",
    "movemap.set_bb(wobbled)\n",
    "movemap.set_chi(wobbled)\n",
    "relax.set_movemap(movemap)\n",
    "relax.apply(pose)"
   ]
  },
  {
   "cell_type": "code",
   "execution_count": 53,
   "id": "e97071f0-1eb5-4b22-b4b8-70bed179a1af",
   "metadata": {},
   "outputs": [
    {
     "data": {
      "text/plain": [
       "True"
      ]
     },
     "execution_count": 53,
     "metadata": {},
     "output_type": "execute_result"
    }
   ],
   "source": [
    "pose.dump_pdb('tweaked.relaxStep1.pdb')"
   ]
  },
  {
   "cell_type": "code",
   "execution_count": 54,
   "id": "2c6f346d-e1bf-4195-b3ce-4d785259bd01",
   "metadata": {},
   "outputs": [
    {
     "data": {
      "text/plain": [
       "True"
      ]
     },
     "execution_count": 54,
     "metadata": {},
     "output_type": "execute_result"
    }
   ],
   "source": [
    "pro: ModuleType = pyrosetta.rosetta.basic.options\n",
    "\n",
    "scorefxn: pr_scoring.ScoreFunction = pyrosetta.get_fa_scorefxn()\n",
    "scorefxn.set_weight(pr_scoring.ScoreType.coordinate_constraint, 5)\n",
    "relax = pyrosetta.rosetta.protocols.relax.FastRelax(scorefxn, 5)\n",
    "pyrosetta.rosetta.basic.options.set_boolean_option('relax:constrain_relax_to_start_coords', True)\n",
    "pyrosetta.rosetta.basic.options.set_boolean_option('relax:coord_constrain_sidechains', True)\n",
    "pyrosetta.rosetta.protocols.relax.FastRelax.register_options()\n",
    "relax = pyrosetta.rosetta.protocols.relax.FastRelax(scorefxn, 5)\n",
    "relax.constrain_relax_to_start_coords(True)\n",
    "movemap = pyrosetta.MoveMap()\n",
    "movemap.set_bb(False)\n",
    "movemap.set_chi(True)\n",
    "relax.set_movemap(movemap)\n",
    "relax.apply(pose)\n",
    "pose.dump_pdb('tweaked.relaxStep2.pdb')"
   ]
  },
  {
   "cell_type": "code",
   "execution_count": null,
   "id": "a9acf52e-d6d8-4d02-ae67-769bb4518f9d",
   "metadata": {},
   "outputs": [
    {
     "name": "stderr",
     "output_type": "stream",
     "text": [
      "IOStream.flush timed out\n"
     ]
    }
   ],
   "source": [
    "scorefxn.set_weight(pr_scoring.ScoreType.coordinate_constraint, 2)\n",
    "movemap = pyrosetta.MoveMap()\n",
    "movemap.set_bb(True)\n",
    "movemap.set_chi(True)\n",
    "relax.set_movemap(movemap)\n",
    "relax.apply(pose)\n",
    "pose.dump_pdb('tweaked.relaxStep3.pdb')"
   ]
  },
  {
   "cell_type": "code",
   "execution_count": null,
   "id": "17209098-6cdd-4818-bdb1-6b809ce113ba",
   "metadata": {},
   "outputs": [],
   "source": [
    "scorefxn.set_weight(pr_scoring.ScoreType.coordinate_constraint, 0)\n",
    "relax = pyrosetta.rosetta.protocols.relax.FastRelax(scorefxn, 5)\n",
    "relax.apply(pose)\n",
    "pose.dump_pdb('tweaked.relaxed.pdb')"
   ]
  },
  {
   "cell_type": "code",
   "execution_count": null,
   "id": "b2048ca9-e6fa-467f-87d6-53a7630d04cc",
   "metadata": {},
   "outputs": [],
   "source": [
    "atoms = (ph.get_AtomID_from_pymol_line(pose, '//A/LYS`299/NZ '),\n",
    "         ph.get_AtomID_from_pymol_line(pose, '//A/GLU`385/OE2 ')\n",
    "        )\n",
    "con = AtomPairConstraint(*atoms, HarmonicFunc(x0_in=2.1, sd_in=0.5))\n",
    "pose.add_constraint(con)\n",
    "\n",
    "atoms = (ph.get_AtomID_from_pymol_line(pose, '//A/ARG`291/CZ '),\n",
    "         ph.get_AtomID_from_pymol_line(pose, '//A/GLU`382/OE2 ')\n",
    "        )\n",
    "con = AtomPairConstraint(*atoms, HarmonicFunc(x0_in=3.1, sd_in=0.5))\n",
    "pose.add_constraint(con)\n",
    "\n",
    "scorefxn.set_weight(pr_scoring.ScoreType.coordinate_constraint, 0)\n",
    "scorefxn.set_weight(pr_scoring.ScoreType.angle_constraint, 5)\n",
    "relax = pyrosetta.rosetta.protocols.relax.FastRelax(scorefxn, 5)\n",
    "relax.apply(pose)\n",
    "pose.dump_pdb('tweaked.relaxed2.pdb')"
   ]
  },
  {
   "cell_type": "code",
   "execution_count": null,
   "id": "062bc80d-088c-48f7-a558-ba321789dd89",
   "metadata": {},
   "outputs": [],
   "source": []
  }
 ],
 "metadata": {
  "kernelspec": {
   "display_name": "Python [conda env:compchem]",
   "language": "python",
   "name": "conda-env-compchem-py"
  },
  "language_info": {
   "codemirror_mode": {
    "name": "ipython",
    "version": 3
   },
   "file_extension": ".py",
   "mimetype": "text/x-python",
   "name": "python",
   "nbconvert_exporter": "python",
   "pygments_lexer": "ipython3",
   "version": "3.11.6"
  }
 },
 "nbformat": 4,
 "nbformat_minor": 5
}
