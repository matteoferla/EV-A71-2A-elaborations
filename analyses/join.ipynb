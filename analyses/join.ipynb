{
 "cells": [
  {
   "cell_type": "code",
   "execution_count": 78,
   "id": "282c3a8d-aa2b-41e9-8490-bb7bc6ee0f26",
   "metadata": {},
   "outputs": [],
   "source": [
    "from pathlib import Path\n",
    "import pyrosetta\n",
    "import pyrosetta_help as ph\n",
    "from types import ModuleType\n",
    "from collections import Counter\n",
    "prc: ModuleType = pyrosetta.rosetta.core\n",
    "prp: ModuleType = pyrosetta.rosetta.protocols\n",
    "prcc: ModuleType = pyrosetta.rosetta.core.conformation\n",
    "pr_scoring: ModuleType = pyrosetta.rosetta.core.scoring\n",
    "pr_options: ModuleType = pyrosetta.rosetta.basic.options\n",
    "\n",
    "\n",
    "logger = ph.configure_logger()\n",
    "pyrosetta.distributed.maybe_init(extra_options=ph.make_option_string(no_optH=False,\n",
    "                                                                     ex1=None,\n",
    "                                                                     ex2=None,\n",
    "                                                                     # mute='all',\n",
    "                                                                     ignore_unrecognized_res=True,\n",
    "                                                                     load_PDB_components=False,\n",
    "                                                                     ignore_waters=True)\n",
    "                                 )\n",
    "\n",
    "acession = '4FVD'\n",
    "pose: pyrosetta.Pose = pyrosetta.toolbox.rcsb.pose_from_rcsb(acession)\n",
    "#blue = Blueprinter.from_pose(pose)"
   ]
  },
  {
   "cell_type": "code",
   "execution_count": 79,
   "id": "0304157f-34de-43fb-b351-811b7fcbe298",
   "metadata": {},
   "outputs": [
    {
     "name": "stdout",
     "output_type": "stream",
     "text": [
      "chains map_unsigned_long_char{1: A, 2: C}\n",
      "sequence SGAIYVGNFRVVNRHLATHNDWANLVWEDSSRDLLVSSTTAQGCDTIARCNCQTGVYYCNSRRKHYPVSFSKPSLIYVEASEYYPARYQSHLMLAQGHSEPGDAGGILRCQHGVVGIVSTGGNGLVGFADVRDLLWLD TLGK\n"
     ]
    }
   ],
   "source": [
    "chains = pose.split_by_chain()\n",
    "print('chains', prc.pose.conf2pdb_chain(pose))\n",
    "print('sequence', *map(pyrosetta.Pose.sequence, chains))"
   ]
  },
  {
   "cell_type": "code",
   "execution_count": 81,
   "id": "56e6bf15-c8ac-436c-9964-0d13a3dc812f",
   "metadata": {},
   "outputs": [
    {
     "name": "stdout",
     "output_type": "stream",
     "text": [
      "chains map_unsigned_long_char{1: C}\n",
      "sequence TLGKSGAIYVGNFRVVNRHLATHNDWANLVWEDSSRDLLVSSTTAQGCDTIARCNCQTGVYYCNSRRKHYPVSFSKPSLIYVEASEYYPARYQSHLMLAQGHSEPGDAGGILRCQHGVVGIVSTGGNGLVGFADVRDLLWLD\n"
     ]
    }
   ],
   "source": [
    "# grafting is for within not at end:\n",
    "# flipped = prp.grafting.insert_pose_into_pose(scaffold_pose=chains[2], \n",
    "#                                                insert_pose=chains[1],\n",
    "#                                                insert_point=len(flipped.residues) -1,\n",
    "#                                                copy_pdbinfo=True)\n",
    "\n",
    "flipped = chains[2].clone()\n",
    "prc.pose.append_pose_to_pose(pose1=flipped, pose2=chains[1], new_chain=False)\n",
    "\n",
    "chains = flipped.split_by_chain()\n",
    "print('chains', prc.pose.conf2pdb_chain(flipped))\n",
    "print('sequence', *map(pyrosetta.Pose.sequence, chains))"
   ]
  },
  {
   "cell_type": "code",
   "execution_count": 82,
   "id": "827e3b42-06a2-4c29-bc30-b4b605bb8a5a",
   "metadata": {},
   "outputs": [],
   "source": [
    "blue = ph.Blueprinter.from_pose(flipped)\n",
    "blue.pick_native(3)\n",
    "blue.pick_native(4)\n",
    "blue.pick_native(5)\n",
    "blue.pick_native(6)\n",
    "blue.pick_native(7)\n",
    "blue.pick_native(8)\n",
    "blue.pick_native(9)\n",
    "blue.insert(5,'PIKAA F')\n",
    "blue.insert(5,'PIKAA G')\n",
    "blue.insert(5,'PIKAA Q')\n",
    "blue.insert(5,'PIKAA Q')\n",
    "blue.set('mut.blu')"
   ]
  },
  {
   "cell_type": "code",
   "execution_count": null,
   "id": "2789a4ea-0e6f-4cc1-a19a-81f21d78eff0",
   "metadata": {},
   "outputs": [
    {
     "name": "stdout",
     "output_type": "stream",
     "text": [
      "AA for build: GGGGGGGGGGGGGGGGGGGGGGGGGGGGGGGGGGGGGGGGGGGGGGGGGGGGGGGGGGGGGGGGGGGGGGGGGGGGGGGGGGGGGGGGGGGGGGGGGGGGGGGGGGGGGGGGGGGGGGGGGGGGGGGGGGGGGGGGGGGGGGGGGG\n"
     ]
    }
   ],
   "source": [
    "pr_options.set_boolean_option('remodel:quick_and_dirty', False)\n",
    "pr_options.set_string_option('remodel:generic_aa', 'G')\n",
    "\n",
    "rm = prp.forge.remodel.RemodelMover()\n",
    "rm.register_options()\n",
    "rm.dr_cycles(15) # default 3\n",
    "rm.max_linear_chainbreak(0.2) # default 0.07\n",
    "rm.redesign_loop_neighborhood(False)\n",
    "rm.apply(flipped)"
   ]
  },
  {
   "cell_type": "code",
   "execution_count": null,
   "id": "1519f4f5-daee-4611-a03c-34286e3a9d0f",
   "metadata": {},
   "outputs": [],
   "source": [
    "flipped.dump_pdb(f'{accession}_joined.pdb')"
   ]
  },
  {
   "cell_type": "code",
   "execution_count": null,
   "id": "f9fc458d-facc-4cc6-a1ac-d6e97b687d0a",
   "metadata": {},
   "outputs": [],
   "source": [
    "flipped.sequence()"
   ]
  },
  {
   "cell_type": "code",
   "execution_count": null,
   "id": "efb54241-3f14-4ef6-8b33-f85baf0907da",
   "metadata": {},
   "outputs": [],
   "source": []
  }
 ],
 "metadata": {
  "kernelspec": {
   "display_name": "Python [conda env:compchem]",
   "language": "python",
   "name": "conda-env-compchem-py"
  },
  "language_info": {
   "codemirror_mode": {
    "name": "ipython",
    "version": 3
   },
   "file_extension": ".py",
   "mimetype": "text/x-python",
   "name": "python",
   "nbconvert_exporter": "python",
   "pygments_lexer": "ipython3",
   "version": "3.11.6"
  }
 },
 "nbformat": 4,
 "nbformat_minor": 5
}
